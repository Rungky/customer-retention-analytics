{
  "nbformat": 4,
  "nbformat_minor": 0,
  "metadata": {
    "colab": {
      "provenance": [],
      "machine_shape": "hm"
    },
    "kernelspec": {
      "name": "python3",
      "display_name": "Python 3"
    },
    "language_info": {
      "name": "python"
    }
  },
  "cells": [
    {
      "cell_type": "code",
      "execution_count": null,
      "metadata": {
        "colab": {
          "base_uri": "https://localhost:8080/"
        },
        "id": "vFPu4h9PoP4r",
        "outputId": "88b1fb18-a938-4ce3-a9ca-ab25678b03c8"
      },
      "outputs": [
        {
          "output_type": "stream",
          "name": "stdout",
          "text": [
            "Mounted at /content/drive\n"
          ]
        }
      ],
      "source": [
        "from google.colab import drive\n",
        "\n",
        "# 1. Google Drive 마운트\n",
        "drive.mount('/content/drive')"
      ]
    },
    {
      "cell_type": "code",
      "source": [
        "# 2. 파일 경로 설정 (사용자 지정 경로)\n",
        "data_root = '/content/drive/MyDrive/Colab Notebooks/datathon/주력_비주력상품 데이터/비주력상품'\n",
        "# file_path = f'{data_root}/2019-Nov.csv'"
      ],
      "metadata": {
        "id": "l3mG8EbDqxB4"
      },
      "execution_count": null,
      "outputs": []
    },
    {
      "cell_type": "code",
      "source": [
        "import pandas as pd\n",
        "import numpy as np\n",
        "import matplotlib.pyplot as plt\n",
        "import seaborn as sns\n",
        "from datetime import timedelta\n",
        "import os"
      ],
      "metadata": {
        "id": "fRVwILNdqy7t"
      },
      "execution_count": null,
      "outputs": []
    },
    {
      "cell_type": "code",
      "source": [
        "sns.set()\n",
        "\n",
        "# 그래프 기본 설정\n",
        "plt.rcParams['figure.figsize'] = 12, 6\n",
        "plt.rcParams['font.size'] = 14\n",
        "plt.rcParams['axes.unicode_minus'] = False\n",
        "import matplotlib as mpl\n",
        "import matplotlib.font_manager as fm\n",
        "\n",
        "# 폰트 파일 경로 지정\n",
        "font_path = '/content/drive/MyDrive/font/NanumGothic.ttf'\n",
        "\n",
        "# 폰트 등록 및 matplotlib 설정\n",
        "font_name = fm.FontProperties(fname=font_path).get_name()\n",
        "fm.fontManager.addfont(font_path)\n",
        "mpl.rc('font', family=font_name)"
      ],
      "metadata": {
        "id": "feECbvsgrCVu"
      },
      "execution_count": null,
      "outputs": []
    },
    {
      "cell_type": "code",
      "source": [
        "# 데이터 불러오기\n",
        "notop_multi_df = pd.read_parquet(f'{data_root}/noTop3_multi_buyers_all_events.parquet')\n",
        "notop_one_df = pd.read_parquet(f'{data_root}/noTop3_one_time_buyers_all_events.parquet')\n"
      ],
      "metadata": {
        "id": "oUJd2YG2rIPR"
      },
      "execution_count": null,
      "outputs": []
    },
    {
      "cell_type": "markdown",
      "source": [
        "1회 구매 퍼널 분석"
      ],
      "metadata": {
        "id": "dcTiGRE9vRAC"
      }
    },
    {
      "cell_type": "code",
      "source": [
        "# 비주력 1회 구매 퍼널 분석\n",
        "# 퍼널 분석 (view-cart-purchase 단계별 유저 수 및 전환율)\n",
        "# 사용자별 event_type 집계\n",
        "funnel_counts = notop_one_df.groupby('event_type')['user_id'].nunique().reindex(['view', 'cart', 'purchase'])\n",
        "\n",
        "# 전환율 계산 (순차적 전환 기준)\n",
        "view_to_cart = funnel_counts['cart'] / funnel_counts['view'] if funnel_counts['view'] else 0\n",
        "cart_to_purchase = funnel_counts['purchase'] / funnel_counts['cart'] if funnel_counts['cart'] else 0\n",
        "view_to_purchase = funnel_counts['purchase'] / funnel_counts['view'] if funnel_counts['view'] else 0\n",
        "\n",
        "print(funnel_counts)\n",
        "print(f\"view_to_cart: {view_to_cart}\")\n",
        "print(f\"cart_to_purchase: {cart_to_purchase}\")\n",
        "print(f\"view_to_purchase: {view_to_purchase}\")"
      ],
      "metadata": {
        "colab": {
          "base_uri": "https://localhost:8080/"
        },
        "id": "Usovosr0tVIh",
        "outputId": "baa06cbe-4dec-42ee-c6b9-b6183b3ed451"
      },
      "execution_count": null,
      "outputs": [
        {
          "output_type": "stream",
          "name": "stdout",
          "text": [
            "event_type\n",
            "view        295577\n",
            "cart        275220\n",
            "purchase    296618\n",
            "Name: user_id, dtype: int64\n",
            "view_to_cart: 0.931127929439706\n",
            "cart_to_purchase: 1.077748710122811\n",
            "view_to_purchase: 1.0035219249129668\n"
          ]
        }
      ]
    },
    {
      "cell_type": "markdown",
      "source": [
        "2회 이상 구매 퍼널 분석"
      ],
      "metadata": {
        "id": "oDAzuyepvV89"
      }
    },
    {
      "cell_type": "code",
      "source": [
        "# 비주력 2회 이상 구매 퍼널 분석\n",
        "# 퍼널 분석 (view-cart-purchase 단계별 유저 수 및 전환율)\n",
        "# 사용자별 event_type 집계\n",
        "funnel_counts = notop_multi_df.groupby('event_type')['user_id'].nunique().reindex(['view', 'cart', 'purchase'])\n",
        "\n",
        "# 전환율 계산 (순차적 전환 기준)\n",
        "view_to_cart = funnel_counts['cart'] / funnel_counts['view'] if funnel_counts['view'] else 0\n",
        "cart_to_purchase = funnel_counts['purchase'] / funnel_counts['cart'] if funnel_counts['cart'] else 0\n",
        "view_to_purchase = funnel_counts['purchase'] / funnel_counts['view'] if funnel_counts['view'] else 0\n",
        "\n",
        "print(funnel_counts)\n",
        "print(f\"view_to_cart: {view_to_cart}\")\n",
        "print(f\"cart_to_purchase: {cart_to_purchase}\")\n",
        "print(f\"view_to_purchase: {view_to_purchase}\")"
      ],
      "metadata": {
        "colab": {
          "base_uri": "https://localhost:8080/"
        },
        "id": "xeKaC37BuEWR",
        "outputId": "f653a1e3-ac8a-47be-fc42-0e7b3decb860"
      },
      "execution_count": null,
      "outputs": [
        {
          "output_type": "stream",
          "name": "stdout",
          "text": [
            "event_type\n",
            "view        205370\n",
            "cart        200896\n",
            "purchase    205500\n",
            "Name: user_id, dtype: int64\n",
            "view_to_cart: 0.9782149291522618\n",
            "cart_to_purchase: 1.0229173303599872\n",
            "view_to_purchase: 1.0006330038467157\n"
          ]
        }
      ]
    },
    {
      "cell_type": "markdown",
      "source": [
        "평균 cart 보유 시간 비교(수치 확인)"
      ],
      "metadata": {
        "id": "qkcJa5iTvDYL"
      }
    },
    {
      "cell_type": "code",
      "source": [
        "df = notop_one_df  # 1회 구매자용 전체 데이터\n",
        "\n",
        "# 1. event_datetime 생성 (vectorized 방식)\n",
        "df['event_datetime'] = pd.to_datetime(df['event_date']) + pd.to_timedelta(df['event_hour'], unit='h')\n",
        "\n",
        "# 2. cart & purchase 이벤트 필터링\n",
        "df_cart = df[df['event_type'] == 'cart']\n",
        "df_purchase = df[df['event_type'] == 'purchase']\n",
        "\n",
        "# 3. 세션별 가장 빠른 cart/purchase 시간 추출\n",
        "cart_times = df_cart.groupby('user_session')['event_datetime'].min().to_frame(name='cart_time')\n",
        "purchase_times = df_purchase.groupby('user_session')['event_datetime'].min().to_frame(name='purchase_time')\n",
        "\n",
        "# 4. 공통 세션만 남기고 merge\n",
        "merged = pd.merge(cart_times, purchase_times, left_index=True, right_index=True)\n",
        "\n",
        "# 5. 시간차 계산\n",
        "cart_hold_time = (merged['purchase_time'] - merged['cart_time']).dt.total_seconds() / 3600\n",
        "\n",
        "# 6. 음수 제거 (올바른 순서만 필터링)\n",
        "cart_hold_time = cart_hold_time[cart_hold_time >= 0]\n",
        "\n",
        "# 7. 결과 출력\n",
        "print(f\"[1회 구매자] 평균 Cart 보유 시간 (시간): {cart_hold_time.mean():.2f}\")"
      ],
      "metadata": {
        "colab": {
          "base_uri": "https://localhost:8080/"
        },
        "id": "G6g8sEdMuvbv",
        "outputId": "66cbf4cc-5919-4f81-de0c-26fd9456e449"
      },
      "execution_count": null,
      "outputs": [
        {
          "output_type": "stream",
          "name": "stdout",
          "text": [
            "[1회 구매자] 평균 Cart 보유 시간 (시간): 1.42\n"
          ]
        }
      ]
    },
    {
      "cell_type": "code",
      "source": [
        "cart_hold_time_one_time = cart_hold_time #1회 구매자"
      ],
      "metadata": {
        "id": "wajH9sylvhya"
      },
      "execution_count": null,
      "outputs": []
    },
    {
      "cell_type": "code",
      "source": [
        "df = notop_multi_df  # 다회 구매자용 전체 데이터\n",
        "\n",
        "# 1. event_datetime 생성 (vectorized 방식)\n",
        "df['event_datetime'] = pd.to_datetime(df['event_date']) + pd.to_timedelta(df['event_hour'], unit='h')\n",
        "\n",
        "# 2. cart & purchase 이벤트 필터링\n",
        "df_cart = df[df['event_type'] == 'cart']\n",
        "df_purchase = df[df['event_type'] == 'purchase']\n",
        "\n",
        "# 3. 세션별 가장 빠른 cart/purchase 시간 추출\n",
        "cart_times = df_cart.groupby('user_session')['event_datetime'].min().to_frame(name='cart_time')\n",
        "purchase_times = df_purchase.groupby('user_session')['event_datetime'].min().to_frame(name='purchase_time')\n",
        "\n",
        "# 4. 공통 세션만 남기고 merge\n",
        "merged = pd.merge(cart_times, purchase_times, left_index=True, right_index=True)\n",
        "\n",
        "# 5. 시간차 계산\n",
        "cart_hold_time = (merged['purchase_time'] - merged['cart_time']).dt.total_seconds() / 3600\n",
        "\n",
        "# 6. 음수 제거 (올바른 순서만 필터링)\n",
        "cart_hold_time = cart_hold_time[cart_hold_time >= 0]\n",
        "\n",
        "# 7. 결과 출력\n",
        "print(f\"[다회 구매자] 평균 Cart 보유 시간 (시간): {cart_hold_time.mean():.2f}\")"
      ],
      "metadata": {
        "colab": {
          "base_uri": "https://localhost:8080/"
        },
        "id": "ts6s8a_Mun1I",
        "outputId": "2369c5da-770a-4876-9fa5-56ce1c543e31"
      },
      "execution_count": null,
      "outputs": [
        {
          "output_type": "stream",
          "name": "stdout",
          "text": [
            "[다회 구매자] 평균 Cart 보유 시간 (시간): 0.80\n"
          ]
        }
      ]
    },
    {
      "cell_type": "code",
      "source": [
        "cart_hold_time_multi = cart_hold_time # 다회 구매자"
      ],
      "metadata": {
        "id": "Det0rT3OuUlp"
      },
      "execution_count": null,
      "outputs": []
    },
    {
      "cell_type": "markdown",
      "source": [
        "평균 cart 보유 시간 비교(막대 그래프)"
      ],
      "metadata": {
        "id": "xuckCHZ2vuUe"
      }
    },
    {
      "cell_type": "code",
      "source": [
        "# 구간 정의\n",
        "bins = [0, 1, 3, 24, 48, 9999]\n",
        "labels = ['<1시간', '1~3시간', '3~24시간', '24~48시간', '48시간 이상']\n",
        "\n",
        "# 카테고리 라벨링\n",
        "one_time_cut = pd.cut(cart_hold_time_one_time, bins=bins, labels=labels, right=False)\n",
        "multi_cut = pd.cut(cart_hold_time_multi, bins=bins, labels=labels, right=False)\n",
        "\n",
        "# 비율 계산\n",
        "one_time_ratio = one_time_cut.value_counts(normalize=True).sort_index()\n",
        "multi_ratio = multi_cut.value_counts(normalize=True).sort_index()"
      ],
      "metadata": {
        "id": "ewH9JF6iut4r"
      },
      "execution_count": null,
      "outputs": []
    },
    {
      "cell_type": "code",
      "source": [
        "# 그룹형 막대그래프\n",
        "import numpy as np\n",
        "\n",
        "x = np.arange(len(labels))\n",
        "width = 0.35\n",
        "\n",
        "plt.figure(figsize=(10,6))\n",
        "plt.bar(x - width/2, one_time_ratio.values * 100, width, label='1회 구매자', color='#a6cee3')\n",
        "plt.bar(x + width/2, multi_ratio.values * 100, width, label='다회 구매자', color='#1f78b4')\n",
        "\n",
        "plt.xticks(x, labels)\n",
        "plt.ylabel('비율 (%)')\n",
        "plt.title('Cart 보유 시간 구간별 구매자 유형 비교')\n",
        "plt.legend()\n",
        "plt.grid(axis='y', linestyle='--', alpha=0.5)\n",
        "plt.tight_layout()\n",
        "plt.show()"
      ],
      "metadata": {
        "colab": {
          "base_uri": "https://localhost:8080/",
          "height": 389
        },
        "id": "gZPS9oL7ut2C",
        "outputId": "6d2ba610-717a-40bc-8c98-ab2d47245d7a"
      },
      "execution_count": null,
      "outputs": [
        {
          "output_type": "display_data",
          "data": {
            "text/plain": [
              "<Figure size 1000x600 with 1 Axes>"
            ],
            "image/png": "[encoded data removed]"
          },
          "metadata": {}
        }
      ]
    },
    {
      "cell_type": "markdown",
      "source": [
        "평균 cart 보유 시간 1시간 이상 비율 확인"
      ],
      "metadata": {
        "id": "uQcsz8AF6oQR"
      }
    },
    {
      "cell_type": "code",
      "source": [
        "# 1시간 이상 보유한 경우만 필터링\n",
        "one_time_over1h = cart_hold_time_one_time[cart_hold_time_one_time >= 1]\n",
        "multi_over1h = cart_hold_time_multi[cart_hold_time_multi >= 1]"
      ],
      "metadata": {
        "id": "WFUoD1C7v_TY"
      },
      "execution_count": null,
      "outputs": []
    },
    {
      "cell_type": "code",
      "source": [
        "print(f\"[1회 구매자] 1시간 이상 보유 비율: {len(one_time_over1h) / len(cart_hold_time_one_time) * 100:.2f}%\")\n",
        "print(f\"[다회 구매자] 1시간 이상 보유 비율: {len(multi_over1h) / len(cart_hold_time_multi) * 100:.2f}%\")"
      ],
      "metadata": {
        "colab": {
          "base_uri": "https://localhost:8080/"
        },
        "id": "MLAeH-R9wBdh",
        "outputId": "a0dc3f12-9b59-49a4-a41f-11e01f73b9fa"
      },
      "execution_count": null,
      "outputs": [
        {
          "output_type": "stream",
          "name": "stdout",
          "text": [
            "[1회 구매자] 1시간 이상 보유 비율: 5.98%\n",
            "[다회 구매자] 1시간 이상 보유 비율: 3.73%\n"
          ]
        }
      ]
    },
    {
      "cell_type": "markdown",
      "source": [
        "평균 cart 보유 시간 1시간 이상 분포(막대 그래프)"
      ],
      "metadata": {
        "id": "L93Gb7Ga6Bv1"
      }
    },
    {
      "cell_type": "code",
      "source": [
        "# 1시간 이상만 다루므로 bins 조정\n",
        "bins_1hplus = [1, 3, 24, 48, 9999]\n",
        "labels_1hplus = ['1~3시간', '3~24시간', '24~48시간', '48시간 이상']\n",
        "\n",
        "# cut\n",
        "one_time_cut_1hplus = pd.cut(one_time_over1h, bins=bins_1hplus, labels=labels_1hplus, right=False)\n",
        "multi_cut_1hplus = pd.cut(multi_over1h, bins=bins_1hplus, labels=labels_1hplus, right=False)\n",
        "\n",
        "# 비율\n",
        "one_time_ratio_1hplus = one_time_cut_1hplus.value_counts(normalize=True).sort_index()\n",
        "multi_ratio_1hplus = multi_cut_1hplus.value_counts(normalize=True).sort_index()"
      ],
      "metadata": {
        "id": "ZsilXBgiutzn"
      },
      "execution_count": null,
      "outputs": []
    },
    {
      "cell_type": "code",
      "source": [
        "import numpy as np\n",
        "import matplotlib.pyplot as plt\n",
        "\n",
        "x = np.arange(len(labels_1hplus))\n",
        "width = 0.35\n",
        "\n",
        "plt.figure(figsize=(10,6))\n",
        "plt.bar(x - width/2, one_time_ratio_1hplus.values * 100, width, label='1회 구매자', color='#fdbf6f')\n",
        "plt.bar(x + width/2, multi_ratio_1hplus.values * 100, width, label='다회 구매자', color='#33a02c')\n",
        "\n",
        "plt.xticks(x, labels_1hplus)\n",
        "plt.ylabel('비율 (%)')\n",
        "plt.title('1시간 이상 Cart 보유 시간 구간별 구매자 유형 비교')\n",
        "plt.legend()\n",
        "plt.grid(axis='y', linestyle='--', alpha=0.5)\n",
        "plt.tight_layout()\n",
        "plt.show()"
      ],
      "metadata": {
        "colab": {
          "base_uri": "https://localhost:8080/",
          "height": 389
        },
        "id": "6eNOLTinwfq5",
        "outputId": "de12e963-8e96-4791-b024-2c5f4d1d70ff"
      },
      "execution_count": null,
      "outputs": [
        {
          "output_type": "display_data",
          "data": {
            "text/plain": [
              "<Figure size 1000x600 with 1 Axes>"
            ],
            "image/png": "[encoded data removed]"
          },
          "metadata": {}
        }
      ]
    },
    {
      "cell_type": "code",
      "source": [],
      "metadata": {
        "id": "dstbnygCjZ10"
      },
      "execution_count": null,
      "outputs": []
    },
    {
      "cell_type": "markdown",
      "source": [
        "비주력 상품 1회 구매자 vs 2회 이상 구매자 비교\n",
        "\n",
        "| 항목               | **2회 이상 구매자**   | **1회 구매자**      | **차이점**                       |\n",
        "| ---------------- | --------------- | --------------- | ----------------------------- |\n",
        "| **평균 세션 수**      | 17.67           | 8.95            | 🔻 8.72개 감소 (약 **49%** ↓)     |\n",
        "| **평균 이벤트 수**     | 96.83           | 43.86           | 🔻 52.97개 감소 (약 **55%** ↓)    |\n",
        "| **평균 탐색 카테고리 수** | 3.93            | 2.99            | 🔻 약 **24%** 감소               |\n",
        "| **평균 브랜드 수**     | 14.09           | 8.13            | 🔻 약 **42%** 감소               |\n",
        "| **평균 구매 간격 (일)** | **8.71일**       | -               | (1회 구매자는 해당 없음)               |\n",
        "| **주요 구매 요일**     | Mon > Sun > Tue | Sun > Mon > Tue | 주초(월) 중심 vs 주말(일) 중심 차이       |\n",
        "| **주요 구매 시간대**    | 14시 > 13시 > 15시 | 14시 > 13시 > 15시 | 유사하지만 다회 구매자는 **이른 시간대**에도 활발 |\n",
        "\n",
        "- 다회 구매자는 모든 항목에서 2배 이상 활발(탐색 의지 강하고 제품 비교 행동 활발), 첫 구매 전 고민 더 많음(cart 넣었다가 여러 번 view 하는 패턴 보임, 비교 및 추천 기능 강화 필요)\n",
        "- 반면, 1회 구매자는 단발성 구매 행동 위주\n",
        "- 구매 간격: 다회 구매자는 평균 1주일 내 재구매 -> 리타겟팅 타이밍이 핵심\n",
        "- 재방문 유도 포인트: 1회 구매자에게도 브랜드 비교, 다양한 추천 제공이 구매 결정에 긍정적일 수도, 특히 13-15시/주말~월요일 타이밍에 마케팅 집중하면 좋음\n",
        "- 1회는 주말/오후, 다회는 평일/오전부터 고르게 활발"
      ],
      "metadata": {
        "id": "XIqRt5Brzb1U"
      }
    },
    {
      "cell_type": "code",
      "source": [],
      "metadata": {
        "id": "X8LO9eJQjZqp"
      },
      "execution_count": null,
      "outputs": []
    },
    {
      "cell_type": "code",
      "source": [
        "# 상위 10개 카테고리 추출 (전체 데이터 기준)\n",
        "top_10_categories = pd.concat([notop_one_df, notop_multi_df])['category_lvl1'].value_counts().nlargest(10).index.tolist()\n",
        "\n",
        "def calculate_avg_cart_hold_time_by_category(df, categories):\n",
        "    \"\"\"\n",
        "    주어진 DataFrame에서 특정 카테고리별 평균 Cart 보유 시간을 계산합니다.\n",
        "    \"\"\"\n",
        "    category_avg_hold_times = {}\n",
        "    for category in categories:\n",
        "        df_cat = df[df['category_lvl1'] == category].copy()\n",
        "\n",
        "        if df_cat.empty:\n",
        "            category_avg_hold_times[category] = 0\n",
        "            continue\n",
        "\n",
        "        # 1. event_datetime 생성\n",
        "        df_cat['event_datetime'] = pd.to_datetime(df_cat['event_date']) + pd.to_timedelta(df_cat['event_hour'], unit='h')\n",
        "\n",
        "        # 2. cart & purchase 이벤트 필터링\n",
        "        df_cart = df_cat[df_cat['event_type'] == 'cart']\n",
        "        df_purchase = df_cat[df_cat['event_type'] == 'purchase']\n",
        "\n",
        "        if df_cart.empty or df_purchase.empty:\n",
        "            category_avg_hold_times[category] = 0\n",
        "            continue\n",
        "\n",
        "        # 3. 세션별 가장 빠른 cart/purchase 시간 추출\n",
        "        cart_times = df_cart.groupby('user_session')['event_datetime'].min().to_frame(name='cart_time')\n",
        "        purchase_times = df_purchase.groupby('user_session')['event_datetime'].min().to_frame(name='purchase_time')\n",
        "\n",
        "        # 4. 공통 세션만 남기고 merge\n",
        "        merged = pd.merge(cart_times, purchase_times, left_index=True, right_index=True)\n",
        "\n",
        "        if merged.empty:\n",
        "            category_avg_hold_times[category] = 0\n",
        "            continue\n",
        "\n",
        "        # 5. 시간차 계산\n",
        "        cart_hold_time = (merged['purchase_time'] - merged['cart_time']).dt.total_seconds() / 3600\n",
        "\n",
        "        # 6. 음수 제거 (올바른 순서만 필터링)\n",
        "        cart_hold_time = cart_hold_time[cart_hold_time >= 0]\n",
        "\n",
        "        if cart_hold_time.empty:\n",
        "             category_avg_hold_times[category] = 0\n",
        "             continue\n",
        "\n",
        "        # 7. 결과 저장\n",
        "        category_avg_hold_times[category] = cart_hold_time.mean()\n",
        "\n",
        "    return category_avg_hold_times\n",
        "\n",
        "# 1회 구매자 카테고리별 평균 Cart 보유 시간 계산\n",
        "one_time_category_hold_times = calculate_avg_cart_hold_time_by_category(notop_one_df, top_10_categories)\n",
        "\n",
        "# 다회 구매자 카테고리별 평균 Cart 보유 시간 계산\n",
        "multi_category_hold_times = calculate_avg_cart_hold_time_by_category(notop_multi_df, top_10_categories)\n",
        "\n",
        "# 결과 출력\n",
        "print(\"[1회 구매자] 카테고리별 평균 Cart 보유 시간 (시간):\")\n",
        "for category, avg_time in one_time_category_hold_times.items():\n",
        "    print(f\"{category}: {avg_time:.2f}\")\n",
        "\n",
        "print(\"\\n[다회 구매자] 카테고리별 평균 Cart 보유 시간 (시간):\")\n",
        "for category, avg_time in multi_category_hold_times.items():\n",
        "    print(f\"{category}: {avg_time:.2f}\")"
      ],
      "metadata": {
        "colab": {
          "base_uri": "https://localhost:8080/"
        },
        "id": "3yYA0DZ9wod9",
        "outputId": "70f9ca11-ab14-4527-c185-ad04e67e9a11"
      },
      "execution_count": null,
      "outputs": [
        {
          "output_type": "stream",
          "name": "stdout",
          "text": [
            "[1회 구매자] 카테고리별 평균 Cart 보유 시간 (시간):\n",
            "apparel: 1.10\n",
            "computers: 1.38\n",
            "sport: 0.64\n",
            "furniture: 1.21\n",
            "kids: 1.62\n",
            "auto: 0.56\n",
            "accessories: 0.46\n",
            "country_yard: 0.07\n",
            "medicine: 0.06\n",
            "stationery: 6.11\n",
            "\n",
            "[다회 구매자] 카테고리별 평균 Cart 보유 시간 (시간):\n",
            "apparel: 0.61\n",
            "computers: 0.79\n",
            "sport: 0.39\n",
            "furniture: 0.87\n",
            "kids: 1.18\n",
            "auto: 0.39\n",
            "accessories: 0.22\n",
            "country_yard: 0.06\n",
            "medicine: 0.03\n",
            "stationery: 0.79\n"
          ]
        }
      ]
    },
    {
      "cell_type": "code",
      "source": [],
      "metadata": {
        "id": "SAifZKZkwoZL"
      },
      "execution_count": null,
      "outputs": []
    },
    {
      "cell_type": "markdown",
      "source": [
        "고객별 view-cart-purchase 퍼널 분석(막대 그래프) - 수정 필요"
      ],
      "metadata": {
        "id": "_ja-E7KhtRUW"
      }
    },
    {
      "cell_type": "code",
      "source": [
        "# 퍼널 분석 (view-cart-purchase 단계별 유저 수 및 전환율)\n",
        "# 사용자별 event_type 집계\n",
        "funnel_counts = top_one_df.groupby('event_type')['user_id'].nunique().reindex(['view', 'cart', 'purchase'])\n",
        "\n",
        "# 전환율 계산 (순차적 전환 기준)\n",
        "view_to_cart = funnel_counts['cart'] / funnel_counts['view'] if funnel_counts['view'] else 0\n",
        "cart_to_purchase = funnel_counts['purchase'] / funnel_counts['cart'] if funnel_counts['cart'] else 0\n",
        "view_to_purchase = funnel_counts['purchase'] / funnel_counts['view'] if funnel_counts['view'] else 0\n",
        "\n",
        "print(funnel_counts)\n",
        "print(f\"view_to_cart: {view_to_cart}\")\n",
        "print(f\"cart_to_purchase: {cart_to_purchase}\")\n",
        "print(f\"view_to_purchase: {view_to_purchase}\")"
      ],
      "metadata": {
        "id": "XjZ0Hvb2w7LL"
      },
      "execution_count": null,
      "outputs": []
    },
    {
      "cell_type": "code",
      "source": [
        "import matplotlib.pyplot as plt\n",
        "import numpy as np\n",
        "\n",
        "# 단계별 정의\n",
        "stages = ['View', 'Cart', 'Purchase']\n",
        "x = np.arange(len(stages))\n",
        "\n",
        "# 전환율 (View 기준 100%)\n",
        "one_time_rates = [1.0, 0.9283, 1.0039]     # 1회 구매자\n",
        "multi_rates    = [1.0, 0.9834, 1.0009]     # 다회 구매자\n",
        "\n",
        "# 막대 너비 설정\n",
        "width = 0.35\n",
        "\n",
        "# 시각화\n",
        "plt.figure(figsize=(10, 6))\n",
        "bars1 = plt.bar(x - width/2, [r * 100 for r in one_time_rates], width, label='1회 구매자', color='#a6cee3')\n",
        "bars2 = plt.bar(x + width/2, [r * 100 for r in multi_rates], width, label='다회 구매자', color='#1f78b4')\n",
        "\n",
        "# 텍스트 라벨링\n",
        "for i in range(len(stages)):\n",
        "    plt.text(x[i] - width/2, one_time_rates[i] * 100 + 0.5, f'{one_time_rates[i]*100:.1f}%', ha='center', fontsize=10)\n",
        "    plt.text(x[i] + width/2, multi_rates[i] * 100 + 0.5, f'{multi_rates[i]*100:.1f}%', ha='center', fontsize=10)\n",
        "\n",
        "# 그래프 설정\n",
        "plt.xticks(x, stages)\n",
        "plt.ylabel('Conversion Rate (%)')\n",
        "plt.title('전환 퍼널 비교: 1회 구매자 vs 다회 구매자')\n",
        "plt.ylim(0, 110)\n",
        "plt.legend()\n",
        "plt.grid(axis='y', linestyle='--', alpha=0.5)\n",
        "plt.tight_layout()\n",
        "plt.show"
      ],
      "metadata": {
        "id": "T1hZMJfCmVAr"
      },
      "execution_count": null,
      "outputs": []
    }
  ]
}
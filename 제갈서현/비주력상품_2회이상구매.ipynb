{
  "nbformat": 4,
  "nbformat_minor": 0,
  "metadata": {
    "colab": {
      "provenance": [],
      "machine_shape": "hm"
    },
    "kernelspec": {
      "name": "python3",
      "display_name": "Python 3"
    },
    "language_info": {
      "name": "python"
    }
  },
  "cells": [
    {
      "cell_type": "code",
      "execution_count": null,
      "metadata": {
        "colab": {
          "base_uri": "https://localhost:8080/"
        },
        "id": "vFPu4h9PoP4r",
        "outputId": "70389ac9-0b45-43a0-eefa-a584d63e56bc"
      },
      "outputs": [
        {
          "output_type": "stream",
          "name": "stdout",
          "text": [
            "Mounted at /content/drive\n"
          ]
        }
      ],
      "source": [
        "from google.colab import drive\n",
        "\n",
        "# 1. Google Drive 마운트\n",
        "drive.mount('/content/drive')"
      ]
    },
    {
      "cell_type": "code",
      "source": [
        "# 2. 파일 경로 설정 (사용자 지정 경로)\n",
        "data_root = '/content/drive/MyDrive/Colab Notebooks/datathon/주력_비주력상품 데이터/비주력상품'\n",
        "# file_path = f'{data_root}/2019-Nov.csv'"
      ],
      "metadata": {
        "id": "l3mG8EbDqxB4"
      },
      "execution_count": null,
      "outputs": []
    },
    {
      "cell_type": "code",
      "source": [
        "import pandas as pd\n",
        "import numpy as np\n",
        "import matplotlib.pyplot as plt\n",
        "import seaborn as sns\n",
        "from datetime import timedelta\n",
        "import os"
      ],
      "metadata": {
        "id": "fRVwILNdqy7t"
      },
      "execution_count": null,
      "outputs": []
    },
    {
      "cell_type": "code",
      "source": [
        "sns.set()\n",
        "\n",
        "# 그래프 기본 설정\n",
        "plt.rcParams['figure.figsize'] = 12, 6\n",
        "plt.rcParams['font.size'] = 14\n",
        "plt.rcParams['axes.unicode_minus'] = False\n",
        "import matplotlib as mpl\n",
        "import matplotlib.font_manager as fm\n",
        "\n",
        "# 폰트 파일 경로 지정\n",
        "font_path = '/content/drive/MyDrive/font/NanumGothic.ttf'\n",
        "\n",
        "# 폰트 등록 및 matplotlib 설정\n",
        "font_name = fm.FontProperties(fname=font_path).get_name()\n",
        "fm.fontManager.addfont(font_path)\n",
        "mpl.rc('font', family=font_name)"
      ],
      "metadata": {
        "id": "feECbvsgrCVu"
      },
      "execution_count": null,
      "outputs": []
    },
    {
      "cell_type": "code",
      "source": [
        "# 데이터 불러오기\n",
        "notop_multi_df = pd.read_parquet(f'{data_root}/noTop3_multi_buyers_all_events.parquet')"
      ],
      "metadata": {
        "id": "oUJd2YG2rIPR"
      },
      "execution_count": null,
      "outputs": []
    },
    {
      "cell_type": "markdown",
      "source": [
        "다회 구매자의 첫 구매 행동 패턴 분석"
      ],
      "metadata": {
        "id": "nemzUUVZ6jYU"
      }
    },
    {
      "cell_type": "code",
      "source": [
        "# 첫 구매 이전 cart -> purchase 시간 계산\n",
        "# 1. event_datetime 컬럼 생성\n",
        "notop_multi_df['event_datetime'] = notop_multi_df['event_date'] + pd.to_timedelta(notop_multi_df['event_hour'], unit='h')\n",
        "notop_multi_df['event_datetime'] = pd.to_datetime(notop_multi_df['event_datetime'])\n",
        "\n",
        "# 2. 각 유저의 첫 purchase 시간 구하기\n",
        "first_purchase_time = notop_multi_df[notop_multi_df['event_type'] == 'purchase'] \\\n",
        "                        .groupby('user_id')['event_datetime'].min() \\\n",
        "                        .rename('first_purchase_time')\n",
        "\n",
        "# 3. 첫 구매 이전의 행동만 필터링\n",
        "notop_multi_df = notop_multi_df.join(first_purchase_time, on='user_id')\n",
        "notop_multi_df_first_purchase = notop_multi_df[notop_multi_df['event_datetime'] <= notop_multi_df['first_purchase_time']].copy()\n",
        "\n",
        "# 4. 해당 구간 내에서 cart/purchase 시점 추출\n",
        "df_cart = notop_multi_df_first_purchase[notop_multi_df_first_purchase['event_type'] == 'cart']\n",
        "df_purchase = notop_multi_df_first_purchase[notop_multi_df_first_purchase['event_type'] == 'purchase']\n",
        "\n",
        "cart_times = df_cart.groupby('user_id')['event_datetime'].min()\n",
        "purchase_times = df_purchase.groupby('user_id')['event_datetime'].min()\n",
        "\n",
        "# 5. 공통 user_id 기준 병합 및 시간 차 계산 (단위: 시간)\n",
        "merged = pd.merge(cart_times, purchase_times, on='user_id', suffixes=('_cart', '_purchase'))\n",
        "cart_hold_time_first_purchase = (merged['event_datetime_purchase'] - merged['event_datetime_cart']).dt.total_seconds() / 3600\n"
      ],
      "metadata": {
        "id": "G77L8mfM0ryc",
        "colab": {
          "base_uri": "https://localhost:8080/"
        },
        "outputId": "d4b06913-2eed-449b-97e9-dbc2f1bd43cb"
      },
      "execution_count": null,
      "outputs": [
        {
          "output_type": "stream",
          "name": "stderr",
          "text": [
            "/tmp/ipython-input-227842798.py:3: PerformanceWarning: Adding/subtracting object-dtype array to TimedeltaArray not vectorized.\n",
            "  notop_multi_df['event_datetime'] = notop_multi_df['event_date'] + pd.to_timedelta(notop_multi_df['event_hour'], unit='h')\n"
          ]
        }
      ]
    },
    {
      "cell_type": "code",
      "source": [
        "print(\"평균 Cart 보유 시간 (시간):\", cart_hold_time_first_purchase.mean())"
      ],
      "metadata": {
        "colab": {
          "base_uri": "https://localhost:8080/"
        },
        "id": "IlGcR9qVmPOZ",
        "outputId": "cf0fb3bc-a443-4218-b069-7d096ddb9ba7"
      },
      "execution_count": null,
      "outputs": [
        {
          "output_type": "stream",
          "name": "stdout",
          "text": [
            "평균 Cart 보유 시간 (시간): 119.36585418301848\n"
          ]
        }
      ]
    },
    {
      "cell_type": "code",
      "source": [
        "print(cart_hold_time_first_purchase.describe())"
      ],
      "metadata": {
        "colab": {
          "base_uri": "https://localhost:8080/"
        },
        "id": "T4n3hiP4mRSV",
        "outputId": "1a95c57a-0fb4-41c3-f6c5-f6eb1cc6ea13"
      },
      "execution_count": null,
      "outputs": [
        {
          "output_type": "stream",
          "name": "stdout",
          "text": [
            "count    186014.000000\n",
            "mean        119.365854\n",
            "std         374.487087\n",
            "min           0.000000\n",
            "25%           0.000000\n",
            "50%           0.000000\n",
            "75%           0.000000\n",
            "max        4200.000000\n",
            "dtype: float64\n"
          ]
        }
      ]
    },
    {
      "cell_type": "code",
      "source": [
        "# 즉시 구매자 비율 확인\n",
        "instant_buyers_ratio = (cart_hold_time_first_purchase == 0).mean() * 100\n",
        "print(f\"즉시 구매자 비율: {instant_buyers_ratio:.2f}%\")"
      ],
      "metadata": {
        "colab": {
          "base_uri": "https://localhost:8080/"
        },
        "id": "ZNRsktKCmSdj",
        "outputId": "67be4a03-274e-4d30-c241-4b47e6306d61"
      },
      "execution_count": null,
      "outputs": [
        {
          "output_type": "stream",
          "name": "stdout",
          "text": [
            "즉시 구매자 비율: 77.52%\n"
          ]
        }
      ]
    },
    {
      "cell_type": "markdown",
      "source": [
        "1회 구매 고객과 비교 위한 행동 흐름 분석"
      ],
      "metadata": {
        "id": "uw_9BHaKsKeR"
      }
    },
    {
      "cell_type": "code",
      "source": [
        "#1.구매 간격(재구매 주기)\n",
        "# event_date를 datetime으로 변환\n",
        "notop_multi_df['event_date'] = pd.to_datetime(notop_multi_df['event_date'])\n",
        "\n",
        "# 구매 이벤트만 추출\n",
        "purchase_notop_multi_df = notop_multi_df[notop_multi_df['event_type'] == 'purchase']\n",
        "\n",
        "# 유저별 구매 일자 정렬\n",
        "purchase_notop_multi_df = purchase_notop_multi_df.sort_values(by=['user_id', 'event_date'])\n",
        "\n",
        "# 각 유저의 구매 간격 계산 (days)\n",
        "purchase_notop_multi_df['purchase_gap'] = purchase_notop_multi_df.groupby('user_id')['event_date'].diff().dt.days\n",
        "\n",
        "# 평균 구매 간격\n",
        "avg_gap = purchase_notop_multi_df['purchase_gap'].mean()\n",
        "print(f\"평균 구매 간격(일): {avg_gap}\")"
      ],
      "metadata": {
        "id": "T1hZMJfCmVAr",
        "colab": {
          "base_uri": "https://localhost:8080/"
        },
        "outputId": "f599cdce-d607-4736-ddee-df93abfcd1e7"
      },
      "execution_count": null,
      "outputs": [
        {
          "output_type": "stream",
          "name": "stdout",
          "text": [
            "평균 구매 간격(일): 8.708703408219074\n"
          ]
        }
      ]
    },
    {
      "cell_type": "code",
      "source": [
        "#2. 구매 전 행동 흐름\n",
        "# 구매가 발생한 세션 이전 이벤트 시퀀스 파악\n",
        "# 구매 이벤트가 있는 세션 ID 추출\n",
        "purchase_sessions = notop_multi_df[notop_multi_df['event_type'] == 'purchase']['user_session'].unique()\n",
        "\n",
        "# 해당 세션의 이벤트 순서 (view, cart, purchase)\n",
        "funnel_sequence = (notop_multi_df[notop_multi_df['user_session'].isin(purchase_sessions)]\n",
        "                   .groupby('user_session')['event_type']\n",
        "                   .apply(list))\n",
        "\n",
        "print(funnel_sequence.head(10))  # 세션별 행동 흐름 샘플"
      ],
      "metadata": {
        "colab": {
          "base_uri": "https://localhost:8080/"
        },
        "id": "ld8bIZ2jwrv9",
        "outputId": "5ce40b6f-37fb-46a9-bc08-cf6631f92619"
      },
      "execution_count": null,
      "outputs": [
        {
          "output_type": "stream",
          "name": "stdout",
          "text": [
            "user_session\n",
            "00000361-1394-4fe6-a29b-4bed6c17193a                               [view, cart, purchase]\n",
            "00001739-fd8f-4d65-b8c8-bb82e3e5af3a                               [view, cart, purchase]\n",
            "00004e71-576e-4dd6-b322-0639305153a6                               [view, cart, purchase]\n",
            "00005479-86e4-4988-b8b5-5ec5cabdb04d    [view, view, view, view, view, view, cart, pur...\n",
            "00005e37-2de6-45af-a682-2fe5595fdd7e             [view, view, view, cart, purchase, view]\n",
            "00006211-94ee-44ad-9fb1-a4bca0710818             [view, cart, view, view, cart, purchase]\n",
            "00007576-a35c-4704-b276-3fecef2f6fc2             [view, view, view, cart, purchase, view]\n",
            "00009f76-cbe9-46a7-8185-36dcddbd3c56    [view, view, view, view, view, cart, purchase,...\n",
            "0000d0db-62c8-484e-a493-f5390b14f6d1    [view, view, view, view, view, view, view, vie...\n",
            "0000dbc1-c195-4448-b3d4-40aff9d0a5b8                         [view, cart, purchase, view]\n",
            "Name: event_type, dtype: object\n"
          ]
        }
      ]
    },
    {
      "cell_type": "code",
      "source": [
        "#3. 세션 수 & 행동량 분석\n",
        "# 유저별 세션 수\n",
        "user_session_count = notop_multi_df.groupby('user_id')['user_session'].nunique()\n",
        "\n",
        "# 유저별 이벤트 수\n",
        "user_event_count = notop_multi_df.groupby('user_id')['event_type'].count()\n",
        "\n",
        "print(f\"평균 세션 수: {user_session_count.mean()}\")\n",
        "print(f\"평균 이벤트 수: {user_event_count.mean()}\")"
      ],
      "metadata": {
        "colab": {
          "base_uri": "https://localhost:8080/"
        },
        "id": "Ed8vgh7Dw2ht",
        "outputId": "08a12f82-c036-46e1-e987-011a22389277"
      },
      "execution_count": null,
      "outputs": [
        {
          "output_type": "stream",
          "name": "stdout",
          "text": [
            "평균 세션 수: 17.667503649635037\n",
            "평균 이벤트 수: 96.82905109489052\n"
          ]
        }
      ]
    },
    {
      "cell_type": "code",
      "source": [
        "#4. 카테고리/브랜드 다양성\n",
        "# 유저별 탐색 카테고리 수\n",
        "user_category_diversity = notop_multi_df.groupby('user_id')['category_lvl1'].nunique()\n",
        "\n",
        "# 유저별 브랜드 수\n",
        "user_brand_diversity = notop_multi_df.groupby('user_id')['brand'].nunique()\n",
        "\n",
        "print(f\"평균 탐색 카테고리 수: {user_category_diversity.mean()}\")\n",
        "print(f\"평균 브랜드 수: {user_brand_diversity.mean()}\")"
      ],
      "metadata": {
        "colab": {
          "base_uri": "https://localhost:8080/"
        },
        "id": "hrmWjXjNxCcx",
        "outputId": "6096238d-5e88-4681-8fcb-6a657fc5449f"
      },
      "execution_count": null,
      "outputs": [
        {
          "output_type": "stream",
          "name": "stdout",
          "text": [
            "평균 탐색 카테고리 수: 3.9259805352798054\n",
            "평균 브랜드 수: 14.094277372262773\n"
          ]
        }
      ]
    },
    {
      "cell_type": "code",
      "source": [
        "#5. 요일/시간대 분석\n",
        "# 요일별 구매 수\n",
        "weekday_purchase = purchase_notop_multi_df['weekday'].value_counts()\n",
        "\n",
        "# 시간대별 구매 수\n",
        "hour_purchase = purchase_notop_multi_df['event_hour'].value_counts().sort_index()\n",
        "\n",
        "print(\"요일별 구매 수:\\n\", weekday_purchase)\n",
        "print(\"시간대별 구매 수:\\n\", hour_purchase)"
      ],
      "metadata": {
        "colab": {
          "base_uri": "https://localhost:8080/"
        },
        "id": "keuz8cbPxPtp",
        "outputId": "f3953dc6-f74c-4a2a-8d56-a1f9e76973fb"
      },
      "execution_count": null,
      "outputs": [
        {
          "output_type": "stream",
          "name": "stdout",
          "text": [
            "요일별 구매 수:\n",
            " weekday\n",
            "Monday       131687\n",
            "Sunday       130419\n",
            "Tuesday      120973\n",
            "Wednesday    116758\n",
            "Friday       115771\n",
            "Saturday     115193\n",
            "Thursday     112070\n",
            "Name: count, dtype: int64\n",
            "시간대별 구매 수:\n",
            " event_hour\n",
            "0     26301\n",
            "1     16846\n",
            "2     10441\n",
            "3      6551\n",
            "4      4647\n",
            "5      4478\n",
            "6      6235\n",
            "7     13602\n",
            "8     27780\n",
            "9     41839\n",
            "10    49349\n",
            "11    52951\n",
            "12    55038\n",
            "13    57909\n",
            "14    58461\n",
            "15    56640\n",
            "16    52643\n",
            "17    48430\n",
            "18    46544\n",
            "19    44388\n",
            "20    43725\n",
            "21    42673\n",
            "22    40440\n",
            "23    34960\n",
            "Name: count, dtype: int64\n"
          ]
        }
      ]
    },
    {
      "cell_type": "code",
      "source": [
        "# 요일별 구매 수 시각화\n",
        "plt.figure(figsize=(10, 6))\n",
        "weekday_order = ['Monday', 'Tuesday', 'Wednesday', 'Thursday', 'Friday', 'Saturday', 'Sunday']\n",
        "sns.barplot(x=weekday_purchase.index, y=weekday_purchase.values, order=weekday_order) # order를 지정하여 월~일 순서대로 정렬\n",
        "plt.title('요일별 구매 수')\n",
        "plt.xlabel('요일')\n",
        "plt.ylabel('구매 수')\n",
        "plt.show()\n",
        "\n",
        "# 시간대별 구매 수 시각화\n",
        "plt.figure(figsize=(12, 6))\n",
        "sns.barplot(x=hour_purchase.index, y=hour_purchase.values)\n",
        "plt.title('시간대별 구매 수')\n",
        "plt.xlabel('시간대')\n",
        "plt.ylabel('구매 수')\n",
        "plt.xticks(rotation=45) # 시간대 레이블이 겹치지 않도록 회전\n",
        "plt.tight_layout() # 그래프 레이아웃 자동 조정\n",
        "plt.show()"
      ],
      "metadata": {
        "colab": {
          "base_uri": "https://localhost:8080/",
          "height": 719
        },
        "id": "ofGkfWojxVwp",
        "outputId": "bfa5d3ea-c6d1-4911-a77c-ade02a157c07"
      },
      "execution_count": null,
      "outputs": [
        {
          "output_type": "display_data",
          "data": {
            "text/plain": [
              "<Figure size 1000x600 with 1 Axes>"
            ],
            "image/png": "[encoded data removed]"
          },
          "metadata": {}
        },
        {
          "output_type": "display_data",
          "data": {
            "text/plain": [
              "<Figure size 1200x600 with 1 Axes>"
            ],
            "image/png": "[encoded data removed]"
          },
          "metadata": {}
        }
      ]
    },
    {
      "cell_type": "code",
      "source": [],
      "metadata": {
        "id": "xFqgBH5SxlFF"
      },
      "execution_count": null,
      "outputs": []
    }
  ]
}
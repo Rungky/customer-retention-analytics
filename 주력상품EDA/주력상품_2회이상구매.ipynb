{
  "nbformat": 4,
  "nbformat_minor": 0,
  "metadata": {
    "colab": {
      "provenance": [],
      "machine_shape": "hm"
    },
    "kernelspec": {
      "name": "python3",
      "display_name": "Python 3"
    },
    "language_info": {
      "name": "python"
    }
  },
  "cells": [
    {
      "cell_type": "markdown",
      "source": [
        "분석 목표: 1회 구매자 재구매 유도 분석 + 2회 이상 구매자 재구매 이유 분석"
      ],
      "metadata": {
        "id": "zNsn1caAs0zE"
      }
    },
    {
      "cell_type": "code",
      "execution_count": null,
      "metadata": {
        "colab": {
          "base_uri": "https://localhost:8080/"
        },
        "id": "vFPu4h9PoP4r",
        "outputId": "4ce04925-38f1-4ed7-a438-f6ae46e5c5a5"
      },
      "outputs": [
        {
          "output_type": "stream",
          "name": "stdout",
          "text": [
            "Drive already mounted at /content/drive; to attempt to forcibly remount, call drive.mount(\"/content/drive\", force_remount=True).\n"
          ]
        }
      ],
      "source": [
        "from google.colab import drive\n",
        "\n",
        "# 1. Google Drive 마운트\n",
        "drive.mount('/content/drive')"
      ]
    },
    {
      "cell_type": "code",
      "source": [
        "# 2. 파일 경로 설정 (사용자 지정 경로)\n",
        "data_root = '/content/drive/MyDrive/Colab Notebooks/datathon/주력_비주력상품 데이터/주력상품'\n",
        "# file_path = f'{data_root}/2019-Nov.csv'"
      ],
      "metadata": {
        "id": "l3mG8EbDqxB4"
      },
      "execution_count": null,
      "outputs": []
    },
    {
      "cell_type": "code",
      "source": [
        "import pandas as pd\n",
        "import numpy as np\n",
        "import matplotlib.pyplot as plt\n",
        "import seaborn as sns\n",
        "from datetime import timedelta\n",
        "import os"
      ],
      "metadata": {
        "id": "fRVwILNdqy7t"
      },
      "execution_count": null,
      "outputs": []
    },
    {
      "cell_type": "code",
      "source": [
        "sns.set()\n",
        "\n",
        "# 그래프 기본 설정\n",
        "plt.rcParams['figure.figsize'] = 12, 6\n",
        "plt.rcParams['font.size'] = 14\n",
        "plt.rcParams['axes.unicode_minus'] = False\n",
        "import matplotlib as mpl\n",
        "import matplotlib.font_manager as fm\n",
        "\n",
        "# 폰트 파일 경로 지정\n",
        "font_path = '/content/drive/MyDrive/font/NanumGothic.ttf'\n",
        "\n",
        "# 폰트 등록 및 matplotlib 설정\n",
        "font_name = fm.FontProperties(fname=font_path).get_name()\n",
        "fm.fontManager.addfont(font_path)\n",
        "mpl.rc('font', family=font_name)"
      ],
      "metadata": {
        "id": "feECbvsgrCVu"
      },
      "execution_count": null,
      "outputs": []
    },
    {
      "cell_type": "code",
      "source": [
        "# 데이터 불러오기\n",
        "top_multi_df = pd.read_parquet(f'{data_root}/multi_buyers_all_events.parquet')"
      ],
      "metadata": {
        "id": "oUJd2YG2rIPR"
      },
      "execution_count": null,
      "outputs": []
    },
    {
      "cell_type": "code",
      "source": [
        "top_multi_df.info()"
      ],
      "metadata": {
        "colab": {
          "base_uri": "https://localhost:8080/"
        },
        "id": "oDeFSsnLwxf1",
        "outputId": "f5424d53-0216-4f17-eddf-cc50e02ab4f7"
      },
      "execution_count": null,
      "outputs": [
        {
          "output_type": "stream",
          "name": "stdout",
          "text": [
            "<class 'pandas.core.frame.DataFrame'>\n",
            "RangeIndex: 53878067 entries, 0 to 53878066\n",
            "Data columns (total 14 columns):\n",
            " #   Column         Dtype  \n",
            "---  ------         -----  \n",
            " 0   event_type     object \n",
            " 1   product_id     int64  \n",
            " 2   category_id    int64  \n",
            " 3   brand          object \n",
            " 4   price          float64\n",
            " 5   user_id        int64  \n",
            " 6   user_session   object \n",
            " 7   event_date     object \n",
            " 8   event_hour     int32  \n",
            " 9   category_lvl1  object \n",
            " 10  category_lvl2  object \n",
            " 11  category_lvl3  object \n",
            " 12  category_lvl4  object \n",
            " 13  weekday        object \n",
            "dtypes: float64(1), int32(1), int64(3), object(9)\n",
            "memory usage: 5.4+ GB\n"
          ]
        }
      ]
    },
    {
      "cell_type": "code",
      "source": [
        "print(top_multi_df['category_lvl1'].unique())"
      ],
      "metadata": {
        "colab": {
          "base_uri": "https://localhost:8080/"
        },
        "id": "GV_DxSiWDHIl",
        "outputId": "b5029ddf-d41a-4f47-981f-b7566bdbc5be"
      },
      "execution_count": null,
      "outputs": [
        {
          "output_type": "stream",
          "name": "stdout",
          "text": [
            "['electronics' 'appliances' 'construction']\n"
          ]
        }
      ]
    },
    {
      "cell_type": "markdown",
      "source": [
        "#1. 기본 EDA + 퍼널 분석\n",
        "4개 그룹 행동 특성 차이 파악\n",
        "- 고객별 이벤트 흐름 분석 (view → cart → purchase 퍼널)\n",
        "- 고객당 이벤트 수, 평균 세션 수, 평균 머문 시간 등 통계\n",
        "- 카테고리, 브랜드, 시간대별 행동 분포"
      ],
      "metadata": {
        "id": "fDz2i_D2KCDr"
      }
    },
    {
      "cell_type": "code",
      "source": [
        "# 퍼널 분석 (view-cart-purchase 단계별 유저 수 및 전환율)\n",
        "# 사용자별 event_type 집계\n",
        "funnel_counts = top_multi_df.groupby('event_type')['user_id'].nunique().reindex(['view', 'cart', 'purchase'])\n",
        "\n",
        "# 전환율 계산 (순차적 전환 기준)\n",
        "view_to_cart = funnel_counts['cart'] / funnel_counts['view'] if funnel_counts['view'] else 0\n",
        "cart_to_purchase = funnel_counts['purchase'] / funnel_counts['cart'] if funnel_counts['cart'] else 0\n",
        "view_to_purchase = funnel_counts['purchase'] / funnel_counts['view'] if funnel_counts['view'] else 0\n",
        "\n",
        "print(funnel_counts)\n",
        "print(f\"view_to_cart: {view_to_cart}\")\n",
        "print(f\"cart_to_purchase: {cart_to_purchase}\")\n",
        "print(f\"view_to_purchase: {view_to_purchase}\")"
      ],
      "metadata": {
        "colab": {
          "base_uri": "https://localhost:8080/"
        },
        "id": "bU9UCqyjwxap",
        "outputId": "cfd76d25-87f8-406c-cb78-7eaeab3e0b31"
      },
      "execution_count": null,
      "outputs": [
        {
          "output_type": "stream",
          "name": "stdout",
          "text": [
            "event_type\n",
            "view        644650\n",
            "cart        633968\n",
            "purchase    645198\n",
            "Name: user_id, dtype: int64\n",
            "view_to_cart: 0.9834297680912123\n",
            "cart_to_purchase: 1.017713827827272\n",
            "view_to_purchase: 1.000850073683394\n"
          ]
        }
      ]
    },
    {
      "cell_type": "code",
      "source": [],
      "metadata": {
        "id": "ma0K5Kjtxa7d"
      },
      "execution_count": null,
      "outputs": []
    },
    {
      "cell_type": "markdown",
      "source": [
        "#재구매에 이른 고객들의 전형적인 행동 흐름 분석\n",
        "\n",
        "| 항목                  | 분석 방식                 | 시사점                   |\n",
        "| ------------------- | --------------------- | --------------------- |\n",
        "| **view → cart 전환율** | 다회 구매자 vs 1회 구매자 비교   | 관심→구매 유도력 차이          |\n",
        "| **cart 보유 시간**      | cart 이후 구매까지 평균 시간    | 구매 망설임/결정 시간 차이       |\n",
        "| **브랜드/카테고리 다양성**    | 다회 구매자는 다양한 카테고리 탐색?  | 1회 구매자는 특정 상품군에만 관심?  |\n",
        "| **세션 간격**           | 첫 방문 \\~ 다음 방문까지 평균 시간 | 다음 방문을 유도할 마케팅 타이밍 판단 |\n",
        "| **세션 수 / 머문 시간**    | 더 오래 탐색하고 비교했는가?      | 충동구매 vs 숙고구매 여부       |"
      ],
      "metadata": {
        "id": "P1PTdDzwipG2"
      }
    },
    {
      "cell_type": "code",
      "source": [
        "#1.구매 간격(재구매 주기)\n",
        "# event_date를 datetime으로 변환\n",
        "top_multi_df['event_date'] = pd.to_datetime(top_multi_df['event_date'])\n",
        "\n",
        "# 구매 이벤트만 추출\n",
        "purchase_top_multi_df = top_multi_df[top_multi_df['event_type'] == 'purchase']\n",
        "\n",
        "# 유저별 구매 일자 정렬\n",
        "purchase_top_multi_df = purchase_top_multi_df.sort_values(by=['user_id', 'event_date'])\n",
        "\n",
        "# 각 유저의 구매 간격 계산 (days)\n",
        "purchase_top_multi_df['purchase_gap'] = purchase_top_multi_df.groupby('user_id')['event_date'].diff().dt.days\n",
        "\n",
        "# 평균 구매 간격\n",
        "avg_gap = purchase_top_multi_df['purchase_gap'].mean()\n",
        "print(f\"평균 구매 간격(일): {avg_gap}\")"
      ],
      "metadata": {
        "id": "G77L8mfM0ryc",
        "colab": {
          "base_uri": "https://localhost:8080/"
        },
        "outputId": "3ce19c66-6dd0-4aef-c13b-cd0254bbdb7d"
      },
      "execution_count": null,
      "outputs": [
        {
          "output_type": "stream",
          "name": "stdout",
          "text": [
            "평균 구매 간격(일): 7.867477718307534\n"
          ]
        }
      ]
    },
    {
      "cell_type": "code",
      "source": [
        "#2. 구매 전 행동 흐름\n",
        "# 구매가 발생한 세션 이전 이벤트 시퀀스 파악\n",
        "# 구매 이벤트가 있는 세션 ID 추출\n",
        "purchase_sessions = top_multi_df[top_multi_df['event_type'] == 'purchase']['user_session'].unique()\n",
        "\n",
        "# 해당 세션의 이벤트 순서 (view, cart, purchase)\n",
        "funnel_sequence = (top_multi_df[top_multi_df['user_session'].isin(purchase_sessions)]\n",
        "                   .groupby('user_session')['event_type']\n",
        "                   .apply(list))\n",
        "\n",
        "print(funnel_sequence.head(10))  # 세션별 행동 흐름 샘플"
      ],
      "metadata": {
        "colab": {
          "base_uri": "https://localhost:8080/"
        },
        "id": "xtL4oUTPkpUZ",
        "outputId": "ccb594fc-2cee-45da-b291-091f4afb0b50"
      },
      "execution_count": null,
      "outputs": [
        {
          "output_type": "stream",
          "name": "stdout",
          "text": [
            "user_session\n",
            "00000083-8816-4d58-a9b8-f52f54186edc    [view, view, view, view, view, view, view, vie...\n",
            "000001fd-1f89-45e8-a3ce-fe3218cabfad    [view, view, view, view, cart, view, cart, car...\n",
            "0000138c-b861-4c6a-8abb-ed43b1def8e2                         [view, view, cart, purchase]\n",
            "00001b7d-1090-45e1-8130-0b683911631f                               [view, cart, purchase]\n",
            "00002469-20b6-4603-8fa1-51e78f062bd2    [view, cart, purchase, view, cart, purchase, v...\n",
            "00002495-fc82-44f0-b008-7a09baca1cb6                               [view, cart, purchase]\n",
            "0000256d-010c-47da-bcef-cf2c1017bcf6    [view, view, view, view, view, view, cart, pur...\n",
            "0000266c-6ae3-48f2-abc6-44189d2ff64a    [view, cart, cart, view, cart, purchase, view,...\n",
            "00002680-2bc1-4c1e-9195-31f3c9399018                   [view, cart, purchase, view, view]\n",
            "00002b33-422d-4a07-a3c1-0193afd045d3    [view, view, view, view, view, view, view, car...\n",
            "Name: event_type, dtype: object\n"
          ]
        }
      ]
    },
    {
      "cell_type": "code",
      "source": [
        "#3. 세션 수 & 행동량 분석\n",
        "# 유저별 세션 수\n",
        "user_session_count = top_multi_df.groupby('user_id')['user_session'].nunique()\n",
        "\n",
        "# 유저별 이벤트 수\n",
        "user_event_count = top_multi_df.groupby('user_id')['event_type'].count()\n",
        "\n",
        "print(f\"평균 세션 수: {user_session_count.mean()}\")\n",
        "print(f\"평균 이벤트 수: {user_event_count.mean()}\")"
      ],
      "metadata": {
        "colab": {
          "base_uri": "https://localhost:8080/"
        },
        "id": "6NtOssc5j1u9",
        "outputId": "08c93cfd-5b74-4047-b977-3a5380b4104d"
      },
      "execution_count": null,
      "outputs": [
        {
          "output_type": "stream",
          "name": "stdout",
          "text": [
            "평균 세션 수: 15.730442437825287\n",
            "평균 이벤트 수: 83.50625234424162\n"
          ]
        }
      ]
    },
    {
      "cell_type": "code",
      "source": [
        "#4. 카테고리/브랜드 다양성\n",
        "# 유저별 탐색 카테고리 수\n",
        "user_category_diversity = top_multi_df.groupby('user_id')['category_lvl1'].nunique()\n",
        "\n",
        "# 유저별 브랜드 수\n",
        "user_brand_diversity = top_multi_df.groupby('user_id')['brand'].nunique()\n",
        "\n",
        "print(f\"평균 탐색 카테고리 수: {user_category_diversity.mean()}\")\n",
        "print(f\"평균 브랜드 수: {user_brand_diversity.mean()}\")"
      ],
      "metadata": {
        "colab": {
          "base_uri": "https://localhost:8080/"
        },
        "id": "3B6uKtmVleH3",
        "outputId": "510c502a-44bf-443f-af88-7e9300228273"
      },
      "execution_count": null,
      "outputs": [
        {
          "output_type": "stream",
          "name": "stdout",
          "text": [
            "평균 탐색 카테고리 수: 2.1977997451944984\n",
            "평균 브랜드 수: 8.471027498535333\n"
          ]
        }
      ]
    },
    {
      "cell_type": "code",
      "source": [
        "#5. 요일/시간대 분석\n",
        "# 요일별 구매 수\n",
        "weekday_purchase = purchase_top_multi_df['weekday'].value_counts()\n",
        "\n",
        "# 시간대별 구매 수\n",
        "hour_purchase = purchase_top_multi_df['event_hour'].value_counts().sort_index()\n",
        "\n",
        "print(\"요일별 구매 수:\\n\", weekday_purchase)\n",
        "print(\"시간대별 구매 수:\\n\", hour_purchase)"
      ],
      "metadata": {
        "colab": {
          "base_uri": "https://localhost:8080/"
        },
        "id": "dEfwZxymlgXN",
        "outputId": "82cb14b3-0722-4cee-acb5-3a9550cd07c7"
      },
      "execution_count": null,
      "outputs": [
        {
          "output_type": "stream",
          "name": "stdout",
          "text": [
            "요일별 구매 수:\n",
            " weekday\n",
            "Sunday       538457\n",
            "Monday       506652\n",
            "Tuesday      473250\n",
            "Saturday     473231\n",
            "Wednesday    464627\n",
            "Friday       456371\n",
            "Thursday     446946\n",
            "Name: count, dtype: int64\n",
            "시간대별 구매 수:\n",
            " event_hour\n",
            "0      87907\n",
            "1      55917\n",
            "2      35316\n",
            "3      23305\n",
            "4      15851\n",
            "5      14673\n",
            "6      20873\n",
            "7      48584\n",
            "8     111357\n",
            "9     169380\n",
            "10    204093\n",
            "11    224480\n",
            "12    237447\n",
            "13    248572\n",
            "14    249765\n",
            "15    239927\n",
            "16    220104\n",
            "17    202231\n",
            "18    189831\n",
            "19    179926\n",
            "20    168095\n",
            "21    154583\n",
            "22    140351\n",
            "23    116966\n",
            "Name: count, dtype: int64\n"
          ]
        }
      ]
    },
    {
      "cell_type": "markdown",
      "source": [
        "요일별, 시간대별 구매 수 시각화(막대 그래프)"
      ],
      "metadata": {
        "id": "b1WMRLGU9eMa"
      }
    },
    {
      "cell_type": "code",
      "source": [
        "# 요일별 구매 수 시각화\n",
        "plt.figure(figsize=(10, 6))\n",
        "weekday_order = ['Monday', 'Tuesday', 'Wednesday', 'Thursday', 'Friday', 'Saturday', 'Sunday']\n",
        "sns.barplot(x=weekday_purchase.index, y=weekday_purchase.values, order=weekday_order) # order를 지정하여 월~일 순서대로 정렬\n",
        "plt.title('요일별 구매 수')\n",
        "plt.xlabel('요일')\n",
        "plt.ylabel('구매 수')\n",
        "plt.show()\n",
        "\n",
        "# 시간대별 구매 수 시각화\n",
        "plt.figure(figsize=(12, 6))\n",
        "sns.barplot(x=hour_purchase.index, y=hour_purchase.values)\n",
        "plt.title('시간대별 구매 수')\n",
        "plt.xlabel('시간대')\n",
        "plt.ylabel('구매 수')\n",
        "plt.xticks(rotation=45) # 시간대 레이블이 겹치지 않도록 회전\n",
        "plt.tight_layout() # 그래프 레이아웃 자동 조정\n",
        "plt.show()"
      ],
      "metadata": {
        "id": "KwBS4-Xqljke",
        "colab": {
          "base_uri": "https://localhost:8080/",
          "height": 745
        },
        "outputId": "97cbe762-7639-4974-ba8f-c2d2f4d2f9b8"
      },
      "execution_count": null,
      "outputs": [
        {
          "output_type": "display_data",
          "data": {
            "text/plain": [
              "<Figure size 1000x600 with 1 Axes>"
            ],
            "image/png": "[encoded data removed]"
          },
          "metadata": {}
        },
        {
          "output_type": "display_data",
          "data": {
            "text/plain": [
              "<Figure size 1200x600 with 1 Axes>"
            ],
            "image/png": "[encoded data removed]"
          },
          "metadata": {}
        }
      ]
    },
    {
      "cell_type": "markdown",
      "source": [
        "다회 구매자의 첫 구매 행동 패턴 분석"
      ],
      "metadata": {
        "id": "nemzUUVZ6jYU"
      }
    },
    {
      "cell_type": "code",
      "source": [
        "# 첫 구매 이전 cart -> purchase 시간 계산\n",
        "# 1. event_datetime 컬럼 생성\n",
        "top_multi_df['event_datetime'] = top_multi_df['event_date'] + pd.to_timedelta(top_multi_df['event_hour'], unit='h')\n",
        "top_multi_df['event_datetime'] = pd.to_datetime(top_multi_df['event_datetime'])\n",
        "\n",
        "# 2. 각 유저의 첫 purchase 시간 구하기\n",
        "first_purchase_time = top_multi_df[top_multi_df['event_type'] == 'purchase'] \\\n",
        "                        .groupby('user_id')['event_datetime'].min() \\\n",
        "                        .rename('first_purchase_time')\n",
        "\n",
        "# 3. 첫 구매 이전의 행동만 필터링\n",
        "top_multi_df = top_multi_df.join(first_purchase_time, on='user_id')\n",
        "top_multi_df_first_purchase = top_multi_df[top_multi_df['event_datetime'] <= top_multi_df['first_purchase_time']].copy()\n",
        "\n",
        "# 4. 해당 구간 내에서 cart/purchase 시점 추출\n",
        "df_cart = top_multi_df_first_purchase[top_multi_df_first_purchase['event_type'] == 'cart']\n",
        "df_purchase = top_multi_df_first_purchase[top_multi_df_first_purchase['event_type'] == 'purchase']\n",
        "\n",
        "cart_times = df_cart.groupby('user_id')['event_datetime'].min()\n",
        "purchase_times = df_purchase.groupby('user_id')['event_datetime'].min()\n",
        "\n",
        "# 5. 공통 user_id 기준 병합 및 시간 차 계산 (단위: 시간)\n",
        "merged = pd.merge(cart_times, purchase_times, on='user_id', suffixes=('_cart', '_purchase'))\n",
        "cart_hold_time_first_purchase = (merged['event_datetime_purchase'] - merged['event_datetime_cart']).dt.total_seconds() / 3600\n"
      ],
      "metadata": {
        "id": "9cgKkOAF7ALX"
      },
      "execution_count": null,
      "outputs": []
    },
    {
      "cell_type": "code",
      "source": [
        "print(\"평균 Cart 보유 시간 (시간):\", cart_hold_time_first_purchase.mean())"
      ],
      "metadata": {
        "colab": {
          "base_uri": "https://localhost:8080/"
        },
        "id": "9ciybzC4bZEi",
        "outputId": "1b9e9693-6332-49a2-d3fc-aa1a49d66796"
      },
      "execution_count": null,
      "outputs": [
        {
          "output_type": "stream",
          "name": "stdout",
          "text": [
            "평균 Cart 보유 시간 (시간): 131.43819934974195\n"
          ]
        }
      ]
    },
    {
      "cell_type": "code",
      "source": [
        "print(cart_hold_time_first_purchase.describe())"
      ],
      "metadata": {
        "colab": {
          "base_uri": "https://localhost:8080/"
        },
        "id": "UpnktepqbNAa",
        "outputId": "154bb93f-ca77-4264-d2ec-314c2d7ff546"
      },
      "execution_count": null,
      "outputs": [
        {
          "output_type": "stream",
          "name": "stdout",
          "text": [
            "count    573926.000000\n",
            "mean        131.438199\n",
            "std         428.595918\n",
            "min           0.000000\n",
            "25%           0.000000\n",
            "50%           0.000000\n",
            "75%           1.000000\n",
            "max        4297.000000\n",
            "dtype: float64\n"
          ]
        }
      ]
    },
    {
      "cell_type": "markdown",
      "source": [
        "즉시 구매자가 많음(cart와 purchase를 같은 시각에 기록): 할인·광고 유도, 혹은 상품에 확신이 있는 경우 자주 발생\n",
        "\n",
        "구매 경험이 있는 다회 구매자 중 일부는 확신을 갖고 행동할 수 있음"
      ],
      "metadata": {
        "id": "xcISI2LFbp0s"
      }
    },
    {
      "cell_type": "code",
      "source": [
        "# 즉시 구매자 비율 확인\n",
        "instant_buyers_ratio = (cart_hold_time_first_purchase == 0).mean() * 100\n",
        "print(f\"즉시 구매자 비율: {instant_buyers_ratio:.2f}%\")"
      ],
      "metadata": {
        "colab": {
          "base_uri": "https://localhost:8080/"
        },
        "id": "WNQ8_4P1bzf0",
        "outputId": "d46907ff-60cd-4a79-e07c-072dd2ff279a"
      },
      "execution_count": null,
      "outputs": [
        {
          "output_type": "stream",
          "name": "stdout",
          "text": [
            "즉시 구매자 비율: 69.10%\n"
          ]
        }
      ]
    },
    {
      "cell_type": "markdown",
      "source": [
        "| 관찰                        | 가능성 있는 해석                                |\n",
        "| ------------------------- | ---------------------------------------- |\n",
        "| 🔹 첫 구매에서조차 망설이지 않음       | 이미 구매 의도가 명확했던 고객                        |\n",
        "| 🔹 cart는 단순히 구매 절차의 일부일 뿐 | 제품 탐색은 이미 끝났거나, 광고/추천의 영향을 받아 명확한 니즈로 진입 |\n",
        "| 🔹 다회 구매자가 될 가능성이 높았던 유저  | 첫 구매부터도 신뢰·확신을 기반으로 행동한 유저들              |\n",
        "\n",
        "- 1회 구매자 평균 cart 보유 시간이 더 길고, 이는 그들이 첫 구매를 더 오래 고민했다는 증거\n",
        "\n",
        "- 결국, 첫 구매를 신속하게 한 고객은 다회 구매로 이어질 가능성이 높고,\n",
        "\n",
        "- 첫 구매를 오래 망설인 고객은 1회에서 이탈할 가능성이 높다는 가설을 세울 수 있음\n",
        "\n",
        "=> 즉시 구매자 타겟: 광고·이벤트 노출만으로 빠르게 반응할 가능성 높음\n",
        "\n",
        "=> 비즉시 구매자 타겟: 장바구니 리마인드, 장기 고려용 정보 제공(리뷰, 비교 등)이 더 효과적\n",
        "\n",
        "\"첫 구매에서 즉시 결제하지 않은 30% 이상 유저는 리텐션 가능성이 상대적으로 낮으며, 이들에게는 추가적인 자극이 필요하다.\""
      ],
      "metadata": {
        "id": "M7sabd5WcDSU"
      }
    },
    {
      "cell_type": "code",
      "source": [
        "# 층화 샘플링 750 데이터 불러오기\n",
        "df_sampling = pd.read_csv('/content/drive/MyDrive/Colab Notebooks/datathon/주력_비주력상품 데이터/층화샘플링/top3_categories_750.csv')"
      ],
      "metadata": {
        "id": "1oYNgaTZsl7V"
      },
      "execution_count": null,
      "outputs": []
    },
    {
      "cell_type": "code",
      "source": [],
      "metadata": {
        "id": "Zl4x8lzbb3yM"
      },
      "execution_count": null,
      "outputs": []
    }
  ]
}
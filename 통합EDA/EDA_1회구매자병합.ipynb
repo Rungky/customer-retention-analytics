{
  "nbformat": 4,
  "nbformat_minor": 0,
  "metadata": {
    "colab": {
      "provenance": [],
      "machine_shape": "hm"
    },
    "kernelspec": {
      "name": "python3",
      "display_name": "Python 3"
    },
    "language_info": {
      "name": "python"
    }
  },
  "cells": [
    {
      "cell_type": "markdown",
      "source": [
        "📊 월별 데이터 행 개수\n",
        "\n",
        "| 월     | 행 개수        |\n",
        "|--------|----------------|\n",
        "| 10월   | 42,448,764     |\n",
        "| 11월   | 67,501,979     |\n",
        "| 12월   | 67,542,878     |\n",
        "| 1월    | 55,967,041     |\n",
        "| 2월    | 55,318,565     |\n",
        "| 3월    | 56,341,241     |\n",
        "| 4월    | 66,589,268     |"
      ],
      "metadata": {
        "id": "nPkLPV1oEoJY"
      }
    },
    {
      "cell_type": "code",
      "source": [
        "from google.colab import drive\n",
        "\n",
        "# 1. Google Drive 마운트\n",
        "drive.mount('/content/drive')"
      ],
      "metadata": {
        "colab": {
          "base_uri": "https://localhost:8080/"
        },
        "id": "a1-EHwoOgKBz",
        "outputId": "93fbd78a-a529-47be-ae5c-f528290cdd49"
      },
      "execution_count": null,
      "outputs": [
        {
          "output_type": "stream",
          "name": "stdout",
          "text": [
            "Mounted at /content/drive\n"
          ]
        }
      ]
    },
    {
      "cell_type": "code",
      "execution_count": null,
      "metadata": {
        "id": "eoNqWugudPt_"
      },
      "outputs": [],
      "source": [
        "# 2. 파일 경로 설정 (사용자 지정 경로)\n",
        "data_root = '/content/drive/MyDrive/Colab Notebooks/datathon'\n",
        "# file_path = f'{data_root}/2019-Nov.csv'"
      ]
    },
    {
      "cell_type": "markdown",
      "source": [
        "#데이터 불러오기 + 기본 전처리"
      ],
      "metadata": {
        "id": "HpcUyQF_xwes"
      }
    },
    {
      "cell_type": "code",
      "source": [
        "import pandas as pd\n",
        "import numpy as np\n",
        "import matplotlib.pyplot as plt\n",
        "import seaborn as sns\n",
        "from datetime import timedelta"
      ],
      "metadata": {
        "id": "tzpaRe5_qvf8"
      },
      "execution_count": null,
      "outputs": []
    },
    {
      "cell_type": "code",
      "source": [
        "sns.set()\n",
        "\n",
        "# 그래프 기본 설정\n",
        "plt.rcParams['figure.figsize'] = 12, 6\n",
        "plt.rcParams['font.size'] = 14\n",
        "plt.rcParams['axes.unicode_minus'] = False\n",
        "import matplotlib as mpl\n",
        "import matplotlib.font_manager as fm\n",
        "\n",
        "# 폰트 파일 경로 지정\n",
        "font_path = '/content/drive/MyDrive/font/NanumGothic.ttf'\n",
        "\n",
        "# 폰트 등록 및 matplotlib 설정\n",
        "font_name = fm.FontProperties(fname=font_path).get_name()\n",
        "fm.fontManager.addfont(font_path)\n",
        "mpl.rc('font', family=font_name)"
      ],
      "metadata": {
        "id": "2GBhzP35zFnu"
      },
      "execution_count": null,
      "outputs": []
    },
    {
      "cell_type": "code",
      "source": [
        "# 6개월치 데이터\n",
        "df_all = pd.read_parquet(f'{data_root}/onetime.parquet')\n",
        "\n",
        "df_all"
      ],
      "metadata": {
        "colab": {
          "base_uri": "https://localhost:8080/",
          "height": 947
        },
        "id": "lfhHHuP3v92c",
        "outputId": "7c9ec54d-022b-4fb2-b63b-e39bf721d119"
      },
      "execution_count": null,
      "outputs": [
        {
          "output_type": "execute_result",
          "data": {
            "text/plain": [
              "                        event_time event_type  product_id  \\\n",
              "0        2019-10-01 00:00:35+00:00       view     3701244   \n",
              "1        2019-10-01 00:00:35+00:00       view     4300070   \n",
              "2        2019-10-01 00:00:36+00:00       view     3600575   \n",
              "3        2019-10-01 00:00:36+00:00       view     2900475   \n",
              "4        2019-10-01 00:00:46+00:00       view     4100126   \n",
              "...                            ...        ...         ...   \n",
              "48774629 2020-03-31 18:59:57+00:00       cart     7600170   \n",
              "48774630 2020-03-31 18:59:57+00:00       view    18900005   \n",
              "48774631 2020-03-31 18:59:58+00:00       view   100172862   \n",
              "48774632 2020-03-31 18:59:58+00:00       view     7202279   \n",
              "48774633 2020-03-31 18:59:59+00:00       view    22700078   \n",
              "\n",
              "                  category_id                  category_code  \\\n",
              "0         2053013565983425517  appliances.environment.vacuum   \n",
              "1         2053013552385491165                           None   \n",
              "2         2053013563810775923      appliances.kitchen.washer   \n",
              "3         2053013554776244595   appliances.kitchen.microwave   \n",
              "4         2053013561218695907                           None   \n",
              "...                       ...                            ...   \n",
              "48774629  2232732103982711397        furniture.kitchen.table   \n",
              "48774630  2232732109175259860                  sport.trainer   \n",
              "48774631  2232732114124538702                  apparel.shoes   \n",
              "48774632  2232732084546306225    furniture.living_room.chair   \n",
              "48774633  2232732091643068746                           None   \n",
              "\n",
              "                     brand   price    user_id  \\\n",
              "0                 elenberg   33.44  515535834   \n",
              "1                  timberk   38.59  544648245   \n",
              "2         hotpoint-ariston  275.37  554754045   \n",
              "3                  gorenje  295.99  533078094   \n",
              "4                     sony  326.62  519885473   \n",
              "...                    ...     ...        ...   \n",
              "48774629            d-link    7.70  592982145   \n",
              "48774630             canon  177.61  516115438   \n",
              "48774631            rooman   71.82  626088076   \n",
              "48774632              None    9.52  634136524   \n",
              "48774633             stels  220.08  523982103   \n",
              "\n",
              "                                  user_session  event_date  event_hour  \\\n",
              "0         d90a6f2f-0d0f-47cf-9fe9-62db93dffdb9  2019-10-01           5   \n",
              "1         bb8e28c8-d11f-428a-95e7-056e974fe835  2019-10-01           5   \n",
              "2         bd0302ef-c5ca-4b6a-b916-95cc2840c72c  2019-10-01           5   \n",
              "3         6eaaf55a-7bbe-4b3d-95a8-f3b3e31c39c8  2019-10-01           5   \n",
              "4         b70cb218-db90-4011-b582-0bd237109df1  2019-10-01           5   \n",
              "...                                        ...         ...         ...   \n",
              "48774629  e719af53-7b0c-44e6-b347-f31fb3df06e8  2020-03-31          23   \n",
              "48774630  bf2db978-1f1d-41b3-8890-9e83aee8e9bc  2020-03-31          23   \n",
              "48774631  77472822-64b5-4000-a1e3-b757b4244466  2020-03-31          23   \n",
              "48774632  f0d03600-507a-4f26-b4e0-67aa1fa2c6c2  2020-03-31          23   \n",
              "48774633  d52b61f3-a880-42d9-a894-bab4f1cf4de0  2020-03-31          23   \n",
              "\n",
              "         category_lvl1 category_lvl2 category_lvl3 category_lvl4  weekday  \n",
              "0           appliances   environment        vacuum          None  Tuesday  \n",
              "1                 None          None          None          None  Tuesday  \n",
              "2           appliances       kitchen        washer          None  Tuesday  \n",
              "3           appliances       kitchen     microwave          None  Tuesday  \n",
              "4                 None          None          None          None  Tuesday  \n",
              "...                ...           ...           ...           ...      ...  \n",
              "48774629     furniture       kitchen         table          None  Tuesday  \n",
              "48774630         sport       trainer          None          None  Tuesday  \n",
              "48774631       apparel         shoes          None          None  Tuesday  \n",
              "48774632     furniture   living_room         chair          None  Tuesday  \n",
              "48774633          None          None          None          None  Tuesday  \n",
              "\n",
              "[48774634 rows x 16 columns]"
            ],
            "text/html": [
              "\n",
              "  <div id=\"df-9665f3b9-ff8a-44bd-9a68-c83dd5780756\" class=\"colab-df-container\">\n",
              "    <div>\n",
              "<style scoped>\n",
              "    .dataframe tbody tr th:only-of-type {\n",
              "        vertical-align: middle;\n",
              "    }\n",
              "\n",
              "    .dataframe tbody tr th {\n",
              "        vertical-align: top;\n",
              "    }\n",
              "\n",
              "    .dataframe thead th {\n",
              "        text-align: right;\n",
              "    }\n",
              "</style>\n",
              "<table border=\"1\" class=\"dataframe\">\n",
              "  <thead>\n",
              "    <tr style=\"text-align: right;\">\n",
              "      <th></th>\n",
              "      <th>event_time</th>\n",
              "      <th>event_type</th>\n",
              "      <th>product_id</th>\n",
              "      <th>category_id</th>\n",
              "      <th>category_code</th>\n",
              "      <th>brand</th>\n",
              "      <th>price</th>\n",
              "      <th>user_id</th>\n",
              "      <th>user_session</th>\n",
              "      <th>event_date</th>\n",
              "      <th>event_hour</th>\n",
              "      <th>category_lvl1</th>\n",
              "      <th>category_lvl2</th>\n",
              "      <th>category_lvl3</th>\n",
              "      <th>category_lvl4</th>\n",
              "      <th>weekday</th>\n",
              "    </tr>\n",
              "  </thead>\n",
              "  <tbody>\n",
              "    <tr>\n",
              "      <th>0</th>\n",
              "      <td>2019-10-01 00:00:35+00:00</td>\n",
              "      <td>view</td>\n",
              "      <td>3701244</td>\n",
              "      <td>2053013565983425517</td>\n",
              "      <td>appliances.environment.vacuum</td>\n",
              "      <td>elenberg</td>\n",
              "      <td>33.44</td>\n",
              "      <td>515535834</td>\n",
              "      <td>d90a6f2f-0d0f-47cf-9fe9-62db93dffdb9</td>\n",
              "      <td>2019-10-01</td>\n",
              "      <td>5</td>\n",
              "      <td>appliances</td>\n",
              "      <td>environment</td>\n",
              "      <td>vacuum</td>\n",
              "      <td>None</td>\n",
              "      <td>Tuesday</td>\n",
              "    </tr>\n",
              "    <tr>\n",
              "      <th>1</th>\n",
              "      <td>2019-10-01 00:00:35+00:00</td>\n",
              "      <td>view</td>\n",
              "      <td>4300070</td>\n",
              "      <td>2053013552385491165</td>\n",
              "      <td>None</td>\n",
              "      <td>timberk</td>\n",
              "      <td>38.59</td>\n",
              "      <td>544648245</td>\n",
              "      <td>bb8e28c8-d11f-428a-95e7-056e974fe835</td>\n",
              "      <td>2019-10-01</td>\n",
              "      <td>5</td>\n",
              "      <td>None</td>\n",
              "      <td>None</td>\n",
              "      <td>None</td>\n",
              "      <td>None</td>\n",
              "      <td>Tuesday</td>\n",
              "    </tr>\n",
              "    <tr>\n",
              "      <th>2</th>\n",
              "      <td>2019-10-01 00:00:36+00:00</td>\n",
              "      <td>view</td>\n",
              "      <td>3600575</td>\n",
              "      <td>2053013563810775923</td>\n",
              "      <td>appliances.kitchen.washer</td>\n",
              "      <td>hotpoint-ariston</td>\n",
              "      <td>275.37</td>\n",
              "      <td>554754045</td>\n",
              "      <td>bd0302ef-c5ca-4b6a-b916-95cc2840c72c</td>\n",
              "      <td>2019-10-01</td>\n",
              "      <td>5</td>\n",
              "      <td>appliances</td>\n",
              "      <td>kitchen</td>\n",
              "      <td>washer</td>\n",
              "      <td>None</td>\n",
              "      <td>Tuesday</td>\n",
              "    </tr>\n",
              "    <tr>\n",
              "      <th>3</th>\n",
              "      <td>2019-10-01 00:00:36+00:00</td>\n",
              "      <td>view</td>\n",
              "      <td>2900475</td>\n",
              "      <td>2053013554776244595</td>\n",
              "      <td>appliances.kitchen.microwave</td>\n",
              "      <td>gorenje</td>\n",
              "      <td>295.99</td>\n",
              "      <td>533078094</td>\n",
              "      <td>6eaaf55a-7bbe-4b3d-95a8-f3b3e31c39c8</td>\n",
              "      <td>2019-10-01</td>\n",
              "      <td>5</td>\n",
              "      <td>appliances</td>\n",
              "      <td>kitchen</td>\n",
              "      <td>microwave</td>\n",
              "      <td>None</td>\n",
              "      <td>Tuesday</td>\n",
              "    </tr>\n",
              "    <tr>\n",
              "      <th>4</th>\n",
              "      <td>2019-10-01 00:00:46+00:00</td>\n",
              "      <td>view</td>\n",
              "      <td>4100126</td>\n",
              "      <td>2053013561218695907</td>\n",
              "      <td>None</td>\n",
              "      <td>sony</td>\n",
              "      <td>326.62</td>\n",
              "      <td>519885473</td>\n",
              "      <td>b70cb218-db90-4011-b582-0bd237109df1</td>\n",
              "      <td>2019-10-01</td>\n",
              "      <td>5</td>\n",
              "      <td>None</td>\n",
              "      <td>None</td>\n",
              "      <td>None</td>\n",
              "      <td>None</td>\n",
              "      <td>Tuesday</td>\n",
              "    </tr>\n",
              "    <tr>\n",
              "      <th>...</th>\n",
              "      <td>...</td>\n",
              "      <td>...</td>\n",
              "      <td>...</td>\n",
              "      <td>...</td>\n",
              "      <td>...</td>\n",
              "      <td>...</td>\n",
              "      <td>...</td>\n",
              "      <td>...</td>\n",
              "      <td>...</td>\n",
              "      <td>...</td>\n",
              "      <td>...</td>\n",
              "      <td>...</td>\n",
              "      <td>...</td>\n",
              "      <td>...</td>\n",
              "      <td>...</td>\n",
              "      <td>...</td>\n",
              "    </tr>\n",
              "    <tr>\n",
              "      <th>48774629</th>\n",
              "      <td>2020-03-31 18:59:57+00:00</td>\n",
              "      <td>cart</td>\n",
              "      <td>7600170</td>\n",
              "      <td>2232732103982711397</td>\n",
              "      <td>furniture.kitchen.table</td>\n",
              "      <td>d-link</td>\n",
              "      <td>7.70</td>\n",
              "      <td>592982145</td>\n",
              "      <td>e719af53-7b0c-44e6-b347-f31fb3df06e8</td>\n",
              "      <td>2020-03-31</td>\n",
              "      <td>23</td>\n",
              "      <td>furniture</td>\n",
              "      <td>kitchen</td>\n",
              "      <td>table</td>\n",
              "      <td>None</td>\n",
              "      <td>Tuesday</td>\n",
              "    </tr>\n",
              "    <tr>\n",
              "      <th>48774630</th>\n",
              "      <td>2020-03-31 18:59:57+00:00</td>\n",
              "      <td>view</td>\n",
              "      <td>18900005</td>\n",
              "      <td>2232732109175259860</td>\n",
              "      <td>sport.trainer</td>\n",
              "      <td>canon</td>\n",
              "      <td>177.61</td>\n",
              "      <td>516115438</td>\n",
              "      <td>bf2db978-1f1d-41b3-8890-9e83aee8e9bc</td>\n",
              "      <td>2020-03-31</td>\n",
              "      <td>23</td>\n",
              "      <td>sport</td>\n",
              "      <td>trainer</td>\n",
              "      <td>None</td>\n",
              "      <td>None</td>\n",
              "      <td>Tuesday</td>\n",
              "    </tr>\n",
              "    <tr>\n",
              "      <th>48774631</th>\n",
              "      <td>2020-03-31 18:59:58+00:00</td>\n",
              "      <td>view</td>\n",
              "      <td>100172862</td>\n",
              "      <td>2232732114124538702</td>\n",
              "      <td>apparel.shoes</td>\n",
              "      <td>rooman</td>\n",
              "      <td>71.82</td>\n",
              "      <td>626088076</td>\n",
              "      <td>77472822-64b5-4000-a1e3-b757b4244466</td>\n",
              "      <td>2020-03-31</td>\n",
              "      <td>23</td>\n",
              "      <td>apparel</td>\n",
              "      <td>shoes</td>\n",
              "      <td>None</td>\n",
              "      <td>None</td>\n",
              "      <td>Tuesday</td>\n",
              "    </tr>\n",
              "    <tr>\n",
              "      <th>48774632</th>\n",
              "      <td>2020-03-31 18:59:58+00:00</td>\n",
              "      <td>view</td>\n",
              "      <td>7202279</td>\n",
              "      <td>2232732084546306225</td>\n",
              "      <td>furniture.living_room.chair</td>\n",
              "      <td>None</td>\n",
              "      <td>9.52</td>\n",
              "      <td>634136524</td>\n",
              "      <td>f0d03600-507a-4f26-b4e0-67aa1fa2c6c2</td>\n",
              "      <td>2020-03-31</td>\n",
              "      <td>23</td>\n",
              "      <td>furniture</td>\n",
              "      <td>living_room</td>\n",
              "      <td>chair</td>\n",
              "      <td>None</td>\n",
              "      <td>Tuesday</td>\n",
              "    </tr>\n",
              "    <tr>\n",
              "      <th>48774633</th>\n",
              "      <td>2020-03-31 18:59:59+00:00</td>\n",
              "      <td>view</td>\n",
              "      <td>22700078</td>\n",
              "      <td>2232732091643068746</td>\n",
              "      <td>None</td>\n",
              "      <td>stels</td>\n",
              "      <td>220.08</td>\n",
              "      <td>523982103</td>\n",
              "      <td>d52b61f3-a880-42d9-a894-bab4f1cf4de0</td>\n",
              "      <td>2020-03-31</td>\n",
              "      <td>23</td>\n",
              "      <td>None</td>\n",
              "      <td>None</td>\n",
              "      <td>None</td>\n",
              "      <td>None</td>\n",
              "      <td>Tuesday</td>\n",
              "    </tr>\n",
              "  </tbody>\n",
              "</table>\n",
              "<p>48774634 rows × 16 columns</p>\n",
              "</div>\n",
              "    <div class=\"colab-df-buttons\">\n",
              "\n",
              "  <div class=\"colab-df-container\">\n",
              "    <button class=\"colab-df-convert\" onclick=\"convertToInteractive('df-9665f3b9-ff8a-44bd-9a68-c83dd5780756')\"\n",
              "            title=\"Convert this dataframe to an interactive table.\"\n",
              "            style=\"display:none;\">\n",
              "\n",
              "  <svg xmlns=\"http://www.w3.org/2000/svg\" height=\"24px\" viewBox=\"0 -960 960 960\">\n",
              "    <path d=\"M120-120v-720h720v720H120Zm60-500h600v-160H180v160Zm220 220h160v-160H400v160Zm0 220h160v-160H400v160ZM180-400h160v-160H180v160Zm440 0h160v-160H620v160ZM180-180h160v-160H180v160Zm440 0h160v-160H620v160Z\"/>\n",
              "  </svg>\n",
              "    </button>\n",
              "\n",
              "  <style>\n",
              "    .colab-df-container {\n",
              "      display:flex;\n",
              "      gap: 12px;\n",
              "    }\n",
              "\n",
              "    .colab-df-convert {\n",
              "      background-color: #E8F0FE;\n",
              "      border: none;\n",
              "      border-radius: 50%;\n",
              "      cursor: pointer;\n",
              "      display: none;\n",
              "      fill: #1967D2;\n",
              "      height: 32px;\n",
              "      padding: 0 0 0 0;\n",
              "      width: 32px;\n",
              "    }\n",
              "\n",
              "    .colab-df-convert:hover {\n",
              "      background-color: #E2EBFA;\n",
              "      box-shadow: 0px 1px 2px rgba(60, 64, 67, 0.3), 0px 1px 3px 1px rgba(60, 64, 67, 0.15);\n",
              "      fill: #174EA6;\n",
              "    }\n",
              "\n",
              "    .colab-df-buttons div {\n",
              "      margin-bottom: 4px;\n",
              "    }\n",
              "\n",
              "    [theme=dark] .colab-df-convert {\n",
              "      background-color: #3B4455;\n",
              "      fill: #D2E3FC;\n",
              "    }\n",
              "\n",
              "    [theme=dark] .colab-df-convert:hover {\n",
              "      background-color: #434B5C;\n",
              "      box-shadow: 0px 1px 3px 1px rgba(0, 0, 0, 0.15);\n",
              "      filter: drop-shadow(0px 1px 2px rgba(0, 0, 0, 0.3));\n",
              "      fill: #FFFFFF;\n",
              "    }\n",
              "  </style>\n",
              "\n",
              "    <script>\n",
              "      const buttonEl =\n",
              "        document.querySelector('#df-9665f3b9-ff8a-44bd-9a68-c83dd5780756 button.colab-df-convert');\n",
              "      buttonEl.style.display =\n",
              "        google.colab.kernel.accessAllowed ? 'block' : 'none';\n",
              "\n",
              "      async function convertToInteractive(key) {\n",
              "        const element = document.querySelector('#df-9665f3b9-ff8a-44bd-9a68-c83dd5780756');\n",
              "        const dataTable =\n",
              "          await google.colab.kernel.invokeFunction('convertToInteractive',\n",
              "                                                    [key], {});\n",
              "        if (!dataTable) return;\n",
              "\n",
              "        const docLinkHtml = 'Like what you see? Visit the ' +\n",
              "          '<a target=\"_blank\" href=https://colab.research.google.com/notebooks/data_table.ipynb>data table notebook</a>'\n",
              "          + ' to learn more about interactive tables.';\n",
              "        element.innerHTML = '';\n",
              "        dataTable['output_type'] = 'display_data';\n",
              "        await google.colab.output.renderOutput(dataTable, element);\n",
              "        const docLink = document.createElement('div');\n",
              "        docLink.innerHTML = docLinkHtml;\n",
              "        element.appendChild(docLink);\n",
              "      }\n",
              "    </script>\n",
              "  </div>\n",
              "\n",
              "\n",
              "    <div id=\"df-658ce8b7-d926-4ab8-9996-aab3e8e68496\">\n",
              "      <button class=\"colab-df-quickchart\" onclick=\"quickchart('df-658ce8b7-d926-4ab8-9996-aab3e8e68496')\"\n",
              "                title=\"Suggest charts\"\n",
              "                style=\"display:none;\">\n",
              "\n",
              "<svg xmlns=\"http://www.w3.org/2000/svg\" height=\"24px\"viewBox=\"0 0 24 24\"\n",
              "     width=\"24px\">\n",
              "    <g>\n",
              "        <path d=\"M19 3H5c-1.1 0-2 .9-2 2v14c0 1.1.9 2 2 2h14c1.1 0 2-.9 2-2V5c0-1.1-.9-2-2-2zM9 17H7v-7h2v7zm4 0h-2V7h2v10zm4 0h-2v-4h2v4z\"/>\n",
              "    </g>\n",
              "</svg>\n",
              "      </button>\n",
              "\n",
              "<style>\n",
              "  .colab-df-quickchart {\n",
              "      --bg-color: #E8F0FE;\n",
              "      --fill-color: #1967D2;\n",
              "      --hover-bg-color: #E2EBFA;\n",
              "      --hover-fill-color: #174EA6;\n",
              "      --disabled-fill-color: #AAA;\n",
              "      --disabled-bg-color: #DDD;\n",
              "  }\n",
              "\n",
              "  [theme=dark] .colab-df-quickchart {\n",
              "      --bg-color: #3B4455;\n",
              "      --fill-color: #D2E3FC;\n",
              "      --hover-bg-color: #434B5C;\n",
              "      --hover-fill-color: #FFFFFF;\n",
              "      --disabled-bg-color: #3B4455;\n",
              "      --disabled-fill-color: #666;\n",
              "  }\n",
              "\n",
              "  .colab-df-quickchart {\n",
              "    background-color: var(--bg-color);\n",
              "    border: none;\n",
              "    border-radius: 50%;\n",
              "    cursor: pointer;\n",
              "    display: none;\n",
              "    fill: var(--fill-color);\n",
              "    height: 32px;\n",
              "    padding: 0;\n",
              "    width: 32px;\n",
              "  }\n",
              "\n",
              "  .colab-df-quickchart:hover {\n",
              "    background-color: var(--hover-bg-color);\n",
              "    box-shadow: 0 1px 2px rgba(60, 64, 67, 0.3), 0 1px 3px 1px rgba(60, 64, 67, 0.15);\n",
              "    fill: var(--button-hover-fill-color);\n",
              "  }\n",
              "\n",
              "  .colab-df-quickchart-complete:disabled,\n",
              "  .colab-df-quickchart-complete:disabled:hover {\n",
              "    background-color: var(--disabled-bg-color);\n",
              "    fill: var(--disabled-fill-color);\n",
              "    box-shadow: none;\n",
              "  }\n",
              "\n",
              "  .colab-df-spinner {\n",
              "    border: 2px solid var(--fill-color);\n",
              "    border-color: transparent;\n",
              "    border-bottom-color: var(--fill-color);\n",
              "    animation:\n",
              "      spin 1s steps(1) infinite;\n",
              "  }\n",
              "\n",
              "  @keyframes spin {\n",
              "    0% {\n",
              "      border-color: transparent;\n",
              "      border-bottom-color: var(--fill-color);\n",
              "      border-left-color: var(--fill-color);\n",
              "    }\n",
              "    20% {\n",
              "      border-color: transparent;\n",
              "      border-left-color: var(--fill-color);\n",
              "      border-top-color: var(--fill-color);\n",
              "    }\n",
              "    30% {\n",
              "      border-color: transparent;\n",
              "      border-left-color: var(--fill-color);\n",
              "      border-top-color: var(--fill-color);\n",
              "      border-right-color: var(--fill-color);\n",
              "    }\n",
              "    40% {\n",
              "      border-color: transparent;\n",
              "      border-right-color: var(--fill-color);\n",
              "      border-top-color: var(--fill-color);\n",
              "    }\n",
              "    60% {\n",
              "      border-color: transparent;\n",
              "      border-right-color: var(--fill-color);\n",
              "    }\n",
              "    80% {\n",
              "      border-color: transparent;\n",
              "      border-right-color: var(--fill-color);\n",
              "      border-bottom-color: var(--fill-color);\n",
              "    }\n",
              "    90% {\n",
              "      border-color: transparent;\n",
              "      border-bottom-color: var(--fill-color);\n",
              "    }\n",
              "  }\n",
              "</style>\n",
              "\n",
              "      <script>\n",
              "        async function quickchart(key) {\n",
              "          const quickchartButtonEl =\n",
              "            document.querySelector('#' + key + ' button');\n",
              "          quickchartButtonEl.disabled = true;  // To prevent multiple clicks.\n",
              "          quickchartButtonEl.classList.add('colab-df-spinner');\n",
              "          try {\n",
              "            const charts = await google.colab.kernel.invokeFunction(\n",
              "                'suggestCharts', [key], {});\n",
              "          } catch (error) {\n",
              "            console.error('Error during call to suggestCharts:', error);\n",
              "          }\n",
              "          quickchartButtonEl.classList.remove('colab-df-spinner');\n",
              "          quickchartButtonEl.classList.add('colab-df-quickchart-complete');\n",
              "        }\n",
              "        (() => {\n",
              "          let quickchartButtonEl =\n",
              "            document.querySelector('#df-658ce8b7-d926-4ab8-9996-aab3e8e68496 button');\n",
              "          quickchartButtonEl.style.display =\n",
              "            google.colab.kernel.accessAllowed ? 'block' : 'none';\n",
              "        })();\n",
              "      </script>\n",
              "    </div>\n",
              "\n",
              "  <div id=\"id_06e4ce02-d1b3-4ce0-9021-eadc5dc46360\">\n",
              "    <style>\n",
              "      .colab-df-generate {\n",
              "        background-color: #E8F0FE;\n",
              "        border: none;\n",
              "        border-radius: 50%;\n",
              "        cursor: pointer;\n",
              "        display: none;\n",
              "        fill: #1967D2;\n",
              "        height: 32px;\n",
              "        padding: 0 0 0 0;\n",
              "        width: 32px;\n",
              "      }\n",
              "\n",
              "      .colab-df-generate:hover {\n",
              "        background-color: #E2EBFA;\n",
              "        box-shadow: 0px 1px 2px rgba(60, 64, 67, 0.3), 0px 1px 3px 1px rgba(60, 64, 67, 0.15);\n",
              "        fill: #174EA6;\n",
              "      }\n",
              "\n",
              "      [theme=dark] .colab-df-generate {\n",
              "        background-color: #3B4455;\n",
              "        fill: #D2E3FC;\n",
              "      }\n",
              "\n",
              "      [theme=dark] .colab-df-generate:hover {\n",
              "        background-color: #434B5C;\n",
              "        box-shadow: 0px 1px 3px 1px rgba(0, 0, 0, 0.15);\n",
              "        filter: drop-shadow(0px 1px 2px rgba(0, 0, 0, 0.3));\n",
              "        fill: #FFFFFF;\n",
              "      }\n",
              "    </style>\n",
              "    <button class=\"colab-df-generate\" onclick=\"generateWithVariable('df_all')\"\n",
              "            title=\"Generate code using this dataframe.\"\n",
              "            style=\"display:none;\">\n",
              "\n",
              "  <svg xmlns=\"http://www.w3.org/2000/svg\" height=\"24px\"viewBox=\"0 0 24 24\"\n",
              "       width=\"24px\">\n",
              "    <path d=\"M7,19H8.4L18.45,9,17,7.55,7,17.6ZM5,21V16.75L18.45,3.32a2,2,0,0,1,2.83,0l1.4,1.43a1.91,1.91,0,0,1,.58,1.4,1.91,1.91,0,0,1-.58,1.4L9.25,21ZM18.45,9,17,7.55Zm-12,3A5.31,5.31,0,0,0,4.9,8.1,5.31,5.31,0,0,0,1,6.5,5.31,5.31,0,0,0,4.9,4.9,5.31,5.31,0,0,0,6.5,1,5.31,5.31,0,0,0,8.1,4.9,5.31,5.31,0,0,0,12,6.5,5.46,5.46,0,0,0,6.5,12Z\"/>\n",
              "  </svg>\n",
              "    </button>\n",
              "    <script>\n",
              "      (() => {\n",
              "      const buttonEl =\n",
              "        document.querySelector('#id_06e4ce02-d1b3-4ce0-9021-eadc5dc46360 button.colab-df-generate');\n",
              "      buttonEl.style.display =\n",
              "        google.colab.kernel.accessAllowed ? 'block' : 'none';\n",
              "\n",
              "      buttonEl.onclick = () => {\n",
              "        google.colab.notebook.generateWithVariable('df_all');\n",
              "      }\n",
              "      })();\n",
              "    </script>\n",
              "  </div>\n",
              "\n",
              "    </div>\n",
              "  </div>\n"
            ],
            "application/vnd.google.colaboratory.intrinsic+json": {
              "type": "dataframe",
              "variable_name": "df_all"
            }
          },
          "metadata": {},
          "execution_count": 5
        }
      ]
    },
    {
      "cell_type": "code",
      "source": [
        "# event_type이 'purchase'인 행만 필터링\n",
        "purchase_users = df_all[df_all['event_type'] == 'purchase']\n",
        "\n",
        "# user_id 컬럼에서 중복을 제거하고 개수 세기\n",
        "unique_purchase_users_count = purchase_users['user_id'].nunique()\n",
        "\n",
        "# 결과 출력\n",
        "print(f\"이벤트 타입이 'purchase'인 유저의 중복 제거한 개수: {unique_purchase_users_count}\")"
      ],
      "metadata": {
        "colab": {
          "base_uri": "https://localhost:8080/"
        },
        "id": "HPbCrlC3udBP",
        "outputId": "2c5cb97e-cfde-4d2e-f749-1eda3c07c7b2"
      },
      "execution_count": null,
      "outputs": [
        {
          "output_type": "stream",
          "name": "stdout",
          "text": [
            "이벤트 타입이 'purchase'인 유저의 중복 제거한 개수: 831172\n"
          ]
        }
      ]
    },
    {
      "cell_type": "code",
      "source": [
        "# event_type이 'purchase'인 행 필터링\n",
        "purchase_rows = df_all[df_all['event_type'] == 'purchase']\n",
        "\n",
        "# 필터링된 행의 개수 세기\n",
        "purchase_count = len(purchase_rows)\n",
        "\n",
        "# 결과 출력\n",
        "print(f\"이벤트 타입이 'purchase'인 행의 개수: {purchase_count}\")"
      ],
      "metadata": {
        "colab": {
          "base_uri": "https://localhost:8080/"
        },
        "id": "9FoXnkO1wAmG",
        "outputId": "6064c337-7539-4fae-d281-99873aa3348b"
      },
      "execution_count": null,
      "outputs": [
        {
          "output_type": "stream",
          "name": "stdout",
          "text": [
            "이벤트 타입이 'purchase'인 행의 개수: 831172\n"
          ]
        }
      ]
    },
    {
      "cell_type": "code",
      "source": [],
      "metadata": {
        "id": "M7x3vLA_zkNE"
      },
      "execution_count": null,
      "outputs": []
    },
    {
      "cell_type": "code",
      "source": [
        "# 6개월치 pur 데이터 비교\n",
        "df_pur = pd.read_parquet(f'{data_root}/purchase_6months.parquet')\n",
        "\n",
        "df_pur.info()"
      ],
      "metadata": {
        "colab": {
          "base_uri": "https://localhost:8080/"
        },
        "id": "z2AycBXQzkKb",
        "outputId": "b34d29c8-bcf8-47ed-bc68-f63d66cbcf17"
      },
      "execution_count": null,
      "outputs": [
        {
          "output_type": "stream",
          "name": "stdout",
          "text": [
            "<class 'pandas.core.frame.DataFrame'>\n",
            "RangeIndex: 5882065 entries, 0 to 5882064\n",
            "Data columns (total 15 columns):\n",
            " #   Column         Dtype              \n",
            "---  ------         -----              \n",
            " 0   event_time     datetime64[ns, UTC]\n",
            " 1   event_type     object             \n",
            " 2   product_id     int64              \n",
            " 3   category_id    int64              \n",
            " 4   category_code  object             \n",
            " 5   brand          object             \n",
            " 6   price          float64            \n",
            " 7   user_id        int64              \n",
            " 8   user_session   object             \n",
            " 9   event_date     datetime64[ns]     \n",
            " 10  event_hour     int32              \n",
            " 11  category_lvl1  object             \n",
            " 12  category_lvl2  object             \n",
            " 13  category_lvl3  object             \n",
            " 14  category_lvl4  object             \n",
            "dtypes: datetime64[ns, UTC](1), datetime64[ns](1), float64(1), int32(1), int64(3), object(8)\n",
            "memory usage: 650.7+ MB\n"
          ]
        }
      ]
    },
    {
      "cell_type": "code",
      "source": [
        "df_pur['event_type'].unique()"
      ],
      "metadata": {
        "colab": {
          "base_uri": "https://localhost:8080/"
        },
        "id": "yDdk4fV50iVs",
        "outputId": "78bf3b66-3bfe-47f5-a096-a0439dcf5553"
      },
      "execution_count": null,
      "outputs": [
        {
          "output_type": "execute_result",
          "data": {
            "text/plain": [
              "array(['purchase'], dtype=object)"
            ]
          },
          "metadata": {},
          "execution_count": 9
        }
      ]
    },
    {
      "cell_type": "code",
      "source": [
        "# user_id 컬럼에서 중복을 제거하고 개수 세기\n",
        "unique_purchase_users_count = df_pur['user_id'].nunique()\n",
        "\n",
        "# 결과 출력\n",
        "print(f\"이벤트 타입이 'purchase'인 유저의 중복 제거한 개수: {unique_purchase_users_count}\")"
      ],
      "metadata": {
        "colab": {
          "base_uri": "https://localhost:8080/"
        },
        "id": "fImHrIYe0dFM",
        "outputId": "db823a75-2f3a-4cae-d947-593f40a13040"
      },
      "execution_count": null,
      "outputs": [
        {
          "output_type": "stream",
          "name": "stdout",
          "text": [
            "이벤트 타입이 'purchase'인 유저의 중복 제거한 개수: 1744364\n"
          ]
        }
      ]
    },
    {
      "cell_type": "code",
      "source": [],
      "metadata": {
        "id": "fp7gTkn60dCf"
      },
      "execution_count": null,
      "outputs": []
    },
    {
      "cell_type": "code",
      "source": [
        "# # 구매 한 번만 한 고객 구하기(6개월치 데이터로 구매 주기 추적 위해)\n",
        "# purchase_df_all = df_all[df_all['event_type'] == 'purchase']\n",
        "\n",
        "# # 고객별 구매 횟수 집계\n",
        "# user_purchase_count = purchase_df_all.groupby('user_id').size().reset_index(name='purchase_count')\n",
        "\n",
        "# # 정확히 1회만 구매한 유저 필터링\n",
        "# one_time_buyers = user_purchase_count[user_purchase_count['purchase_count'] == 1]\n",
        "\n",
        "# # 결과 출력\n",
        "# print(f'정확히 1회만 구매한 유저 수: {len(one_time_buyers)}명')"
      ],
      "metadata": {
        "colab": {
          "base_uri": "https://localhost:8080/"
        },
        "id": "jeNPlTrTzILL",
        "outputId": "d4f8ad77-5b06-4156-ae81-ea3640ab4879"
      },
      "execution_count": null,
      "outputs": [
        {
          "output_type": "stream",
          "name": "stdout",
          "text": [
            "정확히 1회만 구매한 유저 수: 1018740명\n"
          ]
        }
      ]
    },
    {
      "cell_type": "code",
      "source": [],
      "metadata": {
        "id": "bKq5B2Kfu3v7"
      },
      "execution_count": null,
      "outputs": []
    },
    {
      "cell_type": "code",
      "source": [],
      "metadata": {
        "id": "ZblSFPPwkebf"
      },
      "execution_count": null,
      "outputs": []
    },
    {
      "cell_type": "code",
      "source": [
        "# datetime 형식으로 되어 있어야 함\n",
        "df['event_time'] = pd.to_datetime(df['event_time'])"
      ],
      "metadata": {
        "id": "ryu4zz29rHOE"
      },
      "execution_count": null,
      "outputs": []
    },
    {
      "cell_type": "code",
      "source": [
        "# 날짜, 시간 파생 -> 일자별 트렌드, 리텐션, 시계열 그래프 or 시간대별 유입/이탈 분석, 마케팅 시간 설정 가능\n",
        "# event_date를 datetime으로 변환 (안정성 확보)\n",
        "df['event_date'] = pd.to_datetime(df['event_time'].dt.date)\n",
        "\n",
        "# 시간 컬럼 생성 (00시 단위까지만)\n",
        "df['event_hour'] = df['event_time'].dt.hour"
      ],
      "metadata": {
        "id": "VksdeIqzrCqv"
      },
      "execution_count": null,
      "outputs": []
    },
    {
      "cell_type": "code",
      "source": [
        "# # 정렬\n",
        "# df = df.sort_values(by=['user_id', 'event_time'])"
      ],
      "metadata": {
        "id": "qlKh5a-4nCcI"
      },
      "execution_count": null,
      "outputs": []
    },
    {
      "cell_type": "code",
      "source": [
        "# event_type 컬럼의 고유값 확인\n",
        "\n",
        "df['event_type'].unique()"
      ],
      "metadata": {
        "colab": {
          "base_uri": "https://localhost:8080/"
        },
        "id": "jI9owzr3q8es",
        "outputId": "1a5dc1ee-f4b8-456c-8581-275ed91e9813"
      },
      "execution_count": null,
      "outputs": [
        {
          "output_type": "execute_result",
          "data": {
            "text/plain": [
              "array(['view', 'cart', 'purchase'], dtype=object)"
            ]
          },
          "metadata": {},
          "execution_count": 11
        }
      ]
    },
    {
      "cell_type": "code",
      "source": [
        "# # 전체 결측치 수 및 비율 확인\n",
        "# missing = df.isnull().sum().sort_values(ascending=False)\n",
        "# missing_percent = (df.isnull().sum() / len(df)) * 100\n",
        "# missing_summary = pd.DataFrame({'Missing Count': missing, 'Missing %': missing_percent})\n",
        "# missing_summary"
      ],
      "metadata": {
        "id": "Tf6SIHDMZXpV"
      },
      "execution_count": null,
      "outputs": []
    },
    {
      "cell_type": "code",
      "source": [
        "# # user_session이 결측치인 행만 필터링\n",
        "# missing_session = df[df['user_session'].isnull()]\n",
        "\n",
        "# # 해당 행들의 event_type 분포 확인 -> cart 라서 빼도 될 듯\n",
        "# missing_session['event_type'].value_counts()"
      ],
      "metadata": {
        "id": "manfUeZhfhrA"
      },
      "execution_count": null,
      "outputs": []
    }
  ]
}
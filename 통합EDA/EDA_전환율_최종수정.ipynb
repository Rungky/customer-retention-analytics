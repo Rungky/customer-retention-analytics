{
  "nbformat": 4,
  "nbformat_minor": 0,
  "metadata": {
    "colab": {
      "provenance": [],
      "machine_shape": "hm",
      "collapsed_sections": [
        "aZvzfxA6hLow",
        "OQaPyXyLzLVt"
      ]
    },
    "kernelspec": {
      "name": "python3",
      "display_name": "Python 3"
    },
    "language_info": {
      "name": "python"
    }
  },
  "cells": [
    {
      "cell_type": "code",
      "source": [
        "from google.colab import drive\n",
        "drive.mount('/content/drive')"
      ],
      "metadata": {
        "colab": {
          "base_uri": "https://localhost:8080/"
        },
        "id": "v6uPqxOH4_oX",
        "outputId": "d0dbda0b-f8f8-4929-d7b8-272f8d170d3a"
      },
      "execution_count": null,
      "outputs": [
        {
          "output_type": "stream",
          "name": "stdout",
          "text": [
            "Mounted at /content/drive\n"
          ]
        }
      ]
    },
    {
      "cell_type": "code",
      "execution_count": null,
      "metadata": {
        "id": "arMYNOLidgQW"
      },
      "outputs": [],
      "source": [
        "# 기본 라이브러리\n",
        "import numpy as np\n",
        "import pandas as pd\n",
        "import matplotlib.pyplot as plt\n",
        "import seaborn as sns\n",
        "from collections import Counter\n",
        "\n",
        "sns.set()\n",
        "\n",
        "# 그래프 기본 설정\n",
        "plt.rcParams['figure.figsize'] = 12, 6\n",
        "plt.rcParams['font.size'] = 14\n",
        "plt.rcParams['axes.unicode_minus'] = False\n",
        "import matplotlib as mpl\n",
        "import matplotlib.font_manager as fm\n",
        "\n",
        "# 폰트 파일 경로 지정\n",
        "# font_path = '/content/drive/MyDrive/NanumFontSetup_TTF_ALL/NanumGothic.ttf'\n",
        "font_path = '/content/drive/MyDrive/font/NanumGothic.ttf'\n",
        "\n",
        "# 폰트 등록 및 matplotlib 설정\n",
        "font_name = fm.FontProperties(fname=font_path).get_name()\n",
        "fm.fontManager.addfont(font_path)\n",
        "mpl.rc('font', family=font_name)\n",
        "# 경고 뜨지 않게\n",
        "import warnings\n",
        "warnings.filterwarnings('ignore')\n",
        "\n",
        "import os"
      ]
    },
    {
      "cell_type": "markdown",
      "source": [
        "#✅ 데이터셋 불러오기"
      ],
      "metadata": {
        "id": "JQ33BWOidz0v"
      }
    },
    {
      "cell_type": "code",
      "source": [
        "notop_multi_df = pd.read_parquet('/content/drive/MyDrive/Colab Notebooks/datathon/주력_비주력상품 데이터/비주력상품/noTop3_multi_buyers_all_events.parquet') # 비주력상품 2회 이상 구매고객 데이터"
      ],
      "metadata": {
        "id": "Ys_4MYfTPnE-"
      },
      "execution_count": null,
      "outputs": []
    },
    {
      "cell_type": "code",
      "source": [
        "df_sampled = pd.read_csv('/content/drive/MyDrive/Colab Notebooks/datathon/주력_비주력상품 데이터/층화샘플링/non_categories_750.csv')"
      ],
      "metadata": {
        "id": "J4_kYNKMcIFa"
      },
      "execution_count": null,
      "outputs": []
    },
    {
      "cell_type": "markdown",
      "source": [
        "# ✅데이터셋 전처리"
      ],
      "metadata": {
        "id": "GddfsqKM4-vK"
      }
    },
    {
      "cell_type": "markdown",
      "source": [
        "# 📦 EDA 통합"
      ],
      "metadata": {
        "id": "vcO775ibgPAj"
      }
    },
    {
      "cell_type": "markdown",
      "source": [
        "## 📈 주력상품 EDA"
      ],
      "metadata": {
        "id": "aZvzfxA6hLow"
      }
    },
    {
      "cell_type": "markdown",
      "source": [
        "### 💵 1번만 구매"
      ],
      "metadata": {
        "id": "jUN-wlhbiAri"
      }
    },
    {
      "cell_type": "code",
      "source": [
        "# 1회 구매자용 event_datetime 생성\n",
        "top_one_df['event_datetime'] = top_one_df['event_date'] + pd.to_timedelta(top_one_df['event_hour'], unit='h')"
      ],
      "metadata": {
        "id": "6SRmGeIAJf9Q",
        "colab": {
          "base_uri": "https://localhost:8080/"
        },
        "outputId": "ffc46b6a-f7b2-4625-a2f5-beb15e706e5e"
      },
      "execution_count": null,
      "outputs": [
        {
          "output_type": "stream",
          "name": "stderr",
          "text": [
            "/tmp/ipython-input-3197304135.py:2: PerformanceWarning: Adding/subtracting object-dtype array to TimedeltaArray not vectorized.\n",
            "  top_one_df['event_datetime'] = top_one_df['event_date'] + pd.to_timedelta(top_one_df['event_hour'], unit='h')\n"
          ]
        }
      ]
    },
    {
      "cell_type": "code",
      "source": [
        "# 순서 기반, 유저 기준 전환율 계산 코드\n",
        "# 순서 기반 전환율 함수 정의\n",
        "def calculate_ordered_conversion_rate(df):\n",
        "    # 1. 시간 기준 정렬\n",
        "    df = df.sort_values(by='event_datetime')\n",
        "\n",
        "    # 2. 유저별 이벤트 리스트 추출 (시간 순 정렬된 상태)\n",
        "    user_events = df.groupby('user_id')['event_type'].apply(list)\n",
        "\n",
        "    # 3. 순차 전환 체크\n",
        "    view_to_cart = 0\n",
        "    cart_to_purchase = 0\n",
        "    view_to_purchase = 0\n",
        "    total_users = len(user_events)\n",
        "\n",
        "    for events in user_events:\n",
        "        if 'view' in events and 'cart' in events:\n",
        "            if events.index('view') < events.index('cart'):\n",
        "                view_to_cart += 1\n",
        "        if 'cart' in events and 'purchase' in events:\n",
        "            if events.index('cart') < events.index('purchase'):\n",
        "                cart_to_purchase += 1\n",
        "        if 'view' in events and 'purchase' in events:\n",
        "            if events.index('view') < events.index('purchase'):\n",
        "                view_to_purchase += 1\n",
        "\n",
        "    # 4. 전환율 계산 (유저 기준)\n",
        "    view_to_cart_rate = view_to_cart / total_users if total_users else 0\n",
        "    cart_to_purchase_rate = cart_to_purchase / total_users if total_users else 0\n",
        "    view_to_purchase_rate = view_to_purchase / total_users if total_users else 0\n",
        "\n",
        "    return {\n",
        "        'view_to_cart': view_to_cart_rate,\n",
        "        'cart_to_purchase': cart_to_purchase_rate,\n",
        "        'view_to_purchase': view_to_purchase_rate\n",
        "    }"
      ],
      "metadata": {
        "id": "aLlP5phtJf6j"
      },
      "execution_count": null,
      "outputs": []
    },
    {
      "cell_type": "code",
      "source": [
        "# 1회 구매자 전환율 계산\n",
        "ordered_conv_one = calculate_ordered_conversion_rate(top_one_df)\n",
        "\n",
        "print(\"[1회 구매자] 순서 기반 전환율:\")\n",
        "for step, rate in ordered_conv_one.items():\n",
        "    print(f\"{step}: {rate:.2%}\")"
      ],
      "metadata": {
        "colab": {
          "base_uri": "https://localhost:8080/"
        },
        "id": "YXE4Lq4xJmTe",
        "outputId": "bc9dd6ea-e8bd-477f-f7eb-21c8fdf858db"
      },
      "execution_count": null,
      "outputs": [
        {
          "output_type": "stream",
          "name": "stdout",
          "text": [
            "[1회 구매자] 순서 기반 전환율:\n",
            "view_to_cart: 80.58%\n",
            "cart_to_purchase: 60.98%\n",
            "view_to_purchase: 88.52%\n"
          ]
        }
      ]
    },
    {
      "cell_type": "markdown",
      "source": [
        "## 💸 2번이상 구매"
      ],
      "metadata": {
        "id": "OQaPyXyLzLVt"
      }
    },
    {
      "cell_type": "code",
      "source": [
        "# 다회 구매자용 event_datetime 생성\n",
        "top_multi_df['event_datetime'] = top_multi_df['event_date'] + pd.to_timedelta(top_multi_df['event_hour'], unit='h')"
      ],
      "metadata": {
        "id": "b8xHcgpnKDwM"
      },
      "execution_count": null,
      "outputs": []
    },
    {
      "cell_type": "code",
      "source": [
        "# 다회 구매자 전환율 계산\n",
        "ordered_conv_multi = calculate_ordered_conversion_rate(top_multi_df)\n",
        "\n",
        "print(\"\\n[다회 구매자] 순서 기반 전환율:\")\n",
        "for step, rate in ordered_conv_multi.items():\n",
        "    print(f\"{step}: {rate:.2%}\")"
      ],
      "metadata": {
        "colab": {
          "base_uri": "https://localhost:8080/"
        },
        "id": "k9k7KelPKDsU",
        "outputId": "d85b0c9e-513e-490a-8c06-63b901995282"
      },
      "execution_count": null,
      "outputs": [
        {
          "output_type": "stream",
          "name": "stdout",
          "text": [
            "\n",
            "[다회 구매자] 순서 기반 전환율:\n",
            "view_to_cart: 86.73%\n",
            "cart_to_purchase: 59.50%\n",
            "view_to_purchase: 88.77%\n"
          ]
        }
      ]
    },
    {
      "cell_type": "markdown",
      "source": [
        "## 📈 비주력상품 EDA"
      ],
      "metadata": {
        "id": "mKVhsRmFh3wF"
      }
    },
    {
      "cell_type": "markdown",
      "source": [
        "### 💵 1번만 구매"
      ],
      "metadata": {
        "id": "ZuMNbi7OzV9p"
      }
    },
    {
      "cell_type": "markdown",
      "source": [
        "## 💸 2번이상 구매"
      ],
      "metadata": {
        "id": "Mj-WcMR5zYlQ"
      }
    },
    {
      "cell_type": "markdown",
      "source": [
        "### 🔎 유저 수 기반 전환율 <비주력 상품의 다회 구매자 데이터셋 전체> - 기존 방식"
      ],
      "metadata": {
        "id": "HKUjDT28PGxg"
      }
    },
    {
      "cell_type": "code",
      "source": [
        "# 다회 구매자용 event_datetime 생성\n",
        "notop_multi_df['event_datetime'] = notop_multi_df['event_date'] + pd.to_timedelta(notop_multi_df['event_hour'], unit='h')"
      ],
      "metadata": {
        "id": "CK5hOVC4PEYH"
      },
      "execution_count": null,
      "outputs": []
    },
    {
      "cell_type": "code",
      "source": [
        "# 순서 기반, 유저 기준 전환율 계산 코드\n",
        "# 순서 기반 전환율 함수 정의\n",
        "def calculate_ordered_conversion_rate(df):\n",
        "    # 1. 시간 기준 정렬\n",
        "    df = df.sort_values(by='event_datetime')\n",
        "\n",
        "    # 2. 유저별 이벤트 리스트 추출 (시간 순 정렬된 상태)\n",
        "    user_events = df.groupby('user_id')['event_type'].apply(list)\n",
        "\n",
        "    # 3. 순차 전환 체크\n",
        "    view_to_cart = 0\n",
        "    cart_to_purchase = 0\n",
        "    view_to_purchase = 0\n",
        "    total_users = len(user_events)\n",
        "\n",
        "    for events in user_events:\n",
        "        if 'view' in events and 'cart' in events:\n",
        "            if events.index('view') < events.index('cart'):\n",
        "                view_to_cart += 1\n",
        "        if 'cart' in events and 'purchase' in events:\n",
        "            if events.index('cart') < events.index('purchase'):\n",
        "                cart_to_purchase += 1\n",
        "        if 'view' in events and 'purchase' in events:\n",
        "            if events.index('view') < events.index('purchase'):\n",
        "                view_to_purchase += 1\n",
        "\n",
        "    # 4. 전환율 계산 (유저 기준)\n",
        "    view_to_cart_rate = view_to_cart / total_users if total_users else 0\n",
        "    cart_to_purchase_rate = cart_to_purchase / total_users if total_users else 0\n",
        "    view_to_purchase_rate = view_to_purchase / total_users if total_users else 0\n",
        "\n",
        "    return {\n",
        "        'view_to_cart': view_to_cart_rate,\n",
        "        'cart_to_purchase': cart_to_purchase_rate,\n",
        "        'view_to_purchase': view_to_purchase_rate\n",
        "    }\n"
      ],
      "metadata": {
        "id": "zsfaXnhTPjRk"
      },
      "execution_count": null,
      "outputs": []
    },
    {
      "cell_type": "code",
      "source": [
        "# 다회 구매자 전환율 계산\n",
        "ordered_conv_multi = calculate_ordered_conversion_rate(notop_multi_df)\n",
        "\n",
        "print(\"\\n[다회 구매자] 순서 기반 전환율:\")\n",
        "for step, rate in ordered_conv_multi.items():\n",
        "    print(f\"{step}: {rate:.2%}\")"
      ],
      "metadata": {
        "colab": {
          "base_uri": "https://localhost:8080/"
        },
        "id": "9ycRZXoOPngJ",
        "outputId": "4727eaf3-0934-47b8-a4a1-47028ac24c04"
      },
      "execution_count": null,
      "outputs": [
        {
          "output_type": "stream",
          "name": "stdout",
          "text": [
            "\n",
            "[다회 구매자] 순서 기반 전환율:\n",
            "view_to_cart: 89.54%\n",
            "cart_to_purchase: 62.45%\n",
            "view_to_purchase: 92.26%\n"
          ]
        }
      ]
    },
    {
      "cell_type": "markdown",
      "source": [
        "### 🔎 유저 수 기반 전환율<태블로 데이터셋과 동일> => 제갈서현이 디스코드에 보냈던 결과 데이터셋입니다!!!!!!!!!"
      ],
      "metadata": {
        "id": "07bsZCsn1RmO"
      }
    },
    {
      "cell_type": "code",
      "source": [
        "# 태블로 대시보드용 샘플링 데이터 df_sampled\n",
        "# 1) event_date를 datetime으로 변환\n",
        "df_sampled['event_date'] = pd.to_datetime(df_sampled['event_date'], errors='coerce')\n",
        "\n",
        "# 2) hour를 Timedelta로 바꿔 더하기\n",
        "df_sampled['event_datetime'] = df_sampled['event_date'] + pd.to_timedelta(df_sampled['event_hour'], unit='h')\n"
      ],
      "metadata": {
        "id": "n_pHU4J7darh"
      },
      "execution_count": null,
      "outputs": []
    },
    {
      "cell_type": "code",
      "source": [
        "# 2회 이상 구매자만 필터링\n",
        "purchase_counts = (\n",
        "    df_sampled[df_sampled['event_type'] == 'purchase']\n",
        "    .groupby('user_id')\n",
        "    .size()\n",
        ")\n",
        "multi_buy_users = purchase_counts[purchase_counts >= 2].index\n",
        "\n",
        "df_multi_buyers = df_sampled[df_sampled['user_id'].isin(multi_buy_users)].copy()\n"
      ],
      "metadata": {
        "id": "mLEVZvr6h6ar"
      },
      "execution_count": null,
      "outputs": []
    },
    {
      "cell_type": "code",
      "source": [
        "# 순서 기반, 유저 기준 전환율 계산 코드\n",
        "# 순서 기반 전환율 함수 정의\n",
        "def calculate_ordered_conversion_rate(df):\n",
        "    # 1. 시간 기준 정렬\n",
        "    df = df.sort_values(by='event_datetime')\n",
        "\n",
        "    # 2. 유저별 이벤트 리스트 추출 (시간 순 정렬된 상태)\n",
        "    user_events = df.groupby('user_id')['event_type'].apply(list)\n",
        "\n",
        "    # 3. 순차 전환 체크\n",
        "    view_to_cart = 0\n",
        "    cart_to_purchase = 0\n",
        "    view_to_purchase = 0\n",
        "    total_users = len(user_events)\n",
        "\n",
        "    for events in user_events:\n",
        "        if 'view' in events and 'cart' in events:\n",
        "            if events.index('view') < events.index('cart'):\n",
        "                view_to_cart += 1\n",
        "        if 'cart' in events and 'purchase' in events:\n",
        "            if events.index('cart') < events.index('purchase'):\n",
        "                cart_to_purchase += 1\n",
        "        if 'view' in events and 'purchase' in events:\n",
        "            if events.index('view') < events.index('purchase'):\n",
        "                view_to_purchase += 1\n",
        "\n",
        "    # 4. 전환율 계산 (유저 기준)\n",
        "    view_to_cart_rate = view_to_cart / total_users if total_users else 0\n",
        "    cart_to_purchase_rate = cart_to_purchase / total_users if total_users else 0\n",
        "    view_to_purchase_rate = view_to_purchase / total_users if total_users else 0\n",
        "\n",
        "    return {\n",
        "        'view_to_cart': view_to_cart_rate,\n",
        "        'cart_to_purchase': cart_to_purchase_rate,\n",
        "        'view_to_purchase': view_to_purchase_rate\n",
        "    }"
      ],
      "metadata": {
        "id": "VK4lMg5mcthv"
      },
      "execution_count": null,
      "outputs": []
    },
    {
      "cell_type": "code",
      "source": [
        "# 다회 구매자 전환율 계산\n",
        "ordered_conv_multi = calculate_ordered_conversion_rate(df_multi_buyers)\n",
        "\n",
        "print(\"\\n[비주력샘플_다회 구매자] 순서 기반 전환율:\")\n",
        "for step, rate in ordered_conv_multi.items():\n",
        "    print(f\"{step}: {rate:.2%}\")"
      ],
      "metadata": {
        "colab": {
          "base_uri": "https://localhost:8080/"
        },
        "id": "0dyAVb65c4Rb",
        "outputId": "91e2d28d-ba73-4a3a-8c21-006aa4451584"
      },
      "execution_count": null,
      "outputs": [
        {
          "output_type": "stream",
          "name": "stdout",
          "text": [
            "\n",
            "[비주력샘플_다회 구매자] 순서 기반 전환율:\n",
            "view_to_cart: 53.63%\n",
            "cart_to_purchase: 31.21%\n",
            "view_to_purchase: 73.46%\n"
          ]
        }
      ]
    },
    {
      "cell_type": "code",
      "source": [],
      "metadata": {
        "id": "S25LeaER6rhG"
      },
      "execution_count": null,
      "outputs": []
    },
    {
      "cell_type": "markdown",
      "source": [
        "원래 전환율에 분모, 분자 집계수 확인 코드 추가"
      ],
      "metadata": {
        "id": "2_j-SwvkOt8o"
      }
    },
    {
      "cell_type": "code",
      "source": [
        "def calculate_ordered_conversion_rate_verbose_same(df):\n",
        "    # 원래 코드와 동일: event_datetime만으로 정렬 (추가 키 없음)\n",
        "    df_sorted = df.sort_values(by='event_datetime')\n",
        "\n",
        "    # 유저별 이벤트 리스트 (원래와 동일)\n",
        "    user_events = df_sorted.groupby('user_id')['event_type'].apply(list)\n",
        "\n",
        "    total_users = len(user_events)  # 분모(세 단계 공통)\n",
        "\n",
        "    # 원래 방식 그대로: 각 유저당 최대 1회 카운트\n",
        "    v2c_num = 0\n",
        "    c2p_num = 0\n",
        "    v2p_num = 0\n",
        "\n",
        "    # (원하면 어떤 유저가 분자에 들어갔는지 확인할 수 있도록 집합도 유지)\n",
        "    v2c_users, c2p_users, v2p_users = set(), set(), set()\n",
        "\n",
        "    for uid, events in user_events.items():\n",
        "        # view -> cart\n",
        "        if 'view' in events and 'cart' in events:\n",
        "            if events.index('view') < events.index('cart'):\n",
        "                v2c_num += 1\n",
        "                v2c_users.add(uid)\n",
        "\n",
        "        # cart -> purchase\n",
        "        if 'cart' in events and 'purchase' in events:\n",
        "            if events.index('cart') < events.index('purchase'):\n",
        "                c2p_num += 1\n",
        "                c2p_users.add(uid)\n",
        "\n",
        "        # view -> purchase\n",
        "        if 'view' in events and 'purchase' in events:\n",
        "            if events.index('view') < events.index('purchase'):\n",
        "                v2p_num += 1\n",
        "                v2p_users.add(uid)\n",
        "\n",
        "    # 분모(세 단계 동일)\n",
        "    den = total_users\n",
        "\n",
        "    return {\n",
        "        'view_to_cart': {\n",
        "            'numerator': v2c_num,\n",
        "            'denominator': den,\n",
        "            'not_converted': den - v2c_num,\n",
        "            'rate': (v2c_num / den) if den else 0.0,\n",
        "            'user_ids': v2c_users  # 필요 없으면 지워도 돼요\n",
        "        },\n",
        "        'cart_to_purchase': {\n",
        "            'numerator': c2p_num,\n",
        "            'denominator': den,\n",
        "            'not_converted': den - c2p_num,\n",
        "            'rate': (c2p_num / den) if den else 0.0,\n",
        "            'user_ids': c2p_users\n",
        "        },\n",
        "        'view_to_purchase': {\n",
        "            'numerator': v2p_num,\n",
        "            'denominator': den,\n",
        "            'not_converted': den - v2p_num,\n",
        "            'rate': (v2p_num / den) if den else 0.0,\n",
        "            'user_ids': v2p_users\n",
        "        },\n",
        "        'total_users': den\n",
        "    }\n",
        "\n",
        "# 사용 예시 (df_multi_buyers 네가 쓰던 동일 데이터프레임)\n",
        "res_same = calculate_ordered_conversion_rate_verbose_same(df_multi_buyers)\n",
        "for k, v in res_same.items():\n",
        "    if k == 'total_users':\n",
        "        continue\n",
        "    print(f\"{k}: 분자={v['numerator']:,} / 분모={v['denominator']:,} \"\n",
        "          f\"(미전환={v['not_converted']:,}) → 전환율={v['rate']:.2%}\")\n",
        "print(f\"총 유저 수(total_users): {res_same['total_users']:,}\")"
      ],
      "metadata": {
        "colab": {
          "base_uri": "https://localhost:8080/"
        },
        "id": "gvHkAkqX6cHk",
        "outputId": "a8ed28db-6751-4efa-ddba-d3231a37fc5d"
      },
      "execution_count": null,
      "outputs": [
        {
          "output_type": "stream",
          "name": "stdout",
          "text": [
            "view_to_cart: 분자=4,825 / 분모=8,997 (미전환=4,172) → 전환율=53.63%\n",
            "cart_to_purchase: 분자=2,808 / 분모=8,997 (미전환=6,189) → 전환율=31.21%\n",
            "view_to_purchase: 분자=6,609 / 분모=8,997 (미전환=2,388) → 전환율=73.46%\n",
            "총 유저 수(total_users): 8,997\n"
          ]
        }
      ]
    },
    {
      "cell_type": "code",
      "source": [],
      "metadata": {
        "id": "5Rt6y7My2Kg5"
      },
      "execution_count": null,
      "outputs": []
    },
    {
      "cell_type": "markdown",
      "source": [
        "### 🔎 유저 수 기반 전환율<태블로 데이터셋과 동일+태블로 산정 방식과 최대한 맞춰서 돌려본 코드> - 지연님 결과와 비교 위해"
      ],
      "metadata": {
        "id": "23kRaAudOKnm"
      }
    },
    {
      "cell_type": "code",
      "source": [
        "# 전처리: event_datetime 생성 (이미 있으면 생략)\n",
        "df = df_sampled.copy()\n",
        "df['event_date'] = pd.to_datetime(df['event_date'], errors='coerce')\n",
        "df['event_datetime'] = df['event_date'] + pd.to_timedelta(df['event_hour'], unit='h')\n",
        "df = df.dropna(subset=['event_datetime'])\n",
        "\n",
        "# 2회 이상 구매자만 (태블로와 동일한 '기간/필터'로 산출했는지 꼭 확인!)\n",
        "purchase_counts = (\n",
        "    df[df['event_type'] == 'purchase']\n",
        "    .groupby('user_id')\n",
        "    .size()\n",
        ")\n",
        "multi_users = purchase_counts[purchase_counts >= 2].index\n",
        "df = df[df['user_id'].isin(multi_users)].copy()\n",
        "\n",
        "# (권장) 같은 시각 타이에 대해 안정 정렬: view < cart < purchase 우선순위 부여\n",
        "# 1) 이벤트 우선순위 정의 (동시간대 타이 깨기)\n",
        "order = {'view': 0, 'cart': 1, 'purchase': 2}\n",
        "\n",
        "# 2) 우선순위를 숫자로 붙이기\n",
        "df['etype_order'] = df['event_type'].map(order)\n",
        "\n",
        "# 3) 정렬: 같은 유저·같은 시각이면 view → cart → purchase 순서로\n",
        "df = df.sort_values(['user_id', 'event_datetime', 'etype_order'])\n",
        "\n",
        "\n",
        "# 각 유저의 '첫 발생 시각' 피벗 (태블로에서 첫 이벤트 비교와 동일)\n",
        "first_ts = (\n",
        "    df.groupby(['user_id', 'event_type'])['event_datetime']\n",
        "      .min()\n",
        "      .unstack()  # columns: view, cart, purchase (있을 때만 생성)\n",
        ")\n",
        "\n",
        "has_view     = first_ts.get('view').notna()     if 'view' in first_ts else first_ts.index.to_series().eq(False)\n",
        "has_cart     = first_ts.get('cart').notna()     if 'cart' in first_ts else first_ts.index.to_series().eq(False)\n",
        "has_purchase = first_ts.get('purchase').notna() if 'purchase' in first_ts else first_ts.index.to_series().eq(False)\n",
        "\n",
        "# 전환 판정 (동시간은 미전환 처리하려면 '<' 사용, 동시간도 전환으로 치려면 '<=' 로 바꾸세요)\n",
        "v2c_conv = has_view & has_cart & (first_ts['view'] <= first_ts['cart'])\n",
        "c2p_conv = has_cart & has_purchase & (first_ts['cart'] <= first_ts['purchase'])\n",
        "v2p_conv = has_view & has_purchase & (first_ts['view'] <= first_ts['purchase'])\n",
        "\n",
        "# 태블로의 TOTAL(COUNTD([User Id]))에 해당하는 '단계별 분모'\n",
        "den_v2c = has_view.sum()     # View → Cart 단계의 전체 유저(=해당 도넛의 TOTAL)\n",
        "den_c2p = has_cart.sum()     # Cart → Purchase 단계의 전체 유저\n",
        "den_v2p = has_view.sum()     # View → Purchase 단계의 전체 유저\n",
        "\n",
        "# COUNTD([User Id])에 해당하는 '전환 유저 수(분자)'\n",
        "num_v2c = v2c_conv.sum()\n",
        "num_c2p = c2p_conv.sum()\n",
        "num_v2p = v2p_conv.sum()\n",
        "\n",
        "rate_v2c = num_v2c / den_v2c if den_v2c else 0.0\n",
        "rate_c2p = num_c2p / den_c2p if den_c2p else 0.0\n",
        "rate_v2p = num_v2p / den_v2p if den_v2p else 0.0\n",
        "\n",
        "print({\n",
        "    'view→cart': {'분자': int(num_v2c), '분모': int(den_v2c), '전환율': rate_v2c},\n",
        "    'cart→purchase': {'분자': int(num_c2p), '분모': int(den_c2p), '전환율': rate_c2p},\n",
        "    'view→purchase': {'분자': int(num_v2p), '분모': int(den_v2p), '전환율': rate_v2p},\n",
        "})\n",
        "\n",
        "# (도넛처럼 전환/미전환 분할이 필요하면:)\n",
        "v2c_not = den_v2c - num_v2c\n",
        "c2p_not = den_c2p - num_c2p\n",
        "v2p_not = den_v2p - num_v2p\n"
      ],
      "metadata": {
        "colab": {
          "base_uri": "https://localhost:8080/"
        },
        "id": "j24RYaUe1urW",
        "outputId": "2008c0e4-0aea-4490-db1d-19de434f7d22"
      },
      "execution_count": null,
      "outputs": [
        {
          "output_type": "stream",
          "name": "stdout",
          "text": [
            "{'view→cart': {'분자': 5087, '분모': 8484, '전환율': np.float64(0.5995992456388496)}, 'cart→purchase': {'분자': 3347, '분모': 6062, '전환율': np.float64(0.5521280105575718)}, 'view→purchase': {'분자': 7096, '분모': 8484, '전환율': np.float64(0.8363979255068364)}}\n"
          ]
        }
      ]
    },
    {
      "cell_type": "code",
      "source": [
        "print(v2c_not)\n",
        "print(c2p_not)\n",
        "print(v2p_not)"
      ],
      "metadata": {
        "colab": {
          "base_uri": "https://localhost:8080/"
        },
        "id": "G110y-me1ukf",
        "outputId": "5bffefca-f0e5-4ada-bcce-7bfd6f7bebf0"
      },
      "execution_count": null,
      "outputs": [
        {
          "output_type": "stream",
          "name": "stdout",
          "text": [
            "3397\n",
            "2715\n",
            "1388\n"
          ]
        }
      ]
    }
  ]
}
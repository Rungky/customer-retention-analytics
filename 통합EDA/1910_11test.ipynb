{
  "nbformat": 4,
  "nbformat_minor": 0,
  "metadata": {
    "colab": {
      "provenance": [],
      "machine_shape": "hm"
    },
    "kernelspec": {
      "name": "python3",
      "display_name": "Python 3"
    },
    "language_info": {
      "name": "python"
    }
  },
  "cells": [
    {
      "cell_type": "markdown",
      "source": [
        "📊 월별 데이터 행 개수\n",
        "\n",
        "| 월     | 행 개수        |\n",
        "|--------|----------------|\n",
        "| 10월   | 42,448,764     |\n",
        "| 11월   | 67,501,979     |\n",
        "| 12월   | 67,542,878     |\n",
        "| 1월    | 55,967,041     |\n",
        "| 2월    | 55,318,565     |\n",
        "| 3월    | 56,341,241     |\n",
        "| 4월    | 66,589,268     |"
      ],
      "metadata": {
        "id": "nPkLPV1oEoJY"
      }
    },
    {
      "cell_type": "code",
      "source": [
        "from google.colab import drive\n",
        "\n",
        "# 1. Google Drive 마운트\n",
        "drive.mount('/content/drive')"
      ],
      "metadata": {
        "colab": {
          "base_uri": "https://localhost:8080/"
        },
        "id": "a1-EHwoOgKBz",
        "outputId": "f5b1a0db-9e32-4109-9ba8-aeadcd4f1fcd"
      },
      "execution_count": null,
      "outputs": [
        {
          "output_type": "stream",
          "name": "stdout",
          "text": [
            "Mounted at /content/drive\n"
          ]
        }
      ]
    },
    {
      "cell_type": "code",
      "execution_count": null,
      "metadata": {
        "id": "eoNqWugudPt_"
      },
      "outputs": [],
      "source": [
        "# 2. 파일 경로 설정 (사용자 지정 경로)\n",
        "data_root = '/content/drive/MyDrive/Colab Notebooks/datathon'\n",
        "# file_path = f'{data_root}/2019-Nov.csv'"
      ]
    },
    {
      "cell_type": "markdown",
      "source": [
        "#데이터 불러오기 + 기본 전처리"
      ],
      "metadata": {
        "id": "HpcUyQF_xwes"
      }
    },
    {
      "cell_type": "code",
      "source": [
        "import pandas as pd\n",
        "import numpy as np\n",
        "import matplotlib.pyplot as plt\n",
        "import seaborn as sns\n",
        "from datetime import timedelta"
      ],
      "metadata": {
        "id": "tzpaRe5_qvf8"
      },
      "execution_count": null,
      "outputs": []
    },
    {
      "cell_type": "code",
      "source": [
        "sns.set()\n",
        "\n",
        "# 그래프 기본 설정\n",
        "plt.rcParams['figure.figsize'] = 12, 6\n",
        "plt.rcParams['font.size'] = 14\n",
        "plt.rcParams['axes.unicode_minus'] = False\n",
        "import matplotlib as mpl\n",
        "import matplotlib.font_manager as fm\n",
        "\n",
        "# 폰트 파일 경로 지정\n",
        "font_path = '/content/drive/MyDrive/font/NanumGothic.ttf'\n",
        "\n",
        "# 폰트 등록 및 matplotlib 설정\n",
        "font_name = fm.FontProperties(fname=font_path).get_name()\n",
        "fm.fontManager.addfont(font_path)\n",
        "mpl.rc('font', family=font_name)"
      ],
      "metadata": {
        "id": "2GBhzP35zFnu"
      },
      "execution_count": null,
      "outputs": []
    },
    {
      "cell_type": "code",
      "source": [
        "df1 = pd.read_csv(f'{data_root}/2019-Oct.csv')\n",
        "df2 = pd.read_csv(f'{data_root}/2019-Nov.csv')\n",
        "df = pd.concat([df1, df2], ignore_index=True)"
      ],
      "metadata": {
        "id": "ZOWZ6wzZf6sG"
      },
      "execution_count": null,
      "outputs": []
    },
    {
      "cell_type": "code",
      "source": [
        "df.info()"
      ],
      "metadata": {
        "colab": {
          "base_uri": "https://localhost:8080/"
        },
        "id": "ebVMqnaLhzTr",
        "outputId": "aaf6bf52-d04c-460a-dcc2-90dcd9f7ccf0"
      },
      "execution_count": null,
      "outputs": [
        {
          "output_type": "stream",
          "name": "stdout",
          "text": [
            "<class 'pandas.core.frame.DataFrame'>\n",
            "RangeIndex: 109950743 entries, 0 to 109950742\n",
            "Data columns (total 9 columns):\n",
            " #   Column         Dtype  \n",
            "---  ------         -----  \n",
            " 0   event_time     object \n",
            " 1   event_type     object \n",
            " 2   product_id     int64  \n",
            " 3   category_id    int64  \n",
            " 4   category_code  object \n",
            " 5   brand          object \n",
            " 6   price          float64\n",
            " 7   user_id        int64  \n",
            " 8   user_session   object \n",
            "dtypes: float64(1), int64(3), object(5)\n",
            "memory usage: 7.4+ GB\n"
          ]
        }
      ]
    },
    {
      "cell_type": "code",
      "source": [
        "# datetime 형식으로 되어 있어야 함\n",
        "df['event_time'] = pd.to_datetime(df['event_time'])"
      ],
      "metadata": {
        "id": "ryu4zz29rHOE"
      },
      "execution_count": null,
      "outputs": []
    },
    {
      "cell_type": "code",
      "source": [
        "# 날짜, 시간 파생 -> 일자별 트렌드, 리텐션, 시계열 그래프 or 시간대별 유입/이탈 분석, 마케팅 시간 설정 가능\n",
        "# event_date를 datetime으로 변환 (안정성 확보)\n",
        "df['event_date'] = pd.to_datetime(df['event_time'].dt.date)\n",
        "\n",
        "# 시간 컬럼 생성 (00시 단위까지만)\n",
        "df['event_hour'] = df['event_time'].dt.hour"
      ],
      "metadata": {
        "id": "VksdeIqzrCqv"
      },
      "execution_count": null,
      "outputs": []
    },
    {
      "cell_type": "code",
      "source": [
        "# 정렬\n",
        "df = df.sort_values(by=['user_id', 'event_time'])"
      ],
      "metadata": {
        "id": "qlKh5a-4nCcI"
      },
      "execution_count": null,
      "outputs": []
    },
    {
      "cell_type": "code",
      "source": [
        "df"
      ],
      "metadata": {
        "colab": {
          "base_uri": "https://localhost:8080/",
          "height": 964
        },
        "id": "TKbW--skq8mM",
        "outputId": "f3545593-8786-46dc-b671-ab6d0ad9b5da"
      },
      "execution_count": null,
      "outputs": [
        {
          "output_type": "execute_result",
          "data": {
            "text/plain": [
              "                         event_time event_type  product_id  \\\n",
              "50874013  2019-11-06 06:51:52+00:00       view    26300219   \n",
              "57827057  2019-11-10 02:08:39+00:00       view    13200917   \n",
              "57829999  2019-11-10 02:14:40+00:00       view    13201002   \n",
              "61867571  2019-11-12 03:42:01+00:00       view    13200917   \n",
              "61867701  2019-11-12 03:42:06+00:00       view    13200917   \n",
              "...                             ...        ...         ...   \n",
              "109950657 2019-11-30 23:59:27+00:00       view     2600400   \n",
              "109950672 2019-11-30 23:59:34+00:00       view     2600400   \n",
              "109950691 2019-11-30 23:59:40+00:00       view     2600400   \n",
              "109950693 2019-11-30 23:59:40+00:00       view     4804718   \n",
              "109950742 2019-11-30 23:59:59+00:00       view     1004233   \n",
              "\n",
              "                   category_id                category_code       brand  \\\n",
              "50874013   2053013563424899933                          NaN     sokolov   \n",
              "57827057   2053013557192163841        furniture.bedroom.bed         NaN   \n",
              "57829999   2053013557192163841        furniture.bedroom.bed  stendmebel   \n",
              "61867571   2053013557192163841        furniture.bedroom.bed         NaN   \n",
              "61867701   2053013557192163841        furniture.bedroom.bed         NaN   \n",
              "...                        ...                          ...         ...   \n",
              "109950657  2053013563970159485                          NaN         NaN   \n",
              "109950672  2053013563970159485                          NaN         NaN   \n",
              "109950691  2053013563970159485                          NaN         NaN   \n",
              "109950693  2053013554658804075  electronics.audio.headphone       apple   \n",
              "109950742  2053013555631882655       electronics.smartphone       apple   \n",
              "\n",
              "             price    user_id                          user_session  \\\n",
              "50874013     40.54   10300217  d1fdcbf1-bb1f-434b-8f1a-4b77f29a84a0   \n",
              "57827057    514.81   29515875  5dd49822-9349-42d6-a165-cd4642ee606b   \n",
              "57829999    176.04   29515875  eb6882fb-ead2-47a5-aa86-d171a2c3b6ff   \n",
              "61867571    514.81   29515875  1552ef43-4001-4ab7-a9c7-44e99f1730a9   \n",
              "61867701    514.81   29515875  1552ef43-4001-4ab7-a9c7-44e99f1730a9   \n",
              "...            ...        ...                                   ...   \n",
              "109950657   208.47  579969711  6f2aeb5c-6276-462b-b4cb-767131a7081b   \n",
              "109950672   208.47  579969711  6f2aeb5c-6276-462b-b4cb-767131a7081b   \n",
              "109950691   208.47  579969711  6f2aeb5c-6276-462b-b4cb-767131a7081b   \n",
              "109950693   329.14  579969767  e159d1a1-6668-4777-985d-26ac82afd9ba   \n",
              "109950742  1312.52  579969851  90aca71c-ed8a-4670-866a-761ebacb732d   \n",
              "\n",
              "          event_date  event_hour  \n",
              "50874013  2019-11-06           6  \n",
              "57827057  2019-11-10           2  \n",
              "57829999  2019-11-10           2  \n",
              "61867571  2019-11-12           3  \n",
              "61867701  2019-11-12           3  \n",
              "...              ...         ...  \n",
              "109950657 2019-11-30          23  \n",
              "109950672 2019-11-30          23  \n",
              "109950691 2019-11-30          23  \n",
              "109950693 2019-11-30          23  \n",
              "109950742 2019-11-30          23  \n",
              "\n",
              "[109950743 rows x 11 columns]"
            ],
            "text/html": [
              "\n",
              "  <div id=\"df-5c57c2b5-059c-4313-b2e1-e67795e2b894\" class=\"colab-df-container\">\n",
              "    <div>\n",
              "<style scoped>\n",
              "    .dataframe tbody tr th:only-of-type {\n",
              "        vertical-align: middle;\n",
              "    }\n",
              "\n",
              "    .dataframe tbody tr th {\n",
              "        vertical-align: top;\n",
              "    }\n",
              "\n",
              "    .dataframe thead th {\n",
              "        text-align: right;\n",
              "    }\n",
              "</style>\n",
              "<table border=\"1\" class=\"dataframe\">\n",
              "  <thead>\n",
              "    <tr style=\"text-align: right;\">\n",
              "      <th></th>\n",
              "      <th>event_time</th>\n",
              "      <th>event_type</th>\n",
              "      <th>product_id</th>\n",
              "      <th>category_id</th>\n",
              "      <th>category_code</th>\n",
              "      <th>brand</th>\n",
              "      <th>price</th>\n",
              "      <th>user_id</th>\n",
              "      <th>user_session</th>\n",
              "      <th>event_date</th>\n",
              "      <th>event_hour</th>\n",
              "    </tr>\n",
              "  </thead>\n",
              "  <tbody>\n",
              "    <tr>\n",
              "      <th>50874013</th>\n",
              "      <td>2019-11-06 06:51:52+00:00</td>\n",
              "      <td>view</td>\n",
              "      <td>26300219</td>\n",
              "      <td>2053013563424899933</td>\n",
              "      <td>NaN</td>\n",
              "      <td>sokolov</td>\n",
              "      <td>40.54</td>\n",
              "      <td>10300217</td>\n",
              "      <td>d1fdcbf1-bb1f-434b-8f1a-4b77f29a84a0</td>\n",
              "      <td>2019-11-06</td>\n",
              "      <td>6</td>\n",
              "    </tr>\n",
              "    <tr>\n",
              "      <th>57827057</th>\n",
              "      <td>2019-11-10 02:08:39+00:00</td>\n",
              "      <td>view</td>\n",
              "      <td>13200917</td>\n",
              "      <td>2053013557192163841</td>\n",
              "      <td>furniture.bedroom.bed</td>\n",
              "      <td>NaN</td>\n",
              "      <td>514.81</td>\n",
              "      <td>29515875</td>\n",
              "      <td>5dd49822-9349-42d6-a165-cd4642ee606b</td>\n",
              "      <td>2019-11-10</td>\n",
              "      <td>2</td>\n",
              "    </tr>\n",
              "    <tr>\n",
              "      <th>57829999</th>\n",
              "      <td>2019-11-10 02:14:40+00:00</td>\n",
              "      <td>view</td>\n",
              "      <td>13201002</td>\n",
              "      <td>2053013557192163841</td>\n",
              "      <td>furniture.bedroom.bed</td>\n",
              "      <td>stendmebel</td>\n",
              "      <td>176.04</td>\n",
              "      <td>29515875</td>\n",
              "      <td>eb6882fb-ead2-47a5-aa86-d171a2c3b6ff</td>\n",
              "      <td>2019-11-10</td>\n",
              "      <td>2</td>\n",
              "    </tr>\n",
              "    <tr>\n",
              "      <th>61867571</th>\n",
              "      <td>2019-11-12 03:42:01+00:00</td>\n",
              "      <td>view</td>\n",
              "      <td>13200917</td>\n",
              "      <td>2053013557192163841</td>\n",
              "      <td>furniture.bedroom.bed</td>\n",
              "      <td>NaN</td>\n",
              "      <td>514.81</td>\n",
              "      <td>29515875</td>\n",
              "      <td>1552ef43-4001-4ab7-a9c7-44e99f1730a9</td>\n",
              "      <td>2019-11-12</td>\n",
              "      <td>3</td>\n",
              "    </tr>\n",
              "    <tr>\n",
              "      <th>61867701</th>\n",
              "      <td>2019-11-12 03:42:06+00:00</td>\n",
              "      <td>view</td>\n",
              "      <td>13200917</td>\n",
              "      <td>2053013557192163841</td>\n",
              "      <td>furniture.bedroom.bed</td>\n",
              "      <td>NaN</td>\n",
              "      <td>514.81</td>\n",
              "      <td>29515875</td>\n",
              "      <td>1552ef43-4001-4ab7-a9c7-44e99f1730a9</td>\n",
              "      <td>2019-11-12</td>\n",
              "      <td>3</td>\n",
              "    </tr>\n",
              "    <tr>\n",
              "      <th>...</th>\n",
              "      <td>...</td>\n",
              "      <td>...</td>\n",
              "      <td>...</td>\n",
              "      <td>...</td>\n",
              "      <td>...</td>\n",
              "      <td>...</td>\n",
              "      <td>...</td>\n",
              "      <td>...</td>\n",
              "      <td>...</td>\n",
              "      <td>...</td>\n",
              "      <td>...</td>\n",
              "    </tr>\n",
              "    <tr>\n",
              "      <th>109950657</th>\n",
              "      <td>2019-11-30 23:59:27+00:00</td>\n",
              "      <td>view</td>\n",
              "      <td>2600400</td>\n",
              "      <td>2053013563970159485</td>\n",
              "      <td>NaN</td>\n",
              "      <td>NaN</td>\n",
              "      <td>208.47</td>\n",
              "      <td>579969711</td>\n",
              "      <td>6f2aeb5c-6276-462b-b4cb-767131a7081b</td>\n",
              "      <td>2019-11-30</td>\n",
              "      <td>23</td>\n",
              "    </tr>\n",
              "    <tr>\n",
              "      <th>109950672</th>\n",
              "      <td>2019-11-30 23:59:34+00:00</td>\n",
              "      <td>view</td>\n",
              "      <td>2600400</td>\n",
              "      <td>2053013563970159485</td>\n",
              "      <td>NaN</td>\n",
              "      <td>NaN</td>\n",
              "      <td>208.47</td>\n",
              "      <td>579969711</td>\n",
              "      <td>6f2aeb5c-6276-462b-b4cb-767131a7081b</td>\n",
              "      <td>2019-11-30</td>\n",
              "      <td>23</td>\n",
              "    </tr>\n",
              "    <tr>\n",
              "      <th>109950691</th>\n",
              "      <td>2019-11-30 23:59:40+00:00</td>\n",
              "      <td>view</td>\n",
              "      <td>2600400</td>\n",
              "      <td>2053013563970159485</td>\n",
              "      <td>NaN</td>\n",
              "      <td>NaN</td>\n",
              "      <td>208.47</td>\n",
              "      <td>579969711</td>\n",
              "      <td>6f2aeb5c-6276-462b-b4cb-767131a7081b</td>\n",
              "      <td>2019-11-30</td>\n",
              "      <td>23</td>\n",
              "    </tr>\n",
              "    <tr>\n",
              "      <th>109950693</th>\n",
              "      <td>2019-11-30 23:59:40+00:00</td>\n",
              "      <td>view</td>\n",
              "      <td>4804718</td>\n",
              "      <td>2053013554658804075</td>\n",
              "      <td>electronics.audio.headphone</td>\n",
              "      <td>apple</td>\n",
              "      <td>329.14</td>\n",
              "      <td>579969767</td>\n",
              "      <td>e159d1a1-6668-4777-985d-26ac82afd9ba</td>\n",
              "      <td>2019-11-30</td>\n",
              "      <td>23</td>\n",
              "    </tr>\n",
              "    <tr>\n",
              "      <th>109950742</th>\n",
              "      <td>2019-11-30 23:59:59+00:00</td>\n",
              "      <td>view</td>\n",
              "      <td>1004233</td>\n",
              "      <td>2053013555631882655</td>\n",
              "      <td>electronics.smartphone</td>\n",
              "      <td>apple</td>\n",
              "      <td>1312.52</td>\n",
              "      <td>579969851</td>\n",
              "      <td>90aca71c-ed8a-4670-866a-761ebacb732d</td>\n",
              "      <td>2019-11-30</td>\n",
              "      <td>23</td>\n",
              "    </tr>\n",
              "  </tbody>\n",
              "</table>\n",
              "<p>109950743 rows × 11 columns</p>\n",
              "</div>\n",
              "    <div class=\"colab-df-buttons\">\n",
              "\n",
              "  <div class=\"colab-df-container\">\n",
              "    <button class=\"colab-df-convert\" onclick=\"convertToInteractive('df-5c57c2b5-059c-4313-b2e1-e67795e2b894')\"\n",
              "            title=\"Convert this dataframe to an interactive table.\"\n",
              "            style=\"display:none;\">\n",
              "\n",
              "  <svg xmlns=\"http://www.w3.org/2000/svg\" height=\"24px\" viewBox=\"0 -960 960 960\">\n",
              "    <path d=\"M120-120v-720h720v720H120Zm60-500h600v-160H180v160Zm220 220h160v-160H400v160Zm0 220h160v-160H400v160ZM180-400h160v-160H180v160Zm440 0h160v-160H620v160ZM180-180h160v-160H180v160Zm440 0h160v-160H620v160Z\"/>\n",
              "  </svg>\n",
              "    </button>\n",
              "\n",
              "  <style>\n",
              "    .colab-df-container {\n",
              "      display:flex;\n",
              "      gap: 12px;\n",
              "    }\n",
              "\n",
              "    .colab-df-convert {\n",
              "      background-color: #E8F0FE;\n",
              "      border: none;\n",
              "      border-radius: 50%;\n",
              "      cursor: pointer;\n",
              "      display: none;\n",
              "      fill: #1967D2;\n",
              "      height: 32px;\n",
              "      padding: 0 0 0 0;\n",
              "      width: 32px;\n",
              "    }\n",
              "\n",
              "    .colab-df-convert:hover {\n",
              "      background-color: #E2EBFA;\n",
              "      box-shadow: 0px 1px 2px rgba(60, 64, 67, 0.3), 0px 1px 3px 1px rgba(60, 64, 67, 0.15);\n",
              "      fill: #174EA6;\n",
              "    }\n",
              "\n",
              "    .colab-df-buttons div {\n",
              "      margin-bottom: 4px;\n",
              "    }\n",
              "\n",
              "    [theme=dark] .colab-df-convert {\n",
              "      background-color: #3B4455;\n",
              "      fill: #D2E3FC;\n",
              "    }\n",
              "\n",
              "    [theme=dark] .colab-df-convert:hover {\n",
              "      background-color: #434B5C;\n",
              "      box-shadow: 0px 1px 3px 1px rgba(0, 0, 0, 0.15);\n",
              "      filter: drop-shadow(0px 1px 2px rgba(0, 0, 0, 0.3));\n",
              "      fill: #FFFFFF;\n",
              "    }\n",
              "  </style>\n",
              "\n",
              "    <script>\n",
              "      const buttonEl =\n",
              "        document.querySelector('#df-5c57c2b5-059c-4313-b2e1-e67795e2b894 button.colab-df-convert');\n",
              "      buttonEl.style.display =\n",
              "        google.colab.kernel.accessAllowed ? 'block' : 'none';\n",
              "\n",
              "      async function convertToInteractive(key) {\n",
              "        const element = document.querySelector('#df-5c57c2b5-059c-4313-b2e1-e67795e2b894');\n",
              "        const dataTable =\n",
              "          await google.colab.kernel.invokeFunction('convertToInteractive',\n",
              "                                                    [key], {});\n",
              "        if (!dataTable) return;\n",
              "\n",
              "        const docLinkHtml = 'Like what you see? Visit the ' +\n",
              "          '<a target=\"_blank\" href=https://colab.research.google.com/notebooks/data_table.ipynb>data table notebook</a>'\n",
              "          + ' to learn more about interactive tables.';\n",
              "        element.innerHTML = '';\n",
              "        dataTable['output_type'] = 'display_data';\n",
              "        await google.colab.output.renderOutput(dataTable, element);\n",
              "        const docLink = document.createElement('div');\n",
              "        docLink.innerHTML = docLinkHtml;\n",
              "        element.appendChild(docLink);\n",
              "      }\n",
              "    </script>\n",
              "  </div>\n",
              "\n",
              "\n",
              "    <div id=\"df-b0b82c7d-8bbc-486a-b83b-e04ee97cc52c\">\n",
              "      <button class=\"colab-df-quickchart\" onclick=\"quickchart('df-b0b82c7d-8bbc-486a-b83b-e04ee97cc52c')\"\n",
              "                title=\"Suggest charts\"\n",
              "                style=\"display:none;\">\n",
              "\n",
              "<svg xmlns=\"http://www.w3.org/2000/svg\" height=\"24px\"viewBox=\"0 0 24 24\"\n",
              "     width=\"24px\">\n",
              "    <g>\n",
              "        <path d=\"M19 3H5c-1.1 0-2 .9-2 2v14c0 1.1.9 2 2 2h14c1.1 0 2-.9 2-2V5c0-1.1-.9-2-2-2zM9 17H7v-7h2v7zm4 0h-2V7h2v10zm4 0h-2v-4h2v4z\"/>\n",
              "    </g>\n",
              "</svg>\n",
              "      </button>\n",
              "\n",
              "<style>\n",
              "  .colab-df-quickchart {\n",
              "      --bg-color: #E8F0FE;\n",
              "      --fill-color: #1967D2;\n",
              "      --hover-bg-color: #E2EBFA;\n",
              "      --hover-fill-color: #174EA6;\n",
              "      --disabled-fill-color: #AAA;\n",
              "      --disabled-bg-color: #DDD;\n",
              "  }\n",
              "\n",
              "  [theme=dark] .colab-df-quickchart {\n",
              "      --bg-color: #3B4455;\n",
              "      --fill-color: #D2E3FC;\n",
              "      --hover-bg-color: #434B5C;\n",
              "      --hover-fill-color: #FFFFFF;\n",
              "      --disabled-bg-color: #3B4455;\n",
              "      --disabled-fill-color: #666;\n",
              "  }\n",
              "\n",
              "  .colab-df-quickchart {\n",
              "    background-color: var(--bg-color);\n",
              "    border: none;\n",
              "    border-radius: 50%;\n",
              "    cursor: pointer;\n",
              "    display: none;\n",
              "    fill: var(--fill-color);\n",
              "    height: 32px;\n",
              "    padding: 0;\n",
              "    width: 32px;\n",
              "  }\n",
              "\n",
              "  .colab-df-quickchart:hover {\n",
              "    background-color: var(--hover-bg-color);\n",
              "    box-shadow: 0 1px 2px rgba(60, 64, 67, 0.3), 0 1px 3px 1px rgba(60, 64, 67, 0.15);\n",
              "    fill: var(--button-hover-fill-color);\n",
              "  }\n",
              "\n",
              "  .colab-df-quickchart-complete:disabled,\n",
              "  .colab-df-quickchart-complete:disabled:hover {\n",
              "    background-color: var(--disabled-bg-color);\n",
              "    fill: var(--disabled-fill-color);\n",
              "    box-shadow: none;\n",
              "  }\n",
              "\n",
              "  .colab-df-spinner {\n",
              "    border: 2px solid var(--fill-color);\n",
              "    border-color: transparent;\n",
              "    border-bottom-color: var(--fill-color);\n",
              "    animation:\n",
              "      spin 1s steps(1) infinite;\n",
              "  }\n",
              "\n",
              "  @keyframes spin {\n",
              "    0% {\n",
              "      border-color: transparent;\n",
              "      border-bottom-color: var(--fill-color);\n",
              "      border-left-color: var(--fill-color);\n",
              "    }\n",
              "    20% {\n",
              "      border-color: transparent;\n",
              "      border-left-color: var(--fill-color);\n",
              "      border-top-color: var(--fill-color);\n",
              "    }\n",
              "    30% {\n",
              "      border-color: transparent;\n",
              "      border-left-color: var(--fill-color);\n",
              "      border-top-color: var(--fill-color);\n",
              "      border-right-color: var(--fill-color);\n",
              "    }\n",
              "    40% {\n",
              "      border-color: transparent;\n",
              "      border-right-color: var(--fill-color);\n",
              "      border-top-color: var(--fill-color);\n",
              "    }\n",
              "    60% {\n",
              "      border-color: transparent;\n",
              "      border-right-color: var(--fill-color);\n",
              "    }\n",
              "    80% {\n",
              "      border-color: transparent;\n",
              "      border-right-color: var(--fill-color);\n",
              "      border-bottom-color: var(--fill-color);\n",
              "    }\n",
              "    90% {\n",
              "      border-color: transparent;\n",
              "      border-bottom-color: var(--fill-color);\n",
              "    }\n",
              "  }\n",
              "</style>\n",
              "\n",
              "      <script>\n",
              "        async function quickchart(key) {\n",
              "          const quickchartButtonEl =\n",
              "            document.querySelector('#' + key + ' button');\n",
              "          quickchartButtonEl.disabled = true;  // To prevent multiple clicks.\n",
              "          quickchartButtonEl.classList.add('colab-df-spinner');\n",
              "          try {\n",
              "            const charts = await google.colab.kernel.invokeFunction(\n",
              "                'suggestCharts', [key], {});\n",
              "          } catch (error) {\n",
              "            console.error('Error during call to suggestCharts:', error);\n",
              "          }\n",
              "          quickchartButtonEl.classList.remove('colab-df-spinner');\n",
              "          quickchartButtonEl.classList.add('colab-df-quickchart-complete');\n",
              "        }\n",
              "        (() => {\n",
              "          let quickchartButtonEl =\n",
              "            document.querySelector('#df-b0b82c7d-8bbc-486a-b83b-e04ee97cc52c button');\n",
              "          quickchartButtonEl.style.display =\n",
              "            google.colab.kernel.accessAllowed ? 'block' : 'none';\n",
              "        })();\n",
              "      </script>\n",
              "    </div>\n",
              "\n",
              "  <div id=\"id_6f07af0c-0a4e-4e3f-8430-043720ff3497\">\n",
              "    <style>\n",
              "      .colab-df-generate {\n",
              "        background-color: #E8F0FE;\n",
              "        border: none;\n",
              "        border-radius: 50%;\n",
              "        cursor: pointer;\n",
              "        display: none;\n",
              "        fill: #1967D2;\n",
              "        height: 32px;\n",
              "        padding: 0 0 0 0;\n",
              "        width: 32px;\n",
              "      }\n",
              "\n",
              "      .colab-df-generate:hover {\n",
              "        background-color: #E2EBFA;\n",
              "        box-shadow: 0px 1px 2px rgba(60, 64, 67, 0.3), 0px 1px 3px 1px rgba(60, 64, 67, 0.15);\n",
              "        fill: #174EA6;\n",
              "      }\n",
              "\n",
              "      [theme=dark] .colab-df-generate {\n",
              "        background-color: #3B4455;\n",
              "        fill: #D2E3FC;\n",
              "      }\n",
              "\n",
              "      [theme=dark] .colab-df-generate:hover {\n",
              "        background-color: #434B5C;\n",
              "        box-shadow: 0px 1px 3px 1px rgba(0, 0, 0, 0.15);\n",
              "        filter: drop-shadow(0px 1px 2px rgba(0, 0, 0, 0.3));\n",
              "        fill: #FFFFFF;\n",
              "      }\n",
              "    </style>\n",
              "    <button class=\"colab-df-generate\" onclick=\"generateWithVariable('df')\"\n",
              "            title=\"Generate code using this dataframe.\"\n",
              "            style=\"display:none;\">\n",
              "\n",
              "  <svg xmlns=\"http://www.w3.org/2000/svg\" height=\"24px\"viewBox=\"0 0 24 24\"\n",
              "       width=\"24px\">\n",
              "    <path d=\"M7,19H8.4L18.45,9,17,7.55,7,17.6ZM5,21V16.75L18.45,3.32a2,2,0,0,1,2.83,0l1.4,1.43a1.91,1.91,0,0,1,.58,1.4,1.91,1.91,0,0,1-.58,1.4L9.25,21ZM18.45,9,17,7.55Zm-12,3A5.31,5.31,0,0,0,4.9,8.1,5.31,5.31,0,0,0,1,6.5,5.31,5.31,0,0,0,4.9,4.9,5.31,5.31,0,0,0,6.5,1,5.31,5.31,0,0,0,8.1,4.9,5.31,5.31,0,0,0,12,6.5,5.46,5.46,0,0,0,6.5,12Z\"/>\n",
              "  </svg>\n",
              "    </button>\n",
              "    <script>\n",
              "      (() => {\n",
              "      const buttonEl =\n",
              "        document.querySelector('#id_6f07af0c-0a4e-4e3f-8430-043720ff3497 button.colab-df-generate');\n",
              "      buttonEl.style.display =\n",
              "        google.colab.kernel.accessAllowed ? 'block' : 'none';\n",
              "\n",
              "      buttonEl.onclick = () => {\n",
              "        google.colab.notebook.generateWithVariable('df');\n",
              "      }\n",
              "      })();\n",
              "    </script>\n",
              "  </div>\n",
              "\n",
              "    </div>\n",
              "  </div>\n"
            ],
            "application/vnd.google.colaboratory.intrinsic+json": {
              "type": "dataframe",
              "variable_name": "df"
            }
          },
          "metadata": {},
          "execution_count": 10
        }
      ]
    },
    {
      "cell_type": "code",
      "source": [
        "# event_type 컬럼의 고유값 확인\n",
        "\n",
        "df['event_type'].unique()"
      ],
      "metadata": {
        "colab": {
          "base_uri": "https://localhost:8080/"
        },
        "id": "jI9owzr3q8es",
        "outputId": "1a5dc1ee-f4b8-456c-8581-275ed91e9813"
      },
      "execution_count": null,
      "outputs": [
        {
          "output_type": "execute_result",
          "data": {
            "text/plain": [
              "array(['view', 'cart', 'purchase'], dtype=object)"
            ]
          },
          "metadata": {},
          "execution_count": 11
        }
      ]
    },
    {
      "cell_type": "code",
      "source": [
        "# 전체 결측치 수 및 비율 확인\n",
        "missing = df.isnull().sum().sort_values(ascending=False)\n",
        "missing_percent = (df.isnull().sum() / len(df)) * 100\n",
        "missing_summary = pd.DataFrame({'Missing Count': missing, 'Missing %': missing_percent})\n",
        "missing_summary"
      ],
      "metadata": {
        "colab": {
          "base_uri": "https://localhost:8080/",
          "height": 394
        },
        "id": "Tf6SIHDMZXpV",
        "outputId": "9cd2722a-cf13-4ccb-f49b-182b615893f6"
      },
      "execution_count": null,
      "outputs": [
        {
          "output_type": "execute_result",
          "data": {
            "text/plain": [
              "               Missing Count  Missing %\n",
              "brand               15341158  13.952755\n",
              "category_code       35413780  32.208768\n",
              "category_id                0   0.000000\n",
              "event_date                 0   0.000000\n",
              "event_hour                 0   0.000000\n",
              "event_time                 0   0.000000\n",
              "event_type                 0   0.000000\n",
              "price                      0   0.000000\n",
              "product_id                 0   0.000000\n",
              "user_id                    0   0.000000\n",
              "user_session              12   0.000011"
            ],
            "text/html": [
              "\n",
              "  <div id=\"df-a9bcac05-5ca1-4bcd-852c-10ccb2f3ab71\" class=\"colab-df-container\">\n",
              "    <div>\n",
              "<style scoped>\n",
              "    .dataframe tbody tr th:only-of-type {\n",
              "        vertical-align: middle;\n",
              "    }\n",
              "\n",
              "    .dataframe tbody tr th {\n",
              "        vertical-align: top;\n",
              "    }\n",
              "\n",
              "    .dataframe thead th {\n",
              "        text-align: right;\n",
              "    }\n",
              "</style>\n",
              "<table border=\"1\" class=\"dataframe\">\n",
              "  <thead>\n",
              "    <tr style=\"text-align: right;\">\n",
              "      <th></th>\n",
              "      <th>Missing Count</th>\n",
              "      <th>Missing %</th>\n",
              "    </tr>\n",
              "  </thead>\n",
              "  <tbody>\n",
              "    <tr>\n",
              "      <th>brand</th>\n",
              "      <td>15341158</td>\n",
              "      <td>13.952755</td>\n",
              "    </tr>\n",
              "    <tr>\n",
              "      <th>category_code</th>\n",
              "      <td>35413780</td>\n",
              "      <td>32.208768</td>\n",
              "    </tr>\n",
              "    <tr>\n",
              "      <th>category_id</th>\n",
              "      <td>0</td>\n",
              "      <td>0.000000</td>\n",
              "    </tr>\n",
              "    <tr>\n",
              "      <th>event_date</th>\n",
              "      <td>0</td>\n",
              "      <td>0.000000</td>\n",
              "    </tr>\n",
              "    <tr>\n",
              "      <th>event_hour</th>\n",
              "      <td>0</td>\n",
              "      <td>0.000000</td>\n",
              "    </tr>\n",
              "    <tr>\n",
              "      <th>event_time</th>\n",
              "      <td>0</td>\n",
              "      <td>0.000000</td>\n",
              "    </tr>\n",
              "    <tr>\n",
              "      <th>event_type</th>\n",
              "      <td>0</td>\n",
              "      <td>0.000000</td>\n",
              "    </tr>\n",
              "    <tr>\n",
              "      <th>price</th>\n",
              "      <td>0</td>\n",
              "      <td>0.000000</td>\n",
              "    </tr>\n",
              "    <tr>\n",
              "      <th>product_id</th>\n",
              "      <td>0</td>\n",
              "      <td>0.000000</td>\n",
              "    </tr>\n",
              "    <tr>\n",
              "      <th>user_id</th>\n",
              "      <td>0</td>\n",
              "      <td>0.000000</td>\n",
              "    </tr>\n",
              "    <tr>\n",
              "      <th>user_session</th>\n",
              "      <td>12</td>\n",
              "      <td>0.000011</td>\n",
              "    </tr>\n",
              "  </tbody>\n",
              "</table>\n",
              "</div>\n",
              "    <div class=\"colab-df-buttons\">\n",
              "\n",
              "  <div class=\"colab-df-container\">\n",
              "    <button class=\"colab-df-convert\" onclick=\"convertToInteractive('df-a9bcac05-5ca1-4bcd-852c-10ccb2f3ab71')\"\n",
              "            title=\"Convert this dataframe to an interactive table.\"\n",
              "            style=\"display:none;\">\n",
              "\n",
              "  <svg xmlns=\"http://www.w3.org/2000/svg\" height=\"24px\" viewBox=\"0 -960 960 960\">\n",
              "    <path d=\"M120-120v-720h720v720H120Zm60-500h600v-160H180v160Zm220 220h160v-160H400v160Zm0 220h160v-160H400v160ZM180-400h160v-160H180v160Zm440 0h160v-160H620v160ZM180-180h160v-160H180v160Zm440 0h160v-160H620v160Z\"/>\n",
              "  </svg>\n",
              "    </button>\n",
              "\n",
              "  <style>\n",
              "    .colab-df-container {\n",
              "      display:flex;\n",
              "      gap: 12px;\n",
              "    }\n",
              "\n",
              "    .colab-df-convert {\n",
              "      background-color: #E8F0FE;\n",
              "      border: none;\n",
              "      border-radius: 50%;\n",
              "      cursor: pointer;\n",
              "      display: none;\n",
              "      fill: #1967D2;\n",
              "      height: 32px;\n",
              "      padding: 0 0 0 0;\n",
              "      width: 32px;\n",
              "    }\n",
              "\n",
              "    .colab-df-convert:hover {\n",
              "      background-color: #E2EBFA;\n",
              "      box-shadow: 0px 1px 2px rgba(60, 64, 67, 0.3), 0px 1px 3px 1px rgba(60, 64, 67, 0.15);\n",
              "      fill: #174EA6;\n",
              "    }\n",
              "\n",
              "    .colab-df-buttons div {\n",
              "      margin-bottom: 4px;\n",
              "    }\n",
              "\n",
              "    [theme=dark] .colab-df-convert {\n",
              "      background-color: #3B4455;\n",
              "      fill: #D2E3FC;\n",
              "    }\n",
              "\n",
              "    [theme=dark] .colab-df-convert:hover {\n",
              "      background-color: #434B5C;\n",
              "      box-shadow: 0px 1px 3px 1px rgba(0, 0, 0, 0.15);\n",
              "      filter: drop-shadow(0px 1px 2px rgba(0, 0, 0, 0.3));\n",
              "      fill: #FFFFFF;\n",
              "    }\n",
              "  </style>\n",
              "\n",
              "    <script>\n",
              "      const buttonEl =\n",
              "        document.querySelector('#df-a9bcac05-5ca1-4bcd-852c-10ccb2f3ab71 button.colab-df-convert');\n",
              "      buttonEl.style.display =\n",
              "        google.colab.kernel.accessAllowed ? 'block' : 'none';\n",
              "\n",
              "      async function convertToInteractive(key) {\n",
              "        const element = document.querySelector('#df-a9bcac05-5ca1-4bcd-852c-10ccb2f3ab71');\n",
              "        const dataTable =\n",
              "          await google.colab.kernel.invokeFunction('convertToInteractive',\n",
              "                                                    [key], {});\n",
              "        if (!dataTable) return;\n",
              "\n",
              "        const docLinkHtml = 'Like what you see? Visit the ' +\n",
              "          '<a target=\"_blank\" href=https://colab.research.google.com/notebooks/data_table.ipynb>data table notebook</a>'\n",
              "          + ' to learn more about interactive tables.';\n",
              "        element.innerHTML = '';\n",
              "        dataTable['output_type'] = 'display_data';\n",
              "        await google.colab.output.renderOutput(dataTable, element);\n",
              "        const docLink = document.createElement('div');\n",
              "        docLink.innerHTML = docLinkHtml;\n",
              "        element.appendChild(docLink);\n",
              "      }\n",
              "    </script>\n",
              "  </div>\n",
              "\n",
              "\n",
              "    <div id=\"df-14019e22-3b52-445e-8e9a-eebccc41665d\">\n",
              "      <button class=\"colab-df-quickchart\" onclick=\"quickchart('df-14019e22-3b52-445e-8e9a-eebccc41665d')\"\n",
              "                title=\"Suggest charts\"\n",
              "                style=\"display:none;\">\n",
              "\n",
              "<svg xmlns=\"http://www.w3.org/2000/svg\" height=\"24px\"viewBox=\"0 0 24 24\"\n",
              "     width=\"24px\">\n",
              "    <g>\n",
              "        <path d=\"M19 3H5c-1.1 0-2 .9-2 2v14c0 1.1.9 2 2 2h14c1.1 0 2-.9 2-2V5c0-1.1-.9-2-2-2zM9 17H7v-7h2v7zm4 0h-2V7h2v10zm4 0h-2v-4h2v4z\"/>\n",
              "    </g>\n",
              "</svg>\n",
              "      </button>\n",
              "\n",
              "<style>\n",
              "  .colab-df-quickchart {\n",
              "      --bg-color: #E8F0FE;\n",
              "      --fill-color: #1967D2;\n",
              "      --hover-bg-color: #E2EBFA;\n",
              "      --hover-fill-color: #174EA6;\n",
              "      --disabled-fill-color: #AAA;\n",
              "      --disabled-bg-color: #DDD;\n",
              "  }\n",
              "\n",
              "  [theme=dark] .colab-df-quickchart {\n",
              "      --bg-color: #3B4455;\n",
              "      --fill-color: #D2E3FC;\n",
              "      --hover-bg-color: #434B5C;\n",
              "      --hover-fill-color: #FFFFFF;\n",
              "      --disabled-bg-color: #3B4455;\n",
              "      --disabled-fill-color: #666;\n",
              "  }\n",
              "\n",
              "  .colab-df-quickchart {\n",
              "    background-color: var(--bg-color);\n",
              "    border: none;\n",
              "    border-radius: 50%;\n",
              "    cursor: pointer;\n",
              "    display: none;\n",
              "    fill: var(--fill-color);\n",
              "    height: 32px;\n",
              "    padding: 0;\n",
              "    width: 32px;\n",
              "  }\n",
              "\n",
              "  .colab-df-quickchart:hover {\n",
              "    background-color: var(--hover-bg-color);\n",
              "    box-shadow: 0 1px 2px rgba(60, 64, 67, 0.3), 0 1px 3px 1px rgba(60, 64, 67, 0.15);\n",
              "    fill: var(--button-hover-fill-color);\n",
              "  }\n",
              "\n",
              "  .colab-df-quickchart-complete:disabled,\n",
              "  .colab-df-quickchart-complete:disabled:hover {\n",
              "    background-color: var(--disabled-bg-color);\n",
              "    fill: var(--disabled-fill-color);\n",
              "    box-shadow: none;\n",
              "  }\n",
              "\n",
              "  .colab-df-spinner {\n",
              "    border: 2px solid var(--fill-color);\n",
              "    border-color: transparent;\n",
              "    border-bottom-color: var(--fill-color);\n",
              "    animation:\n",
              "      spin 1s steps(1) infinite;\n",
              "  }\n",
              "\n",
              "  @keyframes spin {\n",
              "    0% {\n",
              "      border-color: transparent;\n",
              "      border-bottom-color: var(--fill-color);\n",
              "      border-left-color: var(--fill-color);\n",
              "    }\n",
              "    20% {\n",
              "      border-color: transparent;\n",
              "      border-left-color: var(--fill-color);\n",
              "      border-top-color: var(--fill-color);\n",
              "    }\n",
              "    30% {\n",
              "      border-color: transparent;\n",
              "      border-left-color: var(--fill-color);\n",
              "      border-top-color: var(--fill-color);\n",
              "      border-right-color: var(--fill-color);\n",
              "    }\n",
              "    40% {\n",
              "      border-color: transparent;\n",
              "      border-right-color: var(--fill-color);\n",
              "      border-top-color: var(--fill-color);\n",
              "    }\n",
              "    60% {\n",
              "      border-color: transparent;\n",
              "      border-right-color: var(--fill-color);\n",
              "    }\n",
              "    80% {\n",
              "      border-color: transparent;\n",
              "      border-right-color: var(--fill-color);\n",
              "      border-bottom-color: var(--fill-color);\n",
              "    }\n",
              "    90% {\n",
              "      border-color: transparent;\n",
              "      border-bottom-color: var(--fill-color);\n",
              "    }\n",
              "  }\n",
              "</style>\n",
              "\n",
              "      <script>\n",
              "        async function quickchart(key) {\n",
              "          const quickchartButtonEl =\n",
              "            document.querySelector('#' + key + ' button');\n",
              "          quickchartButtonEl.disabled = true;  // To prevent multiple clicks.\n",
              "          quickchartButtonEl.classList.add('colab-df-spinner');\n",
              "          try {\n",
              "            const charts = await google.colab.kernel.invokeFunction(\n",
              "                'suggestCharts', [key], {});\n",
              "          } catch (error) {\n",
              "            console.error('Error during call to suggestCharts:', error);\n",
              "          }\n",
              "          quickchartButtonEl.classList.remove('colab-df-spinner');\n",
              "          quickchartButtonEl.classList.add('colab-df-quickchart-complete');\n",
              "        }\n",
              "        (() => {\n",
              "          let quickchartButtonEl =\n",
              "            document.querySelector('#df-14019e22-3b52-445e-8e9a-eebccc41665d button');\n",
              "          quickchartButtonEl.style.display =\n",
              "            google.colab.kernel.accessAllowed ? 'block' : 'none';\n",
              "        })();\n",
              "      </script>\n",
              "    </div>\n",
              "\n",
              "  <div id=\"id_007297e1-113c-4d14-9da8-f05431d8c8cf\">\n",
              "    <style>\n",
              "      .colab-df-generate {\n",
              "        background-color: #E8F0FE;\n",
              "        border: none;\n",
              "        border-radius: 50%;\n",
              "        cursor: pointer;\n",
              "        display: none;\n",
              "        fill: #1967D2;\n",
              "        height: 32px;\n",
              "        padding: 0 0 0 0;\n",
              "        width: 32px;\n",
              "      }\n",
              "\n",
              "      .colab-df-generate:hover {\n",
              "        background-color: #E2EBFA;\n",
              "        box-shadow: 0px 1px 2px rgba(60, 64, 67, 0.3), 0px 1px 3px 1px rgba(60, 64, 67, 0.15);\n",
              "        fill: #174EA6;\n",
              "      }\n",
              "\n",
              "      [theme=dark] .colab-df-generate {\n",
              "        background-color: #3B4455;\n",
              "        fill: #D2E3FC;\n",
              "      }\n",
              "\n",
              "      [theme=dark] .colab-df-generate:hover {\n",
              "        background-color: #434B5C;\n",
              "        box-shadow: 0px 1px 3px 1px rgba(0, 0, 0, 0.15);\n",
              "        filter: drop-shadow(0px 1px 2px rgba(0, 0, 0, 0.3));\n",
              "        fill: #FFFFFF;\n",
              "      }\n",
              "    </style>\n",
              "    <button class=\"colab-df-generate\" onclick=\"generateWithVariable('missing_summary')\"\n",
              "            title=\"Generate code using this dataframe.\"\n",
              "            style=\"display:none;\">\n",
              "\n",
              "  <svg xmlns=\"http://www.w3.org/2000/svg\" height=\"24px\"viewBox=\"0 0 24 24\"\n",
              "       width=\"24px\">\n",
              "    <path d=\"M7,19H8.4L18.45,9,17,7.55,7,17.6ZM5,21V16.75L18.45,3.32a2,2,0,0,1,2.83,0l1.4,1.43a1.91,1.91,0,0,1,.58,1.4,1.91,1.91,0,0,1-.58,1.4L9.25,21ZM18.45,9,17,7.55Zm-12,3A5.31,5.31,0,0,0,4.9,8.1,5.31,5.31,0,0,0,1,6.5,5.31,5.31,0,0,0,4.9,4.9,5.31,5.31,0,0,0,6.5,1,5.31,5.31,0,0,0,8.1,4.9,5.31,5.31,0,0,0,12,6.5,5.46,5.46,0,0,0,6.5,12Z\"/>\n",
              "  </svg>\n",
              "    </button>\n",
              "    <script>\n",
              "      (() => {\n",
              "      const buttonEl =\n",
              "        document.querySelector('#id_007297e1-113c-4d14-9da8-f05431d8c8cf button.colab-df-generate');\n",
              "      buttonEl.style.display =\n",
              "        google.colab.kernel.accessAllowed ? 'block' : 'none';\n",
              "\n",
              "      buttonEl.onclick = () => {\n",
              "        google.colab.notebook.generateWithVariable('missing_summary');\n",
              "      }\n",
              "      })();\n",
              "    </script>\n",
              "  </div>\n",
              "\n",
              "    </div>\n",
              "  </div>\n"
            ],
            "application/vnd.google.colaboratory.intrinsic+json": {
              "type": "dataframe",
              "variable_name": "missing_summary",
              "summary": "{\n  \"name\": \"missing_summary\",\n  \"rows\": 11,\n  \"fields\": [\n    {\n      \"column\": \"Missing Count\",\n      \"properties\": {\n        \"dtype\": \"number\",\n        \"std\": 11204013,\n        \"min\": 0,\n        \"max\": 35413780,\n        \"num_unique_values\": 4,\n        \"samples\": [\n          35413780,\n          12,\n          15341158\n        ],\n        \"semantic_type\": \"\",\n        \"description\": \"\"\n      }\n    },\n    {\n      \"column\": \"Missing %\",\n      \"properties\": {\n        \"dtype\": \"number\",\n        \"std\": 10.190029962574174,\n        \"min\": 0.0,\n        \"max\": 32.20876824816,\n        \"num_unique_values\": 4,\n        \"samples\": [\n          32.20876824816,\n          1.0913978089261297e-05,\n          13.952755189657973\n        ],\n        \"semantic_type\": \"\",\n        \"description\": \"\"\n      }\n    }\n  ]\n}"
            }
          },
          "metadata": {},
          "execution_count": 12
        }
      ]
    },
    {
      "cell_type": "code",
      "source": [
        "# user_session이 결측치인 행만 필터링\n",
        "missing_session = df[df['user_session'].isnull()]\n",
        "\n",
        "# 해당 행들의 event_type 분포 확인 -> cart 라서 빼도 될 듯\n",
        "missing_session['event_type'].value_counts()"
      ],
      "metadata": {
        "colab": {
          "base_uri": "https://localhost:8080/",
          "height": 147
        },
        "id": "manfUeZhfhrA",
        "outputId": "bbed3971-37b8-4cce-d300-abbf13b41fe9"
      },
      "execution_count": null,
      "outputs": [
        {
          "output_type": "execute_result",
          "data": {
            "text/plain": [
              "event_type\n",
              "cart    12\n",
              "Name: count, dtype: int64"
            ],
            "text/html": [
              "<div>\n",
              "<style scoped>\n",
              "    .dataframe tbody tr th:only-of-type {\n",
              "        vertical-align: middle;\n",
              "    }\n",
              "\n",
              "    .dataframe tbody tr th {\n",
              "        vertical-align: top;\n",
              "    }\n",
              "\n",
              "    .dataframe thead th {\n",
              "        text-align: right;\n",
              "    }\n",
              "</style>\n",
              "<table border=\"1\" class=\"dataframe\">\n",
              "  <thead>\n",
              "    <tr style=\"text-align: right;\">\n",
              "      <th></th>\n",
              "      <th>count</th>\n",
              "    </tr>\n",
              "    <tr>\n",
              "      <th>event_type</th>\n",
              "      <th></th>\n",
              "    </tr>\n",
              "  </thead>\n",
              "  <tbody>\n",
              "    <tr>\n",
              "      <th>cart</th>\n",
              "      <td>12</td>\n",
              "    </tr>\n",
              "  </tbody>\n",
              "</table>\n",
              "</div><br><label><b>dtype:</b> int64</label>"
            ]
          },
          "metadata": {},
          "execution_count": 13
        }
      ]
    },
    {
      "cell_type": "markdown",
      "source": [
        "(전)신규 고객 정의 및 행동 분석\n",
        "#(변경 후)구매 빈도가 낮은 고객 분석 → 이탈 징후 탐지 및 리텐션 전략 수립\n",
        "“구매 빈도가 낮은 고객들의 이탈 징후를 파악하고, 재방문·재구매를 유도할 수 있는 전략 수립\""
      ],
      "metadata": {
        "id": "89BpH2AszkJ-"
      }
    },
    {
      "cell_type": "markdown",
      "source": [
        "#EDA"
      ],
      "metadata": {
        "id": "SsUkW-tMx7Me"
      }
    },
    {
      "cell_type": "code",
      "source": [
        "# 고객별 구매 간격(재구매 주기) 및 구매 횟수 분포\n",
        "purchase_df = df[df['event_type'] == 'purchase'].copy()\n",
        "purchase_df['event_time'] = pd.to_datetime(purchase_df['event_time'])\n",
        "purchase_df = purchase_df.sort_values(by=['user_id', 'event_time']) # user_id별로 event_time을 오름차순 정렬\n",
        "\n",
        "# 재구매 간격 1. 다음 구매일\n",
        "purchase_df['next_purchase'] = purchase_df.groupby('user_id')['event_time'].shift(-1)\n",
        "# 2. 다음 구매일 - 현재 구매일\n",
        "purchase_df['days_to_next'] = (purchase_df['next_purchase'] - purchase_df['event_time']).dt.days"
      ],
      "metadata": {
        "id": "LKvKK0oYt9n3"
      },
      "execution_count": null,
      "outputs": []
    },
    {
      "cell_type": "code",
      "source": [
        "purchase_df['days_to_next'].dropna().clip(upper=60).hist(bins=30)"
      ],
      "metadata": {
        "colab": {
          "base_uri": "https://localhost:8080/",
          "height": 388
        },
        "id": "bgVLtmE8t9hV",
        "outputId": "38b91fb2-cf4a-4325-d966-a2a8bbca7dee"
      },
      "execution_count": null,
      "outputs": [
        {
          "output_type": "execute_result",
          "data": {
            "text/plain": [
              "<Axes: >"
            ]
          },
          "metadata": {},
          "execution_count": 15
        },
        {
          "output_type": "display_data",
          "data": {
            "text/plain": [
              "<Figure size 1200x600 with 1 Axes>"
            ],
            "image/png": "[encoded data removed]"
          },
          "metadata": {}
        }
      ]
    },
    {
      "cell_type": "code",
      "source": [],
      "metadata": {
        "id": "dl6YGsEEv4Uj"
      },
      "execution_count": null,
      "outputs": []
    },
    {
      "cell_type": "code",
      "source": [
        "# 6개월치 데이터\n",
        "df_all = pd.read_csv(f'{data_root}/one_time_buyers_all.csv')\n",
        "\n",
        "df_all"
      ],
      "metadata": {
        "colab": {
          "base_uri": "https://localhost:8080/",
          "height": 983
        },
        "id": "lfhHHuP3v92c",
        "outputId": "e71993a3-9eea-489d-e10a-ee1463d93132"
      },
      "execution_count": null,
      "outputs": [
        {
          "output_type": "stream",
          "name": "stderr",
          "text": [
            "/tmp/ipython-input-20-3401198785.py:2: DtypeWarning: Columns (9,11,12,13,14,15) have mixed types. Specify dtype option on import or set low_memory=False.\n",
            "  df_all = pd.read_csv(f'{data_root}/one_time_buyers_all.csv')\n"
          ]
        },
        {
          "output_type": "execute_result",
          "data": {
            "text/plain": [
              "                        event_time event_type  product_id  \\\n",
              "0        2019-10-13 13:25:29+00:00   purchase     5100443   \n",
              "1        2019-10-09 15:51:08+00:00   purchase    17301479   \n",
              "2        2019-10-18 11:19:59+00:00   purchase     2501816   \n",
              "3        2019-10-26 14:05:39+00:00   purchase    10700971   \n",
              "4        2019-10-24 17:54:48+00:00   purchase    12718429   \n",
              "...                            ...        ...         ...   \n",
              "1451972  2020-03-31 23:49:41+00:00   purchase     1004835   \n",
              "1451973  2020-03-31 23:54:30+00:00   purchase   100062704   \n",
              "1451974  2020-03-31 23:55:08+00:00   purchase     1003319   \n",
              "1451975  2020-03-31 23:58:19+00:00   purchase   100049773   \n",
              "1451976  2020-03-31 23:59:27+00:00   purchase   100068493   \n",
              "\n",
              "                 category_id                category_code     brand   price  \\\n",
              "0        2053013553341792533           electronics.clocks    garmin  340.59   \n",
              "1        2053013553853497655                          NaN       NaN   29.89   \n",
              "2        2053013564003713919      appliances.kitchen.oven     artel   41.44   \n",
              "3        2053013561277416167                          NaN       NaN   20.59   \n",
              "4        2053013553559896355                          NaN  cordiant   48.14   \n",
              "...                      ...                          ...       ...     ...   \n",
              "1451972  2232732093077520756     construction.tools.light   samsung  199.87   \n",
              "1451973  2053013554658804075  electronics.audio.headphone      asus  812.12   \n",
              "1451974  2232732093077520756     construction.tools.light     apple  900.64   \n",
              "1451975  2232732106860003995                          NaN       NaN  234.96   \n",
              "1451976  2232732093077520756     construction.tools.light   samsung  319.41   \n",
              "\n",
              "           user_id                          user_session  event_date  \\\n",
              "0        303160429  8957377b-66b3-4661-ae91-5c2b5e29fd0e  2019-10-13   \n",
              "1        371877401  d3103132-d38a-4399-9404-f99d03d243d0  2019-10-09   \n",
              "2        384989212  7472f245-e885-4c5e-b3b1-476a7b19b508  2019-10-18   \n",
              "3        387300134  51d42df3-8ba8-493f-b780-41f09a74be28  2019-10-26   \n",
              "4        396222093  0ec20848-b6c5-41b5-bba8-132be4461915  2019-10-24   \n",
              "...            ...                                   ...         ...   \n",
              "1451972  588488017  84395d1c-4349-49e4-9581-94f63cfb034f  2020-03-31   \n",
              "1451973  624142677  8501ed7e-a926-450e-87ff-da17ce20f14f  2020-03-31   \n",
              "1451974  619860269  ea2efefc-95ea-49ce-9250-fef572c53b44  2020-03-31   \n",
              "1451975  620580925  c33fde42-a5de-4a1f-9e1c-2ac7518a7d41  2020-03-31   \n",
              "1451976  635165435  861f2378-076f-4ddd-85e3-9844923d03a9  2020-03-31   \n",
              "\n",
              "         event_hour category_lvl1 category_lvl2 category_lvl3 category_lvl4  \\\n",
              "0              13.0   electronics        clocks           NaN           NaN   \n",
              "1              15.0           NaN           NaN           NaN           NaN   \n",
              "2              11.0    appliances       kitchen          oven           NaN   \n",
              "3              14.0           NaN           NaN           NaN           NaN   \n",
              "4              17.0           NaN           NaN           NaN           NaN   \n",
              "...             ...           ...           ...           ...           ...   \n",
              "1451972        23.0  construction         tools         light           NaN   \n",
              "1451973        23.0   electronics         audio     headphone           NaN   \n",
              "1451974        23.0  construction         tools         light           NaN   \n",
              "1451975        23.0           NaN           NaN           NaN           NaN   \n",
              "1451976        23.0  construction         tools         light           NaN   \n",
              "\n",
              "           month  \n",
              "0            NaN  \n",
              "1            NaN  \n",
              "2            NaN  \n",
              "3            NaN  \n",
              "4            NaN  \n",
              "...          ...  \n",
              "1451972  2020-03  \n",
              "1451973  2020-03  \n",
              "1451974  2020-03  \n",
              "1451975  2020-03  \n",
              "1451976  2020-03  \n",
              "\n",
              "[1451977 rows x 16 columns]"
            ],
            "text/html": [
              "\n",
              "  <div id=\"df-949c62ec-9e5e-4a7c-ad2d-f6d3abf1173e\" class=\"colab-df-container\">\n",
              "    <div>\n",
              "<style scoped>\n",
              "    .dataframe tbody tr th:only-of-type {\n",
              "        vertical-align: middle;\n",
              "    }\n",
              "\n",
              "    .dataframe tbody tr th {\n",
              "        vertical-align: top;\n",
              "    }\n",
              "\n",
              "    .dataframe thead th {\n",
              "        text-align: right;\n",
              "    }\n",
              "</style>\n",
              "<table border=\"1\" class=\"dataframe\">\n",
              "  <thead>\n",
              "    <tr style=\"text-align: right;\">\n",
              "      <th></th>\n",
              "      <th>event_time</th>\n",
              "      <th>event_type</th>\n",
              "      <th>product_id</th>\n",
              "      <th>category_id</th>\n",
              "      <th>category_code</th>\n",
              "      <th>brand</th>\n",
              "      <th>price</th>\n",
              "      <th>user_id</th>\n",
              "      <th>user_session</th>\n",
              "      <th>event_date</th>\n",
              "      <th>event_hour</th>\n",
              "      <th>category_lvl1</th>\n",
              "      <th>category_lvl2</th>\n",
              "      <th>category_lvl3</th>\n",
              "      <th>category_lvl4</th>\n",
              "      <th>month</th>\n",
              "    </tr>\n",
              "  </thead>\n",
              "  <tbody>\n",
              "    <tr>\n",
              "      <th>0</th>\n",
              "      <td>2019-10-13 13:25:29+00:00</td>\n",
              "      <td>purchase</td>\n",
              "      <td>5100443</td>\n",
              "      <td>2053013553341792533</td>\n",
              "      <td>electronics.clocks</td>\n",
              "      <td>garmin</td>\n",
              "      <td>340.59</td>\n",
              "      <td>303160429</td>\n",
              "      <td>8957377b-66b3-4661-ae91-5c2b5e29fd0e</td>\n",
              "      <td>2019-10-13</td>\n",
              "      <td>13.0</td>\n",
              "      <td>electronics</td>\n",
              "      <td>clocks</td>\n",
              "      <td>NaN</td>\n",
              "      <td>NaN</td>\n",
              "      <td>NaN</td>\n",
              "    </tr>\n",
              "    <tr>\n",
              "      <th>1</th>\n",
              "      <td>2019-10-09 15:51:08+00:00</td>\n",
              "      <td>purchase</td>\n",
              "      <td>17301479</td>\n",
              "      <td>2053013553853497655</td>\n",
              "      <td>NaN</td>\n",
              "      <td>NaN</td>\n",
              "      <td>29.89</td>\n",
              "      <td>371877401</td>\n",
              "      <td>d3103132-d38a-4399-9404-f99d03d243d0</td>\n",
              "      <td>2019-10-09</td>\n",
              "      <td>15.0</td>\n",
              "      <td>NaN</td>\n",
              "      <td>NaN</td>\n",
              "      <td>NaN</td>\n",
              "      <td>NaN</td>\n",
              "      <td>NaN</td>\n",
              "    </tr>\n",
              "    <tr>\n",
              "      <th>2</th>\n",
              "      <td>2019-10-18 11:19:59+00:00</td>\n",
              "      <td>purchase</td>\n",
              "      <td>2501816</td>\n",
              "      <td>2053013564003713919</td>\n",
              "      <td>appliances.kitchen.oven</td>\n",
              "      <td>artel</td>\n",
              "      <td>41.44</td>\n",
              "      <td>384989212</td>\n",
              "      <td>7472f245-e885-4c5e-b3b1-476a7b19b508</td>\n",
              "      <td>2019-10-18</td>\n",
              "      <td>11.0</td>\n",
              "      <td>appliances</td>\n",
              "      <td>kitchen</td>\n",
              "      <td>oven</td>\n",
              "      <td>NaN</td>\n",
              "      <td>NaN</td>\n",
              "    </tr>\n",
              "    <tr>\n",
              "      <th>3</th>\n",
              "      <td>2019-10-26 14:05:39+00:00</td>\n",
              "      <td>purchase</td>\n",
              "      <td>10700971</td>\n",
              "      <td>2053013561277416167</td>\n",
              "      <td>NaN</td>\n",
              "      <td>NaN</td>\n",
              "      <td>20.59</td>\n",
              "      <td>387300134</td>\n",
              "      <td>51d42df3-8ba8-493f-b780-41f09a74be28</td>\n",
              "      <td>2019-10-26</td>\n",
              "      <td>14.0</td>\n",
              "      <td>NaN</td>\n",
              "      <td>NaN</td>\n",
              "      <td>NaN</td>\n",
              "      <td>NaN</td>\n",
              "      <td>NaN</td>\n",
              "    </tr>\n",
              "    <tr>\n",
              "      <th>4</th>\n",
              "      <td>2019-10-24 17:54:48+00:00</td>\n",
              "      <td>purchase</td>\n",
              "      <td>12718429</td>\n",
              "      <td>2053013553559896355</td>\n",
              "      <td>NaN</td>\n",
              "      <td>cordiant</td>\n",
              "      <td>48.14</td>\n",
              "      <td>396222093</td>\n",
              "      <td>0ec20848-b6c5-41b5-bba8-132be4461915</td>\n",
              "      <td>2019-10-24</td>\n",
              "      <td>17.0</td>\n",
              "      <td>NaN</td>\n",
              "      <td>NaN</td>\n",
              "      <td>NaN</td>\n",
              "      <td>NaN</td>\n",
              "      <td>NaN</td>\n",
              "    </tr>\n",
              "    <tr>\n",
              "      <th>...</th>\n",
              "      <td>...</td>\n",
              "      <td>...</td>\n",
              "      <td>...</td>\n",
              "      <td>...</td>\n",
              "      <td>...</td>\n",
              "      <td>...</td>\n",
              "      <td>...</td>\n",
              "      <td>...</td>\n",
              "      <td>...</td>\n",
              "      <td>...</td>\n",
              "      <td>...</td>\n",
              "      <td>...</td>\n",
              "      <td>...</td>\n",
              "      <td>...</td>\n",
              "      <td>...</td>\n",
              "      <td>...</td>\n",
              "    </tr>\n",
              "    <tr>\n",
              "      <th>1451972</th>\n",
              "      <td>2020-03-31 23:49:41+00:00</td>\n",
              "      <td>purchase</td>\n",
              "      <td>1004835</td>\n",
              "      <td>2232732093077520756</td>\n",
              "      <td>construction.tools.light</td>\n",
              "      <td>samsung</td>\n",
              "      <td>199.87</td>\n",
              "      <td>588488017</td>\n",
              "      <td>84395d1c-4349-49e4-9581-94f63cfb034f</td>\n",
              "      <td>2020-03-31</td>\n",
              "      <td>23.0</td>\n",
              "      <td>construction</td>\n",
              "      <td>tools</td>\n",
              "      <td>light</td>\n",
              "      <td>NaN</td>\n",
              "      <td>2020-03</td>\n",
              "    </tr>\n",
              "    <tr>\n",
              "      <th>1451973</th>\n",
              "      <td>2020-03-31 23:54:30+00:00</td>\n",
              "      <td>purchase</td>\n",
              "      <td>100062704</td>\n",
              "      <td>2053013554658804075</td>\n",
              "      <td>electronics.audio.headphone</td>\n",
              "      <td>asus</td>\n",
              "      <td>812.12</td>\n",
              "      <td>624142677</td>\n",
              "      <td>8501ed7e-a926-450e-87ff-da17ce20f14f</td>\n",
              "      <td>2020-03-31</td>\n",
              "      <td>23.0</td>\n",
              "      <td>electronics</td>\n",
              "      <td>audio</td>\n",
              "      <td>headphone</td>\n",
              "      <td>NaN</td>\n",
              "      <td>2020-03</td>\n",
              "    </tr>\n",
              "    <tr>\n",
              "      <th>1451974</th>\n",
              "      <td>2020-03-31 23:55:08+00:00</td>\n",
              "      <td>purchase</td>\n",
              "      <td>1003319</td>\n",
              "      <td>2232732093077520756</td>\n",
              "      <td>construction.tools.light</td>\n",
              "      <td>apple</td>\n",
              "      <td>900.64</td>\n",
              "      <td>619860269</td>\n",
              "      <td>ea2efefc-95ea-49ce-9250-fef572c53b44</td>\n",
              "      <td>2020-03-31</td>\n",
              "      <td>23.0</td>\n",
              "      <td>construction</td>\n",
              "      <td>tools</td>\n",
              "      <td>light</td>\n",
              "      <td>NaN</td>\n",
              "      <td>2020-03</td>\n",
              "    </tr>\n",
              "    <tr>\n",
              "      <th>1451975</th>\n",
              "      <td>2020-03-31 23:58:19+00:00</td>\n",
              "      <td>purchase</td>\n",
              "      <td>100049773</td>\n",
              "      <td>2232732106860003995</td>\n",
              "      <td>NaN</td>\n",
              "      <td>NaN</td>\n",
              "      <td>234.96</td>\n",
              "      <td>620580925</td>\n",
              "      <td>c33fde42-a5de-4a1f-9e1c-2ac7518a7d41</td>\n",
              "      <td>2020-03-31</td>\n",
              "      <td>23.0</td>\n",
              "      <td>NaN</td>\n",
              "      <td>NaN</td>\n",
              "      <td>NaN</td>\n",
              "      <td>NaN</td>\n",
              "      <td>2020-03</td>\n",
              "    </tr>\n",
              "    <tr>\n",
              "      <th>1451976</th>\n",
              "      <td>2020-03-31 23:59:27+00:00</td>\n",
              "      <td>purchase</td>\n",
              "      <td>100068493</td>\n",
              "      <td>2232732093077520756</td>\n",
              "      <td>construction.tools.light</td>\n",
              "      <td>samsung</td>\n",
              "      <td>319.41</td>\n",
              "      <td>635165435</td>\n",
              "      <td>861f2378-076f-4ddd-85e3-9844923d03a9</td>\n",
              "      <td>2020-03-31</td>\n",
              "      <td>23.0</td>\n",
              "      <td>construction</td>\n",
              "      <td>tools</td>\n",
              "      <td>light</td>\n",
              "      <td>NaN</td>\n",
              "      <td>2020-03</td>\n",
              "    </tr>\n",
              "  </tbody>\n",
              "</table>\n",
              "<p>1451977 rows × 16 columns</p>\n",
              "</div>\n",
              "    <div class=\"colab-df-buttons\">\n",
              "\n",
              "  <div class=\"colab-df-container\">\n",
              "    <button class=\"colab-df-convert\" onclick=\"convertToInteractive('df-949c62ec-9e5e-4a7c-ad2d-f6d3abf1173e')\"\n",
              "            title=\"Convert this dataframe to an interactive table.\"\n",
              "            style=\"display:none;\">\n",
              "\n",
              "  <svg xmlns=\"http://www.w3.org/2000/svg\" height=\"24px\" viewBox=\"0 -960 960 960\">\n",
              "    <path d=\"M120-120v-720h720v720H120Zm60-500h600v-160H180v160Zm220 220h160v-160H400v160Zm0 220h160v-160H400v160ZM180-400h160v-160H180v160Zm440 0h160v-160H620v160ZM180-180h160v-160H180v160Zm440 0h160v-160H620v160Z\"/>\n",
              "  </svg>\n",
              "    </button>\n",
              "\n",
              "  <style>\n",
              "    .colab-df-container {\n",
              "      display:flex;\n",
              "      gap: 12px;\n",
              "    }\n",
              "\n",
              "    .colab-df-convert {\n",
              "      background-color: #E8F0FE;\n",
              "      border: none;\n",
              "      border-radius: 50%;\n",
              "      cursor: pointer;\n",
              "      display: none;\n",
              "      fill: #1967D2;\n",
              "      height: 32px;\n",
              "      padding: 0 0 0 0;\n",
              "      width: 32px;\n",
              "    }\n",
              "\n",
              "    .colab-df-convert:hover {\n",
              "      background-color: #E2EBFA;\n",
              "      box-shadow: 0px 1px 2px rgba(60, 64, 67, 0.3), 0px 1px 3px 1px rgba(60, 64, 67, 0.15);\n",
              "      fill: #174EA6;\n",
              "    }\n",
              "\n",
              "    .colab-df-buttons div {\n",
              "      margin-bottom: 4px;\n",
              "    }\n",
              "\n",
              "    [theme=dark] .colab-df-convert {\n",
              "      background-color: #3B4455;\n",
              "      fill: #D2E3FC;\n",
              "    }\n",
              "\n",
              "    [theme=dark] .colab-df-convert:hover {\n",
              "      background-color: #434B5C;\n",
              "      box-shadow: 0px 1px 3px 1px rgba(0, 0, 0, 0.15);\n",
              "      filter: drop-shadow(0px 1px 2px rgba(0, 0, 0, 0.3));\n",
              "      fill: #FFFFFF;\n",
              "    }\n",
              "  </style>\n",
              "\n",
              "    <script>\n",
              "      const buttonEl =\n",
              "        document.querySelector('#df-949c62ec-9e5e-4a7c-ad2d-f6d3abf1173e button.colab-df-convert');\n",
              "      buttonEl.style.display =\n",
              "        google.colab.kernel.accessAllowed ? 'block' : 'none';\n",
              "\n",
              "      async function convertToInteractive(key) {\n",
              "        const element = document.querySelector('#df-949c62ec-9e5e-4a7c-ad2d-f6d3abf1173e');\n",
              "        const dataTable =\n",
              "          await google.colab.kernel.invokeFunction('convertToInteractive',\n",
              "                                                    [key], {});\n",
              "        if (!dataTable) return;\n",
              "\n",
              "        const docLinkHtml = 'Like what you see? Visit the ' +\n",
              "          '<a target=\"_blank\" href=https://colab.research.google.com/notebooks/data_table.ipynb>data table notebook</a>'\n",
              "          + ' to learn more about interactive tables.';\n",
              "        element.innerHTML = '';\n",
              "        dataTable['output_type'] = 'display_data';\n",
              "        await google.colab.output.renderOutput(dataTable, element);\n",
              "        const docLink = document.createElement('div');\n",
              "        docLink.innerHTML = docLinkHtml;\n",
              "        element.appendChild(docLink);\n",
              "      }\n",
              "    </script>\n",
              "  </div>\n",
              "\n",
              "\n",
              "    <div id=\"df-e1513340-899e-499c-8cda-696388a89069\">\n",
              "      <button class=\"colab-df-quickchart\" onclick=\"quickchart('df-e1513340-899e-499c-8cda-696388a89069')\"\n",
              "                title=\"Suggest charts\"\n",
              "                style=\"display:none;\">\n",
              "\n",
              "<svg xmlns=\"http://www.w3.org/2000/svg\" height=\"24px\"viewBox=\"0 0 24 24\"\n",
              "     width=\"24px\">\n",
              "    <g>\n",
              "        <path d=\"M19 3H5c-1.1 0-2 .9-2 2v14c0 1.1.9 2 2 2h14c1.1 0 2-.9 2-2V5c0-1.1-.9-2-2-2zM9 17H7v-7h2v7zm4 0h-2V7h2v10zm4 0h-2v-4h2v4z\"/>\n",
              "    </g>\n",
              "</svg>\n",
              "      </button>\n",
              "\n",
              "<style>\n",
              "  .colab-df-quickchart {\n",
              "      --bg-color: #E8F0FE;\n",
              "      --fill-color: #1967D2;\n",
              "      --hover-bg-color: #E2EBFA;\n",
              "      --hover-fill-color: #174EA6;\n",
              "      --disabled-fill-color: #AAA;\n",
              "      --disabled-bg-color: #DDD;\n",
              "  }\n",
              "\n",
              "  [theme=dark] .colab-df-quickchart {\n",
              "      --bg-color: #3B4455;\n",
              "      --fill-color: #D2E3FC;\n",
              "      --hover-bg-color: #434B5C;\n",
              "      --hover-fill-color: #FFFFFF;\n",
              "      --disabled-bg-color: #3B4455;\n",
              "      --disabled-fill-color: #666;\n",
              "  }\n",
              "\n",
              "  .colab-df-quickchart {\n",
              "    background-color: var(--bg-color);\n",
              "    border: none;\n",
              "    border-radius: 50%;\n",
              "    cursor: pointer;\n",
              "    display: none;\n",
              "    fill: var(--fill-color);\n",
              "    height: 32px;\n",
              "    padding: 0;\n",
              "    width: 32px;\n",
              "  }\n",
              "\n",
              "  .colab-df-quickchart:hover {\n",
              "    background-color: var(--hover-bg-color);\n",
              "    box-shadow: 0 1px 2px rgba(60, 64, 67, 0.3), 0 1px 3px 1px rgba(60, 64, 67, 0.15);\n",
              "    fill: var(--button-hover-fill-color);\n",
              "  }\n",
              "\n",
              "  .colab-df-quickchart-complete:disabled,\n",
              "  .colab-df-quickchart-complete:disabled:hover {\n",
              "    background-color: var(--disabled-bg-color);\n",
              "    fill: var(--disabled-fill-color);\n",
              "    box-shadow: none;\n",
              "  }\n",
              "\n",
              "  .colab-df-spinner {\n",
              "    border: 2px solid var(--fill-color);\n",
              "    border-color: transparent;\n",
              "    border-bottom-color: var(--fill-color);\n",
              "    animation:\n",
              "      spin 1s steps(1) infinite;\n",
              "  }\n",
              "\n",
              "  @keyframes spin {\n",
              "    0% {\n",
              "      border-color: transparent;\n",
              "      border-bottom-color: var(--fill-color);\n",
              "      border-left-color: var(--fill-color);\n",
              "    }\n",
              "    20% {\n",
              "      border-color: transparent;\n",
              "      border-left-color: var(--fill-color);\n",
              "      border-top-color: var(--fill-color);\n",
              "    }\n",
              "    30% {\n",
              "      border-color: transparent;\n",
              "      border-left-color: var(--fill-color);\n",
              "      border-top-color: var(--fill-color);\n",
              "      border-right-color: var(--fill-color);\n",
              "    }\n",
              "    40% {\n",
              "      border-color: transparent;\n",
              "      border-right-color: var(--fill-color);\n",
              "      border-top-color: var(--fill-color);\n",
              "    }\n",
              "    60% {\n",
              "      border-color: transparent;\n",
              "      border-right-color: var(--fill-color);\n",
              "    }\n",
              "    80% {\n",
              "      border-color: transparent;\n",
              "      border-right-color: var(--fill-color);\n",
              "      border-bottom-color: var(--fill-color);\n",
              "    }\n",
              "    90% {\n",
              "      border-color: transparent;\n",
              "      border-bottom-color: var(--fill-color);\n",
              "    }\n",
              "  }\n",
              "</style>\n",
              "\n",
              "      <script>\n",
              "        async function quickchart(key) {\n",
              "          const quickchartButtonEl =\n",
              "            document.querySelector('#' + key + ' button');\n",
              "          quickchartButtonEl.disabled = true;  // To prevent multiple clicks.\n",
              "          quickchartButtonEl.classList.add('colab-df-spinner');\n",
              "          try {\n",
              "            const charts = await google.colab.kernel.invokeFunction(\n",
              "                'suggestCharts', [key], {});\n",
              "          } catch (error) {\n",
              "            console.error('Error during call to suggestCharts:', error);\n",
              "          }\n",
              "          quickchartButtonEl.classList.remove('colab-df-spinner');\n",
              "          quickchartButtonEl.classList.add('colab-df-quickchart-complete');\n",
              "        }\n",
              "        (() => {\n",
              "          let quickchartButtonEl =\n",
              "            document.querySelector('#df-e1513340-899e-499c-8cda-696388a89069 button');\n",
              "          quickchartButtonEl.style.display =\n",
              "            google.colab.kernel.accessAllowed ? 'block' : 'none';\n",
              "        })();\n",
              "      </script>\n",
              "    </div>\n",
              "\n",
              "  <div id=\"id_70b91a74-b7f6-4c89-94ef-b20503536094\">\n",
              "    <style>\n",
              "      .colab-df-generate {\n",
              "        background-color: #E8F0FE;\n",
              "        border: none;\n",
              "        border-radius: 50%;\n",
              "        cursor: pointer;\n",
              "        display: none;\n",
              "        fill: #1967D2;\n",
              "        height: 32px;\n",
              "        padding: 0 0 0 0;\n",
              "        width: 32px;\n",
              "      }\n",
              "\n",
              "      .colab-df-generate:hover {\n",
              "        background-color: #E2EBFA;\n",
              "        box-shadow: 0px 1px 2px rgba(60, 64, 67, 0.3), 0px 1px 3px 1px rgba(60, 64, 67, 0.15);\n",
              "        fill: #174EA6;\n",
              "      }\n",
              "\n",
              "      [theme=dark] .colab-df-generate {\n",
              "        background-color: #3B4455;\n",
              "        fill: #D2E3FC;\n",
              "      }\n",
              "\n",
              "      [theme=dark] .colab-df-generate:hover {\n",
              "        background-color: #434B5C;\n",
              "        box-shadow: 0px 1px 3px 1px rgba(0, 0, 0, 0.15);\n",
              "        filter: drop-shadow(0px 1px 2px rgba(0, 0, 0, 0.3));\n",
              "        fill: #FFFFFF;\n",
              "      }\n",
              "    </style>\n",
              "    <button class=\"colab-df-generate\" onclick=\"generateWithVariable('df_all')\"\n",
              "            title=\"Generate code using this dataframe.\"\n",
              "            style=\"display:none;\">\n",
              "\n",
              "  <svg xmlns=\"http://www.w3.org/2000/svg\" height=\"24px\"viewBox=\"0 0 24 24\"\n",
              "       width=\"24px\">\n",
              "    <path d=\"M7,19H8.4L18.45,9,17,7.55,7,17.6ZM5,21V16.75L18.45,3.32a2,2,0,0,1,2.83,0l1.4,1.43a1.91,1.91,0,0,1,.58,1.4,1.91,1.91,0,0,1-.58,1.4L9.25,21ZM18.45,9,17,7.55Zm-12,3A5.31,5.31,0,0,0,4.9,8.1,5.31,5.31,0,0,0,1,6.5,5.31,5.31,0,0,0,4.9,4.9,5.31,5.31,0,0,0,6.5,1,5.31,5.31,0,0,0,8.1,4.9,5.31,5.31,0,0,0,12,6.5,5.46,5.46,0,0,0,6.5,12Z\"/>\n",
              "  </svg>\n",
              "    </button>\n",
              "    <script>\n",
              "      (() => {\n",
              "      const buttonEl =\n",
              "        document.querySelector('#id_70b91a74-b7f6-4c89-94ef-b20503536094 button.colab-df-generate');\n",
              "      buttonEl.style.display =\n",
              "        google.colab.kernel.accessAllowed ? 'block' : 'none';\n",
              "\n",
              "      buttonEl.onclick = () => {\n",
              "        google.colab.notebook.generateWithVariable('df_all');\n",
              "      }\n",
              "      })();\n",
              "    </script>\n",
              "  </div>\n",
              "\n",
              "    </div>\n",
              "  </div>\n"
            ],
            "application/vnd.google.colaboratory.intrinsic+json": {
              "type": "dataframe",
              "variable_name": "df_all"
            }
          },
          "metadata": {},
          "execution_count": 20
        }
      ]
    },
    {
      "cell_type": "code",
      "source": [
        "# 구매 한 번만 한 고객 구하기(6개월치 데이터로 구매 주기 추적 위해)\n",
        "purchase_df_all = df_all[df_all['event_type'] == 'purchase']\n",
        "\n",
        "# 고객별 구매 횟수 집계\n",
        "user_purchase_count = purchase_df_all.groupby('user_id').size().reset_index(name='purchase_count')\n",
        "\n",
        "# 정확히 1회만 구매한 유저 필터링\n",
        "one_time_buyers = user_purchase_count[user_purchase_count['purchase_count'] == 1]\n",
        "\n",
        "# 결과 출력\n",
        "print(f'정확히 1회만 구매한 유저 수: {len(one_time_buyers)}명')"
      ],
      "metadata": {
        "colab": {
          "base_uri": "https://localhost:8080/"
        },
        "id": "jeNPlTrTzILL",
        "outputId": "24b76a37-c2cc-4691-8264-081af02bf7e6"
      },
      "execution_count": null,
      "outputs": [
        {
          "output_type": "stream",
          "name": "stdout",
          "text": [
            "정확히 1회만 구매한 유저 수: 1018740명\n"
          ]
        }
      ]
    },
    {
      "cell_type": "code",
      "source": [],
      "metadata": {
        "id": "F6E6wBgb0s0a"
      },
      "execution_count": null,
      "outputs": []
    },
    {
      "cell_type": "code",
      "source": [],
      "metadata": {
        "id": "5wixbhJoyt4j"
      },
      "execution_count": null,
      "outputs": []
    },
    {
      "cell_type": "code",
      "source": [],
      "metadata": {
        "id": "rAllOs5NytXr"
      },
      "execution_count": null,
      "outputs": []
    },
    {
      "cell_type": "code",
      "source": [
        "# 6개월치 구매 주기\n",
        "\n",
        "# 6개월치 카테고리별 구매 주기"
      ],
      "metadata": {
        "id": "HxHNPheUvway"
      },
      "execution_count": null,
      "outputs": []
    },
    {
      "cell_type": "code",
      "source": [],
      "metadata": {
        "id": "x3QOgvc1vpS4"
      },
      "execution_count": null,
      "outputs": []
    },
    {
      "cell_type": "code",
      "source": [
        "# 고객별 총 구매 횟수\n",
        "user_purchase_freq = purchase_df.groupby('user_id').size().reset_index(name='purchase_count')"
      ],
      "metadata": {
        "id": "89x14bmYt9ei"
      },
      "execution_count": null,
      "outputs": []
    },
    {
      "cell_type": "code",
      "source": [
        "# 고객별 총 구매 횟수의 최소값, 최대값 확인\n",
        "min_purchase_count = user_purchase_freq['purchase_count'].min()\n",
        "max_purchase_count = user_purchase_freq['purchase_count'].max()\n",
        "\n",
        "print(f\"최소 구매 횟수: {min_purchase_count}\")\n",
        "print(f\"최대 구매 횟수: {max_purchase_count}\")"
      ],
      "metadata": {
        "colab": {
          "base_uri": "https://localhost:8080/"
        },
        "id": "kSB6X7uv67_n",
        "outputId": "5b52bbb4-5989-4bb5-ac8a-4c4086fd5fc8"
      },
      "execution_count": null,
      "outputs": [
        {
          "output_type": "stream",
          "name": "stdout",
          "text": [
            "최소 구매 횟수: 1\n",
            "최대 구매 횟수: 640\n"
          ]
        }
      ]
    },
    {
      "cell_type": "code",
      "source": [
        "# 구매 횟수별 분포 시각화\n",
        "plt.figure(figsize=(10, 6))\n",
        "sns.histplot(user_purchase_freq['purchase_count'], bins=50, kde=True)\n",
        "plt.title('고객별 총 구매 횟수 분포')\n",
        "plt.xlabel('구매 횟수')\n",
        "plt.ylabel('고객 수')\n",
        "plt.xlim(0, user_purchase_freq['purchase_count'].quantile(0.99)) # 극단치 제외를 위해 99% 분위수까지 표시\n",
        "plt.show()"
      ],
      "metadata": {
        "colab": {
          "base_uri": "https://localhost:8080/",
          "height": 481
        },
        "id": "R-rEqC2b7MpW",
        "outputId": "70e9bee6-69a9-44f8-9df2-4be24d9f0327"
      },
      "execution_count": null,
      "outputs": [
        {
          "output_type": "display_data",
          "data": {
            "text/plain": [
              "<Figure size 1000x600 with 1 Axes>"
            ],
            "image/png": "[encoded data removed]"
          },
          "metadata": {}
        }
      ]
    },
    {
      "cell_type": "markdown",
      "source": [
        "| 관찰 결과     | 해석             | 전략 아이디어                 |\n",
        "| --------- | -------------- | ----------------------- |\n",
        "| 1회 구매자 다수 | 유입은 되지만 유지 안 됨 | 첫 구매 이후 **리마인드 마케팅 강화** |\n",
        "| 2\\~4회 구매자 | 이탈 직전 가능성      | **충성도 상승 유도 프로모션**      |\n",
        "| 5회 이상 구매자 | 소수 충성 고객       | **VIP 혜택·추천 제품 제안**     |"
      ],
      "metadata": {
        "id": "BsjcQ6xj8Q6J"
      }
    },
    {
      "cell_type": "markdown",
      "source": [
        "# 구매 횟수 기준\n",
        "- 드문 고객: 1회\n",
        "- 중간 고객: 2~4회\n",
        "- 빈번 고객: 5회 이상"
      ],
      "metadata": {
        "id": "Lsw1elbb8sbQ"
      }
    },
    {
      "cell_type": "code",
      "source": [
        "# 구매 횟수에 따른 평균 재구매 간격\n",
        "def bin_purchase_count(x):\n",
        "    if x == 1:\n",
        "        return '1회' # 측정 불가(재구매 없음)\n",
        "    elif x <= 4:\n",
        "        return '2~4회'\n",
        "    elif x <= 9:\n",
        "        return '5~9회'\n",
        "    else:\n",
        "        return '10회 이상'\n",
        "\n",
        "user_summary['purchase_bin'] = user_summary['purchase_count'].apply(bin_purchase_count)\n",
        "\n",
        "# 재구매 간격 박스플롯\n",
        "plt.figure(figsize=(8, 6))\n",
        "sns.boxplot(x='purchase_bin', y='days_to_next', data=user_summary)\n",
        "plt.title('구매 횟수 구간에 따른 평균 재구매 간격')\n",
        "plt.xlabel('총 구매 횟수 구간')\n",
        "plt.ylabel('평균 재구매까지 걸린 일 수')\n",
        "plt.show()"
      ],
      "metadata": {
        "colab": {
          "base_uri": "https://localhost:8080/",
          "height": 219
        },
        "id": "mC2-5NgF8lIQ",
        "outputId": "01da0797-b5cb-4fda-c6bb-4d92f041bf47"
      },
      "execution_count": null,
      "outputs": [
        {
          "output_type": "error",
          "ename": "NameError",
          "evalue": "name 'user_summary' is not defined",
          "traceback": [
            "\u001b[0;31m---------------------------------------------------------------------------\u001b[0m",
            "\u001b[0;31mNameError\u001b[0m                                 Traceback (most recent call last)",
            "\u001b[0;32m/tmp/ipython-input-19-3073781317.py\u001b[0m in \u001b[0;36m<cell line: 0>\u001b[0;34m()\u001b[0m\n\u001b[1;32m     10\u001b[0m         \u001b[0;32mreturn\u001b[0m \u001b[0;34m'10회 이상'\u001b[0m\u001b[0;34m\u001b[0m\u001b[0;34m\u001b[0m\u001b[0m\n\u001b[1;32m     11\u001b[0m \u001b[0;34m\u001b[0m\u001b[0m\n\u001b[0;32m---> 12\u001b[0;31m \u001b[0muser_summary\u001b[0m\u001b[0;34m[\u001b[0m\u001b[0;34m'purchase_bin'\u001b[0m\u001b[0;34m]\u001b[0m \u001b[0;34m=\u001b[0m \u001b[0muser_summary\u001b[0m\u001b[0;34m[\u001b[0m\u001b[0;34m'purchase_count'\u001b[0m\u001b[0;34m]\u001b[0m\u001b[0;34m.\u001b[0m\u001b[0mapply\u001b[0m\u001b[0;34m(\u001b[0m\u001b[0mbin_purchase_count\u001b[0m\u001b[0;34m)\u001b[0m\u001b[0;34m\u001b[0m\u001b[0;34m\u001b[0m\u001b[0m\n\u001b[0m\u001b[1;32m     13\u001b[0m \u001b[0;34m\u001b[0m\u001b[0m\n\u001b[1;32m     14\u001b[0m \u001b[0;31m# 재구매 간격 박스플롯\u001b[0m\u001b[0;34m\u001b[0m\u001b[0;34m\u001b[0m\u001b[0m\n",
            "\u001b[0;31mNameError\u001b[0m: name 'user_summary' is not defined"
          ]
        }
      ]
    },
    {
      "cell_type": "code",
      "source": [
        "# 구매 횟수별 주요 구매 카테고리 분석(드문/중간/빈번 따라 관심 카테고리 비교)\n",
        "# 구매 횟수 기반 고객 세그먼트\n",
        "def classify_segment(x):\n",
        "    if x >= 5:\n",
        "        return '빈번'\n",
        "    elif x >= 2:\n",
        "        return '중간'\n",
        "    else:\n",
        "        return '드문'\n",
        "\n",
        "user_summary['segment'] = user_summary['purchase_count'].apply(classify_segment)\n",
        "\n",
        "# 세그먼트 정보 추가\n",
        "purchase_df = pd.merge(purchase_df, user_summary[['user_id', 'segment']], on='user_id', how='left')\n",
        "\n",
        "# 세그먼트별 인기 카테고리\n",
        "top_category_by_segment = purchase_df.groupby(['segment', 'category_code']).size().reset_index(name='count')\n",
        "top_category_by_segment = top_category_by_segment.sort_values(['segment', 'count'], ascending=[True, False])"
      ],
      "metadata": {
        "id": "0FL-vSu58_VD"
      },
      "execution_count": null,
      "outputs": []
    },
    {
      "cell_type": "code",
      "source": [
        "top_category_by_segment"
      ],
      "metadata": {
        "id": "JlMLn55o8_SM"
      },
      "execution_count": null,
      "outputs": []
    },
    {
      "cell_type": "code",
      "source": [],
      "metadata": {
        "id": "mWoVk_8U8_Hw"
      },
      "execution_count": null,
      "outputs": []
    },
    {
      "cell_type": "code",
      "source": [],
      "metadata": {
        "id": "m3ndceIfFpH6"
      },
      "execution_count": null,
      "outputs": []
    },
    {
      "cell_type": "code",
      "source": [],
      "metadata": {
        "id": "AStA0qzxFpBc"
      },
      "execution_count": null,
      "outputs": []
    },
    {
      "cell_type": "code",
      "source": [],
      "metadata": {
        "id": "u3qR2g68Fo9z"
      },
      "execution_count": null,
      "outputs": []
    },
    {
      "cell_type": "markdown",
      "source": [
        "# 구매 기간 기준 자주 구매 vs 드물게 구매\n",
        "\n",
        "7일 이하 → 자주 구매되는 제품 (ex. 식품, 소모품, 생활용품)\n",
        "30일 이상 → 드물게 구매되는 제품 (ex. 의류, 가전, 계절용품)\n",
        "\n",
        "마케팅/실무 관점에서 직관적인 구분, 실제 유통/이커머스 업계 기준을 반영\n",
        "* 자주 구매되는 제품은 일주일 후 리마인드 메시지, 드물게 구매되는 제품은 한 달 후 리커버리 쿠폰"
      ],
      "metadata": {
        "id": "y-IANIoezYhy"
      }
    },
    {
      "cell_type": "code",
      "source": [
        "# 1. 구매 이벤트만 추출\n",
        "df_purchase = df[df['event_type'] == 'purchase'].copy()\n",
        "\n",
        "# 2. 유저별 구매 기록을 시간순 정렬\n",
        "df_purchase = df_purchase.sort_values(by=['user_id', 'event_time'])\n",
        "\n",
        "# 3. 다음 구매일 계산 (다음 구매가 없으면 NaT)\n",
        "df_purchase['next_purchase'] = df_purchase.groupby('user_id')['event_time'].shift(-1)\n",
        "\n",
        "# 4. 다음 구매까지 걸린 일 수\n",
        "df_purchase['gap_days'] = (df_purchase['next_purchase'] - df_purchase['event_time']).dt.days\n",
        "\n",
        "# 5. 다음 구매까지 30일 넘게 걸리거나, 아예 다음 구매가 없는 경우만 필터\n",
        "mask = (df_purchase['gap_days'].isna()) | (df_purchase['gap_days'] > 30)\n",
        "no_repurchase_users = df_purchase[mask]['user_id'].unique()\n",
        "\n",
        "# 6. 결과 출력\n",
        "print(f'📌 마지막 구매 후 30일 이상 추가 구매가 없는 유저 수: {len(no_repurchase_users):,}명')"
      ],
      "metadata": {
        "id": "ME5b71Q5U882"
      },
      "execution_count": null,
      "outputs": []
    },
    {
      "cell_type": "code",
      "source": [],
      "metadata": {
        "id": "rX8RGUUEXpId"
      },
      "execution_count": null,
      "outputs": []
    },
    {
      "cell_type": "code",
      "source": [],
      "metadata": {
        "id": "qBNuvEkwXojh"
      },
      "execution_count": null,
      "outputs": []
    },
    {
      "cell_type": "code",
      "source": [],
      "metadata": {
        "id": "YLQb4kpUOt8_"
      },
      "execution_count": null,
      "outputs": []
    },
    {
      "cell_type": "code",
      "source": [
        "# 카테고리별 고객 재구매 패턴 분석(상품군별 구매 주기 파악, 타겟 리텐션 기준 차별화)\n",
        "# 카테고리별로 재구매 간격 평균 구하기\n",
        "category_gap = purchase_df.dropna().groupby('category_code')['days_to_next'].mean().sort_values()"
      ],
      "metadata": {
        "id": "cqcQwkdIwMye"
      },
      "execution_count": null,
      "outputs": []
    },
    {
      "cell_type": "code",
      "source": [
        "category_gap = purchase_df.groupby('category_code')['days_to_next'].mean().reset_index()"
      ],
      "metadata": {
        "id": "FwCrvy444Zs3"
      },
      "execution_count": null,
      "outputs": []
    },
    {
      "cell_type": "code",
      "source": [
        "category_gap"
      ],
      "metadata": {
        "id": "Ky7VdIFa4vN2"
      },
      "execution_count": null,
      "outputs": []
    },
    {
      "cell_type": "code",
      "source": [
        "# category_code 컬럼의 고유값 개수 확인\n",
        "unique_category_codes_count = df['category_code'].nunique()\n",
        "print(f\"category_code 컬럼의 고유값 개수: {unique_category_codes_count}\")"
      ],
      "metadata": {
        "id": "DN2gzrVcFGkW"
      },
      "execution_count": null,
      "outputs": []
    },
    {
      "cell_type": "code",
      "source": [
        "# 절대값 기준 예시\n",
        "frequent_categories = category_gap[category_gap['days_to_next'] <= 7] # 1주 이하\n",
        "infrequent_categories = category_gap[category_gap['days_to_next'] > 7] # 8일 이상"
      ],
      "metadata": {
        "id": "yHmLOwGdwMv4"
      },
      "execution_count": null,
      "outputs": []
    },
    {
      "cell_type": "code",
      "source": [
        "infrequent_categories"
      ],
      "metadata": {
        "id": "Lr3-AFngwMqk"
      },
      "execution_count": null,
      "outputs": []
    },
    {
      "cell_type": "code",
      "source": [
        "# # N일 이상 이탈 기준 설정 (사용자별 마지막 구매일 이후 n일 이상 구매 없으면 이탈 후보)\n",
        "# last_purchase = purchase_df.groupby('user_id')['event_time'].max().reset_index()\n",
        "# last_purchase['days_since_last'] = (pd.to_datetime('2019-12-01') - last_purchase['event_time']).dt.days  # 기준일 예시\n",
        "\n",
        "# # 30일 이상 이탈 고객\n",
        "# churned_users = last_purchase[last_purchase['days_since_last'] >= 30]"
      ],
      "metadata": {
        "id": "Fyod8baX6Wig"
      },
      "execution_count": null,
      "outputs": []
    },
    {
      "cell_type": "code",
      "source": [
        "# 월별 베스트셀러\n",
        "purchase_df['event_month'] = purchase_df['event_time'].dt.to_period('M')\n",
        "monthly_best = purchase_df.groupby(['event_month', 'product_id']).size().reset_index(name='purchase_count')\n",
        "\n",
        "# 상위 10개 베스트셀러\n",
        "top_sellers = monthly_best.groupby('event_month').apply(lambda x: x.sort_values(by='purchase_count', ascending=False).head(10)).reset_index(drop=True)"
      ],
      "metadata": {
        "id": "d9-nYMdt6WfR"
      },
      "execution_count": null,
      "outputs": []
    },
    {
      "cell_type": "code",
      "source": [
        "top_sellers = top_sellers.merge(product_df[['product_id', 'product_name']], on='product_id', how='left')\n"
      ],
      "metadata": {
        "id": "Qqd5MuNQ6Wco"
      },
      "execution_count": null,
      "outputs": []
    },
    {
      "cell_type": "code",
      "source": [],
      "metadata": {
        "id": "kFhJR_Ya6WaT"
      },
      "execution_count": null,
      "outputs": []
    },
    {
      "cell_type": "code",
      "source": [],
      "metadata": {
        "id": "_bO5cvP56WX_"
      },
      "execution_count": null,
      "outputs": []
    },
    {
      "cell_type": "code",
      "source": [],
      "metadata": {
        "id": "F5RDQfK96WVg"
      },
      "execution_count": null,
      "outputs": []
    },
    {
      "cell_type": "code",
      "source": [],
      "metadata": {
        "id": "YJQOZSSi6WS_"
      },
      "execution_count": null,
      "outputs": []
    },
    {
      "cell_type": "code",
      "source": [],
      "metadata": {
        "id": "9zXB4S5Y6WQm"
      },
      "execution_count": null,
      "outputs": []
    },
    {
      "cell_type": "code",
      "source": [
        "# 고객 세그멘테이션 (얼마나 자주 구매했는가: 빈번/중간/드문)\n",
        "def classify_customer(x):\n",
        "    if x >= 5:\n",
        "        return '빈번'\n",
        "    elif x >= 2:\n",
        "        return '중간'\n",
        "    else:\n",
        "        return '드문'\n",
        "\n",
        "user_purchase_freq['segment'] = user_purchase_freq['purchase_count'].apply(classify_customer)"
      ],
      "metadata": {
        "id": "MRsG4xk5wMn8"
      },
      "execution_count": null,
      "outputs": []
    },
    {
      "cell_type": "code",
      "source": [],
      "metadata": {
        "id": "VFDCaGISwMlZ"
      },
      "execution_count": null,
      "outputs": []
    },
    {
      "cell_type": "code",
      "source": [],
      "metadata": {
        "id": "bFumD38DwMi4"
      },
      "execution_count": null,
      "outputs": []
    },
    {
      "cell_type": "code",
      "source": [],
      "metadata": {
        "id": "NImk_VYvwMga"
      },
      "execution_count": null,
      "outputs": []
    },
    {
      "cell_type": "code",
      "source": [],
      "metadata": {
        "id": "hyq4RUzdwMdv"
      },
      "execution_count": null,
      "outputs": []
    },
    {
      "cell_type": "code",
      "source": [],
      "metadata": {
        "id": "4qedxLjuwMYc"
      },
      "execution_count": null,
      "outputs": []
    },
    {
      "cell_type": "code",
      "source": [
        "# 이벤트 유형 분포 확인\n",
        "df['event_type'].value_counts().plot(kind='bar', title='event.type 분포', figsize=(8,4))\n",
        "plt.xlabel('event_type'); plt.ylabel('건수')\n",
        "plt.show()\n"
      ],
      "metadata": {
        "id": "oeS4hU9Hykmf"
      },
      "execution_count": null,
      "outputs": []
    },
    {
      "cell_type": "code",
      "source": [
        "# 'purchase' event_type의 건수 확인\n",
        "purchase_count = df[df['event_type'] == 'purchase'].shape[0]\n",
        "print(f\"구매 (purchase) 이벤트 건수: {purchase_count}\")"
      ],
      "metadata": {
        "id": "I8x9QNkcZxSb"
      },
      "execution_count": null,
      "outputs": []
    },
    {
      "cell_type": "code",
      "source": [],
      "metadata": {
        "id": "NudNbrZYZxJv"
      },
      "execution_count": null,
      "outputs": []
    },
    {
      "cell_type": "code",
      "source": [],
      "metadata": {
        "id": "LbtNQpLhazYh"
      },
      "execution_count": null,
      "outputs": []
    },
    {
      "cell_type": "code",
      "source": [
        "# 고객별 첫 구매 ~ 다음 구매 간 시간 간격 계산\n",
        "purchase_df['next_purchase'] = purchase_df.groupby('user_id')['event_time'].shift(-1)\n",
        "purchase_df['days_to_next'] = (purchase_df['next_purchase'] - purchase_df['event_time']).dt.days\n",
        "\n",
        "# 고객별 구매 횟수\n",
        "purchase_counts = purchase_df.groupby('user_id').size().reset_index(name='purchase_count')"
      ],
      "metadata": {
        "id": "r65wJmWRazUt"
      },
      "execution_count": null,
      "outputs": []
    },
    {
      "cell_type": "code",
      "source": [
        "# 재구매 간격 분포 확인\n",
        "import matplotlib.pyplot as plt\n",
        "\n",
        "purchase_df['days_to_next'].dropna().clip(upper=60).hist(bins=30)\n",
        "plt.title('재구매까지 걸린 일 수 분포 (60일 이상은 클리핑)')\n",
        "plt.xlabel('Days to Next Purchase')\n",
        "plt.ylabel('Number of Users')\n",
        "plt.show()"
      ],
      "metadata": {
        "id": "qxUtFBdGazQu"
      },
      "execution_count": null,
      "outputs": []
    },
    {
      "cell_type": "markdown",
      "source": [
        "-> n일 이상 재구매 없으면 이탈이라는 기준 설정 필요"
      ],
      "metadata": {
        "id": "r8uHsNR5bhQu"
      }
    },
    {
      "cell_type": "code",
      "source": [
        "# 제품 정보 확인\n",
        "df['category_code'].value_counts().head(20)"
      ],
      "metadata": {
        "id": "ji8lidnfbW-A"
      },
      "execution_count": null,
      "outputs": []
    },
    {
      "cell_type": "code",
      "source": [],
      "metadata": {
        "id": "3VinDdDMbRuf"
      },
      "execution_count": null,
      "outputs": []
    },
    {
      "cell_type": "code",
      "source": [
        "# 시간대별 사용자 행동\n",
        "hourly = df.groupby(['event_hour', 'event_type']).size().unstack()\n",
        "hourly.plot(kind='line', figsize=(10,5), title='시간대별 이벤트 발생량')\n",
        "plt.xlabel('시간'); plt.ylabel('이벤트 수')\n",
        "plt.show()\n"
      ],
      "metadata": {
        "id": "ZuiizfYeyqZp"
      },
      "execution_count": null,
      "outputs": []
    },
    {
      "cell_type": "code",
      "source": [],
      "metadata": {
        "id": "qvONDFIMy1zr"
      },
      "execution_count": null,
      "outputs": []
    },
    {
      "cell_type": "code",
      "source": [
        "# # 신규 고객: 11월 내 처음 등장한 유저\n",
        "# first_event = df.groupby('user_id')['event_time'].min().reset_index()\n",
        "# first_event.columns = ['user_id', 'first_event_time']\n",
        "# df = df.merge(first_event, on='user_id')\n",
        "# df['days_since_first'] = (df['event_time'] - df['first_event_time']).dt.days\n",
        "# # df"
      ],
      "metadata": {
        "id": "_Z_aP9y4zmZ3"
      },
      "execution_count": null,
      "outputs": []
    },
    {
      "cell_type": "code",
      "source": [
        "# # 첫 방문 시 행동 분석\n",
        "# first_day_events = df[df['days_since_first'] == 0]\n",
        "# first_day_events['event_type'].value_counts(normalize=True).plot(kind='bar', title='신규 고객의 첫날 행동 비율')\n",
        "# plt.show()"
      ],
      "metadata": {
        "id": "FbZAcFRSz3WI"
      },
      "execution_count": null,
      "outputs": []
    },
    {
      "cell_type": "code",
      "source": [],
      "metadata": {
        "id": "HDgtSHsjz4uz"
      },
      "execution_count": null,
      "outputs": []
    },
    {
      "cell_type": "code",
      "source": [],
      "metadata": {
        "id": "PHSOcpC2a4a1"
      },
      "execution_count": null,
      "outputs": []
    },
    {
      "cell_type": "code",
      "source": [],
      "metadata": {
        "id": "xG_cc3LOkAGH"
      },
      "execution_count": null,
      "outputs": []
    }
  ]
}
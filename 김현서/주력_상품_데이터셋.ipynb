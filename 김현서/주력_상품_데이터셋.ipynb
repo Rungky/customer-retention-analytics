{
  "nbformat": 4,
  "nbformat_minor": 0,
  "metadata": {
    "colab": {
      "provenance": [],
      "machine_shape": "hm"
    },
    "kernelspec": {
      "name": "python3",
      "display_name": "Python 3"
    },
    "language_info": {
      "name": "python"
    }
  },
  "cells": [
    {
      "cell_type": "code",
      "execution_count": 6,
      "metadata": {
        "id": "DiYciOfdC1iq"
      },
      "outputs": [],
      "source": [
        "import pandas as pd"
      ]
    },
    {
      "cell_type": "code",
      "source": [
        "# 파일 불러오기\n",
        "# df = pd.read_csv('/content/drive/MyDrive/data/2019-Oct.csv')\n",
        "# df = pd.read_csv('/content/drive/MyDrive/data/2019-Nov.csv')\n",
        "# df = pd.read_csv('/content/drive/MyDrive/data/2019-Dec.csv')\n",
        "# df = pd.read_csv('/content/drive/MyDrive/data/2020-Jan.csv')\n",
        "# df = pd.read_csv('/content/drive/MyDrive/data/2020-Feb.csv')\n",
        "# df = pd.read_csv('/content/drive/MyDrive/data/2020-Mar.csv')\n",
        "# df = pd.read_csv('/content/drive/MyDrive/data/2020-Apr.csv')\n",
        "df = pd.read_parquet('/content/drive/MyDrive/data/cart_purchase_only.parquet')"
      ],
      "metadata": {
        "id": "Jon4oLrPC_3w"
      },
      "execution_count": 7,
      "outputs": []
    },
    {
      "cell_type": "code",
      "source": [
        "df"
      ],
      "metadata": {
        "id": "F7joYvzDFsUe",
        "colab": {
          "base_uri": "https://localhost:8080/",
          "height": 843
        },
        "outputId": "222d5563-a702-4206-b788-7ccd53a5f1e5"
      },
      "execution_count": 8,
      "outputs": [
        {
          "output_type": "execute_result",
          "data": {
            "text/plain": [
              "                        event_time event_type  product_id  \\\n",
              "0        2019-10-01 00:02:14+00:00   purchase     1004856   \n",
              "1        2019-10-01 00:04:37+00:00   purchase     1002532   \n",
              "2        2019-10-01 00:09:26+00:00   purchase     4804055   \n",
              "3        2019-10-01 00:09:33+00:00       cart     1002524   \n",
              "4        2019-10-01 00:09:54+00:00   purchase     4804056   \n",
              "...                            ...        ...         ...   \n",
              "17075548 2020-03-31 23:59:35+00:00       cart   100011103   \n",
              "17075549 2020-03-31 23:59:35+00:00       cart     8700232   \n",
              "17075550 2020-03-31 23:59:44+00:00       cart   100006963   \n",
              "17075551 2020-03-31 23:59:50+00:00       cart     1701027   \n",
              "17075552 2020-03-31 23:59:55+00:00       cart     5100375   \n",
              "\n",
              "                  category_id                    category_code    brand  \\\n",
              "0         2053013555631882655           electronics.smartphone  samsung   \n",
              "1         2053013555631882655           electronics.smartphone    apple   \n",
              "2         2053013554658804075      electronics.audio.headphone    apple   \n",
              "3         2053013555631882655           electronics.smartphone    apple   \n",
              "4         2053013554658804075      electronics.audio.headphone    apple   \n",
              "...                       ...                              ...      ...   \n",
              "17075548  2053013554658804075      electronics.audio.headphone     acer   \n",
              "17075549  2232732089587859740  appliances.personal.hair_cutter    vitek   \n",
              "17075550  2232732099754852875     appliances.personal.massager    yasin   \n",
              "17075551  2232732099981345295     appliances.personal.massager  samsung   \n",
              "17075552  2232732103101907535               electronics.clocks   xiaomi   \n",
              "\n",
              "           price    user_id                          user_session event_date  \\\n",
              "0         130.76  543272936  8187d148-3c41-46d4-b0c0-9c08cd9dc564 2019-10-01   \n",
              "1         642.69  551377651  3c80f0d6-e9ec-4181-8c5c-837a30be2d68 2019-10-01   \n",
              "2         189.91  524601178  2af9b570-0942-4dcd-8f25-4d84fba82553 2019-10-01   \n",
              "3         515.67  524325294  0b74a829-f9d7-4654-b5b0-35bc9822c238 2019-10-01   \n",
              "4         161.98  551377651  3c80f0d6-e9ec-4181-8c5c-837a30be2d68 2019-10-01   \n",
              "...          ...        ...                                   ...        ...   \n",
              "17075548  385.57  522177285  902aa3e5-957a-49e4-8638-ddbbe895808a 2020-03-31   \n",
              "17075549   38.59  571822727  dabea208-878f-45bf-9865-fca43b201874 2020-03-31   \n",
              "17075550  163.16  629229484  c00a1636-dfc2-4e96-a6a3-7fd979e93789 2020-03-31   \n",
              "17075551  154.42  572260610  2e16ffb5-996f-40d3-b98e-ddc53b546357 2020-03-31   \n",
              "17075552   84.94  635164513  c40d1b96-90aa-4cee-b9aa-9475d9c4f17f 2020-03-31   \n",
              "\n",
              "          event_hour category_lvl1 category_lvl2 category_lvl3 category_lvl4  \n",
              "0                  0   electronics    smartphone          None          None  \n",
              "1                  0   electronics    smartphone          None          None  \n",
              "2                  0   electronics         audio     headphone          None  \n",
              "3                  0   electronics    smartphone          None          None  \n",
              "4                  0   electronics         audio     headphone          None  \n",
              "...              ...           ...           ...           ...           ...  \n",
              "17075548          23   electronics         audio     headphone          None  \n",
              "17075549          23    appliances      personal   hair_cutter          None  \n",
              "17075550          23    appliances      personal      massager          None  \n",
              "17075551          23    appliances      personal      massager          None  \n",
              "17075552          23   electronics        clocks          None          None  \n",
              "\n",
              "[17075553 rows x 15 columns]"
            ],
            "text/html": [
              "\n",
              "  <div id=\"df-efcd43a6-0113-4af3-8340-c3c4788cff87\" class=\"colab-df-container\">\n",
              "    <div>\n",
              "<style scoped>\n",
              "    .dataframe tbody tr th:only-of-type {\n",
              "        vertical-align: middle;\n",
              "    }\n",
              "\n",
              "    .dataframe tbody tr th {\n",
              "        vertical-align: top;\n",
              "    }\n",
              "\n",
              "    .dataframe thead th {\n",
              "        text-align: right;\n",
              "    }\n",
              "</style>\n",
              "<table border=\"1\" class=\"dataframe\">\n",
              "  <thead>\n",
              "    <tr style=\"text-align: right;\">\n",
              "      <th></th>\n",
              "      <th>event_time</th>\n",
              "      <th>event_type</th>\n",
              "      <th>product_id</th>\n",
              "      <th>category_id</th>\n",
              "      <th>category_code</th>\n",
              "      <th>brand</th>\n",
              "      <th>price</th>\n",
              "      <th>user_id</th>\n",
              "      <th>user_session</th>\n",
              "      <th>event_date</th>\n",
              "      <th>event_hour</th>\n",
              "      <th>category_lvl1</th>\n",
              "      <th>category_lvl2</th>\n",
              "      <th>category_lvl3</th>\n",
              "      <th>category_lvl4</th>\n",
              "    </tr>\n",
              "  </thead>\n",
              "  <tbody>\n",
              "    <tr>\n",
              "      <th>0</th>\n",
              "      <td>2019-10-01 00:02:14+00:00</td>\n",
              "      <td>purchase</td>\n",
              "      <td>1004856</td>\n",
              "      <td>2053013555631882655</td>\n",
              "      <td>electronics.smartphone</td>\n",
              "      <td>samsung</td>\n",
              "      <td>130.76</td>\n",
              "      <td>543272936</td>\n",
              "      <td>8187d148-3c41-46d4-b0c0-9c08cd9dc564</td>\n",
              "      <td>2019-10-01</td>\n",
              "      <td>0</td>\n",
              "      <td>electronics</td>\n",
              "      <td>smartphone</td>\n",
              "      <td>None</td>\n",
              "      <td>None</td>\n",
              "    </tr>\n",
              "    <tr>\n",
              "      <th>1</th>\n",
              "      <td>2019-10-01 00:04:37+00:00</td>\n",
              "      <td>purchase</td>\n",
              "      <td>1002532</td>\n",
              "      <td>2053013555631882655</td>\n",
              "      <td>electronics.smartphone</td>\n",
              "      <td>apple</td>\n",
              "      <td>642.69</td>\n",
              "      <td>551377651</td>\n",
              "      <td>3c80f0d6-e9ec-4181-8c5c-837a30be2d68</td>\n",
              "      <td>2019-10-01</td>\n",
              "      <td>0</td>\n",
              "      <td>electronics</td>\n",
              "      <td>smartphone</td>\n",
              "      <td>None</td>\n",
              "      <td>None</td>\n",
              "    </tr>\n",
              "    <tr>\n",
              "      <th>2</th>\n",
              "      <td>2019-10-01 00:09:26+00:00</td>\n",
              "      <td>purchase</td>\n",
              "      <td>4804055</td>\n",
              "      <td>2053013554658804075</td>\n",
              "      <td>electronics.audio.headphone</td>\n",
              "      <td>apple</td>\n",
              "      <td>189.91</td>\n",
              "      <td>524601178</td>\n",
              "      <td>2af9b570-0942-4dcd-8f25-4d84fba82553</td>\n",
              "      <td>2019-10-01</td>\n",
              "      <td>0</td>\n",
              "      <td>electronics</td>\n",
              "      <td>audio</td>\n",
              "      <td>headphone</td>\n",
              "      <td>None</td>\n",
              "    </tr>\n",
              "    <tr>\n",
              "      <th>3</th>\n",
              "      <td>2019-10-01 00:09:33+00:00</td>\n",
              "      <td>cart</td>\n",
              "      <td>1002524</td>\n",
              "      <td>2053013555631882655</td>\n",
              "      <td>electronics.smartphone</td>\n",
              "      <td>apple</td>\n",
              "      <td>515.67</td>\n",
              "      <td>524325294</td>\n",
              "      <td>0b74a829-f9d7-4654-b5b0-35bc9822c238</td>\n",
              "      <td>2019-10-01</td>\n",
              "      <td>0</td>\n",
              "      <td>electronics</td>\n",
              "      <td>smartphone</td>\n",
              "      <td>None</td>\n",
              "      <td>None</td>\n",
              "    </tr>\n",
              "    <tr>\n",
              "      <th>4</th>\n",
              "      <td>2019-10-01 00:09:54+00:00</td>\n",
              "      <td>purchase</td>\n",
              "      <td>4804056</td>\n",
              "      <td>2053013554658804075</td>\n",
              "      <td>electronics.audio.headphone</td>\n",
              "      <td>apple</td>\n",
              "      <td>161.98</td>\n",
              "      <td>551377651</td>\n",
              "      <td>3c80f0d6-e9ec-4181-8c5c-837a30be2d68</td>\n",
              "      <td>2019-10-01</td>\n",
              "      <td>0</td>\n",
              "      <td>electronics</td>\n",
              "      <td>audio</td>\n",
              "      <td>headphone</td>\n",
              "      <td>None</td>\n",
              "    </tr>\n",
              "    <tr>\n",
              "      <th>...</th>\n",
              "      <td>...</td>\n",
              "      <td>...</td>\n",
              "      <td>...</td>\n",
              "      <td>...</td>\n",
              "      <td>...</td>\n",
              "      <td>...</td>\n",
              "      <td>...</td>\n",
              "      <td>...</td>\n",
              "      <td>...</td>\n",
              "      <td>...</td>\n",
              "      <td>...</td>\n",
              "      <td>...</td>\n",
              "      <td>...</td>\n",
              "      <td>...</td>\n",
              "      <td>...</td>\n",
              "    </tr>\n",
              "    <tr>\n",
              "      <th>17075548</th>\n",
              "      <td>2020-03-31 23:59:35+00:00</td>\n",
              "      <td>cart</td>\n",
              "      <td>100011103</td>\n",
              "      <td>2053013554658804075</td>\n",
              "      <td>electronics.audio.headphone</td>\n",
              "      <td>acer</td>\n",
              "      <td>385.57</td>\n",
              "      <td>522177285</td>\n",
              "      <td>902aa3e5-957a-49e4-8638-ddbbe895808a</td>\n",
              "      <td>2020-03-31</td>\n",
              "      <td>23</td>\n",
              "      <td>electronics</td>\n",
              "      <td>audio</td>\n",
              "      <td>headphone</td>\n",
              "      <td>None</td>\n",
              "    </tr>\n",
              "    <tr>\n",
              "      <th>17075549</th>\n",
              "      <td>2020-03-31 23:59:35+00:00</td>\n",
              "      <td>cart</td>\n",
              "      <td>8700232</td>\n",
              "      <td>2232732089587859740</td>\n",
              "      <td>appliances.personal.hair_cutter</td>\n",
              "      <td>vitek</td>\n",
              "      <td>38.59</td>\n",
              "      <td>571822727</td>\n",
              "      <td>dabea208-878f-45bf-9865-fca43b201874</td>\n",
              "      <td>2020-03-31</td>\n",
              "      <td>23</td>\n",
              "      <td>appliances</td>\n",
              "      <td>personal</td>\n",
              "      <td>hair_cutter</td>\n",
              "      <td>None</td>\n",
              "    </tr>\n",
              "    <tr>\n",
              "      <th>17075550</th>\n",
              "      <td>2020-03-31 23:59:44+00:00</td>\n",
              "      <td>cart</td>\n",
              "      <td>100006963</td>\n",
              "      <td>2232732099754852875</td>\n",
              "      <td>appliances.personal.massager</td>\n",
              "      <td>yasin</td>\n",
              "      <td>163.16</td>\n",
              "      <td>629229484</td>\n",
              "      <td>c00a1636-dfc2-4e96-a6a3-7fd979e93789</td>\n",
              "      <td>2020-03-31</td>\n",
              "      <td>23</td>\n",
              "      <td>appliances</td>\n",
              "      <td>personal</td>\n",
              "      <td>massager</td>\n",
              "      <td>None</td>\n",
              "    </tr>\n",
              "    <tr>\n",
              "      <th>17075551</th>\n",
              "      <td>2020-03-31 23:59:50+00:00</td>\n",
              "      <td>cart</td>\n",
              "      <td>1701027</td>\n",
              "      <td>2232732099981345295</td>\n",
              "      <td>appliances.personal.massager</td>\n",
              "      <td>samsung</td>\n",
              "      <td>154.42</td>\n",
              "      <td>572260610</td>\n",
              "      <td>2e16ffb5-996f-40d3-b98e-ddc53b546357</td>\n",
              "      <td>2020-03-31</td>\n",
              "      <td>23</td>\n",
              "      <td>appliances</td>\n",
              "      <td>personal</td>\n",
              "      <td>massager</td>\n",
              "      <td>None</td>\n",
              "    </tr>\n",
              "    <tr>\n",
              "      <th>17075552</th>\n",
              "      <td>2020-03-31 23:59:55+00:00</td>\n",
              "      <td>cart</td>\n",
              "      <td>5100375</td>\n",
              "      <td>2232732103101907535</td>\n",
              "      <td>electronics.clocks</td>\n",
              "      <td>xiaomi</td>\n",
              "      <td>84.94</td>\n",
              "      <td>635164513</td>\n",
              "      <td>c40d1b96-90aa-4cee-b9aa-9475d9c4f17f</td>\n",
              "      <td>2020-03-31</td>\n",
              "      <td>23</td>\n",
              "      <td>electronics</td>\n",
              "      <td>clocks</td>\n",
              "      <td>None</td>\n",
              "      <td>None</td>\n",
              "    </tr>\n",
              "  </tbody>\n",
              "</table>\n",
              "<p>17075553 rows × 15 columns</p>\n",
              "</div>\n",
              "    <div class=\"colab-df-buttons\">\n",
              "\n",
              "  <div class=\"colab-df-container\">\n",
              "    <button class=\"colab-df-convert\" onclick=\"convertToInteractive('df-efcd43a6-0113-4af3-8340-c3c4788cff87')\"\n",
              "            title=\"Convert this dataframe to an interactive table.\"\n",
              "            style=\"display:none;\">\n",
              "\n",
              "  <svg xmlns=\"http://www.w3.org/2000/svg\" height=\"24px\" viewBox=\"0 -960 960 960\">\n",
              "    <path d=\"M120-120v-720h720v720H120Zm60-500h600v-160H180v160Zm220 220h160v-160H400v160Zm0 220h160v-160H400v160ZM180-400h160v-160H180v160Zm440 0h160v-160H620v160ZM180-180h160v-160H180v160Zm440 0h160v-160H620v160Z\"/>\n",
              "  </svg>\n",
              "    </button>\n",
              "\n",
              "  <style>\n",
              "    .colab-df-container {\n",
              "      display:flex;\n",
              "      gap: 12px;\n",
              "    }\n",
              "\n",
              "    .colab-df-convert {\n",
              "      background-color: #E8F0FE;\n",
              "      border: none;\n",
              "      border-radius: 50%;\n",
              "      cursor: pointer;\n",
              "      display: none;\n",
              "      fill: #1967D2;\n",
              "      height: 32px;\n",
              "      padding: 0 0 0 0;\n",
              "      width: 32px;\n",
              "    }\n",
              "\n",
              "    .colab-df-convert:hover {\n",
              "      background-color: #E2EBFA;\n",
              "      box-shadow: 0px 1px 2px rgba(60, 64, 67, 0.3), 0px 1px 3px 1px rgba(60, 64, 67, 0.15);\n",
              "      fill: #174EA6;\n",
              "    }\n",
              "\n",
              "    .colab-df-buttons div {\n",
              "      margin-bottom: 4px;\n",
              "    }\n",
              "\n",
              "    [theme=dark] .colab-df-convert {\n",
              "      background-color: #3B4455;\n",
              "      fill: #D2E3FC;\n",
              "    }\n",
              "\n",
              "    [theme=dark] .colab-df-convert:hover {\n",
              "      background-color: #434B5C;\n",
              "      box-shadow: 0px 1px 3px 1px rgba(0, 0, 0, 0.15);\n",
              "      filter: drop-shadow(0px 1px 2px rgba(0, 0, 0, 0.3));\n",
              "      fill: #FFFFFF;\n",
              "    }\n",
              "  </style>\n",
              "\n",
              "    <script>\n",
              "      const buttonEl =\n",
              "        document.querySelector('#df-efcd43a6-0113-4af3-8340-c3c4788cff87 button.colab-df-convert');\n",
              "      buttonEl.style.display =\n",
              "        google.colab.kernel.accessAllowed ? 'block' : 'none';\n",
              "\n",
              "      async function convertToInteractive(key) {\n",
              "        const element = document.querySelector('#df-efcd43a6-0113-4af3-8340-c3c4788cff87');\n",
              "        const dataTable =\n",
              "          await google.colab.kernel.invokeFunction('convertToInteractive',\n",
              "                                                    [key], {});\n",
              "        if (!dataTable) return;\n",
              "\n",
              "        const docLinkHtml = 'Like what you see? Visit the ' +\n",
              "          '<a target=\"_blank\" href=https://colab.research.google.com/notebooks/data_table.ipynb>data table notebook</a>'\n",
              "          + ' to learn more about interactive tables.';\n",
              "        element.innerHTML = '';\n",
              "        dataTable['output_type'] = 'display_data';\n",
              "        await google.colab.output.renderOutput(dataTable, element);\n",
              "        const docLink = document.createElement('div');\n",
              "        docLink.innerHTML = docLinkHtml;\n",
              "        element.appendChild(docLink);\n",
              "      }\n",
              "    </script>\n",
              "  </div>\n",
              "\n",
              "\n",
              "    <div id=\"df-143cd4f6-7f98-4fe5-85fc-9b478b47ba2f\">\n",
              "      <button class=\"colab-df-quickchart\" onclick=\"quickchart('df-143cd4f6-7f98-4fe5-85fc-9b478b47ba2f')\"\n",
              "                title=\"Suggest charts\"\n",
              "                style=\"display:none;\">\n",
              "\n",
              "<svg xmlns=\"http://www.w3.org/2000/svg\" height=\"24px\"viewBox=\"0 0 24 24\"\n",
              "     width=\"24px\">\n",
              "    <g>\n",
              "        <path d=\"M19 3H5c-1.1 0-2 .9-2 2v14c0 1.1.9 2 2 2h14c1.1 0 2-.9 2-2V5c0-1.1-.9-2-2-2zM9 17H7v-7h2v7zm4 0h-2V7h2v10zm4 0h-2v-4h2v4z\"/>\n",
              "    </g>\n",
              "</svg>\n",
              "      </button>\n",
              "\n",
              "<style>\n",
              "  .colab-df-quickchart {\n",
              "      --bg-color: #E8F0FE;\n",
              "      --fill-color: #1967D2;\n",
              "      --hover-bg-color: #E2EBFA;\n",
              "      --hover-fill-color: #174EA6;\n",
              "      --disabled-fill-color: #AAA;\n",
              "      --disabled-bg-color: #DDD;\n",
              "  }\n",
              "\n",
              "  [theme=dark] .colab-df-quickchart {\n",
              "      --bg-color: #3B4455;\n",
              "      --fill-color: #D2E3FC;\n",
              "      --hover-bg-color: #434B5C;\n",
              "      --hover-fill-color: #FFFFFF;\n",
              "      --disabled-bg-color: #3B4455;\n",
              "      --disabled-fill-color: #666;\n",
              "  }\n",
              "\n",
              "  .colab-df-quickchart {\n",
              "    background-color: var(--bg-color);\n",
              "    border: none;\n",
              "    border-radius: 50%;\n",
              "    cursor: pointer;\n",
              "    display: none;\n",
              "    fill: var(--fill-color);\n",
              "    height: 32px;\n",
              "    padding: 0;\n",
              "    width: 32px;\n",
              "  }\n",
              "\n",
              "  .colab-df-quickchart:hover {\n",
              "    background-color: var(--hover-bg-color);\n",
              "    box-shadow: 0 1px 2px rgba(60, 64, 67, 0.3), 0 1px 3px 1px rgba(60, 64, 67, 0.15);\n",
              "    fill: var(--button-hover-fill-color);\n",
              "  }\n",
              "\n",
              "  .colab-df-quickchart-complete:disabled,\n",
              "  .colab-df-quickchart-complete:disabled:hover {\n",
              "    background-color: var(--disabled-bg-color);\n",
              "    fill: var(--disabled-fill-color);\n",
              "    box-shadow: none;\n",
              "  }\n",
              "\n",
              "  .colab-df-spinner {\n",
              "    border: 2px solid var(--fill-color);\n",
              "    border-color: transparent;\n",
              "    border-bottom-color: var(--fill-color);\n",
              "    animation:\n",
              "      spin 1s steps(1) infinite;\n",
              "  }\n",
              "\n",
              "  @keyframes spin {\n",
              "    0% {\n",
              "      border-color: transparent;\n",
              "      border-bottom-color: var(--fill-color);\n",
              "      border-left-color: var(--fill-color);\n",
              "    }\n",
              "    20% {\n",
              "      border-color: transparent;\n",
              "      border-left-color: var(--fill-color);\n",
              "      border-top-color: var(--fill-color);\n",
              "    }\n",
              "    30% {\n",
              "      border-color: transparent;\n",
              "      border-left-color: var(--fill-color);\n",
              "      border-top-color: var(--fill-color);\n",
              "      border-right-color: var(--fill-color);\n",
              "    }\n",
              "    40% {\n",
              "      border-color: transparent;\n",
              "      border-right-color: var(--fill-color);\n",
              "      border-top-color: var(--fill-color);\n",
              "    }\n",
              "    60% {\n",
              "      border-color: transparent;\n",
              "      border-right-color: var(--fill-color);\n",
              "    }\n",
              "    80% {\n",
              "      border-color: transparent;\n",
              "      border-right-color: var(--fill-color);\n",
              "      border-bottom-color: var(--fill-color);\n",
              "    }\n",
              "    90% {\n",
              "      border-color: transparent;\n",
              "      border-bottom-color: var(--fill-color);\n",
              "    }\n",
              "  }\n",
              "</style>\n",
              "\n",
              "      <script>\n",
              "        async function quickchart(key) {\n",
              "          const quickchartButtonEl =\n",
              "            document.querySelector('#' + key + ' button');\n",
              "          quickchartButtonEl.disabled = true;  // To prevent multiple clicks.\n",
              "          quickchartButtonEl.classList.add('colab-df-spinner');\n",
              "          try {\n",
              "            const charts = await google.colab.kernel.invokeFunction(\n",
              "                'suggestCharts', [key], {});\n",
              "          } catch (error) {\n",
              "            console.error('Error during call to suggestCharts:', error);\n",
              "          }\n",
              "          quickchartButtonEl.classList.remove('colab-df-spinner');\n",
              "          quickchartButtonEl.classList.add('colab-df-quickchart-complete');\n",
              "        }\n",
              "        (() => {\n",
              "          let quickchartButtonEl =\n",
              "            document.querySelector('#df-143cd4f6-7f98-4fe5-85fc-9b478b47ba2f button');\n",
              "          quickchartButtonEl.style.display =\n",
              "            google.colab.kernel.accessAllowed ? 'block' : 'none';\n",
              "        })();\n",
              "      </script>\n",
              "    </div>\n",
              "\n",
              "  <div id=\"id_6e03a581-7a9c-4669-a6fa-b1d113d4f4b6\">\n",
              "    <style>\n",
              "      .colab-df-generate {\n",
              "        background-color: #E8F0FE;\n",
              "        border: none;\n",
              "        border-radius: 50%;\n",
              "        cursor: pointer;\n",
              "        display: none;\n",
              "        fill: #1967D2;\n",
              "        height: 32px;\n",
              "        padding: 0 0 0 0;\n",
              "        width: 32px;\n",
              "      }\n",
              "\n",
              "      .colab-df-generate:hover {\n",
              "        background-color: #E2EBFA;\n",
              "        box-shadow: 0px 1px 2px rgba(60, 64, 67, 0.3), 0px 1px 3px 1px rgba(60, 64, 67, 0.15);\n",
              "        fill: #174EA6;\n",
              "      }\n",
              "\n",
              "      [theme=dark] .colab-df-generate {\n",
              "        background-color: #3B4455;\n",
              "        fill: #D2E3FC;\n",
              "      }\n",
              "\n",
              "      [theme=dark] .colab-df-generate:hover {\n",
              "        background-color: #434B5C;\n",
              "        box-shadow: 0px 1px 3px 1px rgba(0, 0, 0, 0.15);\n",
              "        filter: drop-shadow(0px 1px 2px rgba(0, 0, 0, 0.3));\n",
              "        fill: #FFFFFF;\n",
              "      }\n",
              "    </style>\n",
              "    <button class=\"colab-df-generate\" onclick=\"generateWithVariable('df')\"\n",
              "            title=\"Generate code using this dataframe.\"\n",
              "            style=\"display:none;\">\n",
              "\n",
              "  <svg xmlns=\"http://www.w3.org/2000/svg\" height=\"24px\"viewBox=\"0 0 24 24\"\n",
              "       width=\"24px\">\n",
              "    <path d=\"M7,19H8.4L18.45,9,17,7.55,7,17.6ZM5,21V16.75L18.45,3.32a2,2,0,0,1,2.83,0l1.4,1.43a1.91,1.91,0,0,1,.58,1.4,1.91,1.91,0,0,1-.58,1.4L9.25,21ZM18.45,9,17,7.55Zm-12,3A5.31,5.31,0,0,0,4.9,8.1,5.31,5.31,0,0,0,1,6.5,5.31,5.31,0,0,0,4.9,4.9,5.31,5.31,0,0,0,6.5,1,5.31,5.31,0,0,0,8.1,4.9,5.31,5.31,0,0,0,12,6.5,5.46,5.46,0,0,0,6.5,12Z\"/>\n",
              "  </svg>\n",
              "    </button>\n",
              "    <script>\n",
              "      (() => {\n",
              "      const buttonEl =\n",
              "        document.querySelector('#id_6e03a581-7a9c-4669-a6fa-b1d113d4f4b6 button.colab-df-generate');\n",
              "      buttonEl.style.display =\n",
              "        google.colab.kernel.accessAllowed ? 'block' : 'none';\n",
              "\n",
              "      buttonEl.onclick = () => {\n",
              "        google.colab.notebook.generateWithVariable('df');\n",
              "      }\n",
              "      })();\n",
              "    </script>\n",
              "  </div>\n",
              "\n",
              "    </div>\n",
              "  </div>\n"
            ],
            "application/vnd.google.colaboratory.intrinsic+json": {
              "type": "dataframe",
              "variable_name": "df"
            }
          },
          "metadata": {},
          "execution_count": 8
        }
      ]
    },
    {
      "cell_type": "code",
      "source": [
        "# 결측치 확인\n",
        "df.isnull().sum()"
      ],
      "metadata": {
        "colab": {
          "base_uri": "https://localhost:8080/",
          "height": 554
        },
        "id": "-cdEc7-A9uuN",
        "outputId": "ca8fb15d-bf6a-4fbe-ae7d-270dd694cea0"
      },
      "execution_count": null,
      "outputs": [
        {
          "output_type": "execute_result",
          "data": {
            "text/plain": [
              "event_time              0\n",
              "event_type              0\n",
              "product_id              0\n",
              "category_id             0\n",
              "category_code           0\n",
              "brand              826039\n",
              "price                   0\n",
              "user_id                 0\n",
              "user_session           68\n",
              "event_date              0\n",
              "event_hour              0\n",
              "category_lvl1           0\n",
              "category_lvl2           0\n",
              "category_lvl3     5464403\n",
              "category_lvl4    17064336\n",
              "dtype: int64"
            ],
            "text/html": [
              "<div>\n",
              "<style scoped>\n",
              "    .dataframe tbody tr th:only-of-type {\n",
              "        vertical-align: middle;\n",
              "    }\n",
              "\n",
              "    .dataframe tbody tr th {\n",
              "        vertical-align: top;\n",
              "    }\n",
              "\n",
              "    .dataframe thead th {\n",
              "        text-align: right;\n",
              "    }\n",
              "</style>\n",
              "<table border=\"1\" class=\"dataframe\">\n",
              "  <thead>\n",
              "    <tr style=\"text-align: right;\">\n",
              "      <th></th>\n",
              "      <th>0</th>\n",
              "    </tr>\n",
              "  </thead>\n",
              "  <tbody>\n",
              "    <tr>\n",
              "      <th>event_time</th>\n",
              "      <td>0</td>\n",
              "    </tr>\n",
              "    <tr>\n",
              "      <th>event_type</th>\n",
              "      <td>0</td>\n",
              "    </tr>\n",
              "    <tr>\n",
              "      <th>product_id</th>\n",
              "      <td>0</td>\n",
              "    </tr>\n",
              "    <tr>\n",
              "      <th>category_id</th>\n",
              "      <td>0</td>\n",
              "    </tr>\n",
              "    <tr>\n",
              "      <th>category_code</th>\n",
              "      <td>0</td>\n",
              "    </tr>\n",
              "    <tr>\n",
              "      <th>brand</th>\n",
              "      <td>826039</td>\n",
              "    </tr>\n",
              "    <tr>\n",
              "      <th>price</th>\n",
              "      <td>0</td>\n",
              "    </tr>\n",
              "    <tr>\n",
              "      <th>user_id</th>\n",
              "      <td>0</td>\n",
              "    </tr>\n",
              "    <tr>\n",
              "      <th>user_session</th>\n",
              "      <td>68</td>\n",
              "    </tr>\n",
              "    <tr>\n",
              "      <th>event_date</th>\n",
              "      <td>0</td>\n",
              "    </tr>\n",
              "    <tr>\n",
              "      <th>event_hour</th>\n",
              "      <td>0</td>\n",
              "    </tr>\n",
              "    <tr>\n",
              "      <th>category_lvl1</th>\n",
              "      <td>0</td>\n",
              "    </tr>\n",
              "    <tr>\n",
              "      <th>category_lvl2</th>\n",
              "      <td>0</td>\n",
              "    </tr>\n",
              "    <tr>\n",
              "      <th>category_lvl3</th>\n",
              "      <td>5464403</td>\n",
              "    </tr>\n",
              "    <tr>\n",
              "      <th>category_lvl4</th>\n",
              "      <td>17064336</td>\n",
              "    </tr>\n",
              "  </tbody>\n",
              "</table>\n",
              "</div><br><label><b>dtype:</b> int64</label>"
            ]
          },
          "metadata": {},
          "execution_count": 4
        }
      ]
    },
    {
      "cell_type": "code",
      "source": [
        "df['category_lvl1'].value_counts()"
      ],
      "metadata": {
        "colab": {
          "base_uri": "https://localhost:8080/",
          "height": 272
        },
        "id": "MwtbDBIg9f6N",
        "outputId": "e55b65c0-e925-45ed-a85e-3dd90cfb7ce5"
      },
      "execution_count": 9,
      "outputs": [
        {
          "output_type": "execute_result",
          "data": {
            "text/plain": [
              "category_lvl1\n",
              "construction    7090597\n",
              "electronics     4428961\n",
              "appliances      2891651\n",
              "apparel         1577830\n",
              "sport           1086514\n",
              "Name: count, dtype: int64"
            ],
            "text/html": [
              "<div>\n",
              "<style scoped>\n",
              "    .dataframe tbody tr th:only-of-type {\n",
              "        vertical-align: middle;\n",
              "    }\n",
              "\n",
              "    .dataframe tbody tr th {\n",
              "        vertical-align: top;\n",
              "    }\n",
              "\n",
              "    .dataframe thead th {\n",
              "        text-align: right;\n",
              "    }\n",
              "</style>\n",
              "<table border=\"1\" class=\"dataframe\">\n",
              "  <thead>\n",
              "    <tr style=\"text-align: right;\">\n",
              "      <th></th>\n",
              "      <th>count</th>\n",
              "    </tr>\n",
              "    <tr>\n",
              "      <th>category_lvl1</th>\n",
              "      <th></th>\n",
              "    </tr>\n",
              "  </thead>\n",
              "  <tbody>\n",
              "    <tr>\n",
              "      <th>construction</th>\n",
              "      <td>7090597</td>\n",
              "    </tr>\n",
              "    <tr>\n",
              "      <th>electronics</th>\n",
              "      <td>4428961</td>\n",
              "    </tr>\n",
              "    <tr>\n",
              "      <th>appliances</th>\n",
              "      <td>2891651</td>\n",
              "    </tr>\n",
              "    <tr>\n",
              "      <th>apparel</th>\n",
              "      <td>1577830</td>\n",
              "    </tr>\n",
              "    <tr>\n",
              "      <th>sport</th>\n",
              "      <td>1086514</td>\n",
              "    </tr>\n",
              "  </tbody>\n",
              "</table>\n",
              "</div><br><label><b>dtype:</b> int64</label>"
            ]
          },
          "metadata": {},
          "execution_count": 9
        }
      ]
    },
    {
      "cell_type": "code",
      "source": [
        "import numpy as np\n",
        "import seaborn as sns\n",
        "from datetime import timedelta\n",
        "import matplotlib.pyplot as plt\n",
        "import matplotlib.font_manager as fm\n",
        "import matplotlib as mpl\n",
        "\n",
        "sns.set()\n",
        "\n",
        "# 그래프 기본 설정\n",
        "plt.rcParams['figure.figsize'] = 12, 6\n",
        "plt.rcParams['font.size'] = 14\n",
        "plt.rcParams['axes.unicode_minus'] = False\n",
        "\n",
        "# 실제 TTF 파일 경로 (예: 나눔고딕)\n",
        "font_path = '/content/drive/MyDrive/NanumFontSetup_TTF_ALL/NanumGothic.ttf'\n",
        "\n",
        "# 폰트 등록 및 적용\n",
        "font_name = fm.FontProperties(fname=font_path).get_name()\n",
        "fm.fontManager.addfont(font_path)\n",
        "mpl.rc('font', family=font_name)"
      ],
      "metadata": {
        "id": "tHhE9eq6EHK8"
      },
      "execution_count": 10,
      "outputs": []
    },
    {
      "cell_type": "markdown",
      "source": [
        "# 구매 평균 주기"
      ],
      "metadata": {
        "id": "nbBNyrpM9Pzd"
      }
    },
    {
      "cell_type": "code",
      "source": [
        "# 구매 데이터 필터링\n",
        "purchase_df = df[df['event_type'] == 'purchase'].copy()\n",
        "purchase_df['event_time'] = pd.to_datetime(purchase_df['event_time'], utc=True)\n",
        "\n",
        "# 정렬 후 이전 구매시점 계산\n",
        "purchase_df.sort_values(by=['user_id', 'category_lvl1', 'event_time'], inplace=True)\n",
        "purchase_df['prev_time'] = purchase_df.groupby(['user_id', 'category_lvl1'])['event_time'].shift(1)\n",
        "purchase_df['interval_days'] = (purchase_df['event_time'] - purchase_df['prev_time']).dt.days\n",
        "\n",
        "# category별 평균 구매 주기 계산\n",
        "category_cycle = purchase_df.groupby('category_lvl1')['interval_days'].mean().dropna().reset_index()\n",
        "category_cycle = category_cycle.sort_values(by='interval_days')\n",
        "\n",
        "# 시각화\n",
        "plt.figure(figsize=(12, 6))\n",
        "plt.barh(category_cycle['category_lvl1'], category_cycle['interval_days'])\n",
        "plt.xlabel('평균 구매 주기 (일)')\n",
        "plt.ylabel('카테고리')\n",
        "plt.title('카테고리별 평균 구매 주기')\n",
        "plt.tight_layout()\n",
        "plt.show()\n"
      ],
      "metadata": {
        "colab": {
          "base_uri": "https://localhost:8080/",
          "height": 595
        },
        "id": "EEy85_A99LEl",
        "outputId": "74bf1a33-15d5-44c8-c646-b168f5ff7b6f"
      },
      "execution_count": null,
      "outputs": [
        {
          "output_type": "display_data",
          "data": {
            "text/plain": [
              "<Figure size 1200x600 with 1 Axes>"
            ],
            "image/png": "[encoded data removed]"
          },
          "metadata": {}
        }
      ]
    },
    {
      "cell_type": "markdown",
      "source": [
        "# 구매자들 행동 특성"
      ],
      "metadata": {
        "id": "7wE0dPdoBlVE"
      }
    },
    {
      "cell_type": "code",
      "source": [
        "# 구매 데이터만 추출\n",
        "purchase_df = df[df['event_type'] == 'purchase'].copy()\n",
        "purchase_df['event_time'] = pd.to_datetime(purchase_df['event_time'], utc=True)"
      ],
      "metadata": {
        "id": "-YxtBXiFBo4T"
      },
      "execution_count": null,
      "outputs": []
    },
    {
      "cell_type": "code",
      "source": [
        "# 사용자별 카테고리 구매 요약\n",
        "user_category_summary = purchase_df.groupby(['user_id', 'category_lvl1']).agg(\n",
        "    purchase_count=('event_type', 'count'),\n",
        "    total_spent=('price', 'sum'),\n",
        "    first_purchase=('event_time', 'min'),\n",
        "    last_purchase=('event_time', 'max'),\n",
        "    unique_brands=('brand', pd.Series.nunique)\n",
        ").reset_index()\n",
        "\n",
        "# 구매 주기 계산\n",
        "user_category_summary['purchase_cycle'] = (\n",
        "    (user_category_summary['last_purchase'] - user_category_summary['first_purchase']).dt.days\n",
        ")\n"
      ],
      "metadata": {
        "id": "2rMji6l0Bq4U"
      },
      "execution_count": null,
      "outputs": []
    },
    {
      "cell_type": "code",
      "source": [
        "# 카테고리별 평균값 집계\n",
        "category_profile = user_category_summary.groupby('category_lvl1').agg(\n",
        "    avg_purchase_count=('purchase_count', 'mean'),\n",
        "    avg_total_spent=('total_spent', 'mean'),\n",
        "    avg_purchase_cycle=('purchase_cycle', 'mean'),\n",
        "    avg_brand_variety=('unique_brands', 'mean'),\n",
        "    num_unique_users=('user_id', 'nunique')\n",
        ").round(2).reset_index()\n"
      ],
      "metadata": {
        "id": "Ne0ML_g8Bt0E"
      },
      "execution_count": null,
      "outputs": []
    },
    {
      "cell_type": "code",
      "source": [
        "import matplotlib.pyplot as plt\n",
        "\n",
        "top5 = category_profile.sort_values(by='avg_total_spent', ascending=False).head(5)\n",
        "\n",
        "plt.figure(figsize=(10,5))\n",
        "plt.bar(top5['category_lvl1'], top5['avg_total_spent'])\n",
        "plt.title(\"카테고리별 평균 총 지출 (구매자 기준)\")\n",
        "plt.ylabel(\"평균 총 지출 (달러)\")\n",
        "plt.xlabel(\"카테고리\")\n",
        "plt.grid(True)\n",
        "plt.tight_layout()\n",
        "plt.show()\n"
      ],
      "metadata": {
        "colab": {
          "base_uri": "https://localhost:8080/",
          "height": 495
        },
        "id": "9XRpAJyrBund",
        "outputId": "af04e32f-93f3-455e-d1ca-73db4214f4b5"
      },
      "execution_count": null,
      "outputs": [
        {
          "output_type": "display_data",
          "data": {
            "text/plain": [
              "<Figure size 1000x500 with 1 Axes>"
            ],
            "image/png": "[encoded data removed]"
          },
          "metadata": {}
        }
      ]
    },
    {
      "cell_type": "markdown",
      "source": [
        "### 카테고리별 구매자 유형 분포 분석\n",
        "분석 목적:\n",
        "어떤 카테고리는 한 번만 구매하는 유저가 많고,\n",
        "어떤 카테고리는 재구매 고객 비율이 높을 수 있음"
      ],
      "metadata": {
        "id": "wTe5zh7iCDph"
      }
    },
    {
      "cell_type": "code",
      "source": [
        "# 유저-카테고리별 구매 횟수 계산\n",
        "user_cat_counts = purchase_df.groupby(['user_id', 'category_lvl1']).size().reset_index(name='purchase_count')\n",
        "\n",
        "# 구매 횟수 1회 vs 다회 비율 계산\n",
        "user_cat_counts['buyer_type'] = user_cat_counts['purchase_count'].apply(lambda x: 'one-time' if x == 1 else 'repeat')\n",
        "\n",
        "category_type_dist = user_cat_counts.groupby(['category_lvl1', 'buyer_type']).size().unstack(fill_value=0)\n",
        "\n",
        "# 비율 계산\n",
        "category_type_dist['one_time_ratio'] = category_type_dist['one-time'] / (category_type_dist.sum(axis=1))\n",
        "\n",
        "# 시각화\n",
        "category_type_dist['one_time_ratio'].sort_values(ascending=False).plot(kind='barh', figsize=(10,5))\n",
        "plt.title('카테고리별 1회 구매자 비율')\n",
        "plt.ylabel('비율')\n",
        "plt.tight_layout()\n",
        "plt.show()\n"
      ],
      "metadata": {
        "colab": {
          "base_uri": "https://localhost:8080/",
          "height": 495
        },
        "id": "okuoLLyGCGpd",
        "outputId": "567634a8-30da-46f9-b2f2-8899b6c3452a"
      },
      "execution_count": null,
      "outputs": [
        {
          "output_type": "display_data",
          "data": {
            "text/plain": [
              "<Figure size 1000x500 with 1 Axes>"
            ],
            "image/png": "[encoded data removed]"
          },
          "metadata": {}
        }
      ]
    },
    {
      "cell_type": "markdown",
      "source": [
        "### 카테고리별 구매 전환율 분석 (cart → purchase)\n",
        "분석 목적:\n",
        "카테고리별로 \"장바구니에 넣지만 구매는 잘 안 되는\" 곳이 어디인지 파악"
      ],
      "metadata": {
        "id": "BWjGTMTRCRpE"
      }
    },
    {
      "cell_type": "code",
      "source": [
        "# cart와 purchase 수를 category 기준으로 집계\n",
        "cart_counts = df[df['event_type'] == 'cart'].groupby('category_lvl1').size()\n",
        "purchase_counts = df[df['event_type'] == 'purchase'].groupby('category_lvl1').size()\n",
        "\n",
        "conversion_rate = (purchase_counts / cart_counts).dropna().sort_values(ascending=False)\n",
        "\n",
        "# 시각화\n",
        "conversion_rate.plot(kind='barh', figsize=(10,5))\n",
        "plt.title('카테고리별 구매 전환율 (cart → purchase)')\n",
        "plt.ylabel('전환율')\n",
        "plt.tight_layout()\n",
        "plt.show()"
      ],
      "metadata": {
        "colab": {
          "base_uri": "https://localhost:8080/",
          "height": 495
        },
        "id": "lhxkVAb5CTKM",
        "outputId": "5b39f653-6264-4ce4-e124-79689fac9c48"
      },
      "execution_count": null,
      "outputs": [
        {
          "output_type": "display_data",
          "data": {
            "text/plain": [
              "<Figure size 1000x500 with 1 Axes>"
            ],
            "image/png": "[encoded data removed]"
          },
          "metadata": {}
        }
      ]
    },
    {
      "cell_type": "markdown",
      "source": [
        "### 카테고리별 브랜드 집중도\n",
        "분석 목적:\n",
        "어떤 카테고리는 특정 브랜드 의존도가 높고,\n",
        "어떤 카테고리는 유저들이 브랜드를 다양하게 고르는 경향이 있음"
      ],
      "metadata": {
        "id": "m8sMj_INCdFE"
      }
    },
    {
      "cell_type": "code",
      "source": [
        "brand_diversity = purchase_df.groupby(['category_lvl1', 'user_id'])['brand'].nunique().reset_index()\n",
        "brand_diversity_avg = brand_diversity.groupby('category_lvl1')['brand'].mean()\n",
        "\n",
        "brand_diversity_avg.sort_values().plot(kind='barh', figsize=(10,5))\n",
        "plt.title(\"카테고리별 유저당 평균 브랜드 다양성\")\n",
        "plt.ylabel(\"평균 브랜드 수\")\n",
        "plt.tight_layout()\n",
        "plt.show()"
      ],
      "metadata": {
        "colab": {
          "base_uri": "https://localhost:8080/",
          "height": 495
        },
        "id": "IPLIsdFvCawT",
        "outputId": "f1c2eaf1-d46e-45de-bf1b-ca455c960175"
      },
      "execution_count": null,
      "outputs": [
        {
          "output_type": "display_data",
          "data": {
            "text/plain": [
              "<Figure size 1000x500 with 1 Axes>"
            ],
            "image/png": "[encoded data removed]"
          },
          "metadata": {}
        }
      ]
    },
    {
      "cell_type": "markdown",
      "source": [
        "| 분석 방식         | 파악할 수 있는 인사이트       |\n",
        "| ------------- | ------------------- |\n",
        "| ✅ 구매 횟수 유형 분석 | 충성 고객 vs 1회 고객      |\n",
        "| ✅ 전환율 분석      | 관심은 많지만 구매율 낮은 카테고리 |\n",
        "| ✅ 브랜드 다양성     | 충성 브랜드 선호 여부        |\n",
        "| ✅ 총 지출/주기     | 고가/저가, 정기 구매 성향     |"
      ],
      "metadata": {
        "id": "duuydhVjCv9k"
      }
    },
    {
      "cell_type": "markdown",
      "source": [
        "# 유저 요약 테이블 생성"
      ],
      "metadata": {
        "id": "v6-tDSCE75Yw"
      }
    },
    {
      "cell_type": "code",
      "source": [
        "# 구매 여부 플래그 생성\n",
        "df['event_time'] = pd.to_datetime(df['event_time'], utc=True)\n",
        "df['is_purchase'] = df['event_type'] == 'purchase'\n",
        "\n",
        "# 유저별 요약 정보\n",
        "user_summary = df.groupby('user_id').agg(\n",
        "    view_count=('event_type', lambda x: (x == 'view').sum()),\n",
        "    cart_count=('event_type', lambda x: (x == 'cart').sum()),\n",
        "    purchase_count=('event_type', lambda x: (x == 'purchase').sum()),\n",
        "    total_spent=('price', lambda x: x[df.loc[x.index, 'event_type'] == 'purchase'].sum()),\n",
        "    brand_diversity=('brand', pd.Series.nunique),\n",
        "    category_diversity=('category_lvl1', pd.Series.nunique),\n",
        "    first_event=('event_time', 'min'),\n",
        "    last_event=('event_time', 'max')\n",
        ").reset_index()\n",
        "\n",
        "# 체류 일수\n",
        "user_summary['active_days'] = (user_summary['last_event'] - user_summary['first_event']).dt.days\n"
      ],
      "metadata": {
        "id": "mKKm2utO662I"
      },
      "execution_count": null,
      "outputs": []
    },
    {
      "cell_type": "markdown",
      "source": [
        "# 구매자 / 비구매자 나누기"
      ],
      "metadata": {
        "id": "-lH8yWNx7-5F"
      }
    },
    {
      "cell_type": "code",
      "source": [
        "user_summary['group'] = user_summary['purchase_count'].apply(lambda x: '구매자' if x > 0 else '비구매자')\n"
      ],
      "metadata": {
        "id": "m680sMFa74LB"
      },
      "execution_count": null,
      "outputs": []
    },
    {
      "cell_type": "markdown",
      "source": [
        "# 그룹별 평균 비교"
      ],
      "metadata": {
        "id": "e1UAntfL8BrP"
      }
    },
    {
      "cell_type": "code",
      "source": [
        "compare_cols = ['view_count', 'cart_count', 'brand_diversity',\n",
        "                'category_diversity', 'total_spent', 'active_days']\n",
        "\n",
        "group_stats = user_summary.groupby('group')[compare_cols].mean().round(2).T\n",
        "import seaborn as sns\n",
        "import matplotlib.pyplot as plt\n",
        "\n",
        "plt.figure(figsize=(10, 6))\n",
        "sns.heatmap(group_stats, annot=True, fmt=\".2f\", cmap='YlGnBu')\n",
        "plt.title(\"구매자 vs 비구매자 행동 특성 비교\")\n",
        "plt.show()\n"
      ],
      "metadata": {
        "colab": {
          "base_uri": "https://localhost:8080/",
          "height": 570
        },
        "id": "J55t0ufz8BM-",
        "outputId": "2110abea-8969-4473-ddb0-06a806421866"
      },
      "execution_count": null,
      "outputs": [
        {
          "output_type": "display_data",
          "data": {
            "text/plain": [
              "<Figure size 1000x600 with 2 Axes>"
            ],
            "image/png": "[encoded data removed]"
          },
          "metadata": {}
        }
      ]
    }
  ]
}
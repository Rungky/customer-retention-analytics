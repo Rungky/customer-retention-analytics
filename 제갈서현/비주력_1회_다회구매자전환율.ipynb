{
  "nbformat": 4,
  "nbformat_minor": 0,
  "metadata": {
    "colab": {
      "provenance": [],
      "machine_shape": "hm",
      "gpuType": "V28"
    },
    "kernelspec": {
      "name": "python3",
      "display_name": "Python 3"
    },
    "language_info": {
      "name": "python"
    },
    "accelerator": "TPU"
  },
  "cells": [
    {
      "cell_type": "code",
      "source": [
        "from google.colab import drive\n",
        "drive.mount('/content/drive')"
      ],
      "metadata": {
        "colab": {
          "base_uri": "https://localhost:8080/"
        },
        "id": "v6uPqxOH4_oX",
        "outputId": "1032816e-4e5b-4381-dc00-d8070f7148d6"
      },
      "execution_count": null,
      "outputs": [
        {
          "output_type": "stream",
          "name": "stdout",
          "text": [
            "Mounted at /content/drive\n"
          ]
        }
      ]
    },
    {
      "cell_type": "markdown",
      "source": [
        "#✅ 데이터셋 불러오기"
      ],
      "metadata": {
        "id": "JQ33BWOidz0v"
      }
    },
    {
      "cell_type": "code",
      "source": [
        "notop_one_df = pd.read_parquet('/content/drive/MyDrive/Colab Notebooks/datathon/주력_비주력상품 데이터/비주력상품/noTop3_one_time_buyers_all_events.parquet') # 비주력상품 1회 구매고객 데이터"
      ],
      "metadata": {
        "id": "sNWLn3LWHFeP"
      },
      "execution_count": null,
      "outputs": []
    },
    {
      "cell_type": "code",
      "source": [
        "notop_multi_df = pd.read_parquet('/content/drive/MyDrive/Colab Notebooks/datathon/주력_비주력상품 데이터/비주력상품/noTop3_multi_buyers_all_events.parquet') # 비주력상품 2회 이상 구매고객 데이터"
      ],
      "metadata": {
        "id": "Ys_4MYfTPnE-"
      },
      "execution_count": null,
      "outputs": []
    },
    {
      "cell_type": "code",
      "source": [],
      "metadata": {
        "id": "AyIxtkLbXhIv"
      },
      "execution_count": null,
      "outputs": []
    },
    {
      "cell_type": "code",
      "source": [
        "import pandas as pd\n",
        "\n",
        "def _ensure_event_datetime(df, date_col='event_date', hour_col='event_hour', dt_col='event_datetime'):\n",
        "    \"\"\"\n",
        "    event_datetime이 없으면 date+hour로 생성.\n",
        "    date_col: object/string 날짜\n",
        "    hour_col: int(hour)\n",
        "    \"\"\"\n",
        "    if dt_col in df.columns:\n",
        "        return df\n",
        "    out = df.copy()\n",
        "    out[date_col] = pd.to_datetime(out[date_col], errors='coerce')\n",
        "    out[dt_col] = out[date_col] + pd.to_timedelta(out[hour_col], unit='h')\n",
        "    return out\n",
        "\n",
        "def calc_disjoint_view_purchase_rates(\n",
        "    df,\n",
        "    user_col='user_id',\n",
        "    type_col='event_type',\n",
        "    dt_col='event_datetime'\n",
        "):\n",
        "    \"\"\"\n",
        "    분모: view가 있었던 고유 유저 수\n",
        "    분자1(view_cart_purchase): view < cart < purchase 를 만족하는 유저(최초 view 이후 최초 purchase 사이에 cart가 존재)\n",
        "    분자2(view_purchase_only): view < purchase 이면서 그 사이에 cart가 전혀 없는 유저\n",
        "    ※ 두 분자는 서로 겹치지 않도록 엄격 분리. 동시간(같은 hour) 타이는 제외(<, > 사용).\n",
        "    반환: 각 분자/분모/전환율과 유저 id 집합(원하면 제거 가능)\n",
        "    \"\"\"\n",
        "    # 준비\n",
        "    df = _ensure_event_datetime(df, dt_col=dt_col).copy()\n",
        "    df = df.dropna(subset=[dt_col, user_col, type_col])\n",
        "    # 한 번 정렬(안정 정렬로 재현성 확보; 동시간 타이는 이후 비교식에서 배제)\n",
        "    df = df.sort_values([user_col, dt_col, type_col], kind='mergesort')\n",
        "\n",
        "    # 분모: view 있었던 유저들\n",
        "    view_users = set(df.loc[df[type_col] == 'view', user_col].unique())\n",
        "    denom = len(view_users)\n",
        "\n",
        "    vcp_users = set()      # view→cart→purchase\n",
        "    vp_only_users = set()  # view→purchase (중간 cart 없음)\n",
        "\n",
        "    # 유저별 타임라인 스캔\n",
        "    for uid, g in df.groupby(user_col):\n",
        "        if uid not in view_users:\n",
        "            continue\n",
        "\n",
        "        # 이 유저의 이벤트 시퀀스 (시간 오름차순)\n",
        "        ev = g[[dt_col, type_col]].to_numpy()\n",
        "\n",
        "        # 1) 첫 view 시각\n",
        "        t_view = None\n",
        "        for t, et in ev:\n",
        "            if et == 'view':\n",
        "                t_view = t\n",
        "                break\n",
        "        if t_view is None:\n",
        "            continue\n",
        "\n",
        "        # 2) 첫 view 이후의 '최초 purchase' 시각 (동시각은 제외: t > t_view)\n",
        "        t_purchase = None\n",
        "        for t, et in ev:\n",
        "            if t > t_view and et == 'purchase':\n",
        "                t_purchase = t\n",
        "                break\n",
        "        if t_purchase is None:\n",
        "            # view는 있었지만 purchase가 없으면 분자 둘 다 미포함\n",
        "            continue\n",
        "\n",
        "        # 3) view와 그 '최초 purchase' 사이에 cart가 하나라도 있는지?\n",
        "        has_cart_between = False\n",
        "        for t, et in ev:\n",
        "            if (t > t_view) and (t < t_purchase) and (et == 'cart'):\n",
        "                has_cart_between = True\n",
        "                break\n",
        "\n",
        "        if has_cart_between:\n",
        "            vcp_users.add(uid)\n",
        "        else:\n",
        "            vp_only_users.add(uid)\n",
        "\n",
        "    # 두 집합이 겹치지 않도록 검증 (설계상 0이어야 함)\n",
        "    overlap = vcp_users & vp_only_users\n",
        "    assert len(overlap) == 0, f\"분자 집합이 겹칩니다: {len(overlap)}명\"\n",
        "\n",
        "    vcp_num = len(vcp_users)\n",
        "    vp_only_num = len(vp_only_users)\n",
        "\n",
        "    rates = {\n",
        "        'view_cart_purchase': {\n",
        "            'numerator_users': vcp_users,\n",
        "            'numerator': vcp_num,\n",
        "            'denominator': denom,\n",
        "            'not_converted': max(denom - vcp_num, 0),\n",
        "            'rate': (vcp_num / denom) if denom else 0.0\n",
        "        },\n",
        "        'view_purchase_only': {\n",
        "            'numerator_users': vp_only_users,\n",
        "            'numerator': vp_only_num,\n",
        "            'denominator': denom,\n",
        "            'not_converted': max(denom - vp_only_num, 0),\n",
        "            'rate': (vp_only_num / denom) if denom else 0.0\n",
        "        },\n",
        "        'denominator_view_users': denom,\n",
        "        'overlap_check': len(overlap)  # 항상 0이어야 함\n",
        "    }\n",
        "    return rates\n"
      ],
      "metadata": {
        "id": "yg4Dul0pXfB6"
      },
      "execution_count": null,
      "outputs": []
    },
    {
      "cell_type": "code",
      "source": [
        "# notop_one_df = 비주력 1회 구매자 데이터셋\n",
        "# notop_multi_df = 비주력 2회 이상 구매자 데이터셋\n",
        "\n",
        "res_once = calc_disjoint_view_purchase_rates(notop_one_df)\n",
        "res_multi = calc_disjoint_view_purchase_rates(notop_multi_df)\n",
        "\n",
        "def pretty_print(title, res):\n",
        "    print(f\"\\n[{title}] 분모(view 유저 수) = {res['denominator_view_users']:,}\")\n",
        "    for k in ['view_cart_purchase', 'view_purchase_only']:\n",
        "        v = res[k]\n",
        "        print(f\"- {k}: 분자={v['numerator']:,} / 분모={v['denominator']:,} \"\n",
        "              f\"(미전환={v['not_converted']:,}) → 전환율={v['rate']:.2%}\")\n",
        "    print(f\"분자 집합 겹침 수(overlap_check) = {res['overlap_check']} (항상 0이어야 함)\")\n",
        "\n",
        "pretty_print(\"비주력 1회 구매자\", res_once)\n",
        "pretty_print(\"비주력 2회 이상 구매자\", res_multi)\n"
      ],
      "metadata": {
        "id": "gXtzZSAyXmeS"
      },
      "execution_count": null,
      "outputs": []
    },
    {
      "cell_type": "code",
      "source": [],
      "metadata": {
        "id": "BwbPBNjjXhL2"
      },
      "execution_count": null,
      "outputs": []
    },
    {
      "cell_type": "markdown",
      "source": [
        "## 📈 비주력상품 EDA"
      ],
      "metadata": {
        "id": "mKVhsRmFh3wF"
      }
    },
    {
      "cell_type": "markdown",
      "source": [
        "### 💵 1번만 구매"
      ],
      "metadata": {
        "id": "ZuMNbi7OzV9p"
      }
    },
    {
      "cell_type": "code",
      "source": [
        "import pandas as pd\n",
        "\n",
        "def _ensure_event_datetime(df, date_col='event_date', hour_col='event_hour', dt_col='event_datetime'):\n",
        "    \"\"\"\n",
        "    event_datetime이 없으면 date+hour로 생성.\n",
        "    date_col: object/string 날짜\n",
        "    hour_col: int(hour)\n",
        "    \"\"\"\n",
        "    if dt_col in df.columns:\n",
        "        return df\n",
        "    out = df.copy()\n",
        "    out[date_col] = pd.to_datetime(out[date_col], errors='coerce')\n",
        "    out[dt_col] = out[date_col] + pd.to_timedelta(out[hour_col], unit='h')\n",
        "    return out\n",
        "\n",
        "def calc_disjoint_view_purchase_rates(\n",
        "    df,\n",
        "    user_col='user_id',\n",
        "    type_col='event_type',\n",
        "    dt_col='event_datetime'\n",
        "):\n",
        "    \"\"\"\n",
        "    분모: view가 있었던 고유 유저 수\n",
        "    분자1(view_cart_purchase): view < cart < purchase 를 만족하는 유저(최초 view 이후 최초 purchase 사이에 cart가 존재)\n",
        "    분자2(view_purchase_only): view < purchase 이면서 그 사이에 cart가 전혀 없는 유저\n",
        "    ※ 두 분자는 서로 겹치지 않도록 엄격 분리. 동시간(같은 hour) 타이는 제외(<, > 사용).\n",
        "    반환: 각 분자/분모/전환율과 유저 id 집합(원하면 제거 가능)\n",
        "    \"\"\"\n",
        "    # 준비\n",
        "    df = _ensure_event_datetime(df, dt_col=dt_col).copy()\n",
        "    df = df.dropna(subset=[dt_col, user_col, type_col])\n",
        "    # 한 번 정렬(안정 정렬로 재현성 확보; 동시간 타이는 이후 비교식에서 배제)\n",
        "    df = df.sort_values([user_col, dt_col, type_col], kind='mergesort')\n",
        "\n",
        "    # 분모: view 있었던 유저들\n",
        "    view_users = set(df.loc[df[type_col] == 'view', user_col].unique())\n",
        "    denom = len(view_users)\n",
        "\n",
        "    vcp_users = set()      # view→cart→purchase\n",
        "    vp_only_users = set()  # view→purchase (중간 cart 없음)\n",
        "\n",
        "    # 유저별 타임라인 스캔\n",
        "    for uid, g in df.groupby(user_col):\n",
        "        if uid not in view_users:\n",
        "            continue\n",
        "\n",
        "        # 이 유저의 이벤트 시퀀스 (시간 오름차순)\n",
        "        ev = g[[dt_col, type_col]].to_numpy()\n",
        "\n",
        "        # 1) 첫 view 시각\n",
        "        t_view = None\n",
        "        for t, et in ev:\n",
        "            if et == 'view':\n",
        "                t_view = t\n",
        "                break\n",
        "        if t_view is None:\n",
        "            continue\n",
        "\n",
        "        # 2) 첫 view 이후의 '최초 purchase' 시각 (동시각은 제외: t > t_view)\n",
        "        t_purchase = None\n",
        "        for t, et in ev:\n",
        "            if t > t_view and et == 'purchase':\n",
        "                t_purchase = t\n",
        "                break\n",
        "        if t_purchase is None:\n",
        "            # view는 있었지만 purchase가 없으면 분자 둘 다 미포함\n",
        "            continue\n",
        "\n",
        "        # 3) view와 그 '최초 purchase' 사이에 cart가 하나라도 있는지?\n",
        "        has_cart_between = False\n",
        "        for t, et in ev:\n",
        "            if (t > t_view) and (t < t_purchase) and (et == 'cart'):\n",
        "                has_cart_between = True\n",
        "                break\n",
        "\n",
        "        if has_cart_between:\n",
        "            vcp_users.add(uid)\n",
        "        else:\n",
        "            vp_only_users.add(uid)\n",
        "\n",
        "    # 두 집합이 겹치지 않도록 검증 (설계상 0이어야 함)\n",
        "    overlap = vcp_users & vp_only_users\n",
        "    assert len(overlap) == 0, f\"분자 집합이 겹칩니다: {len(overlap)}명\"\n",
        "\n",
        "    vcp_num = len(vcp_users)\n",
        "    vp_only_num = len(vp_only_users)\n",
        "\n",
        "    rates = {\n",
        "        'view_cart_purchase': {\n",
        "            'numerator_users': vcp_users,\n",
        "            'numerator': vcp_num,\n",
        "            'denominator': denom,\n",
        "            'not_converted': max(denom - vcp_num, 0),\n",
        "            'rate': (vcp_num / denom) if denom else 0.0\n",
        "        },\n",
        "        'view_purchase_only': {\n",
        "            'numerator_users': vp_only_users,\n",
        "            'numerator': vp_only_num,\n",
        "            'denominator': denom,\n",
        "            'not_converted': max(denom - vp_only_num, 0),\n",
        "            'rate': (vp_only_num / denom) if denom else 0.0\n",
        "        },\n",
        "        'denominator_view_users': denom,\n",
        "        'overlap_check': len(overlap)  # 항상 0이어야 함\n",
        "    }\n",
        "    return rates\n"
      ],
      "metadata": {
        "id": "DLnX5A2PI9Og"
      },
      "execution_count": null,
      "outputs": []
    },
    {
      "cell_type": "code",
      "source": [
        "# notop_one_df = 비주력 1회 구매자 데이터셋\n",
        "# notop_multi_df = 비주력 2회 이상 구매자 데이터셋\n",
        "\n",
        "res_once = calc_disjoint_view_purchase_rates(notop_one_df)\n",
        "res_multi = calc_disjoint_view_purchase_rates(notop_multi_df)\n",
        "\n",
        "def pretty_print(title, res):\n",
        "    print(f\"\\n[{title}] 분모(view 유저 수) = {res['denominator_view_users']:,}\")\n",
        "    for k in ['view_cart_purchase', 'view_purchase_only']:\n",
        "        v = res[k]\n",
        "        print(f\"- {k}: 분자={v['numerator']:,} / 분모={v['denominator']:,} \"\n",
        "              f\"(미전환={v['not_converted']:,}) → 전환율={v['rate']:.2%}\")\n",
        "    print(f\"분자 집합 겹침 수(overlap_check) = {res['overlap_check']} (항상 0이어야 함)\")\n",
        "\n",
        "pretty_print(\"비주력 1회 구매자\", res_once)\n",
        "pretty_print(\"비주력 2회 이상 구매자\", res_multi)\n"
      ],
      "metadata": {
        "colab": {
          "base_uri": "https://localhost:8080/"
        },
        "id": "K_siAuvSI9LZ",
        "outputId": "2d55ac12-4d93-418e-8f82-e57f0d1702d7"
      },
      "execution_count": null,
      "outputs": [
        {
          "output_type": "stream",
          "name": "stdout",
          "text": [
            "\n",
            "[비주력 1회 구매자] 분모(view 유저 수) = 295,577\n",
            "- view_cart_purchase: 분자=67,076 / 분모=295,577 (미전환=228,501) → 전환율=22.69%\n",
            "- view_purchase_only: 분자=144,784 / 분모=295,577 (미전환=150,793) → 전환율=48.98%\n",
            "분자 집합 겹침 수(overlap_check) = 0 (항상 0이어야 함)\n",
            "\n",
            "[비주력 2회 이상 구매자] 분모(view 유저 수) = 205,370\n",
            "- view_cart_purchase: 분자=54,412 / 분모=205,370 (미전환=150,958) → 전환율=26.49%\n",
            "- view_purchase_only: 분자=138,932 / 분모=205,370 (미전환=66,438) → 전환율=67.65%\n",
            "분자 집합 겹침 수(overlap_check) = 0 (항상 0이어야 함)\n"
          ]
        }
      ]
    },
    {
      "cell_type": "code",
      "source": [],
      "metadata": {
        "id": "i4jj4F94VGn-"
      },
      "execution_count": null,
      "outputs": []
    },
    {
      "cell_type": "code",
      "source": [],
      "metadata": {
        "id": "4DqW00zFVE4R"
      },
      "execution_count": null,
      "outputs": []
    },
    {
      "cell_type": "code",
      "source": [
        "# notop_one_df 에서 같은 시간에 찍힌 유저의 event_type 확인\n",
        "def check_same_hour_events(df, user_col='user_id', type_col='event_type', dt_col='event_hour'):\n",
        "    \"\"\"\n",
        "    Checks for users with multiple event types at the same event_datetime.\n",
        "\n",
        "    Args:\n",
        "        df: DataFrame to check.\n",
        "        user_col: Column name for user ID.\n",
        "        type_col: Column name for event type.\n",
        "        dt_col: Column name for event datetime.\n",
        "\n",
        "    Returns:\n",
        "        A dictionary where keys are user_ids and values are dictionaries\n",
        "        containing the event_datetime and a list of event_types at that time,\n",
        "        for users with more than one event type at the same time.\n",
        "    \"\"\"\n",
        "    # Group by user and datetime, then get unique event types and their count\n",
        "    grouped = df.groupby([user_col, dt_col])[type_col].agg(['unique', 'nunique'])\n",
        "\n",
        "    # Filter for groups with more than one unique event type\n",
        "    same_hour_events = grouped[grouped['nunique'] > 1]\n",
        "\n",
        "    # Format the output\n",
        "    result = {}\n",
        "    for (user_id, event_hour), row in same_hour_events.iterrows():\n",
        "        result[user_id] = {\n",
        "            dt_col: event_hour,\n",
        "            type_col: row['unique'].tolist()\n",
        "        }\n",
        "    return result\n",
        "\n",
        "same_hour_violations_one = check_same_hour_events(notop_one_df)\n",
        "\n",
        "print(f\"Number of users in notop_one_df with multiple event types at the same time: {len(same_hour_violations_one)}\")\n",
        "\n",
        "# Display a few examples\n",
        "if same_hour_violations_one:\n",
        "    print(\"\\nExamples of users with same-hour events:\")\n",
        "    for user_id, details in list(same_hour_violations_one.items())[:5]:\n",
        "        print(f\"User ID: {user_id}, Datetime: {details['event_datetime']}, Events: {details['event_type']}\")"
      ],
      "metadata": {
        "colab": {
          "base_uri": "https://localhost:8080/",
          "height": 237
        },
        "id": "_WI4vNuYUzds",
        "outputId": "43288707-72a7-4a53-823e-e2a1bd55d2be"
      },
      "execution_count": null,
      "outputs": [
        {
          "output_type": "stream",
          "name": "stdout",
          "text": [
            "Number of users in notop_one_df with multiple event types at the same time: 293685\n",
            "\n",
            "Examples of users with same-hour events:\n"
          ]
        },
        {
          "output_type": "error",
          "ename": "KeyError",
          "evalue": "'event_datetime'",
          "traceback": [
            "\u001b[0;31m---------------------------------------------------------------------------\u001b[0m",
            "\u001b[0;31mKeyError\u001b[0m                                  Traceback (most recent call last)",
            "\u001b[0;32m/tmp/ipython-input-1904696759.py\u001b[0m in \u001b[0;36m<cell line: 0>\u001b[0;34m()\u001b[0m\n\u001b[1;32m     38\u001b[0m     \u001b[0mprint\u001b[0m\u001b[0;34m(\u001b[0m\u001b[0;34m\"\\nExamples of users with same-hour events:\"\u001b[0m\u001b[0;34m)\u001b[0m\u001b[0;34m\u001b[0m\u001b[0;34m\u001b[0m\u001b[0m\n\u001b[1;32m     39\u001b[0m     \u001b[0;32mfor\u001b[0m \u001b[0muser_id\u001b[0m\u001b[0;34m,\u001b[0m \u001b[0mdetails\u001b[0m \u001b[0;32min\u001b[0m \u001b[0mlist\u001b[0m\u001b[0;34m(\u001b[0m\u001b[0msame_hour_violations_one\u001b[0m\u001b[0;34m.\u001b[0m\u001b[0mitems\u001b[0m\u001b[0;34m(\u001b[0m\u001b[0;34m)\u001b[0m\u001b[0;34m)\u001b[0m\u001b[0;34m[\u001b[0m\u001b[0;34m:\u001b[0m\u001b[0;36m5\u001b[0m\u001b[0;34m]\u001b[0m\u001b[0;34m:\u001b[0m\u001b[0;34m\u001b[0m\u001b[0;34m\u001b[0m\u001b[0m\n\u001b[0;32m---> 40\u001b[0;31m         \u001b[0mprint\u001b[0m\u001b[0;34m(\u001b[0m\u001b[0;34mf\"User ID: {user_id}, Datetime: {details['event_datetime']}, Events: {details['event_type']}\"\u001b[0m\u001b[0;34m)\u001b[0m\u001b[0;34m\u001b[0m\u001b[0;34m\u001b[0m\u001b[0m\n\u001b[0m",
            "\u001b[0;31mKeyError\u001b[0m: 'event_datetime'"
          ]
        }
      ]
    },
    {
      "cell_type": "code",
      "source": [],
      "metadata": {
        "id": "q7IbRPk-J9IT"
      },
      "execution_count": null,
      "outputs": []
    },
    {
      "cell_type": "code",
      "source": [],
      "metadata": {
        "id": "K6eKikitUuqk"
      },
      "execution_count": null,
      "outputs": []
    },
    {
      "cell_type": "code",
      "source": [],
      "metadata": {
        "id": "-G4TkfptUunp"
      },
      "execution_count": null,
      "outputs": []
    }
  ]
}
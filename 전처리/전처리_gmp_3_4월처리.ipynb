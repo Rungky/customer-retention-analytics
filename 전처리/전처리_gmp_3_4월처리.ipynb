{
  "nbformat": 4,
  "nbformat_minor": 0,
  "metadata": {
    "colab": {
      "provenance": [],
      "machine_shape": "hm",
      "collapsed_sections": [
        "BGzPG3O3sU2-"
      ]
    },
    "kernelspec": {
      "name": "python3",
      "display_name": "Python 3"
    },
    "language_info": {
      "name": "python"
    }
  },
  "cells": [
    {
      "cell_type": "code",
      "source": [
        "from google.colab import drive\n",
        "\n",
        "# 1. Google Drive 마운트\n",
        "drive.mount('/content/drive')"
      ],
      "metadata": {
        "colab": {
          "base_uri": "https://localhost:8080/"
        },
        "id": "a1-EHwoOgKBz",
        "outputId": "db691a41-0556-4965-fa22-38c6f223b718"
      },
      "execution_count": null,
      "outputs": [
        {
          "output_type": "stream",
          "name": "stdout",
          "text": [
            "Drive already mounted at /content/drive; to attempt to forcibly remount, call drive.mount(\"/content/drive\", force_remount=True).\n"
          ]
        }
      ]
    },
    {
      "cell_type": "code",
      "execution_count": null,
      "metadata": {
        "id": "eoNqWugudPt_"
      },
      "outputs": [],
      "source": [
        "# 2. 파일 경로 설정 (사용자 지정 경로)\n",
        "data_root = '/content/drive/MyDrive/Colab Notebooks/datathon'\n",
        "# file_path = f'{data_root}/2019-Nov.csv'"
      ]
    },
    {
      "cell_type": "markdown",
      "source": [
        "#데이터 불러오기 + 기본 전처리"
      ],
      "metadata": {
        "id": "HpcUyQF_xwes"
      }
    },
    {
      "cell_type": "code",
      "source": [
        "import pandas as pd\n",
        "import numpy as np\n",
        "import matplotlib.pyplot as plt\n",
        "import seaborn as sns\n",
        "from datetime import timedelta"
      ],
      "metadata": {
        "id": "tzpaRe5_qvf8"
      },
      "execution_count": null,
      "outputs": []
    },
    {
      "cell_type": "markdown",
      "source": [
        "구매 빈도가 낮은 고객 분석 → 이탈 징후 탐지 및 리텐션 전략 수립\n",
        "#\"구매 빈도가 낮은 고객들의 이탈 징후를 파악하고, 재방문·재구매를 유도할 수 있는 전략 수립\""
      ],
      "metadata": {
        "id": "89BpH2AszkJ-"
      }
    },
    {
      "cell_type": "markdown",
      "source": [
        "# GMP+5 적용 후 3월, 4월 분할"
      ],
      "metadata": {
        "id": "cmxnas-ZlP_-"
      }
    },
    {
      "cell_type": "code",
      "source": [
        "df_3 = pd.read_parquet(f'{data_root}/2020-Mar.parquet')\n",
        "\n",
        "# df_3.head()"
      ],
      "metadata": {
        "id": "F6E6wBgb0s0a"
      },
      "execution_count": null,
      "outputs": []
    },
    {
      "cell_type": "code",
      "source": [
        "import pytz\n",
        "\n",
        "# GMT+5 기준 datetime 객체 생성 (임시 변환)\n",
        "event_time_gmt5 = df_3['event_time'].dt.tz_convert(pytz.FixedOffset(5 * 60))\n",
        "\n",
        "# 기존 컬럼 수정 + 새 요일 컬럼 생성\n",
        "df_3['event_date'] = event_time_gmt5.dt.date              # GMT+5 기준 날짜로 수정\n",
        "df_3['event_hour'] = event_time_gmt5.dt.hour              # GMT+5 기준 시간으로 수정\n",
        "df_3['weekday'] = event_time_gmt5.dt.day_name()           # GMT+5 기준 요일 새로 생성"
      ],
      "metadata": {
        "id": "xG_cc3LOkAGH"
      },
      "execution_count": null,
      "outputs": []
    },
    {
      "cell_type": "code",
      "source": [
        "# df_3.tail()"
      ],
      "metadata": {
        "colab": {
          "base_uri": "https://localhost:8080/",
          "height": 469
        },
        "id": "x0FJAoB4mfP1",
        "outputId": "0fef2cac-86dd-4278-f664-699b7da7f65c"
      },
      "execution_count": null,
      "outputs": [
        {
          "output_type": "execute_result",
          "data": {
            "text/plain": [
              "                        event_time event_type  product_id  \\\n",
              "56341236 2020-03-31 23:59:55+00:00       view     1005212   \n",
              "56341237 2020-03-31 23:59:55+00:00       view     1701027   \n",
              "56341238 2020-03-31 23:59:56+00:00       view     2601488   \n",
              "56341239 2020-03-31 23:59:56+00:00       view   100006963   \n",
              "56341240 2020-03-31 23:59:57+00:00       view   100145166   \n",
              "\n",
              "                  category_id                 category_code    brand   price  \\\n",
              "56341236  2232732093077520756      construction.tools.light  samsung  178.12   \n",
              "56341237  2232732099981345295  appliances.personal.massager  samsung  154.42   \n",
              "56341238  2232732101835227701                          None   darina  167.29   \n",
              "56341239  2232732099754852875  appliances.personal.massager    yasin  163.16   \n",
              "56341240  2232732076711346189                          None     None   85.95   \n",
              "\n",
              "            user_id                          user_session  event_date  \\\n",
              "56341236  516506125  cdd4bce1-ff8c-49c3-92b3-0c7a209c8b24  2020-04-01   \n",
              "56341237  572260610  2e16ffb5-996f-40d3-b98e-ddc53b546357  2020-04-01   \n",
              "56341238  523607693  6836d271-ef67-42dc-8756-4ef103e4fbf1  2020-04-01   \n",
              "56341239  629229484  c00a1636-dfc2-4e96-a6a3-7fd979e93789  2020-04-01   \n",
              "56341240  513238692  d33201ea-2f9d-4957-97fd-1efe9a315805  2020-04-01   \n",
              "\n",
              "          event_hour category_lvl1 category_lvl2 category_lvl3 category_lvl4  \\\n",
              "56341236           4  construction         tools         light          None   \n",
              "56341237           4    appliances      personal      massager          None   \n",
              "56341238           4          None          None          None          None   \n",
              "56341239           4    appliances      personal      massager          None   \n",
              "56341240           4          None          None          None          None   \n",
              "\n",
              "            weekday  \n",
              "56341236  Wednesday  \n",
              "56341237  Wednesday  \n",
              "56341238  Wednesday  \n",
              "56341239  Wednesday  \n",
              "56341240  Wednesday  "
            ],
            "text/html": [
              "\n",
              "  <div id=\"df-ff31f824-ca98-40fc-9a98-d82c6f6f24f9\" class=\"colab-df-container\">\n",
              "    <div>\n",
              "<style scoped>\n",
              "    .dataframe tbody tr th:only-of-type {\n",
              "        vertical-align: middle;\n",
              "    }\n",
              "\n",
              "    .dataframe tbody tr th {\n",
              "        vertical-align: top;\n",
              "    }\n",
              "\n",
              "    .dataframe thead th {\n",
              "        text-align: right;\n",
              "    }\n",
              "</style>\n",
              "<table border=\"1\" class=\"dataframe\">\n",
              "  <thead>\n",
              "    <tr style=\"text-align: right;\">\n",
              "      <th></th>\n",
              "      <th>event_time</th>\n",
              "      <th>event_type</th>\n",
              "      <th>product_id</th>\n",
              "      <th>category_id</th>\n",
              "      <th>category_code</th>\n",
              "      <th>brand</th>\n",
              "      <th>price</th>\n",
              "      <th>user_id</th>\n",
              "      <th>user_session</th>\n",
              "      <th>event_date</th>\n",
              "      <th>event_hour</th>\n",
              "      <th>category_lvl1</th>\n",
              "      <th>category_lvl2</th>\n",
              "      <th>category_lvl3</th>\n",
              "      <th>category_lvl4</th>\n",
              "      <th>weekday</th>\n",
              "    </tr>\n",
              "  </thead>\n",
              "  <tbody>\n",
              "    <tr>\n",
              "      <th>56341236</th>\n",
              "      <td>2020-03-31 23:59:55+00:00</td>\n",
              "      <td>view</td>\n",
              "      <td>1005212</td>\n",
              "      <td>2232732093077520756</td>\n",
              "      <td>construction.tools.light</td>\n",
              "      <td>samsung</td>\n",
              "      <td>178.12</td>\n",
              "      <td>516506125</td>\n",
              "      <td>cdd4bce1-ff8c-49c3-92b3-0c7a209c8b24</td>\n",
              "      <td>2020-04-01</td>\n",
              "      <td>4</td>\n",
              "      <td>construction</td>\n",
              "      <td>tools</td>\n",
              "      <td>light</td>\n",
              "      <td>None</td>\n",
              "      <td>Wednesday</td>\n",
              "    </tr>\n",
              "    <tr>\n",
              "      <th>56341237</th>\n",
              "      <td>2020-03-31 23:59:55+00:00</td>\n",
              "      <td>view</td>\n",
              "      <td>1701027</td>\n",
              "      <td>2232732099981345295</td>\n",
              "      <td>appliances.personal.massager</td>\n",
              "      <td>samsung</td>\n",
              "      <td>154.42</td>\n",
              "      <td>572260610</td>\n",
              "      <td>2e16ffb5-996f-40d3-b98e-ddc53b546357</td>\n",
              "      <td>2020-04-01</td>\n",
              "      <td>4</td>\n",
              "      <td>appliances</td>\n",
              "      <td>personal</td>\n",
              "      <td>massager</td>\n",
              "      <td>None</td>\n",
              "      <td>Wednesday</td>\n",
              "    </tr>\n",
              "    <tr>\n",
              "      <th>56341238</th>\n",
              "      <td>2020-03-31 23:59:56+00:00</td>\n",
              "      <td>view</td>\n",
              "      <td>2601488</td>\n",
              "      <td>2232732101835227701</td>\n",
              "      <td>None</td>\n",
              "      <td>darina</td>\n",
              "      <td>167.29</td>\n",
              "      <td>523607693</td>\n",
              "      <td>6836d271-ef67-42dc-8756-4ef103e4fbf1</td>\n",
              "      <td>2020-04-01</td>\n",
              "      <td>4</td>\n",
              "      <td>None</td>\n",
              "      <td>None</td>\n",
              "      <td>None</td>\n",
              "      <td>None</td>\n",
              "      <td>Wednesday</td>\n",
              "    </tr>\n",
              "    <tr>\n",
              "      <th>56341239</th>\n",
              "      <td>2020-03-31 23:59:56+00:00</td>\n",
              "      <td>view</td>\n",
              "      <td>100006963</td>\n",
              "      <td>2232732099754852875</td>\n",
              "      <td>appliances.personal.massager</td>\n",
              "      <td>yasin</td>\n",
              "      <td>163.16</td>\n",
              "      <td>629229484</td>\n",
              "      <td>c00a1636-dfc2-4e96-a6a3-7fd979e93789</td>\n",
              "      <td>2020-04-01</td>\n",
              "      <td>4</td>\n",
              "      <td>appliances</td>\n",
              "      <td>personal</td>\n",
              "      <td>massager</td>\n",
              "      <td>None</td>\n",
              "      <td>Wednesday</td>\n",
              "    </tr>\n",
              "    <tr>\n",
              "      <th>56341240</th>\n",
              "      <td>2020-03-31 23:59:57+00:00</td>\n",
              "      <td>view</td>\n",
              "      <td>100145166</td>\n",
              "      <td>2232732076711346189</td>\n",
              "      <td>None</td>\n",
              "      <td>None</td>\n",
              "      <td>85.95</td>\n",
              "      <td>513238692</td>\n",
              "      <td>d33201ea-2f9d-4957-97fd-1efe9a315805</td>\n",
              "      <td>2020-04-01</td>\n",
              "      <td>4</td>\n",
              "      <td>None</td>\n",
              "      <td>None</td>\n",
              "      <td>None</td>\n",
              "      <td>None</td>\n",
              "      <td>Wednesday</td>\n",
              "    </tr>\n",
              "  </tbody>\n",
              "</table>\n",
              "</div>\n",
              "    <div class=\"colab-df-buttons\">\n",
              "\n",
              "  <div class=\"colab-df-container\">\n",
              "    <button class=\"colab-df-convert\" onclick=\"convertToInteractive('df-ff31f824-ca98-40fc-9a98-d82c6f6f24f9')\"\n",
              "            title=\"Convert this dataframe to an interactive table.\"\n",
              "            style=\"display:none;\">\n",
              "\n",
              "  <svg xmlns=\"http://www.w3.org/2000/svg\" height=\"24px\" viewBox=\"0 -960 960 960\">\n",
              "    <path d=\"M120-120v-720h720v720H120Zm60-500h600v-160H180v160Zm220 220h160v-160H400v160Zm0 220h160v-160H400v160ZM180-400h160v-160H180v160Zm440 0h160v-160H620v160ZM180-180h160v-160H180v160Zm440 0h160v-160H620v160Z\"/>\n",
              "  </svg>\n",
              "    </button>\n",
              "\n",
              "  <style>\n",
              "    .colab-df-container {\n",
              "      display:flex;\n",
              "      gap: 12px;\n",
              "    }\n",
              "\n",
              "    .colab-df-convert {\n",
              "      background-color: #E8F0FE;\n",
              "      border: none;\n",
              "      border-radius: 50%;\n",
              "      cursor: pointer;\n",
              "      display: none;\n",
              "      fill: #1967D2;\n",
              "      height: 32px;\n",
              "      padding: 0 0 0 0;\n",
              "      width: 32px;\n",
              "    }\n",
              "\n",
              "    .colab-df-convert:hover {\n",
              "      background-color: #E2EBFA;\n",
              "      box-shadow: 0px 1px 2px rgba(60, 64, 67, 0.3), 0px 1px 3px 1px rgba(60, 64, 67, 0.15);\n",
              "      fill: #174EA6;\n",
              "    }\n",
              "\n",
              "    .colab-df-buttons div {\n",
              "      margin-bottom: 4px;\n",
              "    }\n",
              "\n",
              "    [theme=dark] .colab-df-convert {\n",
              "      background-color: #3B4455;\n",
              "      fill: #D2E3FC;\n",
              "    }\n",
              "\n",
              "    [theme=dark] .colab-df-convert:hover {\n",
              "      background-color: #434B5C;\n",
              "      box-shadow: 0px 1px 3px 1px rgba(0, 0, 0, 0.15);\n",
              "      filter: drop-shadow(0px 1px 2px rgba(0, 0, 0, 0.3));\n",
              "      fill: #FFFFFF;\n",
              "    }\n",
              "  </style>\n",
              "\n",
              "    <script>\n",
              "      const buttonEl =\n",
              "        document.querySelector('#df-ff31f824-ca98-40fc-9a98-d82c6f6f24f9 button.colab-df-convert');\n",
              "      buttonEl.style.display =\n",
              "        google.colab.kernel.accessAllowed ? 'block' : 'none';\n",
              "\n",
              "      async function convertToInteractive(key) {\n",
              "        const element = document.querySelector('#df-ff31f824-ca98-40fc-9a98-d82c6f6f24f9');\n",
              "        const dataTable =\n",
              "          await google.colab.kernel.invokeFunction('convertToInteractive',\n",
              "                                                    [key], {});\n",
              "        if (!dataTable) return;\n",
              "\n",
              "        const docLinkHtml = 'Like what you see? Visit the ' +\n",
              "          '<a target=\"_blank\" href=https://colab.research.google.com/notebooks/data_table.ipynb>data table notebook</a>'\n",
              "          + ' to learn more about interactive tables.';\n",
              "        element.innerHTML = '';\n",
              "        dataTable['output_type'] = 'display_data';\n",
              "        await google.colab.output.renderOutput(dataTable, element);\n",
              "        const docLink = document.createElement('div');\n",
              "        docLink.innerHTML = docLinkHtml;\n",
              "        element.appendChild(docLink);\n",
              "      }\n",
              "    </script>\n",
              "  </div>\n",
              "\n",
              "\n",
              "    <div id=\"df-40a9feab-0e8c-4522-a2f3-b3b2dfff3312\">\n",
              "      <button class=\"colab-df-quickchart\" onclick=\"quickchart('df-40a9feab-0e8c-4522-a2f3-b3b2dfff3312')\"\n",
              "                title=\"Suggest charts\"\n",
              "                style=\"display:none;\">\n",
              "\n",
              "<svg xmlns=\"http://www.w3.org/2000/svg\" height=\"24px\"viewBox=\"0 0 24 24\"\n",
              "     width=\"24px\">\n",
              "    <g>\n",
              "        <path d=\"M19 3H5c-1.1 0-2 .9-2 2v14c0 1.1.9 2 2 2h14c1.1 0 2-.9 2-2V5c0-1.1-.9-2-2-2zM9 17H7v-7h2v7zm4 0h-2V7h2v10zm4 0h-2v-4h2v4z\"/>\n",
              "    </g>\n",
              "</svg>\n",
              "      </button>\n",
              "\n",
              "<style>\n",
              "  .colab-df-quickchart {\n",
              "      --bg-color: #E8F0FE;\n",
              "      --fill-color: #1967D2;\n",
              "      --hover-bg-color: #E2EBFA;\n",
              "      --hover-fill-color: #174EA6;\n",
              "      --disabled-fill-color: #AAA;\n",
              "      --disabled-bg-color: #DDD;\n",
              "  }\n",
              "\n",
              "  [theme=dark] .colab-df-quickchart {\n",
              "      --bg-color: #3B4455;\n",
              "      --fill-color: #D2E3FC;\n",
              "      --hover-bg-color: #434B5C;\n",
              "      --hover-fill-color: #FFFFFF;\n",
              "      --disabled-bg-color: #3B4455;\n",
              "      --disabled-fill-color: #666;\n",
              "  }\n",
              "\n",
              "  .colab-df-quickchart {\n",
              "    background-color: var(--bg-color);\n",
              "    border: none;\n",
              "    border-radius: 50%;\n",
              "    cursor: pointer;\n",
              "    display: none;\n",
              "    fill: var(--fill-color);\n",
              "    height: 32px;\n",
              "    padding: 0;\n",
              "    width: 32px;\n",
              "  }\n",
              "\n",
              "  .colab-df-quickchart:hover {\n",
              "    background-color: var(--hover-bg-color);\n",
              "    box-shadow: 0 1px 2px rgba(60, 64, 67, 0.3), 0 1px 3px 1px rgba(60, 64, 67, 0.15);\n",
              "    fill: var(--button-hover-fill-color);\n",
              "  }\n",
              "\n",
              "  .colab-df-quickchart-complete:disabled,\n",
              "  .colab-df-quickchart-complete:disabled:hover {\n",
              "    background-color: var(--disabled-bg-color);\n",
              "    fill: var(--disabled-fill-color);\n",
              "    box-shadow: none;\n",
              "  }\n",
              "\n",
              "  .colab-df-spinner {\n",
              "    border: 2px solid var(--fill-color);\n",
              "    border-color: transparent;\n",
              "    border-bottom-color: var(--fill-color);\n",
              "    animation:\n",
              "      spin 1s steps(1) infinite;\n",
              "  }\n",
              "\n",
              "  @keyframes spin {\n",
              "    0% {\n",
              "      border-color: transparent;\n",
              "      border-bottom-color: var(--fill-color);\n",
              "      border-left-color: var(--fill-color);\n",
              "    }\n",
              "    20% {\n",
              "      border-color: transparent;\n",
              "      border-left-color: var(--fill-color);\n",
              "      border-top-color: var(--fill-color);\n",
              "    }\n",
              "    30% {\n",
              "      border-color: transparent;\n",
              "      border-left-color: var(--fill-color);\n",
              "      border-top-color: var(--fill-color);\n",
              "      border-right-color: var(--fill-color);\n",
              "    }\n",
              "    40% {\n",
              "      border-color: transparent;\n",
              "      border-right-color: var(--fill-color);\n",
              "      border-top-color: var(--fill-color);\n",
              "    }\n",
              "    60% {\n",
              "      border-color: transparent;\n",
              "      border-right-color: var(--fill-color);\n",
              "    }\n",
              "    80% {\n",
              "      border-color: transparent;\n",
              "      border-right-color: var(--fill-color);\n",
              "      border-bottom-color: var(--fill-color);\n",
              "    }\n",
              "    90% {\n",
              "      border-color: transparent;\n",
              "      border-bottom-color: var(--fill-color);\n",
              "    }\n",
              "  }\n",
              "</style>\n",
              "\n",
              "      <script>\n",
              "        async function quickchart(key) {\n",
              "          const quickchartButtonEl =\n",
              "            document.querySelector('#' + key + ' button');\n",
              "          quickchartButtonEl.disabled = true;  // To prevent multiple clicks.\n",
              "          quickchartButtonEl.classList.add('colab-df-spinner');\n",
              "          try {\n",
              "            const charts = await google.colab.kernel.invokeFunction(\n",
              "                'suggestCharts', [key], {});\n",
              "          } catch (error) {\n",
              "            console.error('Error during call to suggestCharts:', error);\n",
              "          }\n",
              "          quickchartButtonEl.classList.remove('colab-df-spinner');\n",
              "          quickchartButtonEl.classList.add('colab-df-quickchart-complete');\n",
              "        }\n",
              "        (() => {\n",
              "          let quickchartButtonEl =\n",
              "            document.querySelector('#df-40a9feab-0e8c-4522-a2f3-b3b2dfff3312 button');\n",
              "          quickchartButtonEl.style.display =\n",
              "            google.colab.kernel.accessAllowed ? 'block' : 'none';\n",
              "        })();\n",
              "      </script>\n",
              "    </div>\n",
              "\n",
              "    </div>\n",
              "  </div>\n"
            ],
            "application/vnd.google.colaboratory.intrinsic+json": {
              "type": "dataframe",
              "repr_error": "0"
            }
          },
          "metadata": {},
          "execution_count": 7
        }
      ]
    },
    {
      "cell_type": "code",
      "source": [
        "# 4/1 행만 필터링\n",
        "df_4_1 = df_3[df_3['event_date'] == pd.to_datetime('2020-04-01').date()]\n",
        "\n",
        "# # 4/1 데이터만 따로 저장\n",
        "# output_path_4_1 = f'{data_root}/2020-04-01_data.parquet'\n",
        "# df_4_1.to_parquet(output_path_4_1)\n",
        "\n",
        "# print(f'Data for 2020-04-01 saved to: {output_path_4_1}')"
      ],
      "metadata": {
        "colab": {
          "base_uri": "https://localhost:8080/"
        },
        "id": "BdYHi_dGsZq1",
        "outputId": "a0cd386d-dc3a-49b6-f674-437146172ac9"
      },
      "execution_count": null,
      "outputs": [
        {
          "output_type": "stream",
          "name": "stdout",
          "text": [
            "Data for 2020-04-01 saved to: /content/drive/MyDrive/Colab Notebooks/datathon/2020-04-01_data.parquet\n"
          ]
        }
      ]
    },
    {
      "cell_type": "code",
      "source": [
        "# # df_3에서 4/1 행 제거\n",
        "# df_3 = df_3[df_3['event_date'] != pd.to_datetime('2020-04-01').date()]\n",
        "\n",
        "# # 수정된 df_3 다시 저장\n",
        "# output_path = f'{data_root}/GMT_2020-Mar.parquet'\n",
        "# df_3.to_parquet(output_path)\n",
        "\n",
        "# print(f'Modified df_3 saved to: {output_path}')"
      ],
      "metadata": {
        "colab": {
          "base_uri": "https://localhost:8080/"
        },
        "id": "aRnAun8znDh-",
        "outputId": "34529aff-d9bd-4405-f430-5304dec6fbff"
      },
      "execution_count": null,
      "outputs": [
        {
          "output_type": "stream",
          "name": "stdout",
          "text": [
            "Modified df_3 saved to: /content/drive/MyDrive/Colab Notebooks/datathon/GMT_2020-Mar.parquet\n"
          ]
        }
      ]
    },
    {
      "cell_type": "markdown",
      "source": [
        "#4월 파일 통합"
      ],
      "metadata": {
        "id": "wxpp7nhYorlB"
      }
    },
    {
      "cell_type": "code",
      "source": [
        "# 1. 데이터 불러오기\n",
        "df_4 = pd.read_parquet(f'{data_root}/2020-Apr.parquet')\n",
        "df_4_1 = pd.read_parquet(f'{data_root}/2020-04-01_data.parquet')\n",
        "\n",
        "# 2. 병합 (가급적 inplace처럼 변수 덮어쓰기)\n",
        "df_4 = pd.concat([df_4, df_4_1], ignore_index=True)\n",
        "\n",
        "# 3. 시간 기준 정렬\n",
        "df_4 = df_4.sort_values(by='event_time').reset_index(drop=True)\n",
        "\n",
        "# 4. 저장\n",
        "df_4.to_parquet(f'{data_root}/GMT_2020-Apr.parquet')\n",
        "\n",
        "print(\"✔ 병합 및 정렬 완료: GMT_2020-Apr.parquet\")"
      ],
      "metadata": {
        "id": "sk92SxvjsRcn"
      },
      "execution_count": null,
      "outputs": []
    },
    {
      "cell_type": "code",
      "source": [
        "#세션 다운"
      ],
      "metadata": {
        "id": "ZX_SpVyisT2e"
      },
      "execution_count": null,
      "outputs": []
    },
    {
      "cell_type": "code",
      "source": [],
      "metadata": {
        "id": "Kzs3K9AisTzb"
      },
      "execution_count": null,
      "outputs": []
    },
    {
      "cell_type": "markdown",
      "source": [
        "#세션다운"
      ],
      "metadata": {
        "id": "BGzPG3O3sU2-"
      }
    },
    {
      "cell_type": "code",
      "source": [
        "df_4 = pd.read_parquet(f'{data_root}/2020-Apr.parquet')\n",
        "\n",
        "df_4.head()"
      ],
      "metadata": {
        "colab": {
          "base_uri": "https://localhost:8080/",
          "height": 182
        },
        "id": "EbZIr0N7mpPl",
        "outputId": "f09bcb4f-fded-418d-add3-3b3b058e9e99"
      },
      "execution_count": null,
      "outputs": [
        {
          "output_type": "error",
          "ename": "NameError",
          "evalue": "name 'pd' is not defined",
          "traceback": [
            "\u001b[0;31m---------------------------------------------------------------------------\u001b[0m",
            "\u001b[0;31mNameError\u001b[0m                                 Traceback (most recent call last)",
            "\u001b[0;32m/tmp/ipython-input-1-3133483673.py\u001b[0m in \u001b[0;36m<cell line: 0>\u001b[0;34m()\u001b[0m\n\u001b[0;32m----> 1\u001b[0;31m \u001b[0mdf_4\u001b[0m \u001b[0;34m=\u001b[0m \u001b[0mpd\u001b[0m\u001b[0;34m.\u001b[0m\u001b[0mread_parquet\u001b[0m\u001b[0;34m(\u001b[0m\u001b[0;34mf'{data_root}/2020-Apr.parquet'\u001b[0m\u001b[0;34m)\u001b[0m\u001b[0;34m\u001b[0m\u001b[0;34m\u001b[0m\u001b[0m\n\u001b[0m\u001b[1;32m      2\u001b[0m \u001b[0;34m\u001b[0m\u001b[0m\n\u001b[1;32m      3\u001b[0m \u001b[0mdf_4\u001b[0m\u001b[0;34m.\u001b[0m\u001b[0mhead\u001b[0m\u001b[0;34m(\u001b[0m\u001b[0;34m)\u001b[0m\u001b[0;34m\u001b[0m\u001b[0;34m\u001b[0m\u001b[0m\n",
            "\u001b[0;31mNameError\u001b[0m: name 'pd' is not defined"
          ]
        }
      ]
    },
    {
      "cell_type": "code",
      "source": [
        "df_4_combined = pd.concat([df_4_1, df_4], ignore_index=True)\n",
        "\n",
        "# 시간 기준 정렬 (event_time 기준)\n",
        "df_4_combined = df_4_combined.sort_values(by='event_time').reset_index(drop=True)\n",
        "\n",
        "# 저장\n",
        "df_4_combined.to_parquet(f'{data_root}/GMT_2020-Apr.parquet')\n",
        "\n",
        "print(\"✔ 병합 및 정렬 완료: GMT_2020-Apr.parquet\")"
      ],
      "metadata": {
        "id": "lRI7mzyCpCPz"
      },
      "execution_count": null,
      "outputs": []
    },
    {
      "cell_type": "code",
      "source": [
        "#아악 ㅠ"
      ],
      "metadata": {
        "id": "-oP8jxL0pCJE"
      },
      "execution_count": null,
      "outputs": []
    }
  ]
}
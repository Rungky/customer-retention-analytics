{
  "nbformat": 4,
  "nbformat_minor": 0,
  "metadata": {
    "colab": {
      "provenance": [],
      "machine_shape": "hm",
      "collapsed_sections": [
        "UEXU_GiZy93v",
        "FOQtuanjydqa",
        "jPmVEC_lzl--"
      ]
    },
    "kernelspec": {
      "name": "python3",
      "display_name": "Python 3"
    },
    "language_info": {
      "name": "python"
    }
  },
  "cells": [
    {
      "cell_type": "markdown",
      "source": [
        "##데이터 불러오기"
      ],
      "metadata": {
        "id": "HpcUyQF_xwes"
      }
    },
    {
      "cell_type": "code",
      "source": [
        "from google.colab import drive\n",
        "\n",
        "# 1. Google Drive 마운트\n",
        "drive.mount('/content/drive')"
      ],
      "metadata": {
        "colab": {
          "base_uri": "https://localhost:8080/"
        },
        "id": "a1-EHwoOgKBz",
        "outputId": "b60c2ceb-4434-4ac2-9bed-ca87e5e2857d"
      },
      "execution_count": null,
      "outputs": [
        {
          "output_type": "stream",
          "name": "stdout",
          "text": [
            "Drive already mounted at /content/drive; to attempt to forcibly remount, call drive.mount(\"/content/drive\", force_remount=True).\n"
          ]
        }
      ]
    },
    {
      "cell_type": "code",
      "execution_count": null,
      "metadata": {
        "id": "eoNqWugudPt_"
      },
      "outputs": [],
      "source": [
        "# 2. 파일 경로 설정 (사용자 지정 경로)\n",
        "data_root = '/content/drive/MyDrive/Colab Notebooks/datathon'\n",
        "# file_path = f'{data_root}/2019-Nov.csv'"
      ]
    },
    {
      "cell_type": "code",
      "source": [
        "import pandas as pd\n",
        "import numpy as np\n",
        "import matplotlib.pyplot as plt\n",
        "import seaborn as sns\n",
        "from datetime import timedelta\n",
        "import os"
      ],
      "metadata": {
        "id": "tzpaRe5_qvf8"
      },
      "execution_count": null,
      "outputs": []
    },
    {
      "cell_type": "code",
      "source": [
        "sns.set()\n",
        "\n",
        "# 그래프 기본 설정\n",
        "plt.rcParams['figure.figsize'] = 12, 6\n",
        "plt.rcParams['font.size'] = 14\n",
        "plt.rcParams['axes.unicode_minus'] = False\n",
        "import matplotlib as mpl\n",
        "import matplotlib.font_manager as fm\n",
        "\n",
        "# 폰트 파일 경로 지정\n",
        "font_path = '/content/drive/MyDrive/font/NanumGothic.ttf'\n",
        "\n",
        "# 폰트 등록 및 matplotlib 설정\n",
        "font_name = fm.FontProperties(fname=font_path).get_name()\n",
        "fm.fontManager.addfont(font_path)\n",
        "mpl.rc('font', family=font_name)"
      ],
      "metadata": {
        "id": "2GBhzP35zFnu"
      },
      "execution_count": null,
      "outputs": []
    },
    {
      "cell_type": "markdown",
      "source": [
        "##구매 빈도가 낮은 고객 분석 → 이탈 징후 탐지 및 리텐션 전략 수립\n",
        "“구매 빈도가 낮은 고객들의 이탈 징후를 파악하고, 재방문·재구매를 유도할 수 있는 전략 수립\""
      ],
      "metadata": {
        "id": "89BpH2AszkJ-"
      }
    },
    {
      "cell_type": "markdown",
      "source": [
        "##EDA - view 파일은 월별로 하나씩 분석 후 결과 누적"
      ],
      "metadata": {
        "id": "tZ_6A9osSWy9"
      }
    },
    {
      "cell_type": "code",
      "source": [
        "# 카테고리별 조회수 + 유저 수 + PV(유저의 관심도, 탐색도, 노출도를 간접적으로 보여주는 지표) 집계\n",
        "# 데이터 경로와 파일 목록\n",
        "months = ['2019-Oct', '2019-Nov', '2019-Dec', '2020-Jan', '2020-Feb', '2020-Mar']\n",
        "view_summary = []\n",
        "\n",
        "for month in months:\n",
        "    file_path = os.path.join(data_root, f\"{month}_view.parquet\")\n",
        "    print(f\"Processing: {file_path}\")\n",
        "\n",
        "    df = pd.read_parquet(file_path)\n",
        "\n",
        "    # 필요한 컬럼만 사용 (메모리 절약)\n",
        "    df = df[['user_id', 'user_session', 'category_lvl1']]\n",
        "    # 집계\n",
        "    unique_users = df['user_id'].nunique()\n",
        "    unique_sessions = df['user_session'].nunique()\n",
        "    page_views = len(df)\n",
        "\n",
        "    # 카테고리별 조회수\n",
        "    category_counts = df['category_lvl1'].value_counts().to_dict()\n",
        "\n",
        "    # 요약 결과 저장\n",
        "    view_summary.append({\n",
        "        'month': month,\n",
        "        'unique_users': unique_users,\n",
        "        'unique_sessions': unique_sessions,\n",
        "        'page_views': page_views,\n",
        "        'top_categories': category_counts  # 나중에 더 풀어서 저장해도 됨\n",
        "    })\n",
        "\n",
        "# 결과 DataFrame\n",
        "summary_df = pd.DataFrame(view_summary)\n",
        "summary_df"
      ],
      "metadata": {
        "colab": {
          "base_uri": "https://localhost:8080/",
          "height": 433
        },
        "id": "qKoYHo0NHXox",
        "outputId": "1ce3db52-c920-40c9-876a-8a218cea5d5b"
      },
      "execution_count": null,
      "outputs": [
        {
          "output_type": "stream",
          "name": "stdout",
          "text": [
            "Processing: /content/drive/MyDrive/Colab Notebooks/datathon/2019-Oct_view.parquet\n",
            "Processing: /content/drive/MyDrive/Colab Notebooks/datathon/2019-Nov_view.parquet\n",
            "Processing: /content/drive/MyDrive/Colab Notebooks/datathon/2019-Dec_view.parquet\n",
            "Processing: /content/drive/MyDrive/Colab Notebooks/datathon/2020-Jan_view.parquet\n",
            "Processing: /content/drive/MyDrive/Colab Notebooks/datathon/2020-Feb_view.parquet\n",
            "Processing: /content/drive/MyDrive/Colab Notebooks/datathon/2020-Mar_view.parquet\n"
          ]
        },
        {
          "output_type": "execute_result",
          "data": {
            "text/plain": [
              "      month  unique_users  unique_sessions  page_views  \\\n",
              "0  2019-Oct       3022130          9242653    40779399   \n",
              "1  2019-Nov       3695598         13766768    63556110   \n",
              "2  2019-Dec       4576955         15577871    62986067   \n",
              "3  2020-Jan       4383932         13757026    52490785   \n",
              "4  2020-Feb       4203944         13217465    51232669   \n",
              "5  2020-Mar       4107014         12612459    52347910   \n",
              "\n",
              "                                      top_categories  \n",
              "0  {'electronics': 15038390, 'appliances': 479993...  \n",
              "1  {'electronics': 21988192, 'appliances': 803798...  \n",
              "2  {'construction': 16548672, 'appliances': 11078...  \n",
              "3  {'construction': 15094817, 'appliances': 88131...  \n",
              "4  {'construction': 14908750, 'appliances': 79130...  \n",
              "5  {'construction': 13929740, 'appliances': 92207...  "
            ],
            "text/html": [
              "\n",
              "  <div id=\"df-38087e8e-d678-46e9-a055-a3e8d58443cd\" class=\"colab-df-container\">\n",
              "    <div>\n",
              "<style scoped>\n",
              "    .dataframe tbody tr th:only-of-type {\n",
              "        vertical-align: middle;\n",
              "    }\n",
              "\n",
              "    .dataframe tbody tr th {\n",
              "        vertical-align: top;\n",
              "    }\n",
              "\n",
              "    .dataframe thead th {\n",
              "        text-align: right;\n",
              "    }\n",
              "</style>\n",
              "<table border=\"1\" class=\"dataframe\">\n",
              "  <thead>\n",
              "    <tr style=\"text-align: right;\">\n",
              "      <th></th>\n",
              "      <th>month</th>\n",
              "      <th>unique_users</th>\n",
              "      <th>unique_sessions</th>\n",
              "      <th>page_views</th>\n",
              "      <th>top_categories</th>\n",
              "    </tr>\n",
              "  </thead>\n",
              "  <tbody>\n",
              "    <tr>\n",
              "      <th>0</th>\n",
              "      <td>2019-Oct</td>\n",
              "      <td>3022130</td>\n",
              "      <td>9242653</td>\n",
              "      <td>40779399</td>\n",
              "      <td>{'electronics': 15038390, 'appliances': 479993...</td>\n",
              "    </tr>\n",
              "    <tr>\n",
              "      <th>1</th>\n",
              "      <td>2019-Nov</td>\n",
              "      <td>3695598</td>\n",
              "      <td>13766768</td>\n",
              "      <td>63556110</td>\n",
              "      <td>{'electronics': 21988192, 'appliances': 803798...</td>\n",
              "    </tr>\n",
              "    <tr>\n",
              "      <th>2</th>\n",
              "      <td>2019-Dec</td>\n",
              "      <td>4576955</td>\n",
              "      <td>15577871</td>\n",
              "      <td>62986067</td>\n",
              "      <td>{'construction': 16548672, 'appliances': 11078...</td>\n",
              "    </tr>\n",
              "    <tr>\n",
              "      <th>3</th>\n",
              "      <td>2020-Jan</td>\n",
              "      <td>4383932</td>\n",
              "      <td>13757026</td>\n",
              "      <td>52490785</td>\n",
              "      <td>{'construction': 15094817, 'appliances': 88131...</td>\n",
              "    </tr>\n",
              "    <tr>\n",
              "      <th>4</th>\n",
              "      <td>2020-Feb</td>\n",
              "      <td>4203944</td>\n",
              "      <td>13217465</td>\n",
              "      <td>51232669</td>\n",
              "      <td>{'construction': 14908750, 'appliances': 79130...</td>\n",
              "    </tr>\n",
              "    <tr>\n",
              "      <th>5</th>\n",
              "      <td>2020-Mar</td>\n",
              "      <td>4107014</td>\n",
              "      <td>12612459</td>\n",
              "      <td>52347910</td>\n",
              "      <td>{'construction': 13929740, 'appliances': 92207...</td>\n",
              "    </tr>\n",
              "  </tbody>\n",
              "</table>\n",
              "</div>\n",
              "    <div class=\"colab-df-buttons\">\n",
              "\n",
              "  <div class=\"colab-df-container\">\n",
              "    <button class=\"colab-df-convert\" onclick=\"convertToInteractive('df-38087e8e-d678-46e9-a055-a3e8d58443cd')\"\n",
              "            title=\"Convert this dataframe to an interactive table.\"\n",
              "            style=\"display:none;\">\n",
              "\n",
              "  <svg xmlns=\"http://www.w3.org/2000/svg\" height=\"24px\" viewBox=\"0 -960 960 960\">\n",
              "    <path d=\"M120-120v-720h720v720H120Zm60-500h600v-160H180v160Zm220 220h160v-160H400v160Zm0 220h160v-160H400v160ZM180-400h160v-160H180v160Zm440 0h160v-160H620v160ZM180-180h160v-160H180v160Zm440 0h160v-160H620v160Z\"/>\n",
              "  </svg>\n",
              "    </button>\n",
              "\n",
              "  <style>\n",
              "    .colab-df-container {\n",
              "      display:flex;\n",
              "      gap: 12px;\n",
              "    }\n",
              "\n",
              "    .colab-df-convert {\n",
              "      background-color: #E8F0FE;\n",
              "      border: none;\n",
              "      border-radius: 50%;\n",
              "      cursor: pointer;\n",
              "      display: none;\n",
              "      fill: #1967D2;\n",
              "      height: 32px;\n",
              "      padding: 0 0 0 0;\n",
              "      width: 32px;\n",
              "    }\n",
              "\n",
              "    .colab-df-convert:hover {\n",
              "      background-color: #E2EBFA;\n",
              "      box-shadow: 0px 1px 2px rgba(60, 64, 67, 0.3), 0px 1px 3px 1px rgba(60, 64, 67, 0.15);\n",
              "      fill: #174EA6;\n",
              "    }\n",
              "\n",
              "    .colab-df-buttons div {\n",
              "      margin-bottom: 4px;\n",
              "    }\n",
              "\n",
              "    [theme=dark] .colab-df-convert {\n",
              "      background-color: #3B4455;\n",
              "      fill: #D2E3FC;\n",
              "    }\n",
              "\n",
              "    [theme=dark] .colab-df-convert:hover {\n",
              "      background-color: #434B5C;\n",
              "      box-shadow: 0px 1px 3px 1px rgba(0, 0, 0, 0.15);\n",
              "      filter: drop-shadow(0px 1px 2px rgba(0, 0, 0, 0.3));\n",
              "      fill: #FFFFFF;\n",
              "    }\n",
              "  </style>\n",
              "\n",
              "    <script>\n",
              "      const buttonEl =\n",
              "        document.querySelector('#df-38087e8e-d678-46e9-a055-a3e8d58443cd button.colab-df-convert');\n",
              "      buttonEl.style.display =\n",
              "        google.colab.kernel.accessAllowed ? 'block' : 'none';\n",
              "\n",
              "      async function convertToInteractive(key) {\n",
              "        const element = document.querySelector('#df-38087e8e-d678-46e9-a055-a3e8d58443cd');\n",
              "        const dataTable =\n",
              "          await google.colab.kernel.invokeFunction('convertToInteractive',\n",
              "                                                    [key], {});\n",
              "        if (!dataTable) return;\n",
              "\n",
              "        const docLinkHtml = 'Like what you see? Visit the ' +\n",
              "          '<a target=\"_blank\" href=https://colab.research.google.com/notebooks/data_table.ipynb>data table notebook</a>'\n",
              "          + ' to learn more about interactive tables.';\n",
              "        element.innerHTML = '';\n",
              "        dataTable['output_type'] = 'display_data';\n",
              "        await google.colab.output.renderOutput(dataTable, element);\n",
              "        const docLink = document.createElement('div');\n",
              "        docLink.innerHTML = docLinkHtml;\n",
              "        element.appendChild(docLink);\n",
              "      }\n",
              "    </script>\n",
              "  </div>\n",
              "\n",
              "\n",
              "    <div id=\"df-ea1d99d9-f9d7-4b9e-9bf7-ad66991c57ad\">\n",
              "      <button class=\"colab-df-quickchart\" onclick=\"quickchart('df-ea1d99d9-f9d7-4b9e-9bf7-ad66991c57ad')\"\n",
              "                title=\"Suggest charts\"\n",
              "                style=\"display:none;\">\n",
              "\n",
              "<svg xmlns=\"http://www.w3.org/2000/svg\" height=\"24px\"viewBox=\"0 0 24 24\"\n",
              "     width=\"24px\">\n",
              "    <g>\n",
              "        <path d=\"M19 3H5c-1.1 0-2 .9-2 2v14c0 1.1.9 2 2 2h14c1.1 0 2-.9 2-2V5c0-1.1-.9-2-2-2zM9 17H7v-7h2v7zm4 0h-2V7h2v10zm4 0h-2v-4h2v4z\"/>\n",
              "    </g>\n",
              "</svg>\n",
              "      </button>\n",
              "\n",
              "<style>\n",
              "  .colab-df-quickchart {\n",
              "      --bg-color: #E8F0FE;\n",
              "      --fill-color: #1967D2;\n",
              "      --hover-bg-color: #E2EBFA;\n",
              "      --hover-fill-color: #174EA6;\n",
              "      --disabled-fill-color: #AAA;\n",
              "      --disabled-bg-color: #DDD;\n",
              "  }\n",
              "\n",
              "  [theme=dark] .colab-df-quickchart {\n",
              "      --bg-color: #3B4455;\n",
              "      --fill-color: #D2E3FC;\n",
              "      --hover-bg-color: #434B5C;\n",
              "      --hover-fill-color: #FFFFFF;\n",
              "      --disabled-bg-color: #3B4455;\n",
              "      --disabled-fill-color: #666;\n",
              "  }\n",
              "\n",
              "  .colab-df-quickchart {\n",
              "    background-color: var(--bg-color);\n",
              "    border: none;\n",
              "    border-radius: 50%;\n",
              "    cursor: pointer;\n",
              "    display: none;\n",
              "    fill: var(--fill-color);\n",
              "    height: 32px;\n",
              "    padding: 0;\n",
              "    width: 32px;\n",
              "  }\n",
              "\n",
              "  .colab-df-quickchart:hover {\n",
              "    background-color: var(--hover-bg-color);\n",
              "    box-shadow: 0 1px 2px rgba(60, 64, 67, 0.3), 0 1px 3px 1px rgba(60, 64, 67, 0.15);\n",
              "    fill: var(--button-hover-fill-color);\n",
              "  }\n",
              "\n",
              "  .colab-df-quickchart-complete:disabled,\n",
              "  .colab-df-quickchart-complete:disabled:hover {\n",
              "    background-color: var(--disabled-bg-color);\n",
              "    fill: var(--disabled-fill-color);\n",
              "    box-shadow: none;\n",
              "  }\n",
              "\n",
              "  .colab-df-spinner {\n",
              "    border: 2px solid var(--fill-color);\n",
              "    border-color: transparent;\n",
              "    border-bottom-color: var(--fill-color);\n",
              "    animation:\n",
              "      spin 1s steps(1) infinite;\n",
              "  }\n",
              "\n",
              "  @keyframes spin {\n",
              "    0% {\n",
              "      border-color: transparent;\n",
              "      border-bottom-color: var(--fill-color);\n",
              "      border-left-color: var(--fill-color);\n",
              "    }\n",
              "    20% {\n",
              "      border-color: transparent;\n",
              "      border-left-color: var(--fill-color);\n",
              "      border-top-color: var(--fill-color);\n",
              "    }\n",
              "    30% {\n",
              "      border-color: transparent;\n",
              "      border-left-color: var(--fill-color);\n",
              "      border-top-color: var(--fill-color);\n",
              "      border-right-color: var(--fill-color);\n",
              "    }\n",
              "    40% {\n",
              "      border-color: transparent;\n",
              "      border-right-color: var(--fill-color);\n",
              "      border-top-color: var(--fill-color);\n",
              "    }\n",
              "    60% {\n",
              "      border-color: transparent;\n",
              "      border-right-color: var(--fill-color);\n",
              "    }\n",
              "    80% {\n",
              "      border-color: transparent;\n",
              "      border-right-color: var(--fill-color);\n",
              "      border-bottom-color: var(--fill-color);\n",
              "    }\n",
              "    90% {\n",
              "      border-color: transparent;\n",
              "      border-bottom-color: var(--fill-color);\n",
              "    }\n",
              "  }\n",
              "</style>\n",
              "\n",
              "      <script>\n",
              "        async function quickchart(key) {\n",
              "          const quickchartButtonEl =\n",
              "            document.querySelector('#' + key + ' button');\n",
              "          quickchartButtonEl.disabled = true;  // To prevent multiple clicks.\n",
              "          quickchartButtonEl.classList.add('colab-df-spinner');\n",
              "          try {\n",
              "            const charts = await google.colab.kernel.invokeFunction(\n",
              "                'suggestCharts', [key], {});\n",
              "          } catch (error) {\n",
              "            console.error('Error during call to suggestCharts:', error);\n",
              "          }\n",
              "          quickchartButtonEl.classList.remove('colab-df-spinner');\n",
              "          quickchartButtonEl.classList.add('colab-df-quickchart-complete');\n",
              "        }\n",
              "        (() => {\n",
              "          let quickchartButtonEl =\n",
              "            document.querySelector('#df-ea1d99d9-f9d7-4b9e-9bf7-ad66991c57ad button');\n",
              "          quickchartButtonEl.style.display =\n",
              "            google.colab.kernel.accessAllowed ? 'block' : 'none';\n",
              "        })();\n",
              "      </script>\n",
              "    </div>\n",
              "\n",
              "  <div id=\"id_aadcb2bc-a23b-48a6-8aa3-6951077fc5a6\">\n",
              "    <style>\n",
              "      .colab-df-generate {\n",
              "        background-color: #E8F0FE;\n",
              "        border: none;\n",
              "        border-radius: 50%;\n",
              "        cursor: pointer;\n",
              "        display: none;\n",
              "        fill: #1967D2;\n",
              "        height: 32px;\n",
              "        padding: 0 0 0 0;\n",
              "        width: 32px;\n",
              "      }\n",
              "\n",
              "      .colab-df-generate:hover {\n",
              "        background-color: #E2EBFA;\n",
              "        box-shadow: 0px 1px 2px rgba(60, 64, 67, 0.3), 0px 1px 3px 1px rgba(60, 64, 67, 0.15);\n",
              "        fill: #174EA6;\n",
              "      }\n",
              "\n",
              "      [theme=dark] .colab-df-generate {\n",
              "        background-color: #3B4455;\n",
              "        fill: #D2E3FC;\n",
              "      }\n",
              "\n",
              "      [theme=dark] .colab-df-generate:hover {\n",
              "        background-color: #434B5C;\n",
              "        box-shadow: 0px 1px 3px 1px rgba(0, 0, 0, 0.15);\n",
              "        filter: drop-shadow(0px 1px 2px rgba(0, 0, 0, 0.3));\n",
              "        fill: #FFFFFF;\n",
              "      }\n",
              "    </style>\n",
              "    <button class=\"colab-df-generate\" onclick=\"generateWithVariable('summary_df')\"\n",
              "            title=\"Generate code using this dataframe.\"\n",
              "            style=\"display:none;\">\n",
              "\n",
              "  <svg xmlns=\"http://www.w3.org/2000/svg\" height=\"24px\"viewBox=\"0 0 24 24\"\n",
              "       width=\"24px\">\n",
              "    <path d=\"M7,19H8.4L18.45,9,17,7.55,7,17.6ZM5,21V16.75L18.45,3.32a2,2,0,0,1,2.83,0l1.4,1.43a1.91,1.91,0,0,1,.58,1.4,1.91,1.91,0,0,1-.58,1.4L9.25,21ZM18.45,9,17,7.55Zm-12,3A5.31,5.31,0,0,0,4.9,8.1,5.31,5.31,0,0,0,1,6.5,5.31,5.31,0,0,0,4.9,4.9,5.31,5.31,0,0,0,6.5,1,5.31,5.31,0,0,0,8.1,4.9,5.31,5.31,0,0,0,12,6.5,5.46,5.46,0,0,0,6.5,12Z\"/>\n",
              "  </svg>\n",
              "    </button>\n",
              "    <script>\n",
              "      (() => {\n",
              "      const buttonEl =\n",
              "        document.querySelector('#id_aadcb2bc-a23b-48a6-8aa3-6951077fc5a6 button.colab-df-generate');\n",
              "      buttonEl.style.display =\n",
              "        google.colab.kernel.accessAllowed ? 'block' : 'none';\n",
              "\n",
              "      buttonEl.onclick = () => {\n",
              "        google.colab.notebook.generateWithVariable('summary_df');\n",
              "      }\n",
              "      })();\n",
              "    </script>\n",
              "  </div>\n",
              "\n",
              "    </div>\n",
              "  </div>\n"
            ],
            "application/vnd.google.colaboratory.intrinsic+json": {
              "type": "dataframe",
              "variable_name": "summary_df",
              "summary": "{\n  \"name\": \"summary_df\",\n  \"rows\": 6,\n  \"fields\": [\n    {\n      \"column\": \"month\",\n      \"properties\": {\n        \"dtype\": \"object\",\n        \"num_unique_values\": 6,\n        \"samples\": [\n          \"2019-Oct\",\n          \"2019-Nov\",\n          \"2020-Mar\"\n        ],\n        \"semantic_type\": \"\",\n        \"description\": \"\"\n      }\n    },\n    {\n      \"column\": \"unique_users\",\n      \"properties\": {\n        \"dtype\": \"number\",\n        \"std\": 562529,\n        \"min\": 3022130,\n        \"max\": 4576955,\n        \"num_unique_values\": 6,\n        \"samples\": [\n          3022130,\n          3695598,\n          4107014\n        ],\n        \"semantic_type\": \"\",\n        \"description\": \"\"\n      }\n    },\n    {\n      \"column\": \"unique_sessions\",\n      \"properties\": {\n        \"dtype\": \"number\",\n        \"std\": 2103165,\n        \"min\": 9242653,\n        \"max\": 15577871,\n        \"num_unique_values\": 6,\n        \"samples\": [\n          9242653,\n          13766768,\n          12612459\n        ],\n        \"semantic_type\": \"\",\n        \"description\": \"\"\n      }\n    },\n    {\n      \"column\": \"page_views\",\n      \"properties\": {\n        \"dtype\": \"number\",\n        \"std\": 8478876,\n        \"min\": 40779399,\n        \"max\": 63556110,\n        \"num_unique_values\": 6,\n        \"samples\": [\n          40779399,\n          63556110,\n          52347910\n        ],\n        \"semantic_type\": \"\",\n        \"description\": \"\"\n      }\n    },\n    {\n      \"column\": \"top_categories\",\n      \"properties\": {\n        \"dtype\": \"object\",\n        \"semantic_type\": \"\",\n        \"description\": \"\"\n      }\n    }\n  ]\n}"
            }
          },
          "metadata": {},
          "execution_count": 5
        }
      ]
    },
    {
      "cell_type": "code",
      "source": [
        "# 구매 이력 없는 유저 추출 및 마지막 조회 카테고리 확인\n",
        "# 📅 분석 대상 월\n",
        "months = ['2019-Oct', '2019-Nov', '2019-Dec', '2020-Jan', '2020-Feb', '2020-Mar']\n",
        "\n",
        "# Step 1. 전체 구매 유저 목록 수집\n",
        "purchase_users = set()\n",
        "for month in months:\n",
        "    purchase_path = os.path.join(data_root+'/병합 전 event_type 6개월치 분리', f'{month}_purchase.parquet')\n",
        "    if os.path.exists(purchase_path):\n",
        "        df_purchase = pd.read_parquet(purchase_path)\n",
        "        purchase_users.update(df_purchase['user_id'].unique())\n",
        "\n",
        "print(f'총 구매 유저 수: {len(purchase_users):,}')\n",
        "\n",
        "# Step 2. 각 view 데이터에서 \"구매 경험 없는 유저의 마지막 조회\" 추출\n",
        "last_view_records = []\n",
        "\n",
        "for month in months:\n",
        "    view_path = os.path.join(data_root, f'{month}_view.parquet')\n",
        "    if os.path.exists(view_path):\n",
        "        print(f\"{month} view 파일 처리 중...\")\n",
        "        df_view = pd.read_parquet(view_path)\n",
        "\n",
        "        # 구매 이력이 없는 유저만 필터링\n",
        "        df_view = df_view[~df_view['user_id'].isin(purchase_users)].copy()\n",
        "\n",
        "        # event_time 형 변환\n",
        "        df_view['event_time'] = pd.to_datetime(df_view['event_time'])\n",
        "\n",
        "        # 유저별 마지막 조회만 추출\n",
        "        last_views = df_view.sort_values('event_time').groupby('user_id').tail(1)\n",
        "\n",
        "        # 필요한 컬럼만 저장\n",
        "        last_view_records.append(last_views[['user_id', 'event_time', 'category_lvl1']])\n",
        "\n",
        "# Step 3. 최종 병합\n",
        "df_last_views = pd.concat(last_view_records, ignore_index=True)\n",
        "print(f\"\\n💡 총 '구매 없이 떠난 유저' 수: {df_last_views['user_id'].nunique():,}\")"
      ],
      "metadata": {
        "colab": {
          "base_uri": "https://localhost:8080/"
        },
        "id": "VXnhEO_kTAY3",
        "outputId": "ae2a10bc-8dd8-428c-8cfa-8f709c9062ef"
      },
      "execution_count": null,
      "outputs": [
        {
          "output_type": "stream",
          "name": "stdout",
          "text": [
            "총 구매 유저 수: 1,744,364\n",
            "2019-Oct view 파일 처리 중...\n",
            "2019-Nov view 파일 처리 중...\n",
            "2019-Dec view 파일 처리 중...\n",
            "2020-Jan view 파일 처리 중...\n",
            "2020-Feb view 파일 처리 중...\n",
            "2020-Mar view 파일 처리 중...\n",
            "\n",
            "💡 총 '구매 없이 떠난 유저' 수: 11,783,595\n"
          ]
        }
      ]
    },
    {
      "cell_type": "code",
      "source": [],
      "metadata": {
        "id": "7hukX2JHrmkq"
      },
      "execution_count": null,
      "outputs": []
    },
    {
      "cell_type": "code",
      "source": [
        "# 📊 마지막 조회 카테고리 집계\n",
        "top_last_categories = df_last_views['category_lvl1'].value_counts().head(10).reset_index()\n",
        "top_last_categories.columns = ['category_lvl1', 'user_count']\n",
        "\n",
        "# 📈 시각화\n",
        "plt.figure(figsize=(10, 6))\n",
        "sns.barplot(data=top_last_categories, x='user_count', y='category_lvl1', palette='Blues_d')\n",
        "plt.title('구매 없이 떠난 유저의 마지막 조회 카테고리 Top 10')\n",
        "plt.xlabel('유저 수')\n",
        "plt.ylabel('카테고리')\n",
        "plt.tight_layout()\n",
        "plt.show()"
      ],
      "metadata": {
        "colab": {
          "base_uri": "https://localhost:8080/",
          "height": 686
        },
        "id": "DR6E-bnpSvEE",
        "outputId": "8b6363d0-01b0-4301-af2d-dc3561541a49"
      },
      "execution_count": null,
      "outputs": [
        {
          "output_type": "stream",
          "name": "stderr",
          "text": [
            "/tmp/ipython-input-7-200557153.py:7: FutureWarning: \n",
            "\n",
            "Passing `palette` without assigning `hue` is deprecated and will be removed in v0.14.0. Assign the `y` variable to `hue` and set `legend=False` for the same effect.\n",
            "\n",
            "  sns.barplot(data=top_last_categories, x='user_count', y='category_lvl1', palette='Blues_d')\n"
          ]
        },
        {
          "output_type": "display_data",
          "data": {
            "text/plain": [
              "<Figure size 1000x600 with 1 Axes>"
            ],
            "image/png": "[encoded data removed]"
          },
          "metadata": {}
        }
      ]
    },
    {
      "cell_type": "code",
      "source": [
        "# 구매 경험 없는 유저들의 전체 조회 Top 카테고리 분석\n",
        "# 구매 이력이 있는 유저 ID 불러오기\n",
        "df_purchase = pd.read_parquet(data_root +'/purchase_6months.parquet', columns=['user_id'])\n",
        "months = ['2019-Nov', '2019-Dec', '2020-Jan', '2020-Feb', '2020-Mar']\n",
        "\n",
        "buyers = set(df_purchase['user_id'].unique())\n",
        "\n",
        "# view 데이터 중 필요한 컬럼만 선택해서 불러오기\n",
        "cols = ['user_id', 'category_lvl1']\n",
        "df_view = pd.read_parquet(data_root+'/2019-Oct_view.parquet', columns=cols)\n",
        "\n",
        "for month in months:\n",
        "    temp_df = pd.read_parquet(data_root +f'/{month}_view.parquet', columns=cols)\n",
        "    df_view = pd.concat([df_view, temp_df], ignore_index=True)\n",
        "\n",
        "# 구매 경험 없는 유저만 필터링\n",
        "non_buyer_views = df_view[~df_view['user_id'].isin(buyers)]\n",
        "\n",
        "# NaN 카테고리 제거 (중요!)\n",
        "non_buyer_views = non_buyer_views.dropna(subset=['category_lvl1'])\n",
        "\n",
        "# 카테고리별 전체 조회수 집계\n",
        "non_buyer_top_categories = non_buyer_views['category_lvl1'].value_counts().reset_index()\n",
        "non_buyer_top_categories.columns = ['category', 'view_count']\n",
        "\n",
        "# 결과 출력\n",
        "print(\"구매 경험 없는 유저들의 전체 조회 Top 카테고리\")\n",
        "print(non_buyer_top_categories.head(10))"
      ],
      "metadata": {
        "colab": {
          "base_uri": "https://localhost:8080/",
          "height": 388
        },
        "id": "lqA1YU0ZHXjp",
        "outputId": "4e344cec-4f11-4aac-cdba-ee0fc4493051"
      },
      "execution_count": null,
      "outputs": [
        {
          "output_type": "error",
          "ename": "KeyboardInterrupt",
          "evalue": "",
          "traceback": [
            "\u001b[0;31m---------------------------------------------------------------------------\u001b[0m",
            "\u001b[0;31mKeyboardInterrupt\u001b[0m                         Traceback (most recent call last)",
            "\u001b[0;32m/tmp/ipython-input-1883153003.py\u001b[0m in \u001b[0;36m<cell line: 0>\u001b[0;34m()\u001b[0m\n\u001b[1;32m      8\u001b[0m \u001b[0;31m# view 데이터 중 필요한 컬럼만 선택해서 불러오기\u001b[0m\u001b[0;34m\u001b[0m\u001b[0;34m\u001b[0m\u001b[0m\n\u001b[1;32m      9\u001b[0m \u001b[0mcols\u001b[0m \u001b[0;34m=\u001b[0m \u001b[0;34m[\u001b[0m\u001b[0;34m'user_id'\u001b[0m\u001b[0;34m,\u001b[0m \u001b[0;34m'category_lvl1'\u001b[0m\u001b[0;34m]\u001b[0m\u001b[0;34m\u001b[0m\u001b[0;34m\u001b[0m\u001b[0m\n\u001b[0;32m---> 10\u001b[0;31m \u001b[0mdf_view\u001b[0m \u001b[0;34m=\u001b[0m \u001b[0mpd\u001b[0m\u001b[0;34m.\u001b[0m\u001b[0mread_parquet\u001b[0m\u001b[0;34m(\u001b[0m\u001b[0mdata_root\u001b[0m\u001b[0;34m+\u001b[0m\u001b[0;34m'/2019-Oct_view.parquet'\u001b[0m\u001b[0;34m,\u001b[0m \u001b[0mcolumns\u001b[0m\u001b[0;34m=\u001b[0m\u001b[0mcols\u001b[0m\u001b[0;34m)\u001b[0m\u001b[0;34m\u001b[0m\u001b[0;34m\u001b[0m\u001b[0m\n\u001b[0m\u001b[1;32m     11\u001b[0m \u001b[0;34m\u001b[0m\u001b[0m\n\u001b[1;32m     12\u001b[0m \u001b[0;32mfor\u001b[0m \u001b[0mmonth\u001b[0m \u001b[0;32min\u001b[0m \u001b[0mmonths\u001b[0m\u001b[0;34m:\u001b[0m\u001b[0;34m\u001b[0m\u001b[0;34m\u001b[0m\u001b[0m\n",
            "\u001b[0;32m/usr/local/lib/python3.11/dist-packages/pandas/io/parquet.py\u001b[0m in \u001b[0;36mread_parquet\u001b[0;34m(path, engine, columns, storage_options, use_nullable_dtypes, dtype_backend, filesystem, filters, **kwargs)\u001b[0m\n\u001b[1;32m    665\u001b[0m     \u001b[0mcheck_dtype_backend\u001b[0m\u001b[0;34m(\u001b[0m\u001b[0mdtype_backend\u001b[0m\u001b[0;34m)\u001b[0m\u001b[0;34m\u001b[0m\u001b[0;34m\u001b[0m\u001b[0m\n\u001b[1;32m    666\u001b[0m \u001b[0;34m\u001b[0m\u001b[0m\n\u001b[0;32m--> 667\u001b[0;31m     return impl.read(\n\u001b[0m\u001b[1;32m    668\u001b[0m         \u001b[0mpath\u001b[0m\u001b[0;34m,\u001b[0m\u001b[0;34m\u001b[0m\u001b[0;34m\u001b[0m\u001b[0m\n\u001b[1;32m    669\u001b[0m         \u001b[0mcolumns\u001b[0m\u001b[0;34m=\u001b[0m\u001b[0mcolumns\u001b[0m\u001b[0;34m,\u001b[0m\u001b[0;34m\u001b[0m\u001b[0;34m\u001b[0m\u001b[0m\n",
            "\u001b[0;32m/usr/local/lib/python3.11/dist-packages/pandas/io/parquet.py\u001b[0m in \u001b[0;36mread\u001b[0;34m(self, path, columns, filters, use_nullable_dtypes, dtype_backend, storage_options, filesystem, **kwargs)\u001b[0m\n\u001b[1;32m    272\u001b[0m         )\n\u001b[1;32m    273\u001b[0m         \u001b[0;32mtry\u001b[0m\u001b[0;34m:\u001b[0m\u001b[0;34m\u001b[0m\u001b[0;34m\u001b[0m\u001b[0m\n\u001b[0;32m--> 274\u001b[0;31m             pa_table = self.api.parquet.read_table(\n\u001b[0m\u001b[1;32m    275\u001b[0m                 \u001b[0mpath_or_handle\u001b[0m\u001b[0;34m,\u001b[0m\u001b[0;34m\u001b[0m\u001b[0;34m\u001b[0m\u001b[0m\n\u001b[1;32m    276\u001b[0m                 \u001b[0mcolumns\u001b[0m\u001b[0;34m=\u001b[0m\u001b[0mcolumns\u001b[0m\u001b[0;34m,\u001b[0m\u001b[0;34m\u001b[0m\u001b[0;34m\u001b[0m\u001b[0m\n",
            "\u001b[0;32m/usr/local/lib/python3.11/dist-packages/pyarrow/parquet/core.py\u001b[0m in \u001b[0;36mread_table\u001b[0;34m(source, columns, use_threads, schema, use_pandas_metadata, read_dictionary, memory_map, buffer_size, partitioning, filesystem, filters, use_legacy_dataset, ignore_prefixes, pre_buffer, coerce_int96_timestamp_unit, decryption_properties, thrift_string_size_limit, thrift_container_size_limit, page_checksum_verification)\u001b[0m\n\u001b[1;32m   1841\u001b[0m         )\n\u001b[1;32m   1842\u001b[0m \u001b[0;34m\u001b[0m\u001b[0m\n\u001b[0;32m-> 1843\u001b[0;31m     return dataset.read(columns=columns, use_threads=use_threads,\n\u001b[0m\u001b[1;32m   1844\u001b[0m                         use_pandas_metadata=use_pandas_metadata)\n\u001b[1;32m   1845\u001b[0m \u001b[0;34m\u001b[0m\u001b[0m\n",
            "\u001b[0;32m/usr/local/lib/python3.11/dist-packages/pyarrow/parquet/core.py\u001b[0m in \u001b[0;36mread\u001b[0;34m(self, columns, use_threads, use_pandas_metadata)\u001b[0m\n\u001b[1;32m   1483\u001b[0m                 )\n\u001b[1;32m   1484\u001b[0m \u001b[0;34m\u001b[0m\u001b[0m\n\u001b[0;32m-> 1485\u001b[0;31m         table = self._dataset.to_table(\n\u001b[0m\u001b[1;32m   1486\u001b[0m             \u001b[0mcolumns\u001b[0m\u001b[0;34m=\u001b[0m\u001b[0mcolumns\u001b[0m\u001b[0;34m,\u001b[0m \u001b[0mfilter\u001b[0m\u001b[0;34m=\u001b[0m\u001b[0mself\u001b[0m\u001b[0;34m.\u001b[0m\u001b[0m_filter_expression\u001b[0m\u001b[0;34m,\u001b[0m\u001b[0;34m\u001b[0m\u001b[0;34m\u001b[0m\u001b[0m\n\u001b[1;32m   1487\u001b[0m             \u001b[0muse_threads\u001b[0m\u001b[0;34m=\u001b[0m\u001b[0muse_threads\u001b[0m\u001b[0;34m\u001b[0m\u001b[0;34m\u001b[0m\u001b[0m\n",
            "\u001b[0;31mKeyboardInterrupt\u001b[0m: "
          ]
        }
      ]
    },
    {
      "cell_type": "code",
      "source": [
        "plt.figure(figsize=(10, 6))\n",
        "sns.barplot(data=non_buyer_top_categories.head(10), x='view_count', y='category', palette='viridis')\n",
        "plt.title('구매 경험 없는 유저의 전체 조회 Top 10 카테고리')\n",
        "plt.xlabel('조회 수')\n",
        "plt.ylabel('카테고리')\n",
        "plt.show()"
      ],
      "metadata": {
        "colab": {
          "base_uri": "https://localhost:8080/",
          "height": 661
        },
        "id": "waZJCxKWL8vT",
        "outputId": "9ed70508-d2fa-4411-f15f-93dcb02d29ec"
      },
      "execution_count": null,
      "outputs": [
        {
          "output_type": "stream",
          "name": "stderr",
          "text": [
            "/tmp/ipython-input-9-163495023.py:2: FutureWarning: \n",
            "\n",
            "Passing `palette` without assigning `hue` is deprecated and will be removed in v0.14.0. Assign the `y` variable to `hue` and set `legend=False` for the same effect.\n",
            "\n",
            "  sns.barplot(data=non_buyer_top_categories.head(10), x='view_count', y='category', palette='viridis')\n"
          ]
        },
        {
          "output_type": "display_data",
          "data": {
            "text/plain": [
              "<Figure size 1000x600 with 1 Axes>"
            ],
            "image/png": "[encoded data removed]"
          },
          "metadata": {}
        }
      ]
    },
    {
      "cell_type": "markdown",
      "source": [
        "1. construction, electronics, apparel, appliances, computers 등 -> 이탈 고객 리타겟팅, 배너 추천, 메일링 전략 수립 가능\n",
        "2. 구매로 이어지지 않은 관심 카테고리:\n",
        "마케팅 타겟(리마케팅 or 추천 제품 제안) 우선순위 결정에 활용\n",
        "전환 유도 위해 필요한 콘텐츠/제품/배너 위치 조정 등에 사용"
      ],
      "metadata": {
        "id": "w-95mTkWA4n9"
      }
    },
    {
      "cell_type": "markdown",
      "source": [
        "카테고리별 전환율 계산 및 이탈 위치 파악,\n",
        "전환율 낮은 (전체 유저 대비 비구매자 비율 높은) 카테고리 분석"
      ],
      "metadata": {
        "id": "FBJXcoVEG94-"
      }
    },
    {
      "cell_type": "code",
      "source": [
        "# 파일 경로\n",
        "cols = ['user_id', 'product_id', 'category_lvl1']\n",
        "\n",
        "# 1. cart, purchase 데이터 불러오기\n",
        "df_cart = pd.read_parquet(os.path.join(data_root, 'cart_6months.parquet'), columns=cols)\n",
        "df_purchase = pd.read_parquet(os.path.join(data_root, 'purchase_6months.parquet'), columns=cols)\n",
        "\n",
        "# 2. view 데이터 월별로 불러오고 누적 (카테고리별 전환 퍼널용)\n",
        "months = ['2019-Oct', '2019-Nov', '2019-Dec', '2020-Jan', '2020-Feb', '2020-Mar']\n",
        "df_view = pd.DataFrame()\n",
        "\n",
        "for month in months:\n",
        "    temp = pd.read_parquet(os.path.join(data_root, f'{month}_view.parquet'), columns=cols)\n",
        "    df_view = pd.concat([df_view, temp], ignore_index=True)\n",
        "\n",
        "# 3. 결측 제거\n",
        "df_view = df_view.dropna(subset=['category_lvl1'])\n",
        "df_cart = df_cart.dropna(subset=['category_lvl1'])\n",
        "df_purchase = df_purchase.dropna(subset=['category_lvl1'])\n",
        "\n",
        "# 4. 유저-카테고리 기준으로 각 단계 집계\n",
        "view_user_cat = df_view.groupby(['user_id', 'category_lvl1']).size().reset_index(name='view_count')\n",
        "cart_user_cat = df_cart.groupby(['user_id', 'category_lvl1']).size().reset_index(name='cart_count')\n",
        "purchase_user_cat = df_purchase.groupby(['user_id', 'category_lvl1']).size().reset_index(name='purchase_count')\n",
        "\n",
        "# 5. 병합 (view 기준)\n",
        "df_funnel = view_user_cat.merge(cart_user_cat, on=['user_id', 'category_lvl1'], how='left')\n",
        "df_funnel = df_funnel.merge(purchase_user_cat, on=['user_id', 'category_lvl1'], how='left')\n",
        "\n",
        "df_funnel.fillna(0, inplace=True)\n",
        "\n",
        "# 6. 카테고리별 전환율 계산\n",
        "cat_summary = df_funnel.groupby('category_lvl1').agg({\n",
        "    'view_count': 'count',  # 유저 수 기준\n",
        "    'cart_count': lambda x: (x > 0).sum(),\n",
        "    'purchase_count': lambda x: (x > 0).sum()\n",
        "}).reset_index()\n",
        "\n",
        "cat_summary.rename(columns={\n",
        "    'view_count': 'num_view_users',\n",
        "    'cart_count': 'num_cart_users',\n",
        "    'purchase_count': 'num_purchase_users'\n",
        "}, inplace=True)\n",
        "\n",
        "# 전환율 계산\n",
        "cat_summary['view_to_cart_rate'] = cat_summary['num_cart_users'] / cat_summary['num_view_users']\n",
        "cat_summary['cart_to_purchase_rate'] = cat_summary['num_purchase_users'] / cat_summary['num_cart_users']\n",
        "cat_summary['view_to_purchase_rate'] = cat_summary['num_purchase_users'] / cat_summary['num_view_users']\n",
        "\n",
        "# 결과 정렬\n",
        "cat_summary.sort_values(by='view_to_purchase_rate', ascending=True, inplace=True)\n",
        "\n",
        "# 결과 출력\n",
        "plt.figure(figsize=(12, 6))\n",
        "sns.barplot(data=cat_summary.head(10), x='category_lvl1', y='view_to_purchase_rate')\n",
        "plt.title(\"전환율 낮은 Top 10 카테고리 (view → purchase)\")\n",
        "plt.xticks(rotation=45)\n",
        "plt.ylabel(\"view → purchase 전환율\")\n",
        "plt.show()"
      ],
      "metadata": {
        "id": "k8oiLmkOH_-l"
      },
      "execution_count": null,
      "outputs": []
    },
    {
      "cell_type": "code",
      "source": [
        "# 결과 요약 출력\n",
        "print(cat_summary.head(10))"
      ],
      "metadata": {
        "colab": {
          "base_uri": "https://localhost:8080/"
        },
        "id": "eMMbtAeUBMQR",
        "outputId": "5c408185-80b8-4a2f-8e2b-10d40751afe0"
      },
      "execution_count": null,
      "outputs": [
        {
          "output_type": "stream",
          "name": "stdout",
          "text": [
            "   category_lvl1  num_view_users  num_cart_users  num_purchase_users  \\\n",
            "12    stationery           51795            2628                 988   \n",
            "0    accessories          897924           45895               19827   \n",
            "10      medicine           61564            3325                1600   \n",
            "6   country_yard          170124           11464                4483   \n",
            "9           kids         1265189           94089               44806   \n",
            "3           auto          673542           54242               31551   \n",
            "4      computers         2076960          191157              100346   \n",
            "8      furniture         1951497          195569               95914   \n",
            "1        apparel         3914218          421662              196698   \n",
            "11         sport         2070396          263477              134566   \n",
            "\n",
            "    view_to_cart_rate  cart_to_purchase_rate  view_to_purchase_rate  \n",
            "12           0.050738               0.375951               0.019075  \n",
            "0            0.051112               0.432008               0.022081  \n",
            "10           0.054009               0.481203               0.025989  \n",
            "6            0.067386               0.391050               0.026351  \n",
            "9            0.074368               0.476209               0.035414  \n",
            "3            0.080532               0.581671               0.046843  \n",
            "4            0.092037               0.524940               0.048314  \n",
            "8            0.100215               0.490436               0.049149  \n",
            "1            0.107726               0.466483               0.050252  \n",
            "11           0.127259               0.510731               0.064995  \n"
          ]
        }
      ]
    },
    {
      "cell_type": "markdown",
      "source": [
        "view는 많지만 cart로 잘 넘어가지 않는 카테고리 → 초반 이탈률 ↑\n",
        "\n",
        "cart에 담기긴 했지만 구매로 이어지지 않는 카테고리 → 결제망설임, 제품신뢰도↓\n",
        "\n",
        "전환율 낮고 비구매자 비율 높은 카테고리 → 리타겟팅/리마케팅 집중 필요"
      ],
      "metadata": {
        "id": "WfFZHg7-UdFf"
      }
    },
    {
      "cell_type": "code",
      "source": [
        "# 전환율 기준 내림차순 정렬\n",
        "top_conversion = cat_summary.sort_values('view_to_purchase_rate', ascending=False)\n",
        "\n",
        "# 시각화: View → Purchase 전환율 기준 상위 10개 카테고리\n",
        "plt.figure(figsize=(10, 6))\n",
        "sns.barplot(\n",
        "    x='view_to_purchase_rate',\n",
        "    y='category_lvl1',\n",
        "    data=top_conversion.head(10),\n",
        "    palette='viridis'\n",
        ")\n",
        "plt.title('전환율 높은 Top 10 카테고리 (view → purchase)')\n",
        "plt.xlabel('View → Purchase 전환율')\n",
        "plt.ylabel('카테고리')\n",
        "plt.tight_layout()\n",
        "plt.show()\n",
        "\n",
        "# 상위 10개 결과 출력\n",
        "print(top_conversion.head(10))"
      ],
      "metadata": {
        "colab": {
          "base_uri": "https://localhost:8080/",
          "height": 1000
        },
        "id": "cFQXng15XKd-",
        "outputId": "ce122da7-8150-4272-e7bc-91ce3b653d0c"
      },
      "execution_count": null,
      "outputs": [
        {
          "output_type": "stream",
          "name": "stderr",
          "text": [
            "/tmp/ipython-input-13-3974319759.py:6: FutureWarning: \n",
            "\n",
            "Passing `palette` without assigning `hue` is deprecated and will be removed in v0.14.0. Assign the `y` variable to `hue` and set `legend=False` for the same effect.\n",
            "\n",
            "  sns.barplot(\n"
          ]
        },
        {
          "output_type": "display_data",
          "data": {
            "text/plain": [
              "<Figure size 1000x600 with 1 Axes>"
            ],
            "image/png": "[encoded data removed]"
          },
          "metadata": {}
        },
        {
          "output_type": "stream",
          "name": "stdout",
          "text": [
            "   category_lvl1  num_view_users  num_cart_users  num_purchase_users  \\\n",
            "5   construction         5808522         1188867              700906   \n",
            "7    electronics         5053141          917944              548398   \n",
            "2     appliances         3934115          672391              379767   \n",
            "11         sport         2070396          263477              134566   \n",
            "1        apparel         3914218          421662              196698   \n",
            "8      furniture         1951497          195569               95914   \n",
            "4      computers         2076960          191157              100346   \n",
            "3           auto          673542           54242               31551   \n",
            "9           kids         1265189           94089               44806   \n",
            "6   country_yard          170124           11464                4483   \n",
            "\n",
            "    view_to_cart_rate  cart_to_purchase_rate  view_to_purchase_rate  \n",
            "5            0.204676               0.589558               0.120669  \n",
            "7            0.181658               0.597420               0.108526  \n",
            "2            0.170913               0.564801               0.096532  \n",
            "11           0.127259               0.510731               0.064995  \n",
            "1            0.107726               0.466483               0.050252  \n",
            "8            0.100215               0.490436               0.049149  \n",
            "4            0.092037               0.524940               0.048314  \n",
            "3            0.080532               0.581671               0.046843  \n",
            "9            0.074368               0.476209               0.035414  \n",
            "6            0.067386               0.391050               0.026351  \n"
          ]
        }
      ]
    },
    {
      "cell_type": "markdown",
      "source": [
        "전환율이 높은 유망 카테고리를 확인 -> 마케팅 집중 타겟이나 재구매 유도 우선순위 결정에도 활용"
      ],
      "metadata": {
        "id": "2jXX32djXXAl"
      }
    },
    {
      "cell_type": "markdown",
      "source": [
        "#카테고리별 리텐션 충족 비율 분석"
      ],
      "metadata": {
        "id": "Uqnjq7pfP4tx"
      }
    },
    {
      "cell_type": "code",
      "source": [
        "# 리텐션 기준 정의\n",
        "RETENTION_DAYS = 75\n",
        "\n",
        "# 구매 데이터 불러오기\n",
        "df_purchase = pd.read_parquet(data_root + '/purchase_6months.parquet')\n",
        "df_purchase['event_time'] = pd.to_datetime(df_purchase['event_time'])\n",
        "\n",
        "# 유저별 첫 구매일 및 이후 구매일\n",
        "first_purchase = df_purchase.groupby('user_id')['event_time'].min().reset_index().rename(columns={'event_time': 'first_purchase'})\n",
        "df_purchase = df_purchase.merge(first_purchase, on='user_id')\n",
        "df_purchase['days_since_first'] = (df_purchase['event_time'] - df_purchase['first_purchase']).dt.days\n",
        "\n",
        "# 첫 구매는 제외하고, 재구매가 75일 이내에 있었는지 확인\n",
        "df_purchase['is_repeat'] = df_purchase['days_since_first'] > 0\n",
        "retention_users = df_purchase[(df_purchase['is_repeat']) & (df_purchase['days_since_first'] <= RETENTION_DAYS)]['user_id'].unique()\n",
        "\n",
        "# 리텐션 충족 유저 Set\n",
        "retention_user_set = set(retention_users)\n",
        "\n",
        "# 첫 구매 시 카테고리 정보로 리텐션율 분석\n",
        "first_purchases = df_purchase[df_purchase['days_since_first'] == 0][['user_id', 'category_lvl1']]\n",
        "first_purchases['retained'] = first_purchases['user_id'].apply(lambda x: x in retention_user_set)\n",
        "\n",
        "# 카테고리별 리텐션 충족률\n",
        "retention_summary = first_purchases.groupby('category_lvl1')['retained'].agg(['count', 'sum']).reset_index()\n",
        "retention_summary['retention_rate'] = retention_summary['sum'] / retention_summary['count']\n",
        "\n",
        "print(retention_summary.sort_values('retention_rate', ascending=False).head(10))"
      ],
      "metadata": {
        "colab": {
          "base_uri": "https://localhost:8080/"
        },
        "id": "gh2zEL2-Uc1Q",
        "outputId": "633f440d-34c5-4974-9cf3-a182f1015a6b"
      },
      "execution_count": null,
      "outputs": [
        {
          "output_type": "stream",
          "name": "stdout",
          "text": [
            "   category_lvl1   count     sum  retention_rate\n",
            "7    electronics  635693  274155        0.431269\n",
            "4      computers   76244   32331        0.424046\n",
            "3           auto   23120    9787        0.423313\n",
            "10      medicine     919     368        0.400435\n",
            "12    stationery     745     295        0.395973\n",
            "0    accessories   11387    4447        0.390533\n",
            "11         sport   95743   36998        0.386430\n",
            "6   country_yard    2217     846        0.381597\n",
            "9           kids   28586   10882        0.380676\n",
            "1        apparel  136699   50302        0.367976\n"
          ]
        }
      ]
    },
    {
      "cell_type": "markdown",
      "source": [
        "# 전환율 낮은 카테고리 vs 비구매자 조회 인기 카테고리 비교 시각화"
      ],
      "metadata": {
        "id": "Vn4kWECGP92X"
      }
    },
    {
      "cell_type": "code",
      "source": [
        "import matplotlib.pyplot as plt\n",
        "\n",
        "# 전환율 낮은 Top 10 카테고리\n",
        "low_conversion_cats = cat_summary.sort_values('view_to_purchase_rate').head(10)['category_lvl1'].tolist()\n",
        "\n",
        "# 비구매자 Top 10 조회 카테고리\n",
        "top_non_buyer_cats = non_buyer_top_categories.head(10)['category'].tolist()\n",
        "\n",
        "# 두 목록 합집합 기준으로 표시\n",
        "all_cats = list(set(low_conversion_cats + top_non_buyer_cats))\n",
        "\n",
        "# 비교용 데이터프레임 생성\n",
        "compare_df = pd.DataFrame({'category': all_cats})\n",
        "compare_df['low_conversion'] = compare_df['category'].isin(low_conversion_cats)\n",
        "compare_df['non_buyer_top_view'] = compare_df['category'].isin(top_non_buyer_cats)\n",
        "\n",
        "# 시각화\n",
        "plt.figure(figsize=(10, 6))\n",
        "compare_df.set_index('category')[['low_conversion', 'non_buyer_top_view']].astype(int).plot(\n",
        "    kind='bar', stacked=False, figsize=(10, 6)\n",
        ")\n",
        "plt.title('전환율 낮은 카테고리 vs 비구매자 인기 조회 카테고리')\n",
        "plt.ylabel('해당 여부 (1: 해당, 0: 비해당)')\n",
        "plt.xlabel('카테고리')\n",
        "plt.xticks(rotation=45)\n",
        "plt.legend(['전환율 낮음', '비구매자 인기'])\n",
        "plt.tight_layout()\n",
        "plt.show()"
      ],
      "metadata": {
        "colab": {
          "base_uri": "https://localhost:8080/",
          "height": 613
        },
        "id": "DrgkjxrDBMNd",
        "outputId": "c6e613aa-c236-4be0-93cf-217752ead027"
      },
      "execution_count": null,
      "outputs": [
        {
          "output_type": "display_data",
          "data": {
            "text/plain": [
              "<Figure size 1000x600 with 0 Axes>"
            ]
          },
          "metadata": {}
        },
        {
          "output_type": "display_data",
          "data": {
            "text/plain": [
              "<Figure size 1000x600 with 1 Axes>"
            ],
            "image/png": "[encoded data removed]"
          },
          "metadata": {}
        }
      ]
    },
    {
      "cell_type": "markdown",
      "source": [
        "1. apparel, auto, computers, accessories, sport, kids, furniture은 전환율 낮으면서 비구매자들이 많이 본 카테고리 -> 전환 손실이 큰 지점, 개선 시 전환 증대 효과가 클 가능성 -> 상품 설명, 가격, 이미지, 리뷰 등 개선 포인트 있는지 확인 필요, 전환 유도 캠페인(장바구니 할인, 추천 배너, 쿠폰 등) 대상, 비구매자 맞춤 리마케팅 타겟으로 우선 고려\n",
        "2. stationery, country_yard, medicine 등은 구매까지 이어지는 데 본질적인 진입장벽이 있는 상품군일 수도"
      ],
      "metadata": {
        "id": "x4Ku8Ac6jfUO"
      }
    },
    {
      "cell_type": "code",
      "source": [],
      "metadata": {
        "id": "J015tSX6BMJR"
      },
      "execution_count": null,
      "outputs": []
    },
    {
      "cell_type": "markdown",
      "source": [
        "| 목적              | 데이터                | 분석 예시                        |\n",
        "| --------------- | ------------------ | ---------------------------- |\n",
        "| 전환 가능성 높은 유저 선별 | view만 존재           | 자주 조회하지만 구매 X 유저 → 타겟 마케팅    |\n",
        "| 인기 카테고리 파악      | view 전체            | 조회 수 기준 Top 10 카테고리 / 시계열 변화 |\n",
        "| 이탈 징후 분석        | view + purchase    | 구매 없이 떠난 유저의 마지막 조회 카테고리     |\n",
        "| 구매 전환 경로 파악     | view/cart/purchase | 각 단계 전환율 분석 및 이탈 위치 추정       |\n",
        "\n",
        "구매 없이 떠난 유저의 마지막 조회 카테고리(이탈 징후 분석), 각 단계 전환율 분석 및 이탈 위치 추정"
      ],
      "metadata": {
        "id": "SoVNimUGKkP3"
      }
    },
    {
      "cell_type": "code",
      "source": [],
      "metadata": {
        "id": "jxYXbnfhQFvC"
      },
      "execution_count": null,
      "outputs": []
    },
    {
      "cell_type": "code",
      "source": [],
      "metadata": {
        "id": "fHgdiRb6QFri"
      },
      "execution_count": null,
      "outputs": []
    },
    {
      "cell_type": "markdown",
      "source": [
        "#카테고리별 결측치에 event_type 분포 확인(결측치 삭제 괜찮은지)"
      ],
      "metadata": {
        "id": "28rOtrUFQVAe"
      }
    },
    {
      "cell_type": "code",
      "source": [
        "# 필요한 컬럼 정의 (event_type 추가됨)\n",
        "view_cols = ['user_id', 'event_time', 'category_lvl1', 'event_type']\n",
        "cart_cols = ['user_id', 'event_time', 'category_lvl1', 'event_type']\n",
        "purchase_cols = ['user_id', 'event_time', 'category_lvl1', 'event_type']\n",
        "\n",
        "# 파일 목록\n",
        "months = ['2019-Oct', '2019-Nov', '2019-Dec', '2020-Jan', '2020-Feb', '2020-Mar']\n",
        "\n",
        "# ---------------------\n",
        "# view 데이터 불러오기\n",
        "# ---------------------\n",
        "df_view = pd.DataFrame()\n",
        "for month in months:\n",
        "    path = os.path.join(data_root, f\"{month}_view.parquet\")\n",
        "    temp = pd.read_parquet(path, columns=view_cols)\n",
        "    df_view = pd.concat([df_view, temp], ignore_index=True)\n",
        "print(f\"view 데이터 행 수: {len(df_view):,}\")\n",
        "\n",
        "# ---------------------\n",
        "# cart, purchase 데이터 불러오기\n",
        "# ---------------------\n",
        "df_cart = pd.read_parquet(os.path.join(data_root, \"cart_6months.parquet\"), columns=cart_cols)\n",
        "df_purchase = pd.read_parquet(os.path.join(data_root, \"purchase_6months.parquet\"), columns=purchase_cols)\n",
        "\n",
        "print(f\"cart 데이터 행 수: {len(df_cart):,}\")\n",
        "print(f\"purchase 데이터 행 수: {len(df_purchase):,}\")"
      ],
      "metadata": {
        "colab": {
          "base_uri": "https://localhost:8080/"
        },
        "id": "9x5BW62jQecI",
        "outputId": "6ffcd5c0-688d-4eab-db42-9a79f39c1211"
      },
      "execution_count": null,
      "outputs": [
        {
          "output_type": "stream",
          "name": "stdout",
          "text": [
            "view 데이터 행 수: 323,392,940\n",
            "cart 데이터 행 수: 15,845,463\n",
            "purchase 데이터 행 수: 5,882,065\n"
          ]
        }
      ]
    },
    {
      "cell_type": "code",
      "source": [],
      "metadata": {
        "id": "XLJABZzHv9tJ"
      },
      "execution_count": null,
      "outputs": []
    },
    {
      "cell_type": "code",
      "source": [
        "import pandas as pd\n",
        "\n",
        "# 1. view 데이터 (6개월 분할 파일)에서 필요한 컬럼만 불러와서 병합\n",
        "view_files = [\n",
        "    '2019-Oct_view.parquet', '2019-Nov_view.parquet', '2019-Dec_view.parquet',\n",
        "    '2020-Jan_view.parquet', '2020-Feb_view.parquet', '2020-Mar_view.parquet'\n",
        "]\n",
        "\n",
        "cols = ['event_type', 'category_lvl1']\n",
        "df_view_parts = []\n",
        "\n",
        "for file in view_files:\n",
        "    df_temp = pd.read_parquet(os.path.join(data_root, file), columns=cols)\n",
        "    df_view_parts.append(df_temp)\n",
        "\n",
        "df_view = pd.concat(df_view_parts, ignore_index=True)\n",
        "\n",
        "# 2. cart, purchase 데이터 불러오기\n",
        "df_cart = pd.read_parquet(os.path.join(data_root, 'cart_6months.parquet'), columns=cols)\n",
        "df_purchase = pd.read_parquet(os.path.join(data_root, 'purchase_6months.parquet'), columns=cols)\n",
        "\n",
        "# 3. 전체 데이터 병합\n",
        "df_all = pd.concat([df_view, df_cart, df_purchase], ignore_index=True)\n",
        "\n",
        "# 4. category_lvl1이 결측치인 행만 추출\n",
        "df_null = df_all[df_all['category_lvl1'].isnull()]\n",
        "\n",
        "# 5. 결측치 내 event_type 분포 비율 계산\n",
        "null_event_dist = df_null['event_type'].value_counts(normalize=True).reset_index()\n",
        "null_event_dist.columns = ['event_type', 'ratio']\n",
        "\n",
        "# 6. 출력\n",
        "print(\"category_lvl1 결측치 중 event_type 분포:\")\n",
        "print(null_event_dist)"
      ],
      "metadata": {
        "colab": {
          "base_uri": "https://localhost:8080/"
        },
        "id": "GbSPoSMohUbt",
        "outputId": "25019571-1b4d-48e8-f480-92310d23f916"
      },
      "execution_count": null,
      "outputs": [
        {
          "output_type": "stream",
          "name": "stdout",
          "text": [
            "category_lvl1 결측치 중 event_type 분포:\n",
            "  event_type    ratio\n",
            "0       view  0.95407\n",
            "1       cart  0.03409\n",
            "2   purchase  0.01184\n"
          ]
        }
      ]
    },
    {
      "cell_type": "code",
      "source": [],
      "metadata": {
        "id": "C81HKtw3sz2W"
      },
      "execution_count": null,
      "outputs": []
    },
    {
      "cell_type": "code",
      "source": [],
      "metadata": {
        "id": "XblAkdOKszzb"
      },
      "execution_count": null,
      "outputs": []
    },
    {
      "cell_type": "code",
      "source": [],
      "metadata": {
        "id": "ew8YUBhCQ6EW"
      },
      "execution_count": null,
      "outputs": []
    },
    {
      "cell_type": "markdown",
      "source": [
        "날짜, 시간 분리 파생 컬럼 : 일자별 트렌드, 리텐션, 시계열 그래프 or 시간대별 유입/이탈 분석, 마케팅 시간 설정 가능"
      ],
      "metadata": {
        "id": "FXgc0FpADhsh"
      }
    },
    {
      "cell_type": "code",
      "source": [
        "# 정렬\n",
        "df = df.sort_values(by=['user_id', 'event_time'])"
      ],
      "metadata": {
        "id": "qlKh5a-4nCcI"
      },
      "execution_count": null,
      "outputs": []
    },
    {
      "cell_type": "code",
      "source": [
        "# 전체 결측치 수 및 비율 확인\n",
        "missing = df.isnull().sum().sort_values(ascending=False)\n",
        "missing_percent = (df.isnull().sum() / len(df)) * 100\n",
        "missing_summary = pd.DataFrame({'Missing Count': missing, 'Missing %': missing_percent})\n",
        "missing_summary"
      ],
      "metadata": {
        "colab": {
          "base_uri": "https://localhost:8080/",
          "height": 394
        },
        "id": "Tf6SIHDMZXpV",
        "outputId": "9cd2722a-cf13-4ccb-f49b-182b615893f6"
      },
      "execution_count": null,
      "outputs": [
        {
          "output_type": "execute_result",
          "data": {
            "text/plain": [
              "               Missing Count  Missing %\n",
              "brand               15341158  13.952755\n",
              "category_code       35413780  32.208768\n",
              "category_id                0   0.000000\n",
              "event_date                 0   0.000000\n",
              "event_hour                 0   0.000000\n",
              "event_time                 0   0.000000\n",
              "event_type                 0   0.000000\n",
              "price                      0   0.000000\n",
              "product_id                 0   0.000000\n",
              "user_id                    0   0.000000\n",
              "user_session              12   0.000011"
            ],
            "text/html": [
              "\n",
              "  <div id=\"df-a9bcac05-5ca1-4bcd-852c-10ccb2f3ab71\" class=\"colab-df-container\">\n",
              "    <div>\n",
              "<style scoped>\n",
              "    .dataframe tbody tr th:only-of-type {\n",
              "        vertical-align: middle;\n",
              "    }\n",
              "\n",
              "    .dataframe tbody tr th {\n",
              "        vertical-align: top;\n",
              "    }\n",
              "\n",
              "    .dataframe thead th {\n",
              "        text-align: right;\n",
              "    }\n",
              "</style>\n",
              "<table border=\"1\" class=\"dataframe\">\n",
              "  <thead>\n",
              "    <tr style=\"text-align: right;\">\n",
              "      <th></th>\n",
              "      <th>Missing Count</th>\n",
              "      <th>Missing %</th>\n",
              "    </tr>\n",
              "  </thead>\n",
              "  <tbody>\n",
              "    <tr>\n",
              "      <th>brand</th>\n",
              "      <td>15341158</td>\n",
              "      <td>13.952755</td>\n",
              "    </tr>\n",
              "    <tr>\n",
              "      <th>category_code</th>\n",
              "      <td>35413780</td>\n",
              "      <td>32.208768</td>\n",
              "    </tr>\n",
              "    <tr>\n",
              "      <th>category_id</th>\n",
              "      <td>0</td>\n",
              "      <td>0.000000</td>\n",
              "    </tr>\n",
              "    <tr>\n",
              "      <th>event_date</th>\n",
              "      <td>0</td>\n",
              "      <td>0.000000</td>\n",
              "    </tr>\n",
              "    <tr>\n",
              "      <th>event_hour</th>\n",
              "      <td>0</td>\n",
              "      <td>0.000000</td>\n",
              "    </tr>\n",
              "    <tr>\n",
              "      <th>event_time</th>\n",
              "      <td>0</td>\n",
              "      <td>0.000000</td>\n",
              "    </tr>\n",
              "    <tr>\n",
              "      <th>event_type</th>\n",
              "      <td>0</td>\n",
              "      <td>0.000000</td>\n",
              "    </tr>\n",
              "    <tr>\n",
              "      <th>price</th>\n",
              "      <td>0</td>\n",
              "      <td>0.000000</td>\n",
              "    </tr>\n",
              "    <tr>\n",
              "      <th>product_id</th>\n",
              "      <td>0</td>\n",
              "      <td>0.000000</td>\n",
              "    </tr>\n",
              "    <tr>\n",
              "      <th>user_id</th>\n",
              "      <td>0</td>\n",
              "      <td>0.000000</td>\n",
              "    </tr>\n",
              "    <tr>\n",
              "      <th>user_session</th>\n",
              "      <td>12</td>\n",
              "      <td>0.000011</td>\n",
              "    </tr>\n",
              "  </tbody>\n",
              "</table>\n",
              "</div>\n",
              "    <div class=\"colab-df-buttons\">\n",
              "\n",
              "  <div class=\"colab-df-container\">\n",
              "    <button class=\"colab-df-convert\" onclick=\"convertToInteractive('df-a9bcac05-5ca1-4bcd-852c-10ccb2f3ab71')\"\n",
              "            title=\"Convert this dataframe to an interactive table.\"\n",
              "            style=\"display:none;\">\n",
              "\n",
              "  <svg xmlns=\"http://www.w3.org/2000/svg\" height=\"24px\" viewBox=\"0 -960 960 960\">\n",
              "    <path d=\"M120-120v-720h720v720H120Zm60-500h600v-160H180v160Zm220 220h160v-160H400v160Zm0 220h160v-160H400v160ZM180-400h160v-160H180v160Zm440 0h160v-160H620v160ZM180-180h160v-160H180v160Zm440 0h160v-160H620v160Z\"/>\n",
              "  </svg>\n",
              "    </button>\n",
              "\n",
              "  <style>\n",
              "    .colab-df-container {\n",
              "      display:flex;\n",
              "      gap: 12px;\n",
              "    }\n",
              "\n",
              "    .colab-df-convert {\n",
              "      background-color: #E8F0FE;\n",
              "      border: none;\n",
              "      border-radius: 50%;\n",
              "      cursor: pointer;\n",
              "      display: none;\n",
              "      fill: #1967D2;\n",
              "      height: 32px;\n",
              "      padding: 0 0 0 0;\n",
              "      width: 32px;\n",
              "    }\n",
              "\n",
              "    .colab-df-convert:hover {\n",
              "      background-color: #E2EBFA;\n",
              "      box-shadow: 0px 1px 2px rgba(60, 64, 67, 0.3), 0px 1px 3px 1px rgba(60, 64, 67, 0.15);\n",
              "      fill: #174EA6;\n",
              "    }\n",
              "\n",
              "    .colab-df-buttons div {\n",
              "      margin-bottom: 4px;\n",
              "    }\n",
              "\n",
              "    [theme=dark] .colab-df-convert {\n",
              "      background-color: #3B4455;\n",
              "      fill: #D2E3FC;\n",
              "    }\n",
              "\n",
              "    [theme=dark] .colab-df-convert:hover {\n",
              "      background-color: #434B5C;\n",
              "      box-shadow: 0px 1px 3px 1px rgba(0, 0, 0, 0.15);\n",
              "      filter: drop-shadow(0px 1px 2px rgba(0, 0, 0, 0.3));\n",
              "      fill: #FFFFFF;\n",
              "    }\n",
              "  </style>\n",
              "\n",
              "    <script>\n",
              "      const buttonEl =\n",
              "        document.querySelector('#df-a9bcac05-5ca1-4bcd-852c-10ccb2f3ab71 button.colab-df-convert');\n",
              "      buttonEl.style.display =\n",
              "        google.colab.kernel.accessAllowed ? 'block' : 'none';\n",
              "\n",
              "      async function convertToInteractive(key) {\n",
              "        const element = document.querySelector('#df-a9bcac05-5ca1-4bcd-852c-10ccb2f3ab71');\n",
              "        const dataTable =\n",
              "          await google.colab.kernel.invokeFunction('convertToInteractive',\n",
              "                                                    [key], {});\n",
              "        if (!dataTable) return;\n",
              "\n",
              "        const docLinkHtml = 'Like what you see? Visit the ' +\n",
              "          '<a target=\"_blank\" href=https://colab.research.google.com/notebooks/data_table.ipynb>data table notebook</a>'\n",
              "          + ' to learn more about interactive tables.';\n",
              "        element.innerHTML = '';\n",
              "        dataTable['output_type'] = 'display_data';\n",
              "        await google.colab.output.renderOutput(dataTable, element);\n",
              "        const docLink = document.createElement('div');\n",
              "        docLink.innerHTML = docLinkHtml;\n",
              "        element.appendChild(docLink);\n",
              "      }\n",
              "    </script>\n",
              "  </div>\n",
              "\n",
              "\n",
              "    <div id=\"df-14019e22-3b52-445e-8e9a-eebccc41665d\">\n",
              "      <button class=\"colab-df-quickchart\" onclick=\"quickchart('df-14019e22-3b52-445e-8e9a-eebccc41665d')\"\n",
              "                title=\"Suggest charts\"\n",
              "                style=\"display:none;\">\n",
              "\n",
              "<svg xmlns=\"http://www.w3.org/2000/svg\" height=\"24px\"viewBox=\"0 0 24 24\"\n",
              "     width=\"24px\">\n",
              "    <g>\n",
              "        <path d=\"M19 3H5c-1.1 0-2 .9-2 2v14c0 1.1.9 2 2 2h14c1.1 0 2-.9 2-2V5c0-1.1-.9-2-2-2zM9 17H7v-7h2v7zm4 0h-2V7h2v10zm4 0h-2v-4h2v4z\"/>\n",
              "    </g>\n",
              "</svg>\n",
              "      </button>\n",
              "\n",
              "<style>\n",
              "  .colab-df-quickchart {\n",
              "      --bg-color: #E8F0FE;\n",
              "      --fill-color: #1967D2;\n",
              "      --hover-bg-color: #E2EBFA;\n",
              "      --hover-fill-color: #174EA6;\n",
              "      --disabled-fill-color: #AAA;\n",
              "      --disabled-bg-color: #DDD;\n",
              "  }\n",
              "\n",
              "  [theme=dark] .colab-df-quickchart {\n",
              "      --bg-color: #3B4455;\n",
              "      --fill-color: #D2E3FC;\n",
              "      --hover-bg-color: #434B5C;\n",
              "      --hover-fill-color: #FFFFFF;\n",
              "      --disabled-bg-color: #3B4455;\n",
              "      --disabled-fill-color: #666;\n",
              "  }\n",
              "\n",
              "  .colab-df-quickchart {\n",
              "    background-color: var(--bg-color);\n",
              "    border: none;\n",
              "    border-radius: 50%;\n",
              "    cursor: pointer;\n",
              "    display: none;\n",
              "    fill: var(--fill-color);\n",
              "    height: 32px;\n",
              "    padding: 0;\n",
              "    width: 32px;\n",
              "  }\n",
              "\n",
              "  .colab-df-quickchart:hover {\n",
              "    background-color: var(--hover-bg-color);\n",
              "    box-shadow: 0 1px 2px rgba(60, 64, 67, 0.3), 0 1px 3px 1px rgba(60, 64, 67, 0.15);\n",
              "    fill: var(--button-hover-fill-color);\n",
              "  }\n",
              "\n",
              "  .colab-df-quickchart-complete:disabled,\n",
              "  .colab-df-quickchart-complete:disabled:hover {\n",
              "    background-color: var(--disabled-bg-color);\n",
              "    fill: var(--disabled-fill-color);\n",
              "    box-shadow: none;\n",
              "  }\n",
              "\n",
              "  .colab-df-spinner {\n",
              "    border: 2px solid var(--fill-color);\n",
              "    border-color: transparent;\n",
              "    border-bottom-color: var(--fill-color);\n",
              "    animation:\n",
              "      spin 1s steps(1) infinite;\n",
              "  }\n",
              "\n",
              "  @keyframes spin {\n",
              "    0% {\n",
              "      border-color: transparent;\n",
              "      border-bottom-color: var(--fill-color);\n",
              "      border-left-color: var(--fill-color);\n",
              "    }\n",
              "    20% {\n",
              "      border-color: transparent;\n",
              "      border-left-color: var(--fill-color);\n",
              "      border-top-color: var(--fill-color);\n",
              "    }\n",
              "    30% {\n",
              "      border-color: transparent;\n",
              "      border-left-color: var(--fill-color);\n",
              "      border-top-color: var(--fill-color);\n",
              "      border-right-color: var(--fill-color);\n",
              "    }\n",
              "    40% {\n",
              "      border-color: transparent;\n",
              "      border-right-color: var(--fill-color);\n",
              "      border-top-color: var(--fill-color);\n",
              "    }\n",
              "    60% {\n",
              "      border-color: transparent;\n",
              "      border-right-color: var(--fill-color);\n",
              "    }\n",
              "    80% {\n",
              "      border-color: transparent;\n",
              "      border-right-color: var(--fill-color);\n",
              "      border-bottom-color: var(--fill-color);\n",
              "    }\n",
              "    90% {\n",
              "      border-color: transparent;\n",
              "      border-bottom-color: var(--fill-color);\n",
              "    }\n",
              "  }\n",
              "</style>\n",
              "\n",
              "      <script>\n",
              "        async function quickchart(key) {\n",
              "          const quickchartButtonEl =\n",
              "            document.querySelector('#' + key + ' button');\n",
              "          quickchartButtonEl.disabled = true;  // To prevent multiple clicks.\n",
              "          quickchartButtonEl.classList.add('colab-df-spinner');\n",
              "          try {\n",
              "            const charts = await google.colab.kernel.invokeFunction(\n",
              "                'suggestCharts', [key], {});\n",
              "          } catch (error) {\n",
              "            console.error('Error during call to suggestCharts:', error);\n",
              "          }\n",
              "          quickchartButtonEl.classList.remove('colab-df-spinner');\n",
              "          quickchartButtonEl.classList.add('colab-df-quickchart-complete');\n",
              "        }\n",
              "        (() => {\n",
              "          let quickchartButtonEl =\n",
              "            document.querySelector('#df-14019e22-3b52-445e-8e9a-eebccc41665d button');\n",
              "          quickchartButtonEl.style.display =\n",
              "            google.colab.kernel.accessAllowed ? 'block' : 'none';\n",
              "        })();\n",
              "      </script>\n",
              "    </div>\n",
              "\n",
              "  <div id=\"id_007297e1-113c-4d14-9da8-f05431d8c8cf\">\n",
              "    <style>\n",
              "      .colab-df-generate {\n",
              "        background-color: #E8F0FE;\n",
              "        border: none;\n",
              "        border-radius: 50%;\n",
              "        cursor: pointer;\n",
              "        display: none;\n",
              "        fill: #1967D2;\n",
              "        height: 32px;\n",
              "        padding: 0 0 0 0;\n",
              "        width: 32px;\n",
              "      }\n",
              "\n",
              "      .colab-df-generate:hover {\n",
              "        background-color: #E2EBFA;\n",
              "        box-shadow: 0px 1px 2px rgba(60, 64, 67, 0.3), 0px 1px 3px 1px rgba(60, 64, 67, 0.15);\n",
              "        fill: #174EA6;\n",
              "      }\n",
              "\n",
              "      [theme=dark] .colab-df-generate {\n",
              "        background-color: #3B4455;\n",
              "        fill: #D2E3FC;\n",
              "      }\n",
              "\n",
              "      [theme=dark] .colab-df-generate:hover {\n",
              "        background-color: #434B5C;\n",
              "        box-shadow: 0px 1px 3px 1px rgba(0, 0, 0, 0.15);\n",
              "        filter: drop-shadow(0px 1px 2px rgba(0, 0, 0, 0.3));\n",
              "        fill: #FFFFFF;\n",
              "      }\n",
              "    </style>\n",
              "    <button class=\"colab-df-generate\" onclick=\"generateWithVariable('missing_summary')\"\n",
              "            title=\"Generate code using this dataframe.\"\n",
              "            style=\"display:none;\">\n",
              "\n",
              "  <svg xmlns=\"http://www.w3.org/2000/svg\" height=\"24px\"viewBox=\"0 0 24 24\"\n",
              "       width=\"24px\">\n",
              "    <path d=\"M7,19H8.4L18.45,9,17,7.55,7,17.6ZM5,21V16.75L18.45,3.32a2,2,0,0,1,2.83,0l1.4,1.43a1.91,1.91,0,0,1,.58,1.4,1.91,1.91,0,0,1-.58,1.4L9.25,21ZM18.45,9,17,7.55Zm-12,3A5.31,5.31,0,0,0,4.9,8.1,5.31,5.31,0,0,0,1,6.5,5.31,5.31,0,0,0,4.9,4.9,5.31,5.31,0,0,0,6.5,1,5.31,5.31,0,0,0,8.1,4.9,5.31,5.31,0,0,0,12,6.5,5.46,5.46,0,0,0,6.5,12Z\"/>\n",
              "  </svg>\n",
              "    </button>\n",
              "    <script>\n",
              "      (() => {\n",
              "      const buttonEl =\n",
              "        document.querySelector('#id_007297e1-113c-4d14-9da8-f05431d8c8cf button.colab-df-generate');\n",
              "      buttonEl.style.display =\n",
              "        google.colab.kernel.accessAllowed ? 'block' : 'none';\n",
              "\n",
              "      buttonEl.onclick = () => {\n",
              "        google.colab.notebook.generateWithVariable('missing_summary');\n",
              "      }\n",
              "      })();\n",
              "    </script>\n",
              "  </div>\n",
              "\n",
              "    </div>\n",
              "  </div>\n"
            ],
            "application/vnd.google.colaboratory.intrinsic+json": {
              "type": "dataframe",
              "variable_name": "missing_summary",
              "summary": "{\n  \"name\": \"missing_summary\",\n  \"rows\": 11,\n  \"fields\": [\n    {\n      \"column\": \"Missing Count\",\n      \"properties\": {\n        \"dtype\": \"number\",\n        \"std\": 11204013,\n        \"min\": 0,\n        \"max\": 35413780,\n        \"num_unique_values\": 4,\n        \"samples\": [\n          35413780,\n          12,\n          15341158\n        ],\n        \"semantic_type\": \"\",\n        \"description\": \"\"\n      }\n    },\n    {\n      \"column\": \"Missing %\",\n      \"properties\": {\n        \"dtype\": \"number\",\n        \"std\": 10.190029962574174,\n        \"min\": 0.0,\n        \"max\": 32.20876824816,\n        \"num_unique_values\": 4,\n        \"samples\": [\n          32.20876824816,\n          1.0913978089261297e-05,\n          13.952755189657973\n        ],\n        \"semantic_type\": \"\",\n        \"description\": \"\"\n      }\n    }\n  ]\n}"
            }
          },
          "metadata": {},
          "execution_count": 12
        }
      ]
    },
    {
      "cell_type": "code",
      "source": [
        "# user_session이 결측치인 행만 필터링\n",
        "missing_session = df[df['user_session'].isnull()]\n",
        "\n",
        "# 해당 행들의 event_type 분포 확인 -> cart 라서 빼도 될 듯\n",
        "missing_session['event_type'].value_counts()"
      ],
      "metadata": {
        "colab": {
          "base_uri": "https://localhost:8080/",
          "height": 147
        },
        "id": "manfUeZhfhrA",
        "outputId": "bbed3971-37b8-4cce-d300-abbf13b41fe9"
      },
      "execution_count": null,
      "outputs": [
        {
          "output_type": "execute_result",
          "data": {
            "text/plain": [
              "event_type\n",
              "cart    12\n",
              "Name: count, dtype: int64"
            ],
            "text/html": [
              "<div>\n",
              "<style scoped>\n",
              "    .dataframe tbody tr th:only-of-type {\n",
              "        vertical-align: middle;\n",
              "    }\n",
              "\n",
              "    .dataframe tbody tr th {\n",
              "        vertical-align: top;\n",
              "    }\n",
              "\n",
              "    .dataframe thead th {\n",
              "        text-align: right;\n",
              "    }\n",
              "</style>\n",
              "<table border=\"1\" class=\"dataframe\">\n",
              "  <thead>\n",
              "    <tr style=\"text-align: right;\">\n",
              "      <th></th>\n",
              "      <th>count</th>\n",
              "    </tr>\n",
              "    <tr>\n",
              "      <th>event_type</th>\n",
              "      <th></th>\n",
              "    </tr>\n",
              "  </thead>\n",
              "  <tbody>\n",
              "    <tr>\n",
              "      <th>cart</th>\n",
              "      <td>12</td>\n",
              "    </tr>\n",
              "  </tbody>\n",
              "</table>\n",
              "</div><br><label><b>dtype:</b> int64</label>"
            ]
          },
          "metadata": {},
          "execution_count": 13
        }
      ]
    },
    {
      "cell_type": "code",
      "source": [],
      "metadata": {
        "id": "AStA0qzxFpBc"
      },
      "execution_count": null,
      "outputs": []
    },
    {
      "cell_type": "code",
      "source": [],
      "metadata": {
        "id": "u3qR2g68Fo9z"
      },
      "execution_count": null,
      "outputs": []
    },
    {
      "cell_type": "code",
      "source": [],
      "metadata": {
        "id": "m3ndceIfFpH6"
      },
      "execution_count": null,
      "outputs": []
    },
    {
      "cell_type": "code",
      "source": [],
      "metadata": {
        "id": "mWoVk_8U8_Hw"
      },
      "execution_count": null,
      "outputs": []
    },
    {
      "cell_type": "code",
      "source": [
        "top_category_by_segment"
      ],
      "metadata": {
        "id": "JlMLn55o8_SM"
      },
      "execution_count": null,
      "outputs": []
    },
    {
      "cell_type": "markdown",
      "source": [
        "# 지연님 여기예요!!!"
      ],
      "metadata": {
        "id": "StkleorQRrfw"
      }
    },
    {
      "cell_type": "markdown",
      "source": [
        "@@참고@@ 마케팅/실무 관점에서 직관적인 구분, 실제 유통/이커머스 업계 기준을 반영:\n",
        "7일 이하 → 자주 구매되는 제품 (ex. 식품, 소모품, 생활용품),\n",
        "30일 이상 → 드물게 구매되는 제품 (ex. 의류, 가전, 계절용품)\n",
        "\n",
        "@@ 자주 구매되는 제품은 일주일 후 리마인드 메시지, 드물게 구매되는 제품은 한 달 후 리커버리 쿠폰"
      ],
      "metadata": {
        "id": "y-IANIoezYhy"
      }
    },
    {
      "cell_type": "code",
      "source": [
        "# 1. 구매 이벤트만 추출\n",
        "df_purchase = df[df['event_type'] == 'purchase'].copy()\n",
        "\n",
        "# 2. 유저별 구매 기록을 시간순 정렬\n",
        "df_purchase = df_purchase.sort_values(by=['user_id', 'event_time'])\n",
        "\n",
        "# 3. 다음 구매일 계산 (다음 구매가 없으면 NaT)\n",
        "df_purchase['next_purchase'] = df_purchase.groupby('user_id')['event_time'].shift(-1)\n",
        "\n",
        "# 4. 다음 구매까지 걸린 일 수\n",
        "df_purchase['gap_days'] = (df_purchase['next_purchase'] - df_purchase['event_time']).dt.days\n",
        "\n",
        "# 5. 다음 구매까지 30일 넘게 걸리거나, 아예 다음 구매가 없는 경우만 필터\n",
        "mask = (df_purchase['gap_days'].isna()) | (df_purchase['gap_days'] > 30)\n",
        "no_repurchase_users = df_purchase[mask]['user_id'].unique()\n",
        "\n",
        "# 6. 결과 출력\n",
        "print(f'📌 마지막 구매 후 30일 이상 추가 구매가 없는 유저 수: {len(no_repurchase_users):,}명')"
      ],
      "metadata": {
        "id": "ME5b71Q5U882"
      },
      "execution_count": null,
      "outputs": []
    },
    {
      "cell_type": "code",
      "source": [],
      "metadata": {
        "id": "fXhRF9a43ez0"
      },
      "execution_count": null,
      "outputs": []
    },
    {
      "cell_type": "code",
      "source": [
        "# purchase_6months.parquet 불러오기\n",
        "df_purchase = pd.read_parquet(os.path.join(data_root, 'purchase_6months.parquet'))\n",
        "# display(df_purchase.head())"
      ],
      "metadata": {
        "id": "RR96PxPpxYyy"
      },
      "execution_count": null,
      "outputs": []
    },
    {
      "cell_type": "code",
      "source": [
        "import pandas as pd\n",
        "import matplotlib.pyplot as plt\n",
        "import seaborn as sns\n",
        "\n",
        "# 1. 날짜 변환 (UTC/비정형 포함)\n",
        "df_purchase['event_time'] = pd.to_datetime(df_purchase['event_time'], format='mixed')\n",
        "\n",
        "# 2. user_id별 구매 횟수\n",
        "purchase_counts = df_purchase['user_id'].value_counts()\n",
        "\n",
        "# 3. 2회 이상 구매한 유저만 추출\n",
        "multi_buyers = purchase_counts[purchase_counts > 1].index\n",
        "multi_purchase_df = df_purchase[df_purchase['user_id'].isin(multi_buyers)].copy()\n",
        "\n",
        "# 4. 시간 순 정렬 및 이전 구매일과의 차이 계산\n",
        "multi_purchase_df = multi_purchase_df.sort_values(by=['user_id', 'event_time'])\n",
        "multi_purchase_df['prev_event_time'] = multi_purchase_df.groupby('user_id')['event_time'].shift(1)\n",
        "multi_purchase_df['days_since_prev'] = (multi_purchase_df['event_time'] - multi_purchase_df['prev_event_time']).dt.days\n",
        "\n",
        "# 5. 유효한 간격만 추출\n",
        "valid_intervals = multi_purchase_df['days_since_prev'].dropna()\n",
        "\n",
        "# 6. 통계 요약\n",
        "interval_summary = valid_intervals.describe(percentiles=[.25, .5, .75, .9, .95, .99]).to_frame(name='구매 간격 (일)').round(2)\n",
        "print(interval_summary)\n",
        "\n",
        "# 7. 시각화\n",
        "plt.figure(figsize=(10, 5))\n",
        "sns.histplot(valid_intervals, bins=50, kde=True)\n",
        "plt.title(\"2회 이상 구매자들의 구매 간격 분포\")\n",
        "plt.xlabel(\"구매 간격 (일)\")\n",
        "plt.ylabel(\"구매 수\")\n",
        "plt.xlim(0, 100)\n",
        "plt.grid(True)\n",
        "plt.tight_layout()\n",
        "plt.show()"
      ],
      "metadata": {
        "colab": {
          "base_uri": "https://localhost:8080/",
          "height": 550
        },
        "id": "cNyHaw8B4u-5",
        "outputId": "9b1a45a0-0238-4c9b-9835-ad32b963cece"
      },
      "execution_count": null,
      "outputs": [
        {
          "output_type": "stream",
          "name": "stdout",
          "text": [
            "        구매 간격 (일)\n",
            "count  4137701.00\n",
            "mean         8.34\n",
            "std         19.77\n",
            "min          0.00\n",
            "25%          0.00\n",
            "50%          0.00\n",
            "75%          6.00\n",
            "90%         27.00\n",
            "95%         50.00\n",
            "99%        101.00\n",
            "max        182.00\n"
          ]
        },
        {
          "output_type": "display_data",
          "data": {
            "text/plain": [
              "<Figure size 1000x500 with 1 Axes>"
            ],
            "image/png": "[encoded data removed]"
          },
          "metadata": {}
        }
      ]
    },
    {
      "cell_type": "markdown",
      "source": [
        "| 세그먼트 | 기준 (구매 간격, days) | 설명                   |\n",
        "| ---- | ---------------- | -------------------- |\n",
        "| 자주   | 0일 \\~ 6일 이하      | 75% 이하 고객 포함         |\n",
        "| 보통   | 7일 \\~ 27일 이하     | 상위 15% 포함 (75%\\~90%) |\n",
        "| 드문   | 28일 이상           | 상위 10% 포함 (90% 초과)   |\n",
        "\n",
        "이유: 75% 고객이 6일 이내 재구매하고, 90%는 27일 이내이므로, 이 구간을 기준으로 세그먼트 나누는 것이 데이터 분포를 잘 반영함."
      ],
      "metadata": {
        "id": "eDjDrZ_h6GFd"
      }
    },
    {
      "cell_type": "code",
      "source": [],
      "metadata": {
        "id": "LgZZ7aJ-6F1F"
      },
      "execution_count": null,
      "outputs": []
    },
    {
      "cell_type": "code",
      "source": [],
      "metadata": {
        "id": "P3DQp0QI4u8h"
      },
      "execution_count": null,
      "outputs": []
    },
    {
      "cell_type": "markdown",
      "source": [
        "구매 기간 기준 자주 vs 중간 빈도 vs 드물게"
      ],
      "metadata": {
        "id": "UuzPFVFiUdj6"
      }
    },
    {
      "cell_type": "code",
      "source": [
        "# 1. 날짜 변환 (UTC/비정형 포함)\n",
        "df_purchase['event_time'] = pd.to_datetime(df_purchase['event_time'], format='mixed')\n",
        "\n",
        "# 2. user_id별 구매 횟수\n",
        "purchase_counts = df_purchase['user_id'].value_counts()\n",
        "\n",
        "# 3. 2회 이상 구매한 유저만 추출\n",
        "multi_buyers = purchase_counts[purchase_counts > 1].index\n",
        "multi_purchase_df = df_purchase[df_purchase['user_id'].isin(multi_buyers)].copy()\n",
        "\n",
        "# 4. 시간 순 정렬 및 이전 구매일과의 차이 계산\n",
        "multi_purchase_df = multi_purchase_df.sort_values(by=['user_id', 'event_time'])\n",
        "multi_purchase_df['prev_event_time'] = multi_purchase_df.groupby('user_id')['event_time'].shift(1)\n",
        "multi_purchase_df['days_since_prev'] = (multi_purchase_df['event_time'] - multi_purchase_df['prev_event_time']).dt.days\n",
        "\n",
        "# 5. 유효한 간격만 추출\n",
        "valid_intervals = multi_purchase_df['days_since_prev'].dropna()\n",
        "\n",
        "# 6. 통계 요약\n",
        "interval_summary = valid_intervals.describe(percentiles=[.25, .5, .75, .9, .95, .99]).to_frame(name='구매 간격 (일)').round(2)\n",
        "print(interval_summary)\n",
        "\n",
        "# 7. 시각화\n",
        "plt.figure(figsize=(10, 5))\n",
        "sns.histplot(valid_intervals, bins=50, kde=True)\n",
        "plt.title(\"2회 이상 구매자들의 구매 간격 분포\")\n",
        "plt.xlabel(\"구매 간격 (일)\")\n",
        "plt.ylabel(\"구매 수\")\n",
        "plt.xlim(0, 100)\n",
        "plt.grid(True)\n",
        "plt.tight_layout()\n",
        "plt.show()"
      ],
      "metadata": {
        "colab": {
          "base_uri": "https://localhost:8080/",
          "height": 550
        },
        "id": "F6E6wBgb0s0a",
        "outputId": "0b7093b9-7028-4a46-9bf1-35c14d421782"
      },
      "execution_count": null,
      "outputs": [
        {
          "output_type": "stream",
          "name": "stdout",
          "text": [
            "        구매 간격 (일)\n",
            "count  4137701.00\n",
            "mean         8.34\n",
            "std         19.77\n",
            "min          0.00\n",
            "25%          0.00\n",
            "50%          0.00\n",
            "75%          6.00\n",
            "90%         27.00\n",
            "95%         50.00\n",
            "99%        101.00\n",
            "max        182.00\n"
          ]
        },
        {
          "output_type": "display_data",
          "data": {
            "text/plain": [
              "<Figure size 1000x500 with 1 Axes>"
            ],
            "image/png": "[encoded data removed]"
          },
          "metadata": {}
        }
      ]
    },
    {
      "cell_type": "markdown",
      "source": [
        "| 분위수      | 구매 간격 (일)                                 |\n",
        "| -------- | ----------------------------------------- |\n",
        "| Q1 (25%) | 28일 이하        → 전체 고객 중 가장 자주 구매하는 상위 25% |\n",
        "| Q2 (50%) | 46일 이하        → 중앙값                       |\n",
        "| Q3 (75%) | 75일 이하        → 전체 고객 중 상위 75% 이내         |"
      ],
      "metadata": {
        "id": "1wNyOHEE6Kt_"
      }
    },
    {
      "cell_type": "markdown",
      "source": [
        "사분위수 기준인데, 여기서 실제 분포와 실무 적용성을 고려해 약간 조정 ↓"
      ],
      "metadata": {
        "id": "M0qmMvTpRm07"
      }
    },
    {
      "cell_type": "markdown",
      "source": [
        "| 세그먼트         | 기준 (구매 간격) | 해석 및 활용                 |\n",
        "| ------------ | ---------- | ----------------------- |\n",
        "| **자주 구매**    | 0 \\~ 30일   | 충성도 높음, 자동 추천·멤버십 혜택 타깃 |\n",
        "| **중간 빈도 구매** | 31 \\~ 75일  | 일반 고객군, 리마인드 알림 대상      |\n",
        "| **드물게 구매**   | 76일 이상     | 이탈 가능성 ↑, 리텐션 마케팅 타깃    |\n",
        "\n",
        "| 세그먼트  | 마케팅 전략                            |\n",
        "| ----- | --------------------------------- |\n",
        "| 자주 구매 | **우선권 제공**, 할인 알림, 신상품 출시 알림      |\n",
        "| 중간 구매 | **쿠폰 발송**, 찜한 제품 재입고 알림           |\n",
        "| 드문 구매 | **이탈 방지용 리마케팅**, 맞춤형 추천, 설문 조사 유도 |\n"
      ],
      "metadata": {
        "id": "7OiKAaFX50Xz"
      }
    },
    {
      "cell_type": "code",
      "source": [
        "# 구매 간격 기반 라벨링\n",
        "def label_by_frequency(days):\n",
        "    if days <= 30:\n",
        "        return '자주'\n",
        "    elif days <= 75:\n",
        "        return '중간'\n",
        "    else:\n",
        "        return '드문'\n",
        "\n",
        "multi_purchase_df['purchase_segment'] = multi_purchase_df['days_since_prev'].apply(label_by_frequency)"
      ],
      "metadata": {
        "id": "5wixbhJoyt4j"
      },
      "execution_count": null,
      "outputs": []
    },
    {
      "cell_type": "markdown",
      "source": [
        "#여기까지입니다!!"
      ],
      "metadata": {
        "id": "SokgPfHASDAz"
      }
    },
    {
      "cell_type": "code",
      "source": [],
      "metadata": {
        "id": "YbeMFIFPR9sQ"
      },
      "execution_count": null,
      "outputs": []
    },
    {
      "cell_type": "code",
      "source": [
        "purchase_df['days_to_next'].dropna().clip(upper=60).hist(bins=30)"
      ],
      "metadata": {
        "colab": {
          "base_uri": "https://localhost:8080/",
          "height": 545
        },
        "id": "bgVLtmE8t9hV",
        "outputId": "38b91fb2-cf4a-4325-d966-a2a8bbca7dee"
      },
      "execution_count": null,
      "outputs": [
        {
          "output_type": "execute_result",
          "data": {
            "text/plain": [
              "<Axes: >"
            ]
          },
          "metadata": {},
          "execution_count": 15
        },
        {
          "output_type": "display_data",
          "data": {
            "text/plain": [
              "<Figure size 1200x600 with 1 Axes>"
            ],
            "image/png": "[encoded data removed]"
          },
          "metadata": {}
        }
      ]
    },
    {
      "cell_type": "code",
      "source": [],
      "metadata": {
        "id": "dl6YGsEEv4Uj"
      },
      "execution_count": null,
      "outputs": []
    },
    {
      "cell_type": "code",
      "source": [
        "# 6개월치 데이터\n",
        "df_all = pd.read_csv(f'{data_root}/one_time_buyers_all.csv')\n",
        "\n",
        "df_all"
      ],
      "metadata": {
        "colab": {
          "base_uri": "https://localhost:8080/",
          "height": 983
        },
        "id": "lfhHHuP3v92c",
        "outputId": "e71993a3-9eea-489d-e10a-ee1463d93132"
      },
      "execution_count": null,
      "outputs": [
        {
          "output_type": "stream",
          "name": "stderr",
          "text": [
            "/tmp/ipython-input-20-3401198785.py:2: DtypeWarning: Columns (9,11,12,13,14,15) have mixed types. Specify dtype option on import or set low_memory=False.\n",
            "  df_all = pd.read_csv(f'{data_root}/one_time_buyers_all.csv')\n"
          ]
        },
        {
          "output_type": "execute_result",
          "data": {
            "text/plain": [
              "                        event_time event_type  product_id  \\\n",
              "0        2019-10-13 13:25:29+00:00   purchase     5100443   \n",
              "1        2019-10-09 15:51:08+00:00   purchase    17301479   \n",
              "2        2019-10-18 11:19:59+00:00   purchase     2501816   \n",
              "3        2019-10-26 14:05:39+00:00   purchase    10700971   \n",
              "4        2019-10-24 17:54:48+00:00   purchase    12718429   \n",
              "...                            ...        ...         ...   \n",
              "1451972  2020-03-31 23:49:41+00:00   purchase     1004835   \n",
              "1451973  2020-03-31 23:54:30+00:00   purchase   100062704   \n",
              "1451974  2020-03-31 23:55:08+00:00   purchase     1003319   \n",
              "1451975  2020-03-31 23:58:19+00:00   purchase   100049773   \n",
              "1451976  2020-03-31 23:59:27+00:00   purchase   100068493   \n",
              "\n",
              "                 category_id                category_code     brand   price  \\\n",
              "0        2053013553341792533           electronics.clocks    garmin  340.59   \n",
              "1        2053013553853497655                          NaN       NaN   29.89   \n",
              "2        2053013564003713919      appliances.kitchen.oven     artel   41.44   \n",
              "3        2053013561277416167                          NaN       NaN   20.59   \n",
              "4        2053013553559896355                          NaN  cordiant   48.14   \n",
              "...                      ...                          ...       ...     ...   \n",
              "1451972  2232732093077520756     construction.tools.light   samsung  199.87   \n",
              "1451973  2053013554658804075  electronics.audio.headphone      asus  812.12   \n",
              "1451974  2232732093077520756     construction.tools.light     apple  900.64   \n",
              "1451975  2232732106860003995                          NaN       NaN  234.96   \n",
              "1451976  2232732093077520756     construction.tools.light   samsung  319.41   \n",
              "\n",
              "           user_id                          user_session  event_date  \\\n",
              "0        303160429  8957377b-66b3-4661-ae91-5c2b5e29fd0e  2019-10-13   \n",
              "1        371877401  d3103132-d38a-4399-9404-f99d03d243d0  2019-10-09   \n",
              "2        384989212  7472f245-e885-4c5e-b3b1-476a7b19b508  2019-10-18   \n",
              "3        387300134  51d42df3-8ba8-493f-b780-41f09a74be28  2019-10-26   \n",
              "4        396222093  0ec20848-b6c5-41b5-bba8-132be4461915  2019-10-24   \n",
              "...            ...                                   ...         ...   \n",
              "1451972  588488017  84395d1c-4349-49e4-9581-94f63cfb034f  2020-03-31   \n",
              "1451973  624142677  8501ed7e-a926-450e-87ff-da17ce20f14f  2020-03-31   \n",
              "1451974  619860269  ea2efefc-95ea-49ce-9250-fef572c53b44  2020-03-31   \n",
              "1451975  620580925  c33fde42-a5de-4a1f-9e1c-2ac7518a7d41  2020-03-31   \n",
              "1451976  635165435  861f2378-076f-4ddd-85e3-9844923d03a9  2020-03-31   \n",
              "\n",
              "         event_hour category_lvl1 category_lvl2 category_lvl3 category_lvl4  \\\n",
              "0              13.0   electronics        clocks           NaN           NaN   \n",
              "1              15.0           NaN           NaN           NaN           NaN   \n",
              "2              11.0    appliances       kitchen          oven           NaN   \n",
              "3              14.0           NaN           NaN           NaN           NaN   \n",
              "4              17.0           NaN           NaN           NaN           NaN   \n",
              "...             ...           ...           ...           ...           ...   \n",
              "1451972        23.0  construction         tools         light           NaN   \n",
              "1451973        23.0   electronics         audio     headphone           NaN   \n",
              "1451974        23.0  construction         tools         light           NaN   \n",
              "1451975        23.0           NaN           NaN           NaN           NaN   \n",
              "1451976        23.0  construction         tools         light           NaN   \n",
              "\n",
              "           month  \n",
              "0            NaN  \n",
              "1            NaN  \n",
              "2            NaN  \n",
              "3            NaN  \n",
              "4            NaN  \n",
              "...          ...  \n",
              "1451972  2020-03  \n",
              "1451973  2020-03  \n",
              "1451974  2020-03  \n",
              "1451975  2020-03  \n",
              "1451976  2020-03  \n",
              "\n",
              "[1451977 rows x 16 columns]"
            ],
            "text/html": [
              "\n",
              "  <div id=\"df-949c62ec-9e5e-4a7c-ad2d-f6d3abf1173e\" class=\"colab-df-container\">\n",
              "    <div>\n",
              "<style scoped>\n",
              "    .dataframe tbody tr th:only-of-type {\n",
              "        vertical-align: middle;\n",
              "    }\n",
              "\n",
              "    .dataframe tbody tr th {\n",
              "        vertical-align: top;\n",
              "    }\n",
              "\n",
              "    .dataframe thead th {\n",
              "        text-align: right;\n",
              "    }\n",
              "</style>\n",
              "<table border=\"1\" class=\"dataframe\">\n",
              "  <thead>\n",
              "    <tr style=\"text-align: right;\">\n",
              "      <th></th>\n",
              "      <th>event_time</th>\n",
              "      <th>event_type</th>\n",
              "      <th>product_id</th>\n",
              "      <th>category_id</th>\n",
              "      <th>category_code</th>\n",
              "      <th>brand</th>\n",
              "      <th>price</th>\n",
              "      <th>user_id</th>\n",
              "      <th>user_session</th>\n",
              "      <th>event_date</th>\n",
              "      <th>event_hour</th>\n",
              "      <th>category_lvl1</th>\n",
              "      <th>category_lvl2</th>\n",
              "      <th>category_lvl3</th>\n",
              "      <th>category_lvl4</th>\n",
              "      <th>month</th>\n",
              "    </tr>\n",
              "  </thead>\n",
              "  <tbody>\n",
              "    <tr>\n",
              "      <th>0</th>\n",
              "      <td>2019-10-13 13:25:29+00:00</td>\n",
              "      <td>purchase</td>\n",
              "      <td>5100443</td>\n",
              "      <td>2053013553341792533</td>\n",
              "      <td>electronics.clocks</td>\n",
              "      <td>garmin</td>\n",
              "      <td>340.59</td>\n",
              "      <td>303160429</td>\n",
              "      <td>8957377b-66b3-4661-ae91-5c2b5e29fd0e</td>\n",
              "      <td>2019-10-13</td>\n",
              "      <td>13.0</td>\n",
              "      <td>electronics</td>\n",
              "      <td>clocks</td>\n",
              "      <td>NaN</td>\n",
              "      <td>NaN</td>\n",
              "      <td>NaN</td>\n",
              "    </tr>\n",
              "    <tr>\n",
              "      <th>1</th>\n",
              "      <td>2019-10-09 15:51:08+00:00</td>\n",
              "      <td>purchase</td>\n",
              "      <td>17301479</td>\n",
              "      <td>2053013553853497655</td>\n",
              "      <td>NaN</td>\n",
              "      <td>NaN</td>\n",
              "      <td>29.89</td>\n",
              "      <td>371877401</td>\n",
              "      <td>d3103132-d38a-4399-9404-f99d03d243d0</td>\n",
              "      <td>2019-10-09</td>\n",
              "      <td>15.0</td>\n",
              "      <td>NaN</td>\n",
              "      <td>NaN</td>\n",
              "      <td>NaN</td>\n",
              "      <td>NaN</td>\n",
              "      <td>NaN</td>\n",
              "    </tr>\n",
              "    <tr>\n",
              "      <th>2</th>\n",
              "      <td>2019-10-18 11:19:59+00:00</td>\n",
              "      <td>purchase</td>\n",
              "      <td>2501816</td>\n",
              "      <td>2053013564003713919</td>\n",
              "      <td>appliances.kitchen.oven</td>\n",
              "      <td>artel</td>\n",
              "      <td>41.44</td>\n",
              "      <td>384989212</td>\n",
              "      <td>7472f245-e885-4c5e-b3b1-476a7b19b508</td>\n",
              "      <td>2019-10-18</td>\n",
              "      <td>11.0</td>\n",
              "      <td>appliances</td>\n",
              "      <td>kitchen</td>\n",
              "      <td>oven</td>\n",
              "      <td>NaN</td>\n",
              "      <td>NaN</td>\n",
              "    </tr>\n",
              "    <tr>\n",
              "      <th>3</th>\n",
              "      <td>2019-10-26 14:05:39+00:00</td>\n",
              "      <td>purchase</td>\n",
              "      <td>10700971</td>\n",
              "      <td>2053013561277416167</td>\n",
              "      <td>NaN</td>\n",
              "      <td>NaN</td>\n",
              "      <td>20.59</td>\n",
              "      <td>387300134</td>\n",
              "      <td>51d42df3-8ba8-493f-b780-41f09a74be28</td>\n",
              "      <td>2019-10-26</td>\n",
              "      <td>14.0</td>\n",
              "      <td>NaN</td>\n",
              "      <td>NaN</td>\n",
              "      <td>NaN</td>\n",
              "      <td>NaN</td>\n",
              "      <td>NaN</td>\n",
              "    </tr>\n",
              "    <tr>\n",
              "      <th>4</th>\n",
              "      <td>2019-10-24 17:54:48+00:00</td>\n",
              "      <td>purchase</td>\n",
              "      <td>12718429</td>\n",
              "      <td>2053013553559896355</td>\n",
              "      <td>NaN</td>\n",
              "      <td>cordiant</td>\n",
              "      <td>48.14</td>\n",
              "      <td>396222093</td>\n",
              "      <td>0ec20848-b6c5-41b5-bba8-132be4461915</td>\n",
              "      <td>2019-10-24</td>\n",
              "      <td>17.0</td>\n",
              "      <td>NaN</td>\n",
              "      <td>NaN</td>\n",
              "      <td>NaN</td>\n",
              "      <td>NaN</td>\n",
              "      <td>NaN</td>\n",
              "    </tr>\n",
              "    <tr>\n",
              "      <th>...</th>\n",
              "      <td>...</td>\n",
              "      <td>...</td>\n",
              "      <td>...</td>\n",
              "      <td>...</td>\n",
              "      <td>...</td>\n",
              "      <td>...</td>\n",
              "      <td>...</td>\n",
              "      <td>...</td>\n",
              "      <td>...</td>\n",
              "      <td>...</td>\n",
              "      <td>...</td>\n",
              "      <td>...</td>\n",
              "      <td>...</td>\n",
              "      <td>...</td>\n",
              "      <td>...</td>\n",
              "      <td>...</td>\n",
              "    </tr>\n",
              "    <tr>\n",
              "      <th>1451972</th>\n",
              "      <td>2020-03-31 23:49:41+00:00</td>\n",
              "      <td>purchase</td>\n",
              "      <td>1004835</td>\n",
              "      <td>2232732093077520756</td>\n",
              "      <td>construction.tools.light</td>\n",
              "      <td>samsung</td>\n",
              "      <td>199.87</td>\n",
              "      <td>588488017</td>\n",
              "      <td>84395d1c-4349-49e4-9581-94f63cfb034f</td>\n",
              "      <td>2020-03-31</td>\n",
              "      <td>23.0</td>\n",
              "      <td>construction</td>\n",
              "      <td>tools</td>\n",
              "      <td>light</td>\n",
              "      <td>NaN</td>\n",
              "      <td>2020-03</td>\n",
              "    </tr>\n",
              "    <tr>\n",
              "      <th>1451973</th>\n",
              "      <td>2020-03-31 23:54:30+00:00</td>\n",
              "      <td>purchase</td>\n",
              "      <td>100062704</td>\n",
              "      <td>2053013554658804075</td>\n",
              "      <td>electronics.audio.headphone</td>\n",
              "      <td>asus</td>\n",
              "      <td>812.12</td>\n",
              "      <td>624142677</td>\n",
              "      <td>8501ed7e-a926-450e-87ff-da17ce20f14f</td>\n",
              "      <td>2020-03-31</td>\n",
              "      <td>23.0</td>\n",
              "      <td>electronics</td>\n",
              "      <td>audio</td>\n",
              "      <td>headphone</td>\n",
              "      <td>NaN</td>\n",
              "      <td>2020-03</td>\n",
              "    </tr>\n",
              "    <tr>\n",
              "      <th>1451974</th>\n",
              "      <td>2020-03-31 23:55:08+00:00</td>\n",
              "      <td>purchase</td>\n",
              "      <td>1003319</td>\n",
              "      <td>2232732093077520756</td>\n",
              "      <td>construction.tools.light</td>\n",
              "      <td>apple</td>\n",
              "      <td>900.64</td>\n",
              "      <td>619860269</td>\n",
              "      <td>ea2efefc-95ea-49ce-9250-fef572c53b44</td>\n",
              "      <td>2020-03-31</td>\n",
              "      <td>23.0</td>\n",
              "      <td>construction</td>\n",
              "      <td>tools</td>\n",
              "      <td>light</td>\n",
              "      <td>NaN</td>\n",
              "      <td>2020-03</td>\n",
              "    </tr>\n",
              "    <tr>\n",
              "      <th>1451975</th>\n",
              "      <td>2020-03-31 23:58:19+00:00</td>\n",
              "      <td>purchase</td>\n",
              "      <td>100049773</td>\n",
              "      <td>2232732106860003995</td>\n",
              "      <td>NaN</td>\n",
              "      <td>NaN</td>\n",
              "      <td>234.96</td>\n",
              "      <td>620580925</td>\n",
              "      <td>c33fde42-a5de-4a1f-9e1c-2ac7518a7d41</td>\n",
              "      <td>2020-03-31</td>\n",
              "      <td>23.0</td>\n",
              "      <td>NaN</td>\n",
              "      <td>NaN</td>\n",
              "      <td>NaN</td>\n",
              "      <td>NaN</td>\n",
              "      <td>2020-03</td>\n",
              "    </tr>\n",
              "    <tr>\n",
              "      <th>1451976</th>\n",
              "      <td>2020-03-31 23:59:27+00:00</td>\n",
              "      <td>purchase</td>\n",
              "      <td>100068493</td>\n",
              "      <td>2232732093077520756</td>\n",
              "      <td>construction.tools.light</td>\n",
              "      <td>samsung</td>\n",
              "      <td>319.41</td>\n",
              "      <td>635165435</td>\n",
              "      <td>861f2378-076f-4ddd-85e3-9844923d03a9</td>\n",
              "      <td>2020-03-31</td>\n",
              "      <td>23.0</td>\n",
              "      <td>construction</td>\n",
              "      <td>tools</td>\n",
              "      <td>light</td>\n",
              "      <td>NaN</td>\n",
              "      <td>2020-03</td>\n",
              "    </tr>\n",
              "  </tbody>\n",
              "</table>\n",
              "<p>1451977 rows × 16 columns</p>\n",
              "</div>\n",
              "    <div class=\"colab-df-buttons\">\n",
              "\n",
              "  <div class=\"colab-df-container\">\n",
              "    <button class=\"colab-df-convert\" onclick=\"convertToInteractive('df-949c62ec-9e5e-4a7c-ad2d-f6d3abf1173e')\"\n",
              "            title=\"Convert this dataframe to an interactive table.\"\n",
              "            style=\"display:none;\">\n",
              "\n",
              "  <svg xmlns=\"http://www.w3.org/2000/svg\" height=\"24px\" viewBox=\"0 -960 960 960\">\n",
              "    <path d=\"M120-120v-720h720v720H120Zm60-500h600v-160H180v160Zm220 220h160v-160H400v160Zm0 220h160v-160H400v160ZM180-400h160v-160H180v160Zm440 0h160v-160H620v160ZM180-180h160v-160H180v160Zm440 0h160v-160H620v160Z\"/>\n",
              "  </svg>\n",
              "    </button>\n",
              "\n",
              "  <style>\n",
              "    .colab-df-container {\n",
              "      display:flex;\n",
              "      gap: 12px;\n",
              "    }\n",
              "\n",
              "    .colab-df-convert {\n",
              "      background-color: #E8F0FE;\n",
              "      border: none;\n",
              "      border-radius: 50%;\n",
              "      cursor: pointer;\n",
              "      display: none;\n",
              "      fill: #1967D2;\n",
              "      height: 32px;\n",
              "      padding: 0 0 0 0;\n",
              "      width: 32px;\n",
              "    }\n",
              "\n",
              "    .colab-df-convert:hover {\n",
              "      background-color: #E2EBFA;\n",
              "      box-shadow: 0px 1px 2px rgba(60, 64, 67, 0.3), 0px 1px 3px 1px rgba(60, 64, 67, 0.15);\n",
              "      fill: #174EA6;\n",
              "    }\n",
              "\n",
              "    .colab-df-buttons div {\n",
              "      margin-bottom: 4px;\n",
              "    }\n",
              "\n",
              "    [theme=dark] .colab-df-convert {\n",
              "      background-color: #3B4455;\n",
              "      fill: #D2E3FC;\n",
              "    }\n",
              "\n",
              "    [theme=dark] .colab-df-convert:hover {\n",
              "      background-color: #434B5C;\n",
              "      box-shadow: 0px 1px 3px 1px rgba(0, 0, 0, 0.15);\n",
              "      filter: drop-shadow(0px 1px 2px rgba(0, 0, 0, 0.3));\n",
              "      fill: #FFFFFF;\n",
              "    }\n",
              "  </style>\n",
              "\n",
              "    <script>\n",
              "      const buttonEl =\n",
              "        document.querySelector('#df-949c62ec-9e5e-4a7c-ad2d-f6d3abf1173e button.colab-df-convert');\n",
              "      buttonEl.style.display =\n",
              "        google.colab.kernel.accessAllowed ? 'block' : 'none';\n",
              "\n",
              "      async function convertToInteractive(key) {\n",
              "        const element = document.querySelector('#df-949c62ec-9e5e-4a7c-ad2d-f6d3abf1173e');\n",
              "        const dataTable =\n",
              "          await google.colab.kernel.invokeFunction('convertToInteractive',\n",
              "                                                    [key], {});\n",
              "        if (!dataTable) return;\n",
              "\n",
              "        const docLinkHtml = 'Like what you see? Visit the ' +\n",
              "          '<a target=\"_blank\" href=https://colab.research.google.com/notebooks/data_table.ipynb>data table notebook</a>'\n",
              "          + ' to learn more about interactive tables.';\n",
              "        element.innerHTML = '';\n",
              "        dataTable['output_type'] = 'display_data';\n",
              "        await google.colab.output.renderOutput(dataTable, element);\n",
              "        const docLink = document.createElement('div');\n",
              "        docLink.innerHTML = docLinkHtml;\n",
              "        element.appendChild(docLink);\n",
              "      }\n",
              "    </script>\n",
              "  </div>\n",
              "\n",
              "\n",
              "    <div id=\"df-e1513340-899e-499c-8cda-696388a89069\">\n",
              "      <button class=\"colab-df-quickchart\" onclick=\"quickchart('df-e1513340-899e-499c-8cda-696388a89069')\"\n",
              "                title=\"Suggest charts\"\n",
              "                style=\"display:none;\">\n",
              "\n",
              "<svg xmlns=\"http://www.w3.org/2000/svg\" height=\"24px\"viewBox=\"0 0 24 24\"\n",
              "     width=\"24px\">\n",
              "    <g>\n",
              "        <path d=\"M19 3H5c-1.1 0-2 .9-2 2v14c0 1.1.9 2 2 2h14c1.1 0 2-.9 2-2V5c0-1.1-.9-2-2-2zM9 17H7v-7h2v7zm4 0h-2V7h2v10zm4 0h-2v-4h2v4z\"/>\n",
              "    </g>\n",
              "</svg>\n",
              "      </button>\n",
              "\n",
              "<style>\n",
              "  .colab-df-quickchart {\n",
              "      --bg-color: #E8F0FE;\n",
              "      --fill-color: #1967D2;\n",
              "      --hover-bg-color: #E2EBFA;\n",
              "      --hover-fill-color: #174EA6;\n",
              "      --disabled-fill-color: #AAA;\n",
              "      --disabled-bg-color: #DDD;\n",
              "  }\n",
              "\n",
              "  [theme=dark] .colab-df-quickchart {\n",
              "      --bg-color: #3B4455;\n",
              "      --fill-color: #D2E3FC;\n",
              "      --hover-bg-color: #434B5C;\n",
              "      --hover-fill-color: #FFFFFF;\n",
              "      --disabled-bg-color: #3B4455;\n",
              "      --disabled-fill-color: #666;\n",
              "  }\n",
              "\n",
              "  .colab-df-quickchart {\n",
              "    background-color: var(--bg-color);\n",
              "    border: none;\n",
              "    border-radius: 50%;\n",
              "    cursor: pointer;\n",
              "    display: none;\n",
              "    fill: var(--fill-color);\n",
              "    height: 32px;\n",
              "    padding: 0;\n",
              "    width: 32px;\n",
              "  }\n",
              "\n",
              "  .colab-df-quickchart:hover {\n",
              "    background-color: var(--hover-bg-color);\n",
              "    box-shadow: 0 1px 2px rgba(60, 64, 67, 0.3), 0 1px 3px 1px rgba(60, 64, 67, 0.15);\n",
              "    fill: var(--button-hover-fill-color);\n",
              "  }\n",
              "\n",
              "  .colab-df-quickchart-complete:disabled,\n",
              "  .colab-df-quickchart-complete:disabled:hover {\n",
              "    background-color: var(--disabled-bg-color);\n",
              "    fill: var(--disabled-fill-color);\n",
              "    box-shadow: none;\n",
              "  }\n",
              "\n",
              "  .colab-df-spinner {\n",
              "    border: 2px solid var(--fill-color);\n",
              "    border-color: transparent;\n",
              "    border-bottom-color: var(--fill-color);\n",
              "    animation:\n",
              "      spin 1s steps(1) infinite;\n",
              "  }\n",
              "\n",
              "  @keyframes spin {\n",
              "    0% {\n",
              "      border-color: transparent;\n",
              "      border-bottom-color: var(--fill-color);\n",
              "      border-left-color: var(--fill-color);\n",
              "    }\n",
              "    20% {\n",
              "      border-color: transparent;\n",
              "      border-left-color: var(--fill-color);\n",
              "      border-top-color: var(--fill-color);\n",
              "    }\n",
              "    30% {\n",
              "      border-color: transparent;\n",
              "      border-left-color: var(--fill-color);\n",
              "      border-top-color: var(--fill-color);\n",
              "      border-right-color: var(--fill-color);\n",
              "    }\n",
              "    40% {\n",
              "      border-color: transparent;\n",
              "      border-right-color: var(--fill-color);\n",
              "      border-top-color: var(--fill-color);\n",
              "    }\n",
              "    60% {\n",
              "      border-color: transparent;\n",
              "      border-right-color: var(--fill-color);\n",
              "    }\n",
              "    80% {\n",
              "      border-color: transparent;\n",
              "      border-right-color: var(--fill-color);\n",
              "      border-bottom-color: var(--fill-color);\n",
              "    }\n",
              "    90% {\n",
              "      border-color: transparent;\n",
              "      border-bottom-color: var(--fill-color);\n",
              "    }\n",
              "  }\n",
              "</style>\n",
              "\n",
              "      <script>\n",
              "        async function quickchart(key) {\n",
              "          const quickchartButtonEl =\n",
              "            document.querySelector('#' + key + ' button');\n",
              "          quickchartButtonEl.disabled = true;  // To prevent multiple clicks.\n",
              "          quickchartButtonEl.classList.add('colab-df-spinner');\n",
              "          try {\n",
              "            const charts = await google.colab.kernel.invokeFunction(\n",
              "                'suggestCharts', [key], {});\n",
              "          } catch (error) {\n",
              "            console.error('Error during call to suggestCharts:', error);\n",
              "          }\n",
              "          quickchartButtonEl.classList.remove('colab-df-spinner');\n",
              "          quickchartButtonEl.classList.add('colab-df-quickchart-complete');\n",
              "        }\n",
              "        (() => {\n",
              "          let quickchartButtonEl =\n",
              "            document.querySelector('#df-e1513340-899e-499c-8cda-696388a89069 button');\n",
              "          quickchartButtonEl.style.display =\n",
              "            google.colab.kernel.accessAllowed ? 'block' : 'none';\n",
              "        })();\n",
              "      </script>\n",
              "    </div>\n",
              "\n",
              "  <div id=\"id_70b91a74-b7f6-4c89-94ef-b20503536094\">\n",
              "    <style>\n",
              "      .colab-df-generate {\n",
              "        background-color: #E8F0FE;\n",
              "        border: none;\n",
              "        border-radius: 50%;\n",
              "        cursor: pointer;\n",
              "        display: none;\n",
              "        fill: #1967D2;\n",
              "        height: 32px;\n",
              "        padding: 0 0 0 0;\n",
              "        width: 32px;\n",
              "      }\n",
              "\n",
              "      .colab-df-generate:hover {\n",
              "        background-color: #E2EBFA;\n",
              "        box-shadow: 0px 1px 2px rgba(60, 64, 67, 0.3), 0px 1px 3px 1px rgba(60, 64, 67, 0.15);\n",
              "        fill: #174EA6;\n",
              "      }\n",
              "\n",
              "      [theme=dark] .colab-df-generate {\n",
              "        background-color: #3B4455;\n",
              "        fill: #D2E3FC;\n",
              "      }\n",
              "\n",
              "      [theme=dark] .colab-df-generate:hover {\n",
              "        background-color: #434B5C;\n",
              "        box-shadow: 0px 1px 3px 1px rgba(0, 0, 0, 0.15);\n",
              "        filter: drop-shadow(0px 1px 2px rgba(0, 0, 0, 0.3));\n",
              "        fill: #FFFFFF;\n",
              "      }\n",
              "    </style>\n",
              "    <button class=\"colab-df-generate\" onclick=\"generateWithVariable('df_all')\"\n",
              "            title=\"Generate code using this dataframe.\"\n",
              "            style=\"display:none;\">\n",
              "\n",
              "  <svg xmlns=\"http://www.w3.org/2000/svg\" height=\"24px\"viewBox=\"0 0 24 24\"\n",
              "       width=\"24px\">\n",
              "    <path d=\"M7,19H8.4L18.45,9,17,7.55,7,17.6ZM5,21V16.75L18.45,3.32a2,2,0,0,1,2.83,0l1.4,1.43a1.91,1.91,0,0,1,.58,1.4,1.91,1.91,0,0,1-.58,1.4L9.25,21ZM18.45,9,17,7.55Zm-12,3A5.31,5.31,0,0,0,4.9,8.1,5.31,5.31,0,0,0,1,6.5,5.31,5.31,0,0,0,4.9,4.9,5.31,5.31,0,0,0,6.5,1,5.31,5.31,0,0,0,8.1,4.9,5.31,5.31,0,0,0,12,6.5,5.46,5.46,0,0,0,6.5,12Z\"/>\n",
              "  </svg>\n",
              "    </button>\n",
              "    <script>\n",
              "      (() => {\n",
              "      const buttonEl =\n",
              "        document.querySelector('#id_70b91a74-b7f6-4c89-94ef-b20503536094 button.colab-df-generate');\n",
              "      buttonEl.style.display =\n",
              "        google.colab.kernel.accessAllowed ? 'block' : 'none';\n",
              "\n",
              "      buttonEl.onclick = () => {\n",
              "        google.colab.notebook.generateWithVariable('df_all');\n",
              "      }\n",
              "      })();\n",
              "    </script>\n",
              "  </div>\n",
              "\n",
              "    </div>\n",
              "  </div>\n"
            ],
            "application/vnd.google.colaboratory.intrinsic+json": {
              "type": "dataframe",
              "variable_name": "df_all"
            }
          },
          "metadata": {},
          "execution_count": 20
        }
      ]
    },
    {
      "cell_type": "code",
      "source": [
        "# 구매 한 번만 한 고객 구하기(6개월치 데이터로 구매 주기 추적 위해)\n",
        "purchase_df_all = df_all[df_all['event_type'] == 'purchase']\n",
        "\n",
        "# 고객별 구매 횟수 집계\n",
        "user_purchase_count = purchase_df.groupby('user_id').size().reset_index(name='purchase_count')\n",
        "\n",
        "# 정확히 1회만 구매한 유저 필터링\n",
        "one_time_buyers = user_purchase_count[user_purchase_count['purchase_count'] == 1]\n",
        "\n",
        "# 결과 출력\n",
        "print(f'정확히 1회만 구매한 유저 수: {len(one_time_buyers)}명')"
      ],
      "metadata": {
        "colab": {
          "base_uri": "https://localhost:8080/"
        },
        "id": "jeNPlTrTzILL",
        "outputId": "9deaf67d-2c1d-4fce-cb4e-75de27ddd371"
      },
      "execution_count": null,
      "outputs": [
        {
          "output_type": "stream",
          "name": "stdout",
          "text": [
            "정확히 1회만 구매한 유저 수: 1018740명\n"
          ]
        }
      ]
    },
    {
      "cell_type": "code",
      "source": [],
      "metadata": {
        "id": "00fZmEQgT2T1"
      },
      "execution_count": null,
      "outputs": []
    },
    {
      "cell_type": "code",
      "source": [],
      "metadata": {
        "id": "rAllOs5NytXr"
      },
      "execution_count": null,
      "outputs": []
    },
    {
      "cell_type": "markdown",
      "source": [
        "## 구매 횟수 기준\n",
        "- 드문 고객: 1회\n",
        "- 중간 고객: 2~4회\n",
        "- 빈번 고객: 5회 이상"
      ],
      "metadata": {
        "id": "Lsw1elbb8sbQ"
      }
    },
    {
      "cell_type": "code",
      "source": [
        "# 고객별 총 구매 횟수\n",
        "user_purchase_freq = purchase_df.groupby('user_id').size().reset_index(name='purchase_count')"
      ],
      "metadata": {
        "id": "89x14bmYt9ei"
      },
      "execution_count": null,
      "outputs": []
    },
    {
      "cell_type": "code",
      "source": [
        "# 고객별 총 구매 횟수의 최소값, 최대값 확인\n",
        "min_purchase_count = user_purchase_freq['purchase_count'].min()\n",
        "max_purchase_count = user_purchase_freq['purchase_count'].max()\n",
        "\n",
        "print(f\"최소 구매 횟수: {min_purchase_count}\")\n",
        "print(f\"최대 구매 횟수: {max_purchase_count}\")"
      ],
      "metadata": {
        "colab": {
          "base_uri": "https://localhost:8080/"
        },
        "id": "kSB6X7uv67_n",
        "outputId": "5b52bbb4-5989-4bb5-ac8a-4c4086fd5fc8"
      },
      "execution_count": null,
      "outputs": [
        {
          "output_type": "stream",
          "name": "stdout",
          "text": [
            "최소 구매 횟수: 1\n",
            "최대 구매 횟수: 640\n"
          ]
        }
      ]
    },
    {
      "cell_type": "code",
      "source": [
        "# 구매 횟수별 분포 시각화\n",
        "plt.figure(figsize=(10, 6))\n",
        "sns.histplot(user_purchase_freq['purchase_count'], bins=50, kde=True)\n",
        "plt.title('고객별 총 구매 횟수 분포')\n",
        "plt.xlabel('구매 횟수')\n",
        "plt.ylabel('고객 수')\n",
        "plt.xlim(0, user_purchase_freq['purchase_count'].quantile(0.99)) # 극단치 제외를 위해 99% 분위수까지 표시\n",
        "plt.show()"
      ],
      "metadata": {
        "colab": {
          "base_uri": "https://localhost:8080/",
          "height": 570
        },
        "id": "R-rEqC2b7MpW",
        "outputId": "70e9bee6-69a9-44f8-9df2-4be24d9f0327"
      },
      "execution_count": null,
      "outputs": [
        {
          "output_type": "display_data",
          "data": {
            "text/plain": [
              "<Figure size 1000x600 with 1 Axes>"
            ],
            "image/png": "[encoded data removed]"
          },
          "metadata": {}
        }
      ]
    },
    {
      "cell_type": "markdown",
      "source": [
        "| 관찰 결과     | 해석             | 전략 아이디어                 |\n",
        "| --------- | -------------- | ----------------------- |\n",
        "| 1회 구매자 다수 | 유입은 되지만 유지 안 됨 | 첫 구매 이후 **리마인드 마케팅 강화** |\n",
        "| 2\\~4회 구매자 | 이탈 직전 가능성      | **충성도 상승 유도 프로모션**      |\n",
        "| 5회 이상 구매자 | 소수 충성 고객       | **VIP 혜택·추천 제품 제안**     |"
      ],
      "metadata": {
        "id": "BsjcQ6xj8Q6J"
      }
    },
    {
      "cell_type": "code",
      "source": [],
      "metadata": {
        "id": "rX8RGUUEXpId"
      },
      "execution_count": null,
      "outputs": []
    },
    {
      "cell_type": "code",
      "source": [],
      "metadata": {
        "id": "qBNuvEkwXojh"
      },
      "execution_count": null,
      "outputs": []
    },
    {
      "cell_type": "code",
      "source": [],
      "metadata": {
        "id": "YLQb4kpUOt8_"
      },
      "execution_count": null,
      "outputs": []
    },
    {
      "cell_type": "code",
      "source": [
        "# # N일 이상 이탈 기준 설정 (사용자별 마지막 구매일 이후 n일 이상 구매 없으면 이탈 후보)\n",
        "# last_purchase = purchase_df.groupby('user_id')['event_time'].max().reset_index()\n",
        "# last_purchase['days_since_last'] = (pd.to_datetime('2019-12-01') - last_purchase['event_time']).dt.days  # 기준일 예시\n",
        "\n",
        "# # 30일 이상 이탈 고객\n",
        "# churned_users = last_purchase[last_purchase['days_since_last'] >= 30]"
      ],
      "metadata": {
        "id": "Fyod8baX6Wig"
      },
      "execution_count": null,
      "outputs": []
    },
    {
      "cell_type": "code",
      "source": [
        "# 월별 베스트셀러\n",
        "purchase_df['event_month'] = purchase_df['event_time'].dt.to_period('M')\n",
        "monthly_best = purchase_df.groupby(['event_month', 'product_id']).size().reset_index(name='purchase_count')\n",
        "\n",
        "# 상위 10개 베스트셀러\n",
        "top_sellers = monthly_best.groupby('event_month').apply(lambda x: x.sort_values(by='purchase_count', ascending=False).head(10)).reset_index(drop=True)"
      ],
      "metadata": {
        "id": "d9-nYMdt6WfR"
      },
      "execution_count": null,
      "outputs": []
    },
    {
      "cell_type": "code",
      "source": [
        "top_sellers = top_sellers.merge(product_df[['product_id', 'product_name']], on='product_id', how='left')\n"
      ],
      "metadata": {
        "id": "Qqd5MuNQ6Wco"
      },
      "execution_count": null,
      "outputs": []
    },
    {
      "cell_type": "code",
      "source": [],
      "metadata": {
        "id": "9zXB4S5Y6WQm"
      },
      "execution_count": null,
      "outputs": []
    },
    {
      "cell_type": "code",
      "source": [
        "# 이벤트 유형 분포 확인\n",
        "df['event_type'].value_counts().plot(kind='bar', title='event.type 분포', figsize=(8,4))\n",
        "plt.xlabel('event_type'); plt.ylabel('건수')\n",
        "plt.show()\n"
      ],
      "metadata": {
        "id": "oeS4hU9Hykmf"
      },
      "execution_count": null,
      "outputs": []
    },
    {
      "cell_type": "code",
      "source": [
        "# 'purchase' event_type의 건수 확인\n",
        "purchase_count = df[df['event_type'] == 'purchase'].shape[0]\n",
        "print(f\"구매 (purchase) 이벤트 건수: {purchase_count}\")"
      ],
      "metadata": {
        "id": "I8x9QNkcZxSb"
      },
      "execution_count": null,
      "outputs": []
    },
    {
      "cell_type": "code",
      "source": [],
      "metadata": {
        "id": "NudNbrZYZxJv"
      },
      "execution_count": null,
      "outputs": []
    },
    {
      "cell_type": "code",
      "source": [],
      "metadata": {
        "id": "LbtNQpLhazYh"
      },
      "execution_count": null,
      "outputs": []
    },
    {
      "cell_type": "code",
      "source": [
        "# 고객별 첫 구매 ~ 다음 구매 간 시간 간격 계산\n",
        "purchase_df['next_purchase'] = purchase_df.groupby('user_id')['event_time'].shift(-1)\n",
        "purchase_df['days_to_next'] = (purchase_df['next_purchase'] - purchase_df['event_time']).dt.days\n",
        "\n",
        "# 고객별 구매 횟수\n",
        "purchase_counts = purchase_df.groupby('user_id').size().reset_index(name='purchase_count')"
      ],
      "metadata": {
        "id": "r65wJmWRazUt"
      },
      "execution_count": null,
      "outputs": []
    },
    {
      "cell_type": "code",
      "source": [
        "# 재구매 간격 분포 확인\n",
        "import matplotlib.pyplot as plt\n",
        "\n",
        "purchase_df['days_to_next'].dropna().clip(upper=60).hist(bins=30)\n",
        "plt.title('재구매까지 걸린 일 수 분포 (60일 이상은 클리핑)')\n",
        "plt.xlabel('Days to Next Purchase')\n",
        "plt.ylabel('Number of Users')\n",
        "plt.show()"
      ],
      "metadata": {
        "id": "qxUtFBdGazQu"
      },
      "execution_count": null,
      "outputs": []
    },
    {
      "cell_type": "markdown",
      "source": [
        "-> n일 이상 재구매 없으면 이탈이라는 기준 설정 필요"
      ],
      "metadata": {
        "id": "r8uHsNR5bhQu"
      }
    },
    {
      "cell_type": "code",
      "source": [],
      "metadata": {
        "id": "3VinDdDMbRuf"
      },
      "execution_count": null,
      "outputs": []
    },
    {
      "cell_type": "code",
      "source": [
        "# 시간대별 사용자 행동\n",
        "hourly = df.groupby(['event_hour', 'event_type']).size().unstack()\n",
        "hourly.plot(kind='line', figsize=(10,5), title='시간대별 이벤트 발생량')\n",
        "plt.xlabel('시간'); plt.ylabel('이벤트 수')\n",
        "plt.show()\n"
      ],
      "metadata": {
        "id": "ZuiizfYeyqZp"
      },
      "execution_count": null,
      "outputs": []
    },
    {
      "cell_type": "code",
      "source": [],
      "metadata": {
        "id": "qvONDFIMy1zr"
      },
      "execution_count": null,
      "outputs": []
    },
    {
      "cell_type": "markdown",
      "source": [
        "##7개 데이터셋 parquet 파일 만들기+기본 전처리"
      ],
      "metadata": {
        "id": "UEXU_GiZy93v"
      }
    },
    {
      "cell_type": "code",
      "source": [
        "10/0"
      ],
      "metadata": {
        "id": "et02BKukzaUn"
      },
      "execution_count": null,
      "outputs": []
    },
    {
      "cell_type": "code",
      "source": [
        "!pip install pyarrow"
      ],
      "metadata": {
        "colab": {
          "base_uri": "https://localhost:8080/"
        },
        "id": "T6ciWPq74AYe",
        "outputId": "58c413df-8944-4931-8e0e-20d211f3c24d"
      },
      "execution_count": null,
      "outputs": [
        {
          "output_type": "stream",
          "name": "stdout",
          "text": [
            "Requirement already satisfied: pyarrow in /usr/local/lib/python3.11/dist-packages (18.1.0)\n"
          ]
        }
      ]
    },
    {
      "cell_type": "code",
      "source": [
        "from google.colab import files\n",
        "import os\n",
        "\n",
        "\n",
        "# 1회차: 2019-Oct, 2019-Nov\n",
        "file_names = ['2019-Oct.csv', '2019-Nov.csv']\n",
        "\n",
        "# 저장 경로 설정\n",
        "save_path = data_root\n",
        "os.makedirs(save_path, exist_ok=True)\n",
        "\n",
        "# 전처리 함수 정의 (공통 처리)\n",
        "def preprocess(df):\n",
        "    # event_time 처리\n",
        "    df['event_time'] = pd.to_datetime(df['event_time'])\n",
        "\n",
        "    # 날짜, 시간 파생 컬럼\n",
        "    df['event_date'] = pd.to_datetime(df['event_time'].dt.date)\n",
        "    df['event_hour'] = df['event_time'].dt.hour\n",
        "\n",
        "    # category_code 분리\n",
        "    category_split = df['category_code'].str.split('.', expand=True)\n",
        "    category_split.columns = ['category_lvl1', 'category_lvl2', 'category_lvl3', 'category_lvl4']\n",
        "    df = pd.concat([df, category_split], axis=1)\n",
        "\n",
        "    return df\n",
        "\n",
        "# 각 CSV 파일 개별 전처리 후 Parquet 저장\n",
        "for file in file_names:\n",
        "    print(f\"Processing: {file}\")\n",
        "\n",
        "    # CSV 읽기\n",
        "    df = pd.read_csv(os.path.join(data_root, file))\n",
        "\n",
        "    # 전처리\n",
        "    df = preprocess(df)\n",
        "\n",
        "    # Parquet 파일명 생성\n",
        "    parquet_file = os.path.join(save_path, file.replace('.csv', '.parquet'))\n",
        "\n",
        "    # 저장\n",
        "    df.to_parquet(parquet_file, index=False)\n",
        "    print(f\"Saved: {parquet_file}\")\n"
      ],
      "metadata": {
        "colab": {
          "base_uri": "https://localhost:8080/"
        },
        "id": "QSrZKNBv2Jxw",
        "outputId": "ef4a5114-c73d-4731-bef1-8bd16ebdfa73"
      },
      "execution_count": null,
      "outputs": [
        {
          "output_type": "stream",
          "name": "stdout",
          "text": [
            "Processing: 2019-Oct.csv\n",
            "Saved: /content/drive/MyDrive/Colab Notebooks/datathon/2019-Oct.parquet\n",
            "Processing: 2019-Nov.csv\n",
            "Saved: /content/drive/MyDrive/Colab Notebooks/datathon/2019-Nov.parquet\n"
          ]
        }
      ]
    },
    {
      "cell_type": "code",
      "source": [
        "# 2회차: 2019-Dec, 2020-Jan\n",
        "file_names = ['2019-Dec.csv', '2020-Jan.csv']\n",
        "\n",
        "# 저장 경로 설정\n",
        "save_path = data_root\n",
        "os.makedirs(save_path, exist_ok=True)\n",
        "\n",
        "# 전처리 함수 정의 (공통 처리)\n",
        "def preprocess(df):\n",
        "    # event_time 처리\n",
        "    df['event_time'] = pd.to_datetime(df['event_time'])\n",
        "\n",
        "    # 날짜, 시간 파생 컬럼\n",
        "    df['event_date'] = pd.to_datetime(df['event_time'].dt.date)\n",
        "    df['event_hour'] = df['event_time'].dt.hour\n",
        "\n",
        "    # category_code 분리\n",
        "    category_split = df['category_code'].str.split('.', expand=True)\n",
        "    category_split.columns = ['category_lvl1', 'category_lvl2', 'category_lvl3', 'category_lvl4']\n",
        "    df = pd.concat([df, category_split], axis=1)\n",
        "\n",
        "    return df\n",
        "\n",
        "# 각 CSV 파일 개별 전처리 후 Parquet 저장\n",
        "for file in file_names:\n",
        "    print(f\"Processing: {file}\")\n",
        "\n",
        "    # CSV 읽기\n",
        "    df = pd.read_csv(os.path.join(data_root, file))\n",
        "\n",
        "    # 전처리\n",
        "    df = preprocess(df)\n",
        "\n",
        "    # Parquet 파일명 생성\n",
        "    parquet_file = os.path.join(save_path, file.replace('.csv', '.parquet'))\n",
        "\n",
        "    # 저장\n",
        "    df.to_parquet(parquet_file, index=False)\n",
        "    print(f\"Saved: {parquet_file}\")"
      ],
      "metadata": {
        "colab": {
          "base_uri": "https://localhost:8080/"
        },
        "id": "uDVEnh_xOAh-",
        "outputId": "fc03909f-e36c-41af-8e7b-794072e72428"
      },
      "execution_count": null,
      "outputs": [
        {
          "output_type": "stream",
          "name": "stdout",
          "text": [
            "Processing: 2019-Dec.csv\n",
            "Saved: /content/drive/MyDrive/Colab Notebooks/datathon/2019-Dec.parquet\n",
            "Processing: 2020-Jan.csv\n",
            "Saved: /content/drive/MyDrive/Colab Notebooks/datathon/2020-Jan.parquet\n"
          ]
        }
      ]
    },
    {
      "cell_type": "code",
      "source": [
        "# 3회차: 2020-Feb, 2020-Mar\n",
        "file_names = ['2020-Feb.csv', '2020-Mar.csv']\n",
        "\n",
        "# 저장 경로 설정\n",
        "save_path = data_root\n",
        "os.makedirs(save_path, exist_ok=True)\n",
        "\n",
        "# 전처리 함수 정의 (공통 처리)\n",
        "def preprocess(df):\n",
        "    # event_time 처리\n",
        "    df['event_time'] = pd.to_datetime(df['event_time'])\n",
        "\n",
        "    # 날짜, 시간 파생 컬럼\n",
        "    df['event_date'] = pd.to_datetime(df['event_time'].dt.date)\n",
        "    df['event_hour'] = df['event_time'].dt.hour\n",
        "\n",
        "    # category_code 분리\n",
        "    category_split = df['category_code'].str.split('.', expand=True)\n",
        "    category_split.columns = ['category_lvl1', 'category_lvl2', 'category_lvl3', 'category_lvl4']\n",
        "    df = pd.concat([df, category_split], axis=1)\n",
        "\n",
        "    return df\n",
        "\n",
        "# 각 CSV 파일 개별 전처리 후 Parquet 저장\n",
        "for file in file_names:\n",
        "    print(f\"Processing: {file}\")\n",
        "\n",
        "    # CSV 읽기\n",
        "    df = pd.read_csv(os.path.join(data_root, file))\n",
        "\n",
        "    # 전처리\n",
        "    df = preprocess(df)\n",
        "\n",
        "    # Parquet 파일명 생성\n",
        "    parquet_file = os.path.join(save_path, file.replace('.csv', '.parquet'))\n",
        "\n",
        "    # 저장\n",
        "    df.to_parquet(parquet_file, index=False)\n",
        "    print(f\"Saved: {parquet_file}\")"
      ],
      "metadata": {
        "colab": {
          "base_uri": "https://localhost:8080/"
        },
        "id": "f-WOtqj2OAYr",
        "outputId": "4ffc72e8-bdd7-4a0b-b3c4-47a5a0efbb28"
      },
      "execution_count": null,
      "outputs": [
        {
          "output_type": "stream",
          "name": "stdout",
          "text": [
            "Processing: 2020-Feb.csv\n",
            "Saved: /content/drive/MyDrive/Colab Notebooks/datathon/2020-Feb.parquet\n",
            "Processing: 2020-Mar.csv\n",
            "Saved: /content/drive/MyDrive/Colab Notebooks/datathon/2020-Mar.parquet\n"
          ]
        }
      ]
    },
    {
      "cell_type": "code",
      "source": [
        "# 4월 parquet 파일\n",
        "# 4회차: 2020-Apr\n",
        "file_names = ['2020-Apr.csv']\n",
        "\n",
        "# 저장 경로 설정\n",
        "save_path = data_root\n",
        "os.makedirs(save_path, exist_ok=True)\n",
        "\n",
        "# 전처리 함수 정의 (공통 처리)\n",
        "def preprocess(df):\n",
        "    # event_time 처리\n",
        "    df['event_time'] = pd.to_datetime(df['event_time'])\n",
        "\n",
        "    # 날짜, 시간 파생 컬럼\n",
        "    df['event_date'] = pd.to_datetime(df['event_time'].dt.date)\n",
        "    df['event_hour'] = df['event_time'].dt.hour\n",
        "\n",
        "    # category_code 분리\n",
        "    category_split = df['category_code'].str.split('.', expand=True)\n",
        "    category_split.columns = ['category_lvl1', 'category_lvl2', 'category_lvl3', 'category_lvl4']\n",
        "    df = pd.concat([df, category_split], axis=1)\n",
        "\n",
        "    return df\n",
        "\n",
        "# 각 CSV 파일 개별 전처리 후 Parquet 저장\n",
        "for file in file_names:\n",
        "    print(f\"Processing: {file}\")\n",
        "\n",
        "    # CSV 읽기\n",
        "    df = pd.read_csv(os.path.join(data_root+'/원본데이터셋_csv/', file))\n",
        "\n",
        "    # 전처리\n",
        "    df = preprocess(df)\n",
        "\n",
        "    # Parquet 파일명 생성\n",
        "    parquet_file = os.path.join(save_path, file.replace('.csv', '.parquet'))\n",
        "\n",
        "    # 저장\n",
        "    df.to_parquet(parquet_file, index=False)\n",
        "    print(f\"Saved: {parquet_file}\")"
      ],
      "metadata": {
        "colab": {
          "base_uri": "https://localhost:8080/"
        },
        "id": "FtnkkNMG7Jbg",
        "outputId": "cab4985c-ec38-4dca-df50-25636e4b36b8"
      },
      "execution_count": null,
      "outputs": [
        {
          "output_type": "stream",
          "name": "stdout",
          "text": [
            "Processing: 2020-Apr.csv\n",
            "Saved: /content/drive/MyDrive/Colab Notebooks/datathon/2020-Apr.parquet\n"
          ]
        }
      ]
    },
    {
      "cell_type": "markdown",
      "source": [
        "##6개 각 view, cart, purchase 나누기(18개 파일)"
      ],
      "metadata": {
        "id": "FOQtuanjydqa"
      }
    },
    {
      "cell_type": "code",
      "source": [
        "import os\n",
        "\n",
        "# 파일 목록\n",
        "save_dir = data_root  # 분리 저장할 경로\n",
        "os.makedirs(save_dir, exist_ok=True)\n",
        "\n",
        "parquet_files = [\n",
        "    '2019-Oct.parquet', '2019-Nov.parquet', '2019-Dec.parquet',\n",
        "    '2020-Jan.parquet', '2020-Feb.parquet', '2020-Mar.parquet'\n",
        "]\n",
        "\n",
        "# 하나씩 처리\n",
        "for fname in parquet_files:\n",
        "    path = os.path.join(data_root, fname)\n",
        "    print(f\"Reading: {fname}\")\n",
        "    df = pd.read_parquet(path)\n",
        "\n",
        "    for etype in df['event_type'].unique():\n",
        "        df_sub = df[df['event_type'] == etype]\n",
        "        # 저장 파일명 예: 2019-Oct_view.parquet\n",
        "        save_name = fname.replace('.parquet', f'_{etype}.parquet')\n",
        "        df_sub.to_parquet(os.path.join(save_dir, save_name), index=False)\n",
        "        print(f\"Saved: {save_name} ({len(df_sub):,} rows)\")"
      ],
      "metadata": {
        "colab": {
          "base_uri": "https://localhost:8080/"
        },
        "id": "Hc92yJmy3we6",
        "outputId": "389445ae-4ab0-438f-b4a6-0e1cb02ea767"
      },
      "execution_count": null,
      "outputs": [
        {
          "output_type": "stream",
          "name": "stdout",
          "text": [
            "Reading: 2019-Oct.parquet\n",
            "Saved: 2019-Oct_view.parquet (40,779,399 rows)\n",
            "Saved: 2019-Oct_purchase.parquet (742,849 rows)\n",
            "Saved: 2019-Oct_cart.parquet (926,516 rows)\n",
            "Reading: 2019-Nov.parquet\n",
            "Saved: 2019-Nov_view.parquet (63,556,110 rows)\n",
            "Saved: 2019-Nov_cart.parquet (3,028,930 rows)\n",
            "Saved: 2019-Nov_purchase.parquet (916,939 rows)\n",
            "Reading: 2019-Dec.parquet\n",
            "Saved: 2019-Dec_view.parquet (62,986,067 rows)\n",
            "Saved: 2019-Dec_purchase.parquet (1,162,048 rows)\n",
            "Saved: 2019-Dec_cart.parquet (3,394,763 rows)\n",
            "Reading: 2020-Jan.parquet\n",
            "Saved: 2020-Jan_view.parquet (52,490,785 rows)\n",
            "Saved: 2020-Jan_cart.parquet (2,641,249 rows)\n",
            "Saved: 2020-Jan_purchase.parquet (835,007 rows)\n",
            "Reading: 2020-Feb.parquet\n",
            "Saved: 2020-Feb_view.parquet (51,232,669 rows)\n",
            "Saved: 2020-Feb_cart.parquet (2,885,608 rows)\n",
            "Saved: 2020-Feb_purchase.parquet (1,200,288 rows)\n",
            "Reading: 2020-Mar.parquet\n",
            "Saved: 2020-Mar_view.parquet (52,347,910 rows)\n",
            "Saved: 2020-Mar_purchase.parquet (1,024,934 rows)\n",
            "Saved: 2020-Mar_cart.parquet (2,968,397 rows)\n"
          ]
        }
      ]
    },
    {
      "cell_type": "code",
      "source": [],
      "metadata": {
        "id": "Gi4v4qmWyWtS"
      },
      "execution_count": null,
      "outputs": []
    },
    {
      "cell_type": "markdown",
      "source": [
        "##cart, purchase별 데이터셋 6개월치 2개 생성"
      ],
      "metadata": {
        "id": "jPmVEC_lzl--"
      }
    },
    {
      "cell_type": "code",
      "source": [
        "import os\n",
        "\n",
        "event_type = 'cart'\n",
        "save_dir = data_root\n",
        "\n",
        "file_names = [\n",
        "    f'2019-Oct_{event_type}.parquet', f'2019-Nov_{event_type}.parquet',\n",
        "    f'2019-Dec_{event_type}.parquet', f'2020-Jan_{event_type}.parquet',\n",
        "    f'2020-Feb_{event_type}.parquet', f'2020-Mar_{event_type}.parquet'\n",
        "]\n",
        "\n",
        "df_cart_all = pd.concat(\n",
        "    [pd.read_parquet(os.path.join(save_dir, f)) for f in file_names],\n",
        "    ignore_index=True\n",
        ")\n",
        "print(f\"총 {event_type} 행 수: {len(df_cart_all):,}\")"
      ],
      "metadata": {
        "colab": {
          "base_uri": "https://localhost:8080/"
        },
        "id": "ER01HKvG9oAc",
        "outputId": "c3c342b6-f11d-4587-f32a-b1b305b358b7"
      },
      "execution_count": null,
      "outputs": [
        {
          "output_type": "stream",
          "name": "stdout",
          "text": [
            "총 cart 행 수: 15,845,463\n"
          ]
        }
      ]
    },
    {
      "cell_type": "code",
      "source": [
        "event_type = 'purchase'\n",
        "save_dir = data_root\n",
        "\n",
        "file_names = [\n",
        "    f'2019-Oct_{event_type}.parquet', f'2019-Nov_{event_type}.parquet',\n",
        "    f'2019-Dec_{event_type}.parquet', f'2020-Jan_{event_type}.parquet',\n",
        "    f'2020-Feb_{event_type}.parquet', f'2020-Mar_{event_type}.parquet'\n",
        "]\n",
        "\n",
        "df_purchase_all = pd.concat(\n",
        "    [pd.read_parquet(os.path.join(save_dir, f)) for f in file_names],\n",
        "    ignore_index=True\n",
        ")\n",
        "print(f\"총 {event_type} 행 수: {len(df_purchase_all):,}\")"
      ],
      "metadata": {
        "colab": {
          "base_uri": "https://localhost:8080/"
        },
        "id": "u9HSbIhM9n4o",
        "outputId": "88fefc94-153f-4309-a326-db07714560f1"
      },
      "execution_count": null,
      "outputs": [
        {
          "output_type": "stream",
          "name": "stdout",
          "text": [
            "총 purchase 행 수: 5,882,065\n"
          ]
        }
      ]
    },
    {
      "cell_type": "code",
      "source": [
        "save_path = '/content/drive/MyDrive/ecommerce_merged'\n",
        "\n",
        "# 저장 폴더 생성\n",
        "os.makedirs(save_path, exist_ok=True)\n",
        "\n",
        "# 병합 대상 이벤트 타입\n",
        "event_types = ['purchase', 'cart']\n",
        "\n",
        "# 파일명 생성\n",
        "file_names = {\n",
        "    etype: [\n",
        "        f'2019-Oct_{etype}.parquet', f'2019-Nov_{etype}.parquet',\n",
        "        f'2019-Dec_{etype}.parquet', f'2020-Jan_{etype}.parquet',\n",
        "        f'2020-Feb_{etype}.parquet', f'2020-Mar_{etype}.parquet'\n",
        "    ] for etype in event_types\n",
        "}\n",
        "\n",
        "# 각 이벤트별 병합 수행\n",
        "for etype in event_types:\n",
        "    print(f\"[{etype.upper()}] 데이터 병합 중...\")\n",
        "    dfs = []\n",
        "    for fname in file_names[etype]:\n",
        "        fpath = os.path.join(data_root, fname)\n",
        "        df = pd.read_parquet(fpath)\n",
        "        dfs.append(df)\n",
        "    df_merged = pd.concat(dfs, ignore_index=True)\n",
        "\n",
        "    # 저장\n",
        "    merged_path = os.path.join(save_path, f'{etype}_6months.parquet')\n",
        "    df_merged.to_parquet(merged_path, index=False)\n",
        "    print(f\"저장 완료: {merged_path} ({len(df_merged):,} rows)\")"
      ],
      "metadata": {
        "colab": {
          "base_uri": "https://localhost:8080/"
        },
        "id": "TxB1mczo1MSj",
        "outputId": "da4e7df4-79b1-423f-be05-61ab051426a5"
      },
      "execution_count": null,
      "outputs": [
        {
          "output_type": "stream",
          "name": "stdout",
          "text": [
            "[PURCHASE] 데이터 병합 중...\n",
            "저장 완료: /content/drive/MyDrive/ecommerce_merged/purchase_6months.parquet (5,882,065 rows)\n",
            "[CART] 데이터 병합 중...\n",
            "저장 완료: /content/drive/MyDrive/ecommerce_merged/cart_6months.parquet (15,845,463 rows)\n"
          ]
        }
      ]
    },
    {
      "cell_type": "code",
      "source": [
        "# 세션 다운 문제\n",
        "# event_type = 'view'\n",
        "# save_dir = data_root\n",
        "\n",
        "# file_names = [\n",
        "#     f'2019-Oct_{event_type}.parquet', f'2019-Nov_{event_type}.parquet',\n",
        "#     f'2019-Dec_{event_type}.parquet', f'2020-Jan_{event_type}.parquet',\n",
        "#     f'2020-Feb_{event_type}.parquet', f'2020-Mar_{event_type}.parquet'\n",
        "# ]\n",
        "\n",
        "# df_view_all = pd.concat(\n",
        "#     [pd.read_parquet(os.path.join(save_dir, f)) for f in file_names],\n",
        "#     ignore_index=True\n",
        "# )\n",
        "# print(f\"총 {event_type} 행 수: {len(df_view_all):,}\")"
      ],
      "metadata": {
        "id": "uzXoV9M1e559"
      },
      "execution_count": null,
      "outputs": []
    }
  ]
}